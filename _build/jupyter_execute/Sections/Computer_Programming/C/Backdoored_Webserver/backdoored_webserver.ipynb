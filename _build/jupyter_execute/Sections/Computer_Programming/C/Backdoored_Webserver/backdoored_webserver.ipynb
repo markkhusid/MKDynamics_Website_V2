{
 "cells": [
  {
   "cell_type": "markdown",
   "metadata": {},
   "source": [
    "# Backdoored Webserver"
   ]
  },
  {
   "cell_type": "markdown",
   "metadata": {},
   "source": [
    "\n",
    "```{image} images/backdoored_webserver.png\n",
    ":alt: backdoored_webserver\n",
    ":width: 400px\n",
    ":align: center\n",
    "```"
   ]
  },
  {
   "cell_type": "markdown",
   "metadata": {
    "vscode": {
     "languageId": "plaintext"
    }
   },
   "source": [
    "## Introduction"
   ]
  },
  {
   "cell_type": "markdown",
   "metadata": {},
   "source": [
    "In this section, we will discuss the implementation of a backdoored web server in C. The backdoored web server is a simple web server that listens on a specified port and serves files from a specified directory. The backdoor functionality allows an attacker to execute arbitrary commands on the server by sending specially crafted HTTP requests."
   ]
  },
  {
   "cell_type": "markdown",
   "metadata": {},
   "source": [
    "## Explanation of Code by ChatGPT 4o (OpenAI)"
   ]
  },
  {
   "cell_type": "markdown",
   "metadata": {},
   "source": [
    "The provided C code implements a basic HTTP server with a backdoor functionality that listens for incoming HTTP requests, processes them, and executes commands embedded in the URL of the request if specific conditions are met. Here's a detailed explanation of the code:\n",
    "\n",
    "---\n",
    "\n",
    "### **Key Functionalities**\n",
    "1. **Socket Communication:**\n",
    "   - The server listens on a specified port for incoming connections.\n",
    "   - It processes HTTP requests from clients and sends appropriate responses.\n",
    "\n",
    "2. **Backdoor Command Execution:**\n",
    "   - If the URL in the HTTP request contains `/exec/`, the server interprets the string after `/exec/` as a system command.\n",
    "   - This command is executed using `popen`, and the output is sent back to the client.\n",
    "\n",
    "3. **URL Decoding:**\n",
    "   - Encoded URLs are decoded to retrieve their original form.\n",
    "\n",
    "4. **Response Handling:**\n",
    "   - The server can send different HTTP responses: 200 OK, 404 Not Found, or 400 Bad Request.\n",
    "\n",
    "---\n",
    "\n",
    "### **Main Components**\n",
    "#### **Global Definitions**\n",
    "- **Buffer Sizes:**\n",
    "  `BUFFER_SIZE` and other constants are used to define limits for reading data and constructing responses.\n",
    "- **Predefined Responses:**\n",
    "  Strings for various HTTP response codes (`200 OK`, `404 Not Found`, etc.) are constructed.\n",
    "\n",
    "#### **Main Function**\n",
    "1. **Socket Setup:**\n",
    "   - A socket is created and configured to listen on the specified port (`socket` and `bind` calls).\n",
    "   - The `setsockopt` function allows reusing the socket address.\n",
    "\n",
    "2. **Listening for Connections:**\n",
    "   - The `listen` function queues incoming connections.\n",
    "   - The server accepts connections with `accept` and processes each request in a loop.\n",
    "\n",
    "3. **Processing Requests:**\n",
    "   - **Receiving Data:**\n",
    "     Incoming HTTP requests are read into a buffer using `recv`.\n",
    "   - **URL Parsing:**\n",
    "     The `get_URL_from_header` function extracts the URL from the HTTP request header.\n",
    "   - **URL Decoding:**\n",
    "     The extracted URL is decoded using `URL_decode`.\n",
    "   - **Command Handling:**\n",
    "     - If the URL contains `/exec/`, the part after it is treated as a shell command.\n",
    "     - The command is executed, and its output is sent to the client as part of the HTTP response.\n",
    "   - **Invalid Requests:**\n",
    "     Requests without `/exec/` or malformed URLs receive appropriate error responses (`404` or `400`).\n",
    "\n",
    "4. **Response Sending:**\n",
    "   - `send_response` sends the constructed response back to the client.\n",
    "\n",
    "#### **Helper Functions**\n",
    "1. **`send_response`:**\n",
    "   Sends an HTTP response back to the client socket, handling both successful and error cases.\n",
    "\n",
    "2. **`get_URL_from_header`:**\n",
    "   Extracts the URL from the first line of the HTTP request header.\n",
    "\n",
    "3. **`URL_decode`:**\n",
    "   Decodes percent-encoded characters in URLs (e.g., `%20` becomes a space).\n",
    "\n",
    "4. **`does_URL_contain_slash_exec`:**\n",
    "   Checks if the URL contains the `/exec/` substring.\n",
    "\n",
    "5. **`get_CMD_from_decoded_URL`:**\n",
    "   Extracts the command from the decoded URL after `/exec/`.\n",
    "\n",
    "6. **`execute_command_return_output`:**\n",
    "   Executes a shell command using `popen` and captures its output.\n",
    "\n",
    "---\n",
    "\n",
    "### **Key Vulnerabilities and Concerns**\n",
    "1. **Backdoor Implementation:**\n",
    "   - The `/exec/` functionality allows remote execution of arbitrary shell commands, creating a severe security vulnerability.\n",
    "\n",
    "2. **Unsafe Command Execution:**\n",
    "   - Commands are executed without validation or sanitization, exposing the server to command injection attacks.\n",
    "\n",
    "3. **Lack of Authentication:**\n",
    "   - No mechanism to authenticate or authorize incoming requests, making the server open to exploitation.\n",
    "\n",
    "4. **Memory Leaks and Errors:**\n",
    "   - The program lacks comprehensive error handling for `malloc` and `realloc`, potentially leading to memory leaks.\n",
    "\n",
    "5. **Debug Information Exposure:**\n",
    "   - Printing debug information, such as the request content and decoded commands, can expose sensitive data.\n",
    "\n",
    "6. **Non-Threaded Design:**\n",
    "   - The server handles only one request at a time, which is inefficient for multiple clients.\n",
    "\n",
    "---\n",
    "\n",
    "### **Recommendations**\n",
    "- Remove or restrict the `/exec/` functionality to prevent unauthorized command execution.\n",
    "- Implement input validation and sanitization.\n",
    "- Add authentication mechanisms to ensure only authorized users can interact with the server.\n",
    "- Use secure coding practices, such as properly managing memory allocations and handling errors.\n",
    "- Improve the server's architecture to support concurrent connections, possibly using threading or asynchronous I/O.\n",
    "\n",
    "---\n",
    "\n",
    "This code appears to be designed for demonstration or testing purposes rather than production use due to its significant security flaws."
   ]
  },
  {
   "cell_type": "markdown",
   "metadata": {},
   "source": [
    "## Program Code"
   ]
  },
  {
   "cell_type": "markdown",
   "metadata": {},
   "source": [
    "```{literalinclude} C_Code/backdoored_webserver.c\n",
    "---\n",
    "language: C\n",
    "---\n",
    "```"
   ]
  },
  {
   "cell_type": "markdown",
   "metadata": {},
   "source": [
    "## Compile the Code"
   ]
  },
  {
   "cell_type": "code",
   "execution_count": null,
   "metadata": {},
   "outputs": [
    {
     "name": "stdout",
     "output_type": "stream",
     "text": [
      "/home/haxor/Documents/Engineering/MKDynamics_website_V2/Sections/Computer_Programming/C/Backdoored_Webserver/C_Code\n"
     ]
    }
   ],
   "source": [
    "import os\n",
    "curr_dir = \"\"\n",
    "curr_dir = os.getcwd()\n",
    "\n",
    "code_dir = curr_dir + \"/\" + \"C_Code\"\n",
    "os.chdir(code_dir)"
   ]
  },
  {
   "cell_type": "code",
   "execution_count": 3,
   "metadata": {},
   "outputs": [
    {
     "data": {
      "text/plain": [
       "0"
      ]
     },
     "execution_count": 3,
     "metadata": {},
     "output_type": "execute_result"
    }
   ],
   "source": [
    "exec_status = os.system(\"gcc -ggdb3 -o backdoored_webserver backdoored_webserver.c\")"
   ]
  },
  {
   "cell_type": "markdown",
   "metadata": {},
   "source": [
    "## Run the Code"
   ]
  },
  {
   "cell_type": "markdown",
   "metadata": {},
   "source": [
    "Running the code starts a webserver that listens on the specified port as an argument. You can access the server by sending HTTP requests to the server's IP address and port.  In this example, we will start the server on port 8080 like so:\n",
    "\n",
    "```bash\n",
    "./backdoored_webserver 8080\n",
    "```"
   ]
  },
  {
   "cell_type": "markdown",
   "metadata": {},
   "source": [
    "The output is as follows:\n",
    "\n",
    "```\n",
    "The number of command line arguments is -> 1\n",
    "The command line argument is 8080\n",
    "```"
   ]
  },
  {
   "cell_type": "markdown",
   "metadata": {},
   "source": [
    "In another terminal, we use `curl` to send an HTTP request to the server.  The curl command is as follows:\n",
    "\n",
    "```bash\n",
    "curl -i http://127.0.0.1:8080\n",
    "```\n",
    "\n",
    "and the response is:\n",
    "\n",
    "```\n",
    "HTTP/1.1 404 Not Found\n",
    "```"
   ]
  },
  {
   "cell_type": "markdown",
   "metadata": {},
   "source": [
    "However, if we send a request with the `/exec/` keyword, we can execute commands on the server. For example:\n",
    "\n",
    "```bash\n",
    "curl -i http://127.0.0.1:8080/exec/whoami\n",
    "```\n",
    "\n",
    "The response will be:\n",
    "\n",
    "```\n",
    "HTTP/1.1 200 OK\n",
    "\n",
    "haxor\n",
    "```\n",
    "\n",
    "Another example:\n",
    "\n",
    "```bash\n",
    "curl -i http://127.0.0.1:8080/exec/ls\n",
    "```\n",
    "\n",
    "The response will be:\n",
    "\n",
    "```\n",
    "HTTP/1.1 200 OK\n",
    "\n",
    "backdoored_webserver\n",
    "backdoored_webserver.c\n",
    "```"
   ]
  },
  {
   "cell_type": "markdown",
   "metadata": {},
   "source": []
  }
 ],
 "metadata": {
  "kernelspec": {
   "display_name": "Python 3.11",
   "language": "python",
   "name": "py311_env"
  },
  "language_info": {
   "codemirror_mode": {
    "name": "ipython",
    "version": 3
   },
   "file_extension": ".py",
   "mimetype": "text/x-python",
   "name": "python",
   "nbconvert_exporter": "python",
   "pygments_lexer": "ipython3",
   "version": "3.10.16"
  }
 },
 "nbformat": 4,
 "nbformat_minor": 2
}