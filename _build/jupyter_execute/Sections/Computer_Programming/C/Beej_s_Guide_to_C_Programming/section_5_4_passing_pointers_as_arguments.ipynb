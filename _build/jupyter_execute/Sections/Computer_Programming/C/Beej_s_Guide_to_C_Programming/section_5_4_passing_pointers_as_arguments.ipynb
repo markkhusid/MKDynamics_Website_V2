{
 "cells": [
  {
   "cell_type": "raw",
   "id": "fd795436",
   "metadata": {
    "vscode": {
     "languageId": "raw"
    }
   },
   "source": [
    "---\n",
    "jupytext:\n",
    "  formats: md:myst\n",
    "  text_representation:\n",
    "    extension: .md\n",
    "    format_name: myst\n",
    "kernelspec:\n",
    "  display_name: Python 3\n",
    "  language: python\n",
    "  name: python3\n",
    "---"
   ]
  },
  {
   "cell_type": "markdown",
   "id": "cd8f627e",
   "metadata": {},
   "source": [
    "# Section 5.4 Passing Pointers as Arguments"
   ]
  },
  {
   "cell_type": "markdown",
   "id": "8d3843b4",
   "metadata": {},
   "source": [
    "Adapted from: \"Beej's Guide to C Programming\" by Brian (Beej Jorgensen) Hall: [Beej's Guide to C Programming: 5.3 Dereferencing](https://beej.us/guide/bgc/html/split/pointers.html#ptpass)\n",
    "\n",
    "[Brian (Beej Jorgensen) Hall Website](https://beej.us/)"
   ]
  },
  {
   "cell_type": "markdown",
   "id": "37310d91",
   "metadata": {},
   "source": [
    "## Program that Demonstrates Passing Pointers as Arguments"
   ]
  },
  {
   "cell_type": "markdown",
   "id": "fa4ae7ba",
   "metadata": {},
   "source": [
    "```c\n",
    "#include <stdio.h>\n",
    "\n",
    "void increment(int *p)  // note that it accepts a pointer to an int\n",
    "{\n",
    "    *p = *p + 1;        // add one to the thing p points to\n",
    "}\n",
    "\n",
    "int main(void)\n",
    "{\n",
    "    int i = 10;\n",
    "    int *j = &i;  // note the address-of; turns it into a pointer to i\n",
    "\n",
    "    printf(\"i is %d\\n\", i);        // prints \"10\"\n",
    "    printf(\"i is also %d\\n\", *j);  // prints \"10\"\n",
    "\n",
    "    increment(j);                  // j is an int*--to i\n",
    "\n",
    "    printf(\"i is %d\\n\", i);        // prints \"11\"!\n",
    "}\n",
    "```"
   ]
  },
  {
   "cell_type": "markdown",
   "id": "5eb20d77",
   "metadata": {},
   "source": [
    "## Explanation of the Above Code"
   ]
  },
  {
   "cell_type": "markdown",
   "id": "339cf14d",
   "metadata": {},
   "source": [
    "1. **Function Declaration**: The function `increment` takes a pointer to an integer as its argument. This allows the function to modify the value of the integer that the pointer points to.\n",
    "2. **Pointer Dereferencing**: Inside the `increment` function, the value pointed to by `p` is incremented by 1 using the dereference operator `*`.\n",
    "3. **Pointer Initialization**: In the `main` function, an integer `i` is declared and initialized to 10. A pointer `j` is then initialized to point to `i` using the address-of operator `&`.\n",
    "4. **Function Call**: The `increment` function is called with `j` as the argument. Since `j` points to `i`, the value of `i` is incremented.\n",
    "5. **Output**: The program prints the value of `i` before and after the function call, demonstrating that the value of `i` has been modified through the pointer.\n",
    "6. **Pointer vs. Value**: The program illustrates the difference between passing a pointer (which allows modification of the original variable) and passing a value (which would not allow modification).\n",
    "7. **Memory Address**: The address of `i` is passed to the function, allowing the function to directly modify the value stored at that memory address.\n",
    "8. **Output**: The output of the program will show that the value of `i` has been incremented from 10 to 11 after the function call.\n",
    "9. **Pointer Type**: The pointer type `int *` indicates that the pointer is pointing to an integer value. This is important for type safety and ensures that the correct amount of memory is accessed.\n",
    "10. **Function Signature**: The function signature `void increment(int *p)` indicates that the function does not return a value (`void`) and takes a single argument of type `int *` (pointer to int).\n",
    "11. **Function Body**: The function body contains the logic to increment the value pointed to by `p`. The dereference operator `*` is used to access the value at the memory address stored in `p`.\n",
    "12. **Main Function**: The `main` function serves as the entry point of the program. It initializes variables, calls the `increment` function, and prints the results.\n",
    "13. **Variable Scope**: The variable `i` is declared in the `main` function, and its scope is limited to that function. However, the pointer `j` can be passed to other functions, allowing those functions to modify the value of `i`."
   ]
  },
  {
   "cell_type": "markdown",
   "id": "5b9f3d6e",
   "metadata": {},
   "source": [
    "## Compile and Run Code"
   ]
  },
  {
   "cell_type": "markdown",
   "id": "12565265",
   "metadata": {},
   "source": [
    "### Use Python to Change to Working Directory"
   ]
  },
  {
   "cell_type": "code",
   "execution_count": 1,
   "id": "e0336aaf",
   "metadata": {},
   "outputs": [],
   "source": [
    "import os\n",
    "root_dir = os.getcwd()"
   ]
  },
  {
   "cell_type": "code",
   "execution_count": 2,
   "id": "15fe5e5d",
   "metadata": {},
   "outputs": [],
   "source": [
    "code_dir = root_dir + \"/\" + \"C_Code\""
   ]
  },
  {
   "cell_type": "code",
   "execution_count": 3,
   "id": "93501b0d",
   "metadata": {},
   "outputs": [],
   "source": [
    "os.chdir(code_dir)"
   ]
  },
  {
   "cell_type": "code",
   "execution_count": 4,
   "id": "c8cb1d74",
   "metadata": {},
   "outputs": [],
   "source": [
    "build_command = os.system(\"gcc -o section_5_4_passing_pointers_as_arguments section_5_4_passing_pointers_as_arguments.c\")"
   ]
  },
  {
   "cell_type": "code",
   "execution_count": 5,
   "id": "263f1499",
   "metadata": {},
   "outputs": [
    {
     "name": "stdout",
     "output_type": "stream",
     "text": [
      "i is 10\n",
      "i is also 10\n",
      "i is 11\n"
     ]
    }
   ],
   "source": [
    "exec_status = os.system(\"./section_5_4_passing_pointers_as_arguments\")"
   ]
  }
 ],
 "metadata": {
  "kernelspec": {
   "display_name": "Python 3.11",
   "language": "python",
   "name": "py311_env"
  },
  "language_info": {
   "codemirror_mode": {
    "name": "ipython",
    "version": 3
   },
   "file_extension": ".py",
   "mimetype": "text/x-python",
   "name": "python",
   "nbconvert_exporter": "python",
   "pygments_lexer": "ipython3",
   "version": "3.10.16"
  }
 },
 "nbformat": 4,
 "nbformat_minor": 5
}