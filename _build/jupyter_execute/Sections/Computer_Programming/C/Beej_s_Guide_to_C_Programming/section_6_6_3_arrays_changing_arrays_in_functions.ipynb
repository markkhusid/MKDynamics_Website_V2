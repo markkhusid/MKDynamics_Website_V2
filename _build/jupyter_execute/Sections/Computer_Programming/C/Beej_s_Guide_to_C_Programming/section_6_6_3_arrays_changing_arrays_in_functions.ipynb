{
 "cells": [
  {
   "cell_type": "raw",
   "id": "fd795436",
   "metadata": {
    "vscode": {
     "languageId": "raw"
    }
   },
   "source": [
    "---\n",
    "jupytext:\n",
    "  formats: md:myst\n",
    "  text_representation:\n",
    "    extension: .md\n",
    "    format_name: myst\n",
    "kernelspec:\n",
    "  display_name: Python 3\n",
    "  language: python\n",
    "  name: python3\n",
    "---"
   ]
  },
  {
   "cell_type": "markdown",
   "id": "cd8f627e",
   "metadata": {},
   "source": [
    "# Section 6.6.3 Arrays and Pointers: Changing Arrays in Functions"
   ]
  },
  {
   "cell_type": "markdown",
   "id": "8d3843b4",
   "metadata": {},
   "source": [
    "Adapted from: \"Beej's Guide to C Programming\" by Brian (Beej Jorgensen) Hall: [Beej's Guide to C Programming: 6.6.3 Arrays and Pointers: Changing Arrays in Functions](https://beej.us/guide/bgc/html/split/arrays.html#changing-arrays-in-functions)\n",
    "\n",
    "[Brian (Beej Jorgensen) Hall Website](https://beej.us/)"
   ]
  },
  {
   "cell_type": "markdown",
   "id": "37310d91",
   "metadata": {},
   "source": [
    "## Program for Demonstrating Changing Arrays in Functions"
   ]
  },
  {
   "cell_type": "markdown",
   "id": "fa4ae7ba",
   "metadata": {},
   "source": [
    "```c\n",
    "#include <stdio.h>\n",
    "\n",
    "void double_array(int *a, int len)\n",
    "{\n",
    "    // Multiply each element by 2\n",
    "    //\n",
    "    // This doubles the values in x in main() since x and a both point\n",
    "    // to the same array in memory!\n",
    "\n",
    "    for (int i = 0; i < len; i++)\n",
    "        a[i] *= 2;\n",
    "}\n",
    "\n",
    "int main(void)\n",
    "{\n",
    "    int x[5] = {1, 2, 3, 4, 5};\n",
    "\n",
    "    double_array(x, 5);\n",
    "\n",
    "    for (int i = 0; i < 5; i++)\n",
    "        printf(\"%d\\n\", x[i]);  // 2, 4, 6, 8, 10!\n",
    "}\n",
    "```"
   ]
  },
  {
   "cell_type": "markdown",
   "id": "5eb20d77",
   "metadata": {},
   "source": [
    "## Explanation of the Above Code"
   ]
  },
  {
   "cell_type": "markdown",
   "id": "339cf14d",
   "metadata": {},
   "source": [
    "This C program demonstrates how arrays can be modified within a function by passing them as pointers. Here's a breakdown of the code:\n",
    "\n",
    "### Code Explanation:\n",
    "\n",
    "#### 1. **`#include <stdio.h>`**\n",
    "   - Includes the standard input/output library to use functions like `printf`.\n",
    "\n",
    "#### 2. **Function: `double_array`**\n",
    "   ```c\n",
    "   void double_array(int *a, int len)\n",
    "   {\n",
    "       for (int i = 0; i < len; i++)\n",
    "           a[i] *= 2;\n",
    "   }\n",
    "   ```\n",
    "   - **Parameters:**\n",
    "     - `int *a`: A pointer to the first element of the array.\n",
    "     - `int len`: The length of the array.\n",
    "   - **Purpose:**\n",
    "     - Iterates through the array using the pointer `a`.\n",
    "     - Multiplies each element of the array by 2 (`a[i] *= 2`).\n",
    "   - **Key Concept:**\n",
    "     - Since arrays are passed by reference in C, the function modifies the original array in memory.\n",
    "\n",
    "#### 3. **`main` Function**\n",
    "   ```c\n",
    "   int main(void)\n",
    "   {\n",
    "       int x[5] = {1, 2, 3, 4, 5};\n",
    "\n",
    "       double_array(x, 5);\n",
    "\n",
    "       for (int i = 0; i < 5; i++)\n",
    "           printf(\"%d\\n\", x[i]);  // 2, 4, 6, 8, 10!\n",
    "   }\n",
    "   ```\n",
    "   - **Steps:**\n",
    "     1. Declares an integer array `x` with 5 elements: `{1, 2, 3, 4, 5}`.\n",
    "     2. Calls the `double_array` function, passing the array `x` and its length (`5`).\n",
    "     3. Prints the modified array using a `for` loop.\n",
    "   - **Output:**\n",
    "     - The array `x` is modified in-place by `double_array`, so the output is:\n",
    "       ```\n",
    "       2\n",
    "       4\n",
    "       6\n",
    "       8\n",
    "       10\n",
    "       ```\n",
    "\n",
    "### Key Concepts:\n",
    "1. **Passing Arrays to Functions:**\n",
    "   - In C, when an array is passed to a function, what is actually passed is a pointer to the first element of the array. This allows the function to modify the original array.\n",
    "\n",
    "2. **Pointer Arithmetic:**\n",
    "   - The expression `a[i]` is equivalent to `*(a + i)`, where `a` is the pointer to the first element of the array.\n",
    "\n",
    "3. **In-Place Modification:**\n",
    "   - Since the function operates on the memory location of the original array, changes made in the function are reflected in the `main` function.\n",
    "\n",
    "This program effectively demonstrates how arrays and pointers work together in C to allow functions to modify array elements directly.### Key Concepts:\n",
    "1. **Passing Arrays to Functions:**\n",
    "   - In C, when an array is passed to a function, what is actually passed is a pointer to the first element of the array. This allows the function to modify the original array.\n",
    "\n",
    "2. **Pointer Arithmetic:**\n",
    "   - The expression `a[i]` is equivalent to `*(a + i)`, where `a` is the pointer to the first element of the array.\n",
    "\n",
    "3. **In-Place Modification:**\n",
    "   - Since the function operates on the memory location of the original array, changes made in the function are reflected in the `main` function.\n",
    "\n",
    "This program effectively demonstrates how arrays and pointers work together in C to allow functions to modify array elements directly.\n",
    "\n",
    "Similar code found with 2 license types"
   ]
  },
  {
   "cell_type": "markdown",
   "id": "5b9f3d6e",
   "metadata": {},
   "source": [
    "## Compile and Run Code"
   ]
  },
  {
   "cell_type": "markdown",
   "id": "12565265",
   "metadata": {},
   "source": [
    "### Use Python to Change to Working Directory"
   ]
  },
  {
   "cell_type": "code",
   "execution_count": 1,
   "id": "e0336aaf",
   "metadata": {},
   "outputs": [],
   "source": [
    "import os\n",
    "root_dir = os.getcwd()"
   ]
  },
  {
   "cell_type": "code",
   "execution_count": 2,
   "id": "15fe5e5d",
   "metadata": {},
   "outputs": [],
   "source": [
    "code_dir = root_dir + \"/\" + \"C_Code\""
   ]
  },
  {
   "cell_type": "code",
   "execution_count": 3,
   "id": "93501b0d",
   "metadata": {},
   "outputs": [],
   "source": [
    "os.chdir(code_dir)"
   ]
  },
  {
   "cell_type": "code",
   "execution_count": 4,
   "id": "c8cb1d74",
   "metadata": {},
   "outputs": [],
   "source": [
    "build_command = os.system(\"gcc -o section_6_6_3_changing_arrays_in_functions section_6_6_3_changing_arrays_in_functions.c\")"
   ]
  },
  {
   "cell_type": "code",
   "execution_count": 5,
   "id": "263f1499",
   "metadata": {},
   "outputs": [
    {
     "name": "stdout",
     "output_type": "stream",
     "text": [
      "2\n",
      "4\n",
      "6\n",
      "8\n",
      "10\n"
     ]
    }
   ],
   "source": [
    "exec_status = os.system(\"./section_6_6_3_changing_arrays_in_functions\")"
   ]
  }
 ],
 "metadata": {
  "kernelspec": {
   "display_name": "Python 3.11",
   "language": "python",
   "name": "py311_env"
  },
  "language_info": {
   "codemirror_mode": {
    "name": "ipython",
    "version": 3
   },
   "file_extension": ".py",
   "mimetype": "text/x-python",
   "name": "python",
   "nbconvert_exporter": "python",
   "pygments_lexer": "ipython3",
   "version": "3.10.16"
  }
 },
 "nbformat": 4,
 "nbformat_minor": 5
}