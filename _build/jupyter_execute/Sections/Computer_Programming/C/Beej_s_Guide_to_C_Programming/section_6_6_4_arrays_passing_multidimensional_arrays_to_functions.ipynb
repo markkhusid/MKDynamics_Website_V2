{
 "cells": [
  {
   "cell_type": "raw",
   "id": "fd795436",
   "metadata": {
    "vscode": {
     "languageId": "raw"
    }
   },
   "source": [
    "---\n",
    "jupytext:\n",
    "  formats: md:myst\n",
    "  text_representation:\n",
    "    extension: .md\n",
    "    format_name: myst\n",
    "kernelspec:\n",
    "  display_name: Python 3\n",
    "  language: python\n",
    "  name: python3\n",
    "---"
   ]
  },
  {
   "cell_type": "markdown",
   "id": "cd8f627e",
   "metadata": {},
   "source": [
    "# Section 6.6.4 Arrays and Pointers: Passing Multidimensional Arrays to Functions"
   ]
  },
  {
   "cell_type": "markdown",
   "id": "8d3843b4",
   "metadata": {},
   "source": [
    "Adapted from: \"Beej's Guide to C Programming\" by Brian (Beej Jorgensen) Hall: [Beej's Guide to C Programming: 6.6.4 Arrays and Pointers: Passing Multidimensional Arrays to Functions](https://beej.us/guide/bgc/html/split/arrays.html#passing-multidimensional-arrays-to-functions)\n",
    "\n",
    "[Brian (Beej Jorgensen) Hall Website](https://beej.us/)"
   ]
  },
  {
   "cell_type": "markdown",
   "id": "37310d91",
   "metadata": {},
   "source": [
    "## Program for Demonstrating Passing Multidimensional Arrays to Functions"
   ]
  },
  {
   "cell_type": "markdown",
   "id": "fa4ae7ba",
   "metadata": {},
   "source": [
    "```c\n",
    "#include <stdio.h>\n",
    "\n",
    "void print_2D_array(int a[2][3])\n",
    "{\n",
    "    for (int row = 0; row < 2; row++) {\n",
    "        for (int col = 0; col < 3; col++)\n",
    "            printf(\"%d \", a[row][col]);\n",
    "        printf(\"\\n\");\n",
    "    }\n",
    "}\n",
    "\n",
    "int main(void)\n",
    "{\n",
    "    int x[2][3] = {\n",
    "        {1, 2, 3},\n",
    "        {4, 5, 6}\n",
    "    };\n",
    "\n",
    "    print_2D_array(x);\n",
    "}\n",
    "```"
   ]
  },
  {
   "cell_type": "markdown",
   "id": "5eb20d77",
   "metadata": {},
   "source": [
    "## Explanation of the Above Code"
   ]
  },
  {
   "cell_type": "markdown",
   "id": "339cf14d",
   "metadata": {},
   "source": [
    "This C program demonstrates how to pass a 2D array to a function and print its elements. Below is a detailed explanation of each part of the code:\n",
    "\n",
    "---\n",
    "\n",
    "### 1. **`#include <stdio.h>`**\n",
    "   - This line includes the **Standard Input/Output Library** in the program.\n",
    "   - It allows the use of functions like `printf` for printing output to the console.\n",
    "\n",
    "---\n",
    "\n",
    "### 2. **Function Definition: `print_2D_array`**\n",
    "   ```c\n",
    "   void print_2D_array(int a[2][3])\n",
    "   {\n",
    "       for (int row = 0; row < 2; row++) {\n",
    "           for (int col = 0; col < 3; col++)\n",
    "               printf(\"%d \", a[row][col]);\n",
    "           printf(\"\\n\");\n",
    "       }\n",
    "   }\n",
    "   ```\n",
    "   - **Purpose:** This function takes a 2D array as input and prints its elements row by row.\n",
    "\n",
    "   #### Key Points:\n",
    "   - **Parameter:** `int a[2][3]`\n",
    "     - The function accepts a 2D array with 2 rows and 3 columns.\n",
    "     - The dimensions `[2][3]` must be explicitly specified in the function signature to correctly access the array elements.\n",
    "   - **Logic:**\n",
    "     - The function uses **nested `for` loops** to iterate through the 2D array:\n",
    "       - The **outer loop** iterates over the rows (`row` index).\n",
    "       - The **inner loop** iterates over the columns (`col` index).\n",
    "     - Each element of the array is accessed using `a[row][col]` and printed using `printf(\"%d \", a[row][col]);`.\n",
    "     - After printing all elements in a row, a newline (`\\n`) is printed to move to the next row.\n",
    "\n",
    "   #### Example Execution:\n",
    "   - For the array:\n",
    "     ```\n",
    "     1 2 3\n",
    "     4 5 6\n",
    "     ```\n",
    "     - The outer loop runs twice (for 2 rows).\n",
    "     - The inner loop runs three times for each row (for 3 columns).\n",
    "     - The elements are printed in the following order:\n",
    "       ```\n",
    "       1 2 3\n",
    "       4 5 6\n",
    "       ```\n",
    "\n",
    "---\n",
    "\n",
    "### 3. **`main` Function**\n",
    "   ```c\n",
    "   int main(void)\n",
    "   {\n",
    "       int x[2][3] = {\n",
    "           {1, 2, 3},\n",
    "           {4, 5, 6}\n",
    "       };\n",
    "\n",
    "       print_2D_array(x);\n",
    "   }\n",
    "   ```\n",
    "   - **Purpose:** This is the entry point of the program. It initializes a 2D array and calls the `print_2D_array` function to print its elements.\n",
    "\n",
    "   #### Key Points:\n",
    "   - **Array Declaration and Initialization:**\n",
    "     ```c\n",
    "     int x[2][3] = {\n",
    "         {1, 2, 3},\n",
    "         {4, 5, 6}\n",
    "     };\n",
    "     ```\n",
    "     - A 2D array `x` with 2 rows and 3 columns is declared and initialized.\n",
    "     - The array is stored in memory as:\n",
    "       ```\n",
    "       Row 0: 1 2 3\n",
    "       Row 1: 4 5 6\n",
    "       ```\n",
    "   - **Function Call:**\n",
    "     ```c\n",
    "     print_2D_array(x);\n",
    "     ```\n",
    "     - The array `x` is passed to the `print_2D_array` function.\n",
    "     - In C, when an array is passed to a function, it is passed by reference (as a pointer to the first element). The function can access and process the array elements directly.\n",
    "\n",
    "---\n",
    "\n",
    "### 4. **Program Output**\n",
    "   When the program is executed, the output is:\n",
    "   ```\n",
    "   1 2 3\n",
    "   4 5 6\n",
    "   ```\n",
    "   - The `print_2D_array` function prints each row of the array on a new line.\n",
    "\n",
    "---\n",
    "\n",
    "### 5. **Key Concepts Demonstrated**\n",
    "\n",
    "#### a. **Passing Multidimensional Arrays to Functions**\n",
    "   - In C, when a 2D array is passed to a function, the function receives a pointer to the first element of the array.\n",
    "   - The dimensions of the array (e.g., `[2][3]`) must be specified in the function signature to correctly access the elements.\n",
    "\n",
    "#### b. **Nested Loops for 2D Arrays**\n",
    "   - The outer loop iterates over rows, and the inner loop iterates over columns to access each element of the 2D array.\n",
    "\n",
    "#### c. **Memory Layout of 2D Arrays**\n",
    "   - A 2D array in C is stored in **row-major order** in memory:\n",
    "     - All elements of the first row are stored consecutively, followed by all elements of the second row, and so on.\n",
    "\n",
    "---\n",
    "\n",
    "### 6. **How the Code Works Step-by-Step**\n",
    "1. The `main` function initializes a 2D array `x` with the values:\n",
    "   ```\n",
    "   1 2 3\n",
    "   4 5 6\n",
    "   ```\n",
    "2. The `print_2D_array` function is called with `x` as an argument.\n",
    "3. Inside the `print_2D_array` function:\n",
    "   - The outer loop iterates over the rows (`row = 0` and `row = 1`).\n",
    "   - For each row, the inner loop iterates over the columns (`col = 0`, `col = 1`, and `col = 2`).\n",
    "   - Each element is printed using `printf`.\n",
    "   - After printing all elements in a row, a newline is printed to move to the next row.\n",
    "4. The program outputs the array elements in a formatted way.\n",
    "\n",
    "---\n",
    "\n",
    "### 7. **Why the Dimensions `[2][3]` Are Required**\n",
    "   - The compiler needs to know the number of columns in the array (e.g., `3` in this case) to correctly calculate the memory offset for each element.\n",
    "   - Without specifying the number of columns, the compiler cannot determine where the next row starts.\n",
    "\n",
    "---\n",
    "\n",
    "This program is a simple and effective demonstration of how to pass and process multidimensional arrays in C."
   ]
  },
  {
   "cell_type": "markdown",
   "id": "5b9f3d6e",
   "metadata": {},
   "source": [
    "## Compile and Run Code"
   ]
  },
  {
   "cell_type": "markdown",
   "id": "12565265",
   "metadata": {},
   "source": [
    "### Use Python to Change to Working Directory"
   ]
  },
  {
   "cell_type": "code",
   "execution_count": 1,
   "id": "e0336aaf",
   "metadata": {},
   "outputs": [],
   "source": [
    "import os\n",
    "root_dir = os.getcwd()"
   ]
  },
  {
   "cell_type": "code",
   "execution_count": 2,
   "id": "15fe5e5d",
   "metadata": {},
   "outputs": [],
   "source": [
    "code_dir = root_dir + \"/\" + \"C_Code\""
   ]
  },
  {
   "cell_type": "code",
   "execution_count": 3,
   "id": "93501b0d",
   "metadata": {},
   "outputs": [],
   "source": [
    "os.chdir(code_dir)"
   ]
  },
  {
   "cell_type": "code",
   "execution_count": 4,
   "id": "c8cb1d74",
   "metadata": {},
   "outputs": [],
   "source": [
    "build_command = os.system(\"gcc -o section_6_6_4_passing_multidimensional_arrays_to_functions section_6_6_4_passing_multidimensional_arrays_to_functions.c\")"
   ]
  },
  {
   "cell_type": "code",
   "execution_count": 5,
   "id": "263f1499",
   "metadata": {},
   "outputs": [
    {
     "name": "stdout",
     "output_type": "stream",
     "text": [
      "1 2 3 \n",
      "4 5 6 \n"
     ]
    }
   ],
   "source": [
    "exec_status = os.system(\"./section_6_6_4_passing_multidimensional_arrays_to_functions\")"
   ]
  }
 ],
 "metadata": {
  "kernelspec": {
   "display_name": "Python 3.11",
   "language": "python",
   "name": "py311_env"
  },
  "language_info": {
   "codemirror_mode": {
    "name": "ipython",
    "version": 3
   },
   "file_extension": ".py",
   "mimetype": "text/x-python",
   "name": "python",
   "nbconvert_exporter": "python",
   "pygments_lexer": "ipython3",
   "version": "3.10.17"
  }
 },
 "nbformat": 4,
 "nbformat_minor": 5
}