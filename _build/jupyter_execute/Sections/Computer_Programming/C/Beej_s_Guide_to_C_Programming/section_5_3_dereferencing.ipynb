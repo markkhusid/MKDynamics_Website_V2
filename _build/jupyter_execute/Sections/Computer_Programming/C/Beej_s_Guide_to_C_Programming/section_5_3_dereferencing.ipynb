{
 "cells": [
  {
   "cell_type": "raw",
   "id": "fd795436",
   "metadata": {
    "vscode": {
     "languageId": "raw"
    }
   },
   "source": [
    "---\n",
    "jupytext:\n",
    "  formats: md:myst\n",
    "  text_representation:\n",
    "    extension: .md\n",
    "    format_name: myst\n",
    "kernelspec:\n",
    "  display_name: Python 3\n",
    "  language: python\n",
    "  name: python3\n",
    "---"
   ]
  },
  {
   "cell_type": "markdown",
   "id": "cd8f627e",
   "metadata": {},
   "source": [
    "# Section 5.3 Dereferencing"
   ]
  },
  {
   "cell_type": "markdown",
   "id": "8d3843b4",
   "metadata": {},
   "source": [
    "Adapted from: \"Beej's Guide to C Programming\" by Brian (Beej Jorgensen) Hall: [Beej's Guide to C Programming: 5.3 Dereferencing](https://beej.us/guide/bgc/html/split/pointers.html#deref)\n",
    "\n",
    "[Brian (Beej Jorgensen) Hall Website](https://beej.us/)"
   ]
  },
  {
   "cell_type": "markdown",
   "id": "37310d91",
   "metadata": {},
   "source": [
    "## Program that Demonstrates Dereferencing a Pointer"
   ]
  },
  {
   "cell_type": "markdown",
   "id": "fa4ae7ba",
   "metadata": {},
   "source": [
    "```c\n",
    "#include <stdio.h>\n",
    "\n",
    "int main(void)\n",
    "{\n",
    "    int i;\n",
    "    int *p;  // this is NOT a dereference--this is a type \"int*\"\n",
    "\n",
    "    p = &i;  // p now points to i, p holds address of i\n",
    "\n",
    "    i = 10;  // i is now 10\n",
    "    *p = 20; // the thing p points to (namely i!) is now 20!!\n",
    "\n",
    "    printf(\"i is %d\\n\", i);   // prints \"20\"\n",
    "    printf(\"i is %d\\n\", *p);  // \"20\"! dereference-p is the same as i!\n",
    "}\n",
    "```"
   ]
  },
  {
   "cell_type": "markdown",
   "id": "5eb20d77",
   "metadata": {},
   "source": [
    "## Explanation of the Above Code"
   ]
  },
  {
   "cell_type": "markdown",
   "id": "339cf14d",
   "metadata": {},
   "source": [
    "The program demonstrates the concept of dereferencing a pointer in C.\n",
    "- The variable `i` is declared as an integer.\n",
    "- The variable `p` is declared as a pointer to an integer (`int *p`).\n",
    "- The address of `i` is assigned to `p` using the address-of operator (`&`).\n",
    "- The value of `i` is set to `10`.\n",
    "- The value pointed to by `p` is set to `20` using the dereference operator (`*p`).\n",
    "- Finally, the program prints the value of `i` and the value pointed to by `p`, both of which are `20`.\n",
    "- The dereference operator (`*`) is used to access the value stored at the address pointed to by `p`.\n",
    "- The output of the program will be:\n",
    "```\n",
    "i is 20\n",
    "i is 20\n",
    "```\n",
    "- This shows that dereferencing `p` gives the same value as `i`, since `p` points to `i`."
   ]
  },
  {
   "cell_type": "markdown",
   "id": "5b9f3d6e",
   "metadata": {},
   "source": [
    "## Compile and Run Code"
   ]
  },
  {
   "cell_type": "markdown",
   "id": "12565265",
   "metadata": {},
   "source": [
    "### Use Python to Change to Working Directory"
   ]
  },
  {
   "cell_type": "code",
   "execution_count": 1,
   "id": "e0336aaf",
   "metadata": {},
   "outputs": [],
   "source": [
    "import os\n",
    "root_dir = os.getcwd()"
   ]
  },
  {
   "cell_type": "code",
   "execution_count": 2,
   "id": "15fe5e5d",
   "metadata": {},
   "outputs": [],
   "source": [
    "code_dir = root_dir + \"/\" + \"C_Code\""
   ]
  },
  {
   "cell_type": "code",
   "execution_count": 3,
   "id": "93501b0d",
   "metadata": {},
   "outputs": [],
   "source": [
    "os.chdir(code_dir)"
   ]
  },
  {
   "cell_type": "code",
   "execution_count": null,
   "id": "c8cb1d74",
   "metadata": {},
   "outputs": [],
   "source": [
    "build_command = os.system(\"gcc -o section_5_3_dereferencing section_5_3_dereferencing.c\")"
   ]
  },
  {
   "cell_type": "code",
   "execution_count": 6,
   "id": "263f1499",
   "metadata": {},
   "outputs": [
    {
     "name": "stdout",
     "output_type": "stream",
     "text": [
      "i is 20\n",
      "i is 20\n"
     ]
    }
   ],
   "source": [
    "exec_status = os.system(\"./section_5_3_dereferencing\")"
   ]
  }
 ],
 "metadata": {
  "kernelspec": {
   "display_name": "Python 3.11",
   "language": "python",
   "name": "py311_env"
  },
  "language_info": {
   "codemirror_mode": {
    "name": "ipython",
    "version": 3
   },
   "file_extension": ".py",
   "mimetype": "text/x-python",
   "name": "python",
   "nbconvert_exporter": "python",
   "pygments_lexer": "ipython3",
   "version": "3.10.16"
  }
 },
 "nbformat": 4,
 "nbformat_minor": 5
}