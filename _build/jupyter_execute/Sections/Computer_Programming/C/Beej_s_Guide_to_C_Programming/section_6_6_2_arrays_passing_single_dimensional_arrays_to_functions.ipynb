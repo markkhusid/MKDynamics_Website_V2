{
 "cells": [
  {
   "cell_type": "raw",
   "id": "fd795436",
   "metadata": {
    "vscode": {
     "languageId": "raw"
    }
   },
   "source": [
    "---\n",
    "jupytext:\n",
    "  formats: md:myst\n",
    "  text_representation:\n",
    "    extension: .md\n",
    "    format_name: myst\n",
    "kernelspec:\n",
    "  display_name: Python 3\n",
    "  language: python\n",
    "  name: python3\n",
    "---"
   ]
  },
  {
   "cell_type": "markdown",
   "id": "cd8f627e",
   "metadata": {},
   "source": [
    "# Section 6.6.2 Arrays and Pointers: Passing Single-Dimensional Arrays to Functions"
   ]
  },
  {
   "cell_type": "markdown",
   "id": "8d3843b4",
   "metadata": {},
   "source": [
    "Adapted from: \"Beej's Guide to C Programming\" by Brian (Beej Jorgensen) Hall: [Beej's Guide to C Programming: 6.6.2 Arrays and Pointers: Passing Single Dimensional Arrays to Functions](https://beej.us/guide/bgc/html/split/arrays.html#passing1darrays)\n",
    "\n",
    "[Brian (Beej Jorgensen) Hall Website](https://beej.us/)"
   ]
  },
  {
   "cell_type": "markdown",
   "id": "37310d91",
   "metadata": {},
   "source": [
    "## Program for Demonstrating Passing Single-Dimensional Arrays to Functions"
   ]
  },
  {
   "cell_type": "markdown",
   "id": "fa4ae7ba",
   "metadata": {},
   "source": [
    "```c\n",
    "#include <stdio.h>\n",
    "\n",
    "// Passing as a pointer to the first element\n",
    "void times2(int *a, int len)\n",
    "{\n",
    "    for (int i = 0; i < len; i++)\n",
    "        printf(\"%d\\n\", a[i] * 2);\n",
    "}\n",
    "\n",
    "// Same thing, but using array notation\n",
    "void times3(int a[], int len)\n",
    "{\n",
    "    for (int i = 0; i < len; i++)\n",
    "        printf(\"%d\\n\", a[i] * 3);\n",
    "}\n",
    "\n",
    "// Same thing, but using array notation with size\n",
    "void times4(int a[5], int len)\n",
    "{\n",
    "    for (int i = 0; i < len; i++)\n",
    "        printf(\"%d\\n\", a[i] * 4);\n",
    "}\n",
    "\n",
    "int main(void)\n",
    "{\n",
    "    int x[5] = {11, 22, 33, 44, 55};\n",
    "\n",
    "    times2(x, 5);\n",
    "    times3(x, 5);\n",
    "    times4(x, 5);\n",
    "}\n",
    "```"
   ]
  },
  {
   "cell_type": "markdown",
   "id": "5eb20d77",
   "metadata": {},
   "source": [
    "## Explanation of the Above Code"
   ]
  },
  {
   "cell_type": "markdown",
   "id": "339cf14d",
   "metadata": {},
   "source": [
    "This C program demonstrates how to pass single-dimensional arrays to functions in different ways and perform operations on their elements. Here's a breakdown of the code:\n",
    "\n",
    "### Code Explanation:\n",
    "\n",
    "#### 1. **`#include <stdio.h>`**\n",
    "   - Includes the standard input/output library to use functions like `printf`.\n",
    "\n",
    "#### 2. **Function: `times2`**\n",
    "   ```c\n",
    "   void times2(int *a, int len)\n",
    "   {\n",
    "       for (int i = 0; i < len; i++)\n",
    "           printf(\"%d\\n\", a[i] * 2);\n",
    "   }\n",
    "   ```\n",
    "   - This function takes a pointer to the first element of an array (`int *a`) and its length (`int len`).\n",
    "   - It iterates through the array using the pointer and multiplies each element by 2, printing the result.\n",
    "\n",
    "#### 3. **Function: `times3`**\n",
    "   ```c\n",
    "   void times3(int a[], int len)\n",
    "   {\n",
    "       for (int i = 0; i < len; i++)\n",
    "           printf(\"%d\\n\", a[i] * 3);\n",
    "   }\n",
    "   ```\n",
    "   - This function uses array notation (`int a[]`) to accept the array and its length.\n",
    "   - It performs the same operation as `times2`, but multiplies each element by 3.\n",
    "\n",
    "#### 4. **Function: `times4`**\n",
    "   ```c\n",
    "   void times4(int a[5], int len)\n",
    "   {\n",
    "       for (int i = 0; i < len; i++)\n",
    "           printf(\"%d\\n\", a[i] * 4);\n",
    "   }\n",
    "   ```\n",
    "   - This function specifies the array size in its parameter (`int a[5]`), but this size is not enforced by the compiler.\n",
    "   - It multiplies each element by 4 and prints the result.\n",
    "\n",
    "#### 5. **`main` Function**\n",
    "   ```c\n",
    "   int main(void)\n",
    "   {\n",
    "       int x[5] = {11, 22, 33, 44, 55};\n",
    "\n",
    "       times2(x, 5);\n",
    "       times3(x, 5);\n",
    "       times4(x, 5);\n",
    "   }\n",
    "   ```\n",
    "   - Declares an integer array `x` with 5 elements: `{11, 22, 33, 44, 55}`.\n",
    "   - Calls the three functions (`times2`, `times3`, `times4`) with the array `x` and its length (`5`).\n",
    "\n",
    "### Key Concepts:\n",
    "\n",
    "1. **Passing Arrays to Functions:**\n",
    "   - Arrays are passed to functions as pointers to their first element. For example, `x` in `times2(x, 5)` is equivalent to `&x[0]`.\n",
    "\n",
    "2. **Array Notation vs Pointer Notation:**\n",
    "   - `int *a` and `int a[]` are functionally equivalent when used as parameters. Both represent a pointer to the first element of the array.\n",
    "\n",
    "3. **Output:**\n",
    "   - The program prints the elements of the array multiplied by 2, 3, and 4, respectively:\n",
    "     ```\n",
    "     22\n",
    "     44\n",
    "     66\n",
    "     88\n",
    "     110\n",
    "     33\n",
    "     66\n",
    "     99\n",
    "     132\n",
    "     165\n",
    "     44\n",
    "     88\n",
    "     132\n",
    "     176\n",
    "     220\n",
    "     "
   ]
  },
  {
   "cell_type": "markdown",
   "id": "5b9f3d6e",
   "metadata": {},
   "source": [
    "## Compile and Run Code"
   ]
  },
  {
   "cell_type": "markdown",
   "id": "12565265",
   "metadata": {},
   "source": [
    "### Use Python to Change to Working Directory"
   ]
  },
  {
   "cell_type": "code",
   "execution_count": 1,
   "id": "e0336aaf",
   "metadata": {},
   "outputs": [],
   "source": [
    "import os\n",
    "root_dir = os.getcwd()"
   ]
  },
  {
   "cell_type": "code",
   "execution_count": 2,
   "id": "15fe5e5d",
   "metadata": {},
   "outputs": [],
   "source": [
    "code_dir = root_dir + \"/\" + \"C_Code\""
   ]
  },
  {
   "cell_type": "code",
   "execution_count": 3,
   "id": "93501b0d",
   "metadata": {},
   "outputs": [],
   "source": [
    "os.chdir(code_dir)"
   ]
  },
  {
   "cell_type": "code",
   "execution_count": 4,
   "id": "c8cb1d74",
   "metadata": {},
   "outputs": [],
   "source": [
    "build_command = os.system(\"gcc -o section_6_6_2_passing_single_dimensional_arrays_to_functions section_6_6_2_passing_single_dimensional_arrays_to_functions.c\")"
   ]
  },
  {
   "cell_type": "code",
   "execution_count": 5,
   "id": "263f1499",
   "metadata": {},
   "outputs": [
    {
     "name": "stdout",
     "output_type": "stream",
     "text": [
      "22\n",
      "44\n",
      "66\n",
      "88\n",
      "110\n",
      "33\n",
      "66\n",
      "99\n",
      "132\n",
      "165\n",
      "44\n",
      "88\n",
      "132\n",
      "176\n",
      "220\n"
     ]
    }
   ],
   "source": [
    "exec_status = os.system(\"./section_6_6_2_passing_single_dimensional_arrays_to_functions\")"
   ]
  }
 ],
 "metadata": {
  "kernelspec": {
   "display_name": "Python 3.11",
   "language": "python",
   "name": "py311_env"
  },
  "language_info": {
   "codemirror_mode": {
    "name": "ipython",
    "version": 3
   },
   "file_extension": ".py",
   "mimetype": "text/x-python",
   "name": "python",
   "nbconvert_exporter": "python",
   "pygments_lexer": "ipython3",
   "version": "3.10.16"
  }
 },
 "nbformat": 4,
 "nbformat_minor": 5
}