{
 "cells": [
  {
   "cell_type": "raw",
   "id": "fd795436",
   "metadata": {
    "vscode": {
     "languageId": "raw"
    }
   },
   "source": [
    "---\n",
    "jupytext:\n",
    "  formats: md:myst\n",
    "  text_representation:\n",
    "    extension: .md\n",
    "    format_name: myst\n",
    "kernelspec:\n",
    "  display_name: Python 3\n",
    "  language: python\n",
    "  name: python3\n",
    "---"
   ]
  },
  {
   "cell_type": "markdown",
   "id": "cd8f627e",
   "metadata": {},
   "source": [
    "# Section 6.6.1 Arrays and Pointers: Getting a Pointer to an Array"
   ]
  },
  {
   "cell_type": "markdown",
   "id": "8d3843b4",
   "metadata": {},
   "source": [
    "Adapted from: \"Beej's Guide to C Programming\" by Brian (Beej Jorgensen) Hall: [Beej's Guide to C Programming: 6.6.1 Arrays and Pointers: Getting a Pointer to an Array](https://beej.us/guide/bgc/html/split/arrays.html#arrays-and-pointers)\n",
    "\n",
    "[Brian (Beej Jorgensen) Hall Website](https://beej.us/)"
   ]
  },
  {
   "cell_type": "markdown",
   "id": "37310d91",
   "metadata": {},
   "source": [
    "## Program for Demonstrating Getting a Pointer to an Array"
   ]
  },
  {
   "cell_type": "markdown",
   "id": "fa4ae7ba",
   "metadata": {},
   "source": [
    "```c\n",
    "#include <stdio.h>\n",
    "\n",
    "int main(void)\n",
    "{\n",
    "    int a[5] = {11, 22, 33, 44, 55};\n",
    "    int *p;\n",
    "\n",
    "    //p = &a[0];  // p points to the array\n",
    "                // Well, to the first element, actually\n",
    "\n",
    "    p = a;      // p points to the array, but much nicer-looking!\n",
    "\n",
    "    printf(\"%d\\n\", *p);  // Prints \"11\"\n",
    "}\n",
    "```"
   ]
  },
  {
   "cell_type": "markdown",
   "id": "5eb20d77",
   "metadata": {},
   "source": [
    "## Explanation of the Above Code"
   ]
  },
  {
   "cell_type": "markdown",
   "id": "339cf14d",
   "metadata": {},
   "source": [
    "This C program demonstrates how pointers can be used to access elements of an array. Here's a breakdown of the code:\n",
    "\n",
    "### Code Explanation:\n",
    "\n",
    "```c\n",
    "#include <stdio.h>\n",
    "```\n",
    "- Includes the standard input/output library to use functions like `printf`.\n",
    "\n",
    "```c\n",
    "int main(void)\n",
    "```\n",
    "- The entry point of the program.\n",
    "\n",
    "```c\n",
    "int a[5] = {11, 22, 33, 44, 55};\n",
    "```\n",
    "- Declares an integer array `a` with 5 elements and initializes it with the values `{11, 22, 33, 44, 55}`.\n",
    "\n",
    "```c\n",
    "int *p;\n",
    "```\n",
    "- Declares a pointer `p` of type `int`. This pointer will be used to point to elements of the array.\n",
    "\n",
    "```c\n",
    "// p = &a[0];  // p points to the array\n",
    "              // Well, to the first element, actually\n",
    "```\n",
    "- This line (commented out) shows how `p` can be assigned the address of the first element of the array using `&a[0]`.\n",
    "\n",
    "```c\n",
    "p = a;      // p points to the array, but much nicer-looking!\n",
    "```\n",
    "- This assigns the base address of the array `a` to the pointer `p`. In C, the name of an array (e.g., `a`) is equivalent to the address of its first element (`&a[0]`), so this is a shorthand way of pointing `p` to the first element of the array.\n",
    "\n",
    "```c\n",
    "printf(\"%d\\n\", *p);  // Prints \"11\"\n",
    "```\n",
    "- The `*p` dereferences the pointer `p`, accessing the value stored at the memory location it points to. Since `p` points to the first element of the array (`a[0]`), `*p` evaluates to `11`, which is printed to the console.\n",
    "\n",
    "### Key Concepts:\n",
    "1. **Array and Pointer Relationship**:\n",
    "   - The name of an array (e.g., `a`) is a pointer to its first element.\n",
    "   - `p = a` is equivalent to `p = &a[0]`.\n",
    "\n",
    "2. **Dereferencing a Pointer**:\n",
    "   - The `*` operator is used to access the value at the memory address stored in the pointer.\n",
    "\n",
    "3. **Output**:\n",
    "   - The program prints `11`, which is the first element of the array.\n",
    "\n",
    "This program is a simple demonstration of how pointers can be used to access and manipulate array elements in C."
   ]
  },
  {
   "cell_type": "markdown",
   "id": "5b9f3d6e",
   "metadata": {},
   "source": [
    "## Compile and Run Code"
   ]
  },
  {
   "cell_type": "markdown",
   "id": "12565265",
   "metadata": {},
   "source": [
    "### Use Python to Change to Working Directory"
   ]
  },
  {
   "cell_type": "code",
   "execution_count": 1,
   "id": "e0336aaf",
   "metadata": {},
   "outputs": [],
   "source": [
    "import os\n",
    "root_dir = os.getcwd()"
   ]
  },
  {
   "cell_type": "code",
   "execution_count": 2,
   "id": "15fe5e5d",
   "metadata": {},
   "outputs": [],
   "source": [
    "code_dir = root_dir + \"/\" + \"C_Code\""
   ]
  },
  {
   "cell_type": "code",
   "execution_count": 3,
   "id": "93501b0d",
   "metadata": {},
   "outputs": [],
   "source": [
    "os.chdir(code_dir)"
   ]
  },
  {
   "cell_type": "code",
   "execution_count": 4,
   "id": "c8cb1d74",
   "metadata": {},
   "outputs": [],
   "source": [
    "build_command = os.system(\"gcc -o section_6_6_1_getting_a_pointer_to_an_array section_6_6_1_getting_a_pointer_to_an_array.c\")"
   ]
  },
  {
   "cell_type": "code",
   "execution_count": 5,
   "id": "263f1499",
   "metadata": {},
   "outputs": [
    {
     "name": "stdout",
     "output_type": "stream",
     "text": [
      "11\n"
     ]
    }
   ],
   "source": [
    "exec_status = os.system(\"./section_6_6_1_getting_a_pointer_to_an_array\")"
   ]
  }
 ],
 "metadata": {
  "kernelspec": {
   "display_name": "Python 3.11",
   "language": "python",
   "name": "py311_env"
  },
  "language_info": {
   "codemirror_mode": {
    "name": "ipython",
    "version": 3
   },
   "file_extension": ".py",
   "mimetype": "text/x-python",
   "name": "python",
   "nbconvert_exporter": "python",
   "pygments_lexer": "ipython3",
   "version": "3.10.17"
  }
 },
 "nbformat": 4,
 "nbformat_minor": 5
}