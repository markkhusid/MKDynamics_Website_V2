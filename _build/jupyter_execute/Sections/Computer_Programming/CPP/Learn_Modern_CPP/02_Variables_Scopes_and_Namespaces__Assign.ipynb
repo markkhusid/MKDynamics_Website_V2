{
 "cells": [
  {
   "cell_type": "raw",
   "id": "0606896e",
   "metadata": {
    "vscode": {
     "languageId": "raw"
    }
   },
   "source": [
    "---\n",
    "jupytext:\n",
    "  formats: md:myst\n",
    "  text_representation:\n",
    "    extension: .md\n",
    "    format_name: myst\n",
    "kernelspec:\n",
    "  display_name: Python 3\n",
    "  language: python\n",
    "  name: python3\n",
    "---"
   ]
  },
  {
   "cell_type": "markdown",
   "id": "d73bcc9e",
   "metadata": {},
   "source": [
    "# Variables, Scopes and Namespaces: Assign"
   ]
  },
  {
   "cell_type": "markdown",
   "id": "c0c28b10",
   "metadata": {},
   "source": [
    "Adapted from: \"Learn Modern C++\" by cpptutor: [Learn Modern C++: Variables, Scopes and Namespaces](https://learnmoderncpp.com/variables-scopes-and-namespaces/)"
   ]
  },
  {
   "cell_type": "markdown",
   "id": "44335137",
   "metadata": {},
   "source": [
    "## Program that Demonstrates Variable Assignments"
   ]
  },
  {
   "cell_type": "markdown",
   "id": "b1ca3905",
   "metadata": {},
   "source": [
    "```c++\n",
    "// 02-assign.cpp : assigns to local variables\n",
    "\n",
    "#include <print>\n",
    "using namespace std;\n",
    "\n",
    "int main()\n",
    "{\n",
    "    int i = 1, j = 2;\n",
    "    unsigned k;\n",
    "    println(\"(1) i= {}, j= {}, k= {}\", i, j, k);\n",
    "    i = j;\n",
    "    j = 3;\n",
    "    k = -1;\n",
    "    println(\"(2) i= {}, j= {}, k= {}\", i, j, k);\n",
    "}\n",
    "```"
   ]
  },
  {
   "cell_type": "markdown",
   "id": "01509724",
   "metadata": {},
   "source": [
    "## Explanation of the Above Code"
   ]
  },
  {
   "cell_type": "markdown",
   "id": "a5bcf8fa",
   "metadata": {},
   "source": [
    "The above program is compiled and run using clang-18 in a Docker container.  This is done so that the installation of a C++23 compiler is not required.  The Docker container is based on the Ubuntu 22.04 image and includes clang-18, which supports C++23 features.<br>\n",
    "\n",
    "The program demonstrates the assignment of values to local variables. The variables `i`, `j`, and `k` are declared as integers, and their values are assigned using the assignment operator `=`. The program prints the values of these variables before and after the assignments.<br>\n",
    "\n",
    "The first print statement shows the initial values of `i`, `j`, and `k`. The second print statement shows the values after the assignments. The variable `k` is assigned a negative value, which is allowed because it is declared as an unsigned integer. However, this may lead to unexpected behavior if not handled properly.<br>\n",
    "\n",
    "The program uses the `println` function to print the values of the variables. The `println` function is a custom function that formats the output using the `std::format` library. This allows for easy formatting of strings and variables in C++23.<br>\n"
   ]
  },
  {
   "cell_type": "markdown",
   "id": "41a71bdf",
   "metadata": {},
   "source": [
    "## Compile and Run Code"
   ]
  },
  {
   "cell_type": "markdown",
   "id": "63b3e22c",
   "metadata": {},
   "source": [
    "### Use Python to Change to Working Directory"
   ]
  },
  {
   "cell_type": "code",
   "execution_count": 1,
   "id": "0953b4bb",
   "metadata": {},
   "outputs": [],
   "source": [
    "import os\n",
    "root_dir = os.getcwd()"
   ]
  },
  {
   "cell_type": "code",
   "execution_count": 2,
   "id": "29e530ce",
   "metadata": {},
   "outputs": [],
   "source": [
    "code_dir = root_dir + \"/\" + \"Cpp_Code/02_Variables_Scopes_and_Namespaces\""
   ]
  },
  {
   "cell_type": "code",
   "execution_count": 3,
   "id": "e8b71b20",
   "metadata": {},
   "outputs": [],
   "source": [
    "os.chdir(code_dir)"
   ]
  },
  {
   "cell_type": "markdown",
   "id": "ec11151d",
   "metadata": {},
   "source": [
    "### Use Docker to Compile the Code in a C++23 Environment"
   ]
  },
  {
   "cell_type": "code",
   "execution_count": null,
   "id": "763a661d",
   "metadata": {},
   "outputs": [],
   "source": []
  },
  {
   "cell_type": "code",
   "execution_count": 5,
   "id": "28fe2a4c",
   "metadata": {},
   "outputs": [],
   "source": [
    "!docker run --rm -v $(pwd):/app cpp23-clang18:latest clang++-18 -std=c++23 -stdlib=libc++ /app/02-assign.cpp -o /app/02-assign"
   ]
  },
  {
   "cell_type": "markdown",
   "id": "b259da21",
   "metadata": {},
   "source": [
    "### Use Docker to Run Executable in a C++23 Environment"
   ]
  },
  {
   "cell_type": "code",
   "execution_count": 6,
   "id": "7efe5733",
   "metadata": {},
   "outputs": [
    {
     "name": "stdout",
     "output_type": "stream",
     "text": [
      "(1) i= 1, j= 2, k= 32766\n",
      "(2) i= 2, j= 3, k= 4294967295\n"
     ]
    }
   ],
   "source": [
    "!docker run --rm -v $(pwd):/app cpp23-clang18:latest ./02-assign"
   ]
  }
 ],
 "metadata": {
  "kernelspec": {
   "display_name": "Python 3.11",
   "language": "python",
   "name": "py311_env"
  },
  "language_info": {
   "codemirror_mode": {
    "name": "ipython",
    "version": 3
   },
   "file_extension": ".py",
   "mimetype": "text/x-python",
   "name": "python",
   "nbconvert_exporter": "python",
   "pygments_lexer": "ipython3",
   "version": "3.10.16"
  }
 },
 "nbformat": 4,
 "nbformat_minor": 5
}