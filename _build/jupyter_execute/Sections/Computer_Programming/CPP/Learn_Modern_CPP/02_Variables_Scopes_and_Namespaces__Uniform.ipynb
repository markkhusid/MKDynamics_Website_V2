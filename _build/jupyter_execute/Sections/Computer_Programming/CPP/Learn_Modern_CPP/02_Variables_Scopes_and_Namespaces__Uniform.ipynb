{
 "cells": [
  {
   "cell_type": "raw",
   "id": "0606896e",
   "metadata": {
    "vscode": {
     "languageId": "raw"
    }
   },
   "source": [
    "---\n",
    "jupytext:\n",
    "  formats: md:myst\n",
    "  text_representation:\n",
    "    extension: .md\n",
    "    format_name: myst\n",
    "kernelspec:\n",
    "  display_name: Python 3\n",
    "  language: python\n",
    "  name: python3\n",
    "---"
   ]
  },
  {
   "cell_type": "markdown",
   "id": "d73bcc9e",
   "metadata": {},
   "source": [
    "# Variables, Scopes and Namespaces: Uniform Initialization"
   ]
  },
  {
   "cell_type": "markdown",
   "id": "c0c28b10",
   "metadata": {},
   "source": [
    "Adapted from: \"Learn Modern C++\" by cpptutor: [Learn Modern C++: Variables, Scopes and Namespaces](https://learnmoderncpp.com/variables-scopes-and-namespaces/)"
   ]
  },
  {
   "cell_type": "markdown",
   "id": "44335137",
   "metadata": {},
   "source": [
    "## Program that Demonstrates Uniform Initialization"
   ]
  },
  {
   "cell_type": "markdown",
   "id": "b1ca3905",
   "metadata": {},
   "source": [
    "```c++\n",
    "// 02-uniform.cpp : avoid compiler error with uniform initialization and explicit narrowing cast\n",
    " \n",
    "#include <print>\n",
    "using namespace std;\n",
    " \n",
    "int main() {\n",
    "    // int c = { 2.5 };                 // Error: this does NOT compile\n",
    "    int c = { static_cast<int>(2.5) };  // while this does\n",
    "    double d = { 1 };                   // and so does this\n",
    "    println(\"c = {}, d = {}\", c, d);\n",
    "}\n",
    "```"
   ]
  },
  {
   "cell_type": "markdown",
   "id": "01509724",
   "metadata": {},
   "source": [
    "## Explanation of the Above Code"
   ]
  },
  {
   "cell_type": "markdown",
   "id": "a5bcf8fa",
   "metadata": {},
   "source": [
    "This C++ code demonstrates **uniform initialization** and the use of **explicit narrowing casts** to avoid compiler errors. Here's a breakdown:\n",
    "\n",
    "### Code Explanation:\n",
    "\n",
    "1. **Header Inclusion**:\n",
    "   ```c++\n",
    "   #include <print>\n",
    "   ```\n",
    "   - The `<print>` header is part of the **C++23 standard library**. It provides the `println` function, which is used for formatted output, similar to Python's `print`.\n",
    "\n",
    "2. **Namespace**:\n",
    "   ```c++\n",
    "   using namespace std;\n",
    "   ```\n",
    "   - This allows the program to use standard library features (like `println`) without needing to prefix them with `std::`.\n",
    "\n",
    "3. **Main Function**:\n",
    "   ```c++\n",
    "   int main() {\n",
    "   ```\n",
    "   - The `main` function is the entry point of the program.\n",
    "\n",
    "4. **Uniform Initialization**:\n",
    "   ```c++\n",
    "   int c = { 2.5 };                 // Error: this does NOT compile\n",
    "   ```\n",
    "   - **Uniform initialization** (using curly braces `{}`) enforces stricter type checking.\n",
    "   - Here, assigning a `double` value (`2.5`) to an `int` variable (`c`) causes a **compiler error** because it involves **narrowing conversion** (loss of precision).\n",
    "\n",
    "5. **Explicit Narrowing Cast**:\n",
    "   ```c++\n",
    "   int c = { static_cast<int>(2.5) };  // while this does\n",
    "   ```\n",
    "   - The `static_cast<int>(2.5)` explicitly converts the `double` value `2.5` to an `int` (truncating the decimal part). This resolves the compiler error.\n",
    "\n",
    "6. **Another Example of Uniform Initialization**:\n",
    "   ```c++\n",
    "   double d = { 1 };                   // and so does this\n",
    "   ```\n",
    "   - Assigning an `int` value (`1`) to a `double` variable (`d`) is allowed because it does not involve narrowing conversion.\n",
    "\n",
    "7. **Formatted Output**:\n",
    "   ```c++\n",
    "   println(\"c = {}, d = {}\", c, d);\n",
    "   ```\n",
    "   - The `println` function outputs the values of `c` and `d` in a formatted string. The placeholders `{}` are replaced with the values of `c` and `d`.\n",
    "\n",
    "### Output:\n",
    "When executed, the program will output:\n",
    "```\n",
    "c = 2, d = 1\n",
    "```\n",
    "\n",
    "### Key Concepts:\n",
    "- **Uniform Initialization**: Enforces stricter type checking and prevents implicit narrowing conversions.\n",
    "- **Explicit Narrowing Cast**: Use `static_cast` to explicitly convert types when narrowing is necessary.\n",
    "- **Formatted Output**: The `println` function simplifies printing formatted strings in C++23."
   ]
  },
  {
   "cell_type": "markdown",
   "id": "41a71bdf",
   "metadata": {},
   "source": [
    "## Compile and Run Code"
   ]
  },
  {
   "cell_type": "markdown",
   "id": "63b3e22c",
   "metadata": {},
   "source": [
    "### Use Python to Change to Working Directory"
   ]
  },
  {
   "cell_type": "code",
   "execution_count": 1,
   "id": "0953b4bb",
   "metadata": {},
   "outputs": [],
   "source": [
    "import os\n",
    "root_dir = os.getcwd()"
   ]
  },
  {
   "cell_type": "code",
   "execution_count": 2,
   "id": "29e530ce",
   "metadata": {},
   "outputs": [],
   "source": [
    "code_dir = root_dir + \"/\" + \"Cpp_Code/02_Variables_Scopes_and_Namespaces\""
   ]
  },
  {
   "cell_type": "code",
   "execution_count": 3,
   "id": "e8b71b20",
   "metadata": {},
   "outputs": [],
   "source": [
    "os.chdir(code_dir)"
   ]
  },
  {
   "cell_type": "markdown",
   "id": "ec11151d",
   "metadata": {},
   "source": [
    "### Use Docker to Compile the Code in a C++23 Environment"
   ]
  },
  {
   "cell_type": "code",
   "execution_count": 4,
   "id": "28fe2a4c",
   "metadata": {},
   "outputs": [],
   "source": [
    "!docker run --rm -v $(pwd):/app cpp23-clang18:latest clang++-18 -std=c++23 -stdlib=libc++ /app/02-uniform.cpp -o /app/02-uniform"
   ]
  },
  {
   "cell_type": "markdown",
   "id": "b259da21",
   "metadata": {},
   "source": [
    "### Use Docker to Run Executable in a C++23 Environment"
   ]
  },
  {
   "cell_type": "code",
   "execution_count": 5,
   "id": "7efe5733",
   "metadata": {},
   "outputs": [
    {
     "name": "stdout",
     "output_type": "stream",
     "text": [
      "c = 2, d = 1\n"
     ]
    }
   ],
   "source": [
    "!docker run --rm -v $(pwd):/app cpp23-clang18:latest ./02-uniform"
   ]
  }
 ],
 "metadata": {
  "kernelspec": {
   "display_name": "Python 3.11",
   "language": "python",
   "name": "py311_env"
  },
  "language_info": {
   "codemirror_mode": {
    "name": "ipython",
    "version": 3
   },
   "file_extension": ".py",
   "mimetype": "text/x-python",
   "name": "python",
   "nbconvert_exporter": "python",
   "pygments_lexer": "ipython3",
   "version": "3.10.16"
  }
 },
 "nbformat": 4,
 "nbformat_minor": 5
}