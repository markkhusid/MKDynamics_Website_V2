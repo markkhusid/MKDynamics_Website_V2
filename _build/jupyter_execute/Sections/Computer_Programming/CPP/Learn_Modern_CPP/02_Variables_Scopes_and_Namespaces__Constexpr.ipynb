{
 "cells": [
  {
   "cell_type": "raw",
   "id": "0606896e",
   "metadata": {
    "vscode": {
     "languageId": "raw"
    }
   },
   "source": [
    "---\n",
    "jupytext:\n",
    "  formats: md:myst\n",
    "  text_representation:\n",
    "    extension: .md\n",
    "    format_name: myst\n",
    "kernelspec:\n",
    "  display_name: Python 3\n",
    "  language: python\n",
    "  name: python3\n",
    "---"
   ]
  },
  {
   "cell_type": "markdown",
   "id": "d73bcc9e",
   "metadata": {},
   "source": [
    "# Variables, Scopes and Namespaces: Constexpr Variables"
   ]
  },
  {
   "cell_type": "markdown",
   "id": "c0c28b10",
   "metadata": {},
   "source": [
    "Adapted from: \"Learn Modern C++\" by cpptutor: [Learn Modern C++: Variables, Scopes and Namespaces](https://learnmoderncpp.com/variables-scopes-and-namespaces/)"
   ]
  },
  {
   "cell_type": "markdown",
   "id": "44335137",
   "metadata": {},
   "source": [
    "## Program that Demonstrates Constexpr Variables"
   ]
  },
  {
   "cell_type": "markdown",
   "id": "b1ca3905",
   "metadata": {},
   "source": [
    "```c++\n",
    "// 02-constexpr.cpp : introducing the constexpr keyword\n",
    " \n",
    "#include <print>\n",
    "#include <cmath>\n",
    "using namespace std;\n",
    " \n",
    "// constexpr double PI1 = acos(-1.0);\n",
    "constexpr double PI1 = 3.14159265358979323846; // Hardcoded value because compiler can not evaluate acos(-1.0) at compile time\n",
    "constexpr double PI2 = 22.0 / 7.0;\n",
    " \n",
    "static_assert(PI1 > 3.141 && PI1 < 3.143);\n",
    "static_assert(PI2 > 3.141 && PI2 < 3.143);\n",
    " \n",
    "int main() {\n",
    "    println(\"PI1 = {}\", PI1);\n",
    "    println(\"PI2 = {}\", PI2);\n",
    "}\n",
    "```"
   ]
  },
  {
   "cell_type": "markdown",
   "id": "01509724",
   "metadata": {},
   "source": [
    "## Explanation of the Above Code"
   ]
  },
  {
   "cell_type": "markdown",
   "id": "a5bcf8fa",
   "metadata": {},
   "source": [
    "This C++ code demonstrates the use of the `constexpr` keyword, which is used to define compile-time constants. Here's a breakdown of the code:\n",
    "\n",
    "### Code Explanation:\n",
    "\n",
    "1. **Headers and Namespace**:\n",
    "   ```cpp\n",
    "   #include <print>\n",
    "   #include <cmath>\n",
    "   using namespace std;\n",
    "   ```\n",
    "   - `<print>`: A C++23 header that provides the `println` function for formatted output.\n",
    "   - `<cmath>`: Provides mathematical functions like `acos`.\n",
    "   - `using namespace std;`: Allows usage of standard library functions without prefixing them with `std::`.\n",
    "\n",
    "2. **`constexpr` Variables**:\n",
    "   ```cpp\n",
    "   constexpr double PI1 = acos(-1.0);\n",
    "   constexpr double PI2 = 22.0 / 7.0;\n",
    "   ```\n",
    "   - `constexpr` ensures that the values of `PI1` and `PI2` are computed at compile time.\n",
    "   - `PI1` is calculated using `acos(-1.0)`, which is a precise mathematical computation for π (pi).\n",
    "   - `PI2` is an approximation of π using the fraction `22/7`.\n",
    "\n",
    "3. **Static Assertions**:\n",
    "   ```cpp\n",
    "   static_assert(PI1 > 3.141 && PI1 < 3.143);\n",
    "   static_assert(PI2 > 3.141 && PI2 < 3.143);\n",
    "   ```\n",
    "   - `static_assert` checks conditions at compile time.\n",
    "   - These assertions ensure that both `PI1` and `PI2` fall within the range of valid π values (between 3.141 and 3.143).\n",
    "   - If the conditions fail, the program will not compile.\n",
    "\n",
    "4. **Main Function**:\n",
    "   ```cpp\n",
    "   int main() {\n",
    "       println(\"PI1 = {}\", PI1);\n",
    "       println(\"PI2 = {}\", PI2);\n",
    "   }\n",
    "   ```\n",
    "   - The `main` function prints the values of `PI1` and `PI2` using the `println` function from `<print>`.\n",
    "   - `{}` is a placeholder for the values of `PI1` and `PI2`.\n",
    "\n",
    "### Key Concepts:\n",
    "- **`constexpr`**: Ensures that variables are evaluated at compile time, making the program more efficient.\n",
    "- **`static_assert`**: Validates conditions during compilation, preventing runtime errors.\n",
    "- **Precision of π**: `PI1` is more precise than `PI2` because `acos(-1.0)` is mathematically accurate, while `22/7` is an approximation.\n",
    "\n",
    "### Output:\n",
    "If compiled and run, the program will output:\n",
    "```\n",
    "PI1 = 3.141592653589793\n",
    "PI2 = 3.142857142857143\n",
    "```"
   ]
  },
  {
   "cell_type": "markdown",
   "id": "41a71bdf",
   "metadata": {},
   "source": [
    "## Compile and Run Code"
   ]
  },
  {
   "cell_type": "markdown",
   "id": "63b3e22c",
   "metadata": {},
   "source": [
    "### Use Python to Change to Working Directory"
   ]
  },
  {
   "cell_type": "code",
   "execution_count": 1,
   "id": "0953b4bb",
   "metadata": {},
   "outputs": [],
   "source": [
    "import os\n",
    "root_dir = os.getcwd()"
   ]
  },
  {
   "cell_type": "code",
   "execution_count": 2,
   "id": "29e530ce",
   "metadata": {},
   "outputs": [],
   "source": [
    "code_dir = root_dir + \"/\" + \"Cpp_Code/02_Variables_Scopes_and_Namespaces\""
   ]
  },
  {
   "cell_type": "code",
   "execution_count": 3,
   "id": "e8b71b20",
   "metadata": {},
   "outputs": [],
   "source": [
    "os.chdir(code_dir)"
   ]
  },
  {
   "cell_type": "markdown",
   "id": "ec11151d",
   "metadata": {},
   "source": [
    "### Use Docker to Compile the Code in a C++23 Environment"
   ]
  },
  {
   "cell_type": "code",
   "execution_count": 6,
   "id": "28fe2a4c",
   "metadata": {},
   "outputs": [],
   "source": [
    "!docker run --rm -v $(pwd):/app cpp23-clang18:latest clang++-18 -std=c++23 -stdlib=libc++ /app/02-constexpr.cpp -o /app/02-constexpr"
   ]
  },
  {
   "cell_type": "markdown",
   "id": "b259da21",
   "metadata": {},
   "source": [
    "### Use Docker to Run Executable in a C++23 Environment"
   ]
  },
  {
   "cell_type": "code",
   "execution_count": 7,
   "id": "7efe5733",
   "metadata": {},
   "outputs": [
    {
     "name": "stdout",
     "output_type": "stream",
     "text": [
      "PI1 = 3.141592653589793\n",
      "PI2 = 3.142857142857143\n"
     ]
    }
   ],
   "source": [
    "!docker run --rm -v $(pwd):/app cpp23-clang18:latest ./02-constexpr"
   ]
  }
 ],
 "metadata": {
  "kernelspec": {
   "display_name": "Python 3.11",
   "language": "python",
   "name": "py311_env"
  },
  "language_info": {
   "codemirror_mode": {
    "name": "ipython",
    "version": 3
   },
   "file_extension": ".py",
   "mimetype": "text/x-python",
   "name": "python",
   "nbconvert_exporter": "python",
   "pygments_lexer": "ipython3",
   "version": "3.10.17"
  }
 },
 "nbformat": 4,
 "nbformat_minor": 5
}