{
 "cells": [
  {
   "cell_type": "raw",
   "id": "62ac37db",
   "metadata": {},
   "source": [
    "---\n",
    "jupytext:\n",
    "  formats: md:myst\n",
    "  text_representation:\n",
    "    extension: .md\n",
    "    format_name: myst\n",
    "kernelspec:\n",
    "  display_name: Python 3\n",
    "  language: python\n",
    "  name: python3\n",
    "---"
   ]
  },
  {
   "cell_type": "markdown",
   "id": "88c59b98",
   "metadata": {},
   "source": [
    "# Conditions and Operators: Conditions and Switch - Case: Fall Through"
   ]
  },
  {
   "cell_type": "markdown",
   "id": "f608de53",
   "metadata": {},
   "source": [
    "Adapted from: \"Learn Modern C++\" by cpptutor: [Learn Modern C++: Conditions and Operators](https://learnmoderncpp.com/conditions-and-operators/)"
   ]
  },
  {
   "cell_type": "markdown",
   "id": "53c1dbd5",
   "metadata": {},
   "source": [
    "## Program that Demonstrates Conditions and Fall Through in the Switch Case Statement"
   ]
  },
  {
   "cell_type": "markdown",
   "id": "0bcc0975",
   "metadata": {},
   "source": [
    "```c++\n",
    "// 03-fallthrough.cpp : demonstrate case clauses without break\n",
    " \n",
    "#include <iostream>\n",
    "using namespace std;\n",
    " \n",
    "int main() {\n",
    "    cout << \"Please enter an integer between zero and three:\\n\";\n",
    "    int n{};\n",
    "    cin >> n;\n",
    "    switch (n) {\n",
    "    case 0:\n",
    "        cout << \"Number is less than 1\\n\";\n",
    "        [[fallthrough]];\n",
    "    case 1:\n",
    "        cout << \"Number is less than 2\\n\";\n",
    "        [[fallthrough]];\n",
    "    case 2:\n",
    "        cout << \"Number is less than 3\\n\";\n",
    "        break;\n",
    "    case 3:\n",
    "        cout << \"Number is exactly 3\\n\";\n",
    "        break;\n",
    "    default:\n",
    "        cout << \"Number out of range!\\n\";\n",
    "        break;\n",
    "    }\n",
    "}\n",
    "```"
   ]
  },
  {
   "cell_type": "markdown",
   "id": "b20c8d34",
   "metadata": {},
   "source": [
    "## Explanation of the Above Code"
   ]
  },
  {
   "cell_type": "markdown",
   "id": "55576bd8",
   "metadata": {},
   "source": [
    "This C++ program demonstrates the use of the `switch` statement with the `[[fallthrough]]` attribute to explicitly allow fall-through behavior between cases. Here's a breakdown of the code:\n",
    "\n",
    "### Code Explanation:\n",
    "\n",
    "1. **Header Inclusion**:\n",
    "   ```cpp\n",
    "   #include <iostream>\n",
    "   ```\n",
    "   - The `<iostream>` header is included to enable input (`cin`) and output (`cout`) operations.\n",
    "\n",
    "2. **Namespace**:\n",
    "   ```cpp\n",
    "   using namespace std;\n",
    "   ```\n",
    "   - This allows the program to use standard library features (like `cin` and `cout`) without prefixing them with `std::`.\n",
    "\n",
    "3. **Main Function**:\n",
    "   ```cpp\n",
    "   int main() {\n",
    "   ```\n",
    "   - The `main` function is the entry point of the program.\n",
    "\n",
    "4. **User Prompt and Input**:\n",
    "   ```cpp\n",
    "   cout << \"Please enter an integer between zero and three:\\n\";\n",
    "   int n{};\n",
    "   cin >> n;\n",
    "   ```\n",
    "   - The program prompts the user to enter an integer between 0 and 3.\n",
    "   - The input is stored in the variable `n`.\n",
    "\n",
    "5. **Switch Statement**:\n",
    "   ```cpp\n",
    "   switch (n) {\n",
    "   ```\n",
    "   - The `switch` statement evaluates the value of `n` and executes the corresponding case block.\n",
    "\n",
    "6. **Case Blocks**:\n",
    "   - **Case 0**:\n",
    "     ```cpp\n",
    "     case 0:\n",
    "         cout << \"Number is less than 1\\n\";\n",
    "         [[fallthrough]];\n",
    "     ```\n",
    "     - Prints \"Number is less than 1\".\n",
    "     - The `[[fallthrough]]` attribute explicitly allows execution to continue to the next case (case 1).\n",
    "\n",
    "   - **Case 1**:\n",
    "     ```cpp\n",
    "     case 1:\n",
    "         cout << \"Number is less than 2\\n\";\n",
    "         [[fallthrough]];\n",
    "     ```\n",
    "     - Prints \"Number is less than 2\".\n",
    "     - The `[[fallthrough]]` attribute allows execution to continue to the next case (case 2).\n",
    "\n",
    "   - **Case 2**:\n",
    "     ```cpp\n",
    "     case 2:\n",
    "         cout << \"Number is less than 3\\n\";\n",
    "         break;\n",
    "     ```\n",
    "     - Prints \"Number is less than 3\".\n",
    "     - The `break` statement prevents further fall-through and exits the `switch` block.\n",
    "\n",
    "   - **Case 3**:\n",
    "     ```cpp\n",
    "     case 3:\n",
    "         cout << \"Number is exactly 3\\n\";\n",
    "         break;\n",
    "     ```\n",
    "     - Prints \"Number is exactly 3\".\n",
    "     - The `break` statement exits the `switch` block.\n",
    "\n",
    "   - **Default Case**:\n",
    "     ```cpp\n",
    "     default:\n",
    "         cout << \"Number out of range!\\n\";\n",
    "         break;\n",
    "     ```\n",
    "     - Handles any input that is not 0, 1, 2, or 3.\n",
    "     - Prints \"Number out of range!\".\n",
    "\n",
    "### Key Features:\n",
    "- **Fall-Through Behavior**:\n",
    "  - The `[[fallthrough]]` attribute is used to explicitly indicate intentional fall-through between cases. This improves code readability and avoids accidental fall-through, which can lead to bugs.\n",
    "\n",
    "- **Default Case**:\n",
    "  - The `default` case ensures that invalid inputs are handled gracefully.\n",
    "\n",
    "### Example Input/Output:\n",
    "1. **Input: 0**\n",
    "   ```\n",
    "   Please enter an integer between zero and three:\n",
    "   0\n",
    "   Number is less than 1\n",
    "   Number is less than 2\n",
    "   Number is less than 3\n",
    "   ```\n",
    "\n",
    "2. **Input: 3**\n",
    "   ```\n",
    "   Please enter an integer between zero and three:\n",
    "   3\n",
    "   Number is exactly 3\n",
    "   ```\n",
    "\n",
    "3. **Input: 5**\n",
    "   ```\n",
    "   Please enter an integer between zero and three:\n",
    "   5\n",
    "   Number out of range!\n",
    "   ```"
   ]
  },
  {
   "cell_type": "markdown",
   "id": "8ed0f9ab",
   "metadata": {},
   "source": [
    "## Compile and Run Code"
   ]
  },
  {
   "cell_type": "markdown",
   "id": "61bf7edf",
   "metadata": {},
   "source": [
    "### Use Python to Change to Working Directory"
   ]
  },
  {
   "cell_type": "code",
   "execution_count": 1,
   "id": "b174fec9",
   "metadata": {},
   "outputs": [],
   "source": [
    "import os\n",
    "root_dir = os.getcwd()"
   ]
  },
  {
   "cell_type": "code",
   "execution_count": 2,
   "id": "dea8ff6b",
   "metadata": {},
   "outputs": [],
   "source": [
    "code_dir = root_dir + \"/\" + \"Cpp_Code/03_Conditions_and_Operators\""
   ]
  },
  {
   "cell_type": "code",
   "execution_count": 3,
   "id": "72abc3cb",
   "metadata": {},
   "outputs": [],
   "source": [
    "os.chdir(code_dir)"
   ]
  },
  {
   "cell_type": "markdown",
   "id": "38616a5c",
   "metadata": {},
   "source": [
    "### Use Docker to Compile the Code in a C++23 Environment"
   ]
  },
  {
   "cell_type": "code",
   "execution_count": 4,
   "id": "87590cc2",
   "metadata": {},
   "outputs": [],
   "source": [
    "!docker run --rm -v $(pwd):/app cpp23-clang18:latest clang++-18 -std=c++23 -stdlib=libc++ /app/03-fallthrough.cpp -o /app/03-fallthrough"
   ]
  },
  {
   "cell_type": "markdown",
   "id": "63264451",
   "metadata": {},
   "source": [
    "### Use Docker to Run Executable in a C++23 Environment"
   ]
  },
  {
   "cell_type": "code",
   "execution_count": 5,
   "id": "3d711399",
   "metadata": {},
   "outputs": [
    {
     "name": "stdout",
     "output_type": "stream",
     "text": [
      "Please enter an integer between zero and three:\r\n",
      "Number is less than 1\r\n",
      "Number is less than 2\r\n",
      "Number is less than 3\r\n"
     ]
    }
   ],
   "source": [
    "!echo \"0\" | docker run -i --rm -v $(pwd):/app cpp23-clang18:latest ./03-fallthrough"
   ]
  },
  {
   "cell_type": "code",
   "execution_count": 6,
   "id": "eb367f77",
   "metadata": {},
   "outputs": [
    {
     "name": "stdout",
     "output_type": "stream",
     "text": [
      "Please enter an integer between zero and three:\r\n",
      "Number is less than 2\r\n",
      "Number is less than 3\r\n"
     ]
    }
   ],
   "source": [
    "!echo \"1\" | docker run -i --rm -v $(pwd):/app cpp23-clang18:latest ./03-fallthrough"
   ]
  },
  {
   "cell_type": "code",
   "execution_count": 7,
   "id": "31089abf",
   "metadata": {},
   "outputs": [
    {
     "name": "stdout",
     "output_type": "stream",
     "text": [
      "Please enter an integer between zero and three:\r\n",
      "Number is less than 3\r\n"
     ]
    }
   ],
   "source": [
    "!echo \"2\" | docker run -i --rm -v $(pwd):/app cpp23-clang18:latest ./03-fallthrough"
   ]
  },
  {
   "cell_type": "code",
   "execution_count": 8,
   "id": "8ec1907a",
   "metadata": {},
   "outputs": [
    {
     "name": "stdout",
     "output_type": "stream",
     "text": [
      "Please enter an integer between zero and three:\r\n",
      "Number is exactly 3\r\n"
     ]
    }
   ],
   "source": [
    "!echo \"3\" | docker run -i --rm -v $(pwd):/app cpp23-clang18:latest ./03-fallthrough"
   ]
  },
  {
   "cell_type": "code",
   "execution_count": 9,
   "id": "6df67c95",
   "metadata": {},
   "outputs": [
    {
     "name": "stdout",
     "output_type": "stream",
     "text": [
      "Please enter an integer between zero and three:\r\n",
      "Number out of range!\r\n"
     ]
    }
   ],
   "source": [
    "!echo \"4\" | docker run -i --rm -v $(pwd):/app cpp23-clang18:latest ./03-fallthrough"
   ]
  }
 ],
 "metadata": {
  "kernelspec": {
   "display_name": "Python 3.11",
   "language": "python",
   "name": "py311_env"
  },
  "language_info": {
   "codemirror_mode": {
    "name": "ipython",
    "version": 3
   },
   "file_extension": ".py",
   "mimetype": "text/x-python",
   "name": "python",
   "nbconvert_exporter": "python",
   "pygments_lexer": "ipython3",
   "version": "3.10.17"
  }
 },
 "nbformat": 4,
 "nbformat_minor": 5
}