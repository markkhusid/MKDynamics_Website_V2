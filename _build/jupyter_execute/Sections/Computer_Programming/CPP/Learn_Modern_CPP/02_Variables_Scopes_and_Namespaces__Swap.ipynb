{
 "cells": [
  {
   "cell_type": "raw",
   "id": "0606896e",
   "metadata": {
    "vscode": {
     "languageId": "raw"
    }
   },
   "source": [
    "---\n",
    "jupytext:\n",
    "  formats: md:myst\n",
    "  text_representation:\n",
    "    extension: .md\n",
    "    format_name: myst\n",
    "kernelspec:\n",
    "  display_name: Python 3\n",
    "  language: python\n",
    "  name: python3\n",
    "---"
   ]
  },
  {
   "cell_type": "markdown",
   "id": "d73bcc9e",
   "metadata": {},
   "source": [
    "# Variables, Scopes and Namespaces: Swap"
   ]
  },
  {
   "cell_type": "markdown",
   "id": "c0c28b10",
   "metadata": {},
   "source": [
    "Adapted from: \"Learn Modern C++\" by cpptutor: [Learn Modern C++: Variables, Scopes and Namespaces](https://learnmoderncpp.com/variables-scopes-and-namespaces/)"
   ]
  },
  {
   "cell_type": "markdown",
   "id": "44335137",
   "metadata": {},
   "source": [
    "## Program that Demonstrates Variable Swapping and Implicit Casting"
   ]
  },
  {
   "cell_type": "markdown",
   "id": "b1ca3905",
   "metadata": {},
   "source": [
    "```c++\n",
    "// 02-swap.cpp : attempt to swap the values of an int and a double\n",
    " \n",
    "#include <print>\n",
    "using namespace std;\n",
    " \n",
    "int main() {\n",
    "    int a = 1;\n",
    "    double b = 2.5;\n",
    "    println(\"(1) a = {}, b = {}\", a, b);\n",
    "    a = 2.5;\n",
    "    b = 1;\n",
    "    println(\"(2) a = {}, b = {}\", a, b);\n",
    "}\n",
    "```"
   ]
  },
  {
   "cell_type": "markdown",
   "id": "01509724",
   "metadata": {},
   "source": [
    "## Explanation of the Above Code"
   ]
  },
  {
   "cell_type": "markdown",
   "id": "a5bcf8fa",
   "metadata": {},
   "source": [
    "1. The program attempts to swap the values of an `int` and a `double`.\n",
    "2. The first line of the `main` function initializes an `int` variable `a` with the value `1` and a `double` variable `b` with the value `2.5`.\n",
    "3. The program prints the values of `a` and `b` using the `println` function.\n",
    "4. The second line of the `main` function attempts to assign the value `2.5` (a `double`) to the `int` variable `a`, which results in an implicit cast.\n",
    "5. The program then attempts to assign the value `1` (an `int`) to the `double` variable `b`, which is valid.\n",
    "6. Finally, the program prints the values of `a` and `b` again.\n",
    "7. The output of the program will show the values of `a` and `b` before and after the swap attempt.\n",
    "8. The implicit cast from `double` to `int` will truncate the decimal part, and the output will reflect this.\n",
    "9. The program demonstrates the concept of variable swapping and the behavior of implicit casting in C++.\n",
    "10. The program also highlights the importance of understanding variable types and their scopes in C++.\n",
    "11. The program uses the `print` library for output, which is a modern C++ feature.\n",
    "\n"
   ]
  },
  {
   "cell_type": "markdown",
   "id": "41a71bdf",
   "metadata": {},
   "source": [
    "## Compile and Run Code"
   ]
  },
  {
   "cell_type": "markdown",
   "id": "63b3e22c",
   "metadata": {},
   "source": [
    "### Use Python to Change to Working Directory"
   ]
  },
  {
   "cell_type": "code",
   "execution_count": 1,
   "id": "0953b4bb",
   "metadata": {},
   "outputs": [],
   "source": [
    "import os\n",
    "root_dir = os.getcwd()"
   ]
  },
  {
   "cell_type": "code",
   "execution_count": 2,
   "id": "29e530ce",
   "metadata": {},
   "outputs": [],
   "source": [
    "code_dir = root_dir + \"/\" + \"Cpp_Code/02_Variables_Scopes_and_Namespaces\""
   ]
  },
  {
   "cell_type": "code",
   "execution_count": 3,
   "id": "e8b71b20",
   "metadata": {},
   "outputs": [],
   "source": [
    "os.chdir(code_dir)"
   ]
  },
  {
   "cell_type": "markdown",
   "id": "ec11151d",
   "metadata": {},
   "source": [
    "### Use Docker to Compile the Code in a C++23 Environment"
   ]
  },
  {
   "cell_type": "code",
   "execution_count": 4,
   "id": "28fe2a4c",
   "metadata": {},
   "outputs": [
    {
     "name": "stdout",
     "output_type": "stream",
     "text": [
      "/app/02-swap.cpp:10:9: warning: implicit conversion from 'double' to 'int' changes value from 2.5 to 2 [-Wliteral-conversion]\r\n",
      "   10 |     a = 2.5;\r\n",
      "      |       ~ ^~~\r\n"
     ]
    },
    {
     "name": "stdout",
     "output_type": "stream",
     "text": [
      "1 warning generated.\r\n"
     ]
    }
   ],
   "source": [
    "!docker run --rm -v $(pwd):/app cpp23-clang18:latest clang++-18 -std=c++23 -stdlib=libc++ /app/02-swap.cpp -o /app/02-swap"
   ]
  },
  {
   "cell_type": "markdown",
   "id": "b259da21",
   "metadata": {},
   "source": [
    "### Use Docker to Run Executable in a C++23 Environment"
   ]
  },
  {
   "cell_type": "code",
   "execution_count": 5,
   "id": "7efe5733",
   "metadata": {},
   "outputs": [
    {
     "name": "stdout",
     "output_type": "stream",
     "text": [
      "(1) a = 1, b = 2.5\r\n",
      "(2) a = 2, b = 1\r\n"
     ]
    }
   ],
   "source": [
    "!docker run --rm -v $(pwd):/app cpp23-clang18:latest ./02-swap"
   ]
  }
 ],
 "metadata": {
  "kernelspec": {
   "display_name": "Python 3.11",
   "language": "python",
   "name": "py311_env"
  },
  "language_info": {
   "codemirror_mode": {
    "name": "ipython",
    "version": 3
   },
   "file_extension": ".py",
   "mimetype": "text/x-python",
   "name": "python",
   "nbconvert_exporter": "python",
   "pygments_lexer": "ipython3",
   "version": "3.10.16"
  }
 },
 "nbformat": 4,
 "nbformat_minor": 5
}