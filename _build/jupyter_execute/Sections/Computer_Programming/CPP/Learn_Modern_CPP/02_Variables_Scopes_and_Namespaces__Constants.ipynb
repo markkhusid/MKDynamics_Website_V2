{
 "cells": [
  {
   "cell_type": "raw",
   "id": "0606896e",
   "metadata": {
    "vscode": {
     "languageId": "raw"
    }
   },
   "source": [
    "---\n",
    "jupytext:\n",
    "  formats: md:myst\n",
    "  text_representation:\n",
    "    extension: .md\n",
    "    format_name: myst\n",
    "kernelspec:\n",
    "  display_name: Python 3\n",
    "  language: python\n",
    "  name: python3\n",
    "---"
   ]
  },
  {
   "cell_type": "markdown",
   "id": "d73bcc9e",
   "metadata": {},
   "source": [
    "# Variables, Scopes and Namespaces: Constants"
   ]
  },
  {
   "cell_type": "markdown",
   "id": "c0c28b10",
   "metadata": {},
   "source": [
    "Adapted from: \"Learn Modern C++\" by cpptutor: [Learn Modern C++: Variables, Scopes and Namespaces](https://learnmoderncpp.com/variables-scopes-and-namespaces/)"
   ]
  },
  {
   "cell_type": "markdown",
   "id": "44335137",
   "metadata": {},
   "source": [
    "## Program that Demonstrates Constants"
   ]
  },
  {
   "cell_type": "markdown",
   "id": "b1ca3905",
   "metadata": {},
   "source": [
    "```c++\n",
    "// 02-constants.cpp : introducing the const keyword\n",
    " \n",
    "#include <print>\n",
    "using namespace std;\n",
    " \n",
    "const double PI = 3.14159265358979;\n",
    " \n",
    "int main() {\n",
    "    auto const APPROX_E = 3;\n",
    "    println(\"pi is almost exactly {}, while e is approximately {}\",\n",
    "        PI, APPROX_E);\n",
    "}\n",
    "```"
   ]
  },
  {
   "cell_type": "markdown",
   "id": "01509724",
   "metadata": {},
   "source": [
    "## Explanation of the Above Code"
   ]
  },
  {
   "cell_type": "markdown",
   "id": "a5bcf8fa",
   "metadata": {},
   "source": [
    "This C++ code demonstrates the use of the `const` keyword to define constants and the use of the `println` function for formatted output.\n",
    "\n",
    "### Code Explanation:\n",
    "\n",
    "1. **Header Inclusion**:\n",
    "   ```c++\n",
    "   #include <print>\n",
    "   ```\n",
    "   - The `<print>` header is part of the C++23 standard library. It provides the `println` function, which is used for formatted output similar to Python's `print` function.\n",
    "\n",
    "2. **Namespace**:\n",
    "   ```c++\n",
    "   using namespace std;\n",
    "   ```\n",
    "   - This allows the program to use standard library features (like `println`) without needing to prefix them with `std::`.\n",
    "\n",
    "3. **Constant Definition**:\n",
    "   ```c++\n",
    "   const double PI = 3.14159265358979;\n",
    "   ```\n",
    "   - `PI` is defined as a constant of type `double`. The `const` keyword ensures that its value cannot be modified after initialization.\n",
    "\n",
    "4. **Main Function**:\n",
    "   ```c++\n",
    "   int main() {\n",
    "       auto const APPROX_E = 3;\n",
    "       println(\"pi is almost exactly {}, while e is approximately {}\", PI, APPROX_E);\n",
    "   }\n",
    "   ```\n",
    "   - Inside the `main` function:\n",
    "     - `APPROX_E` is declared as a constant using `auto const`. The `auto` keyword deduces its type as `int` based on the assigned value `3`.\n",
    "     - The `println` function is used to print a formatted string. The placeholders `{}` are replaced with the values of `PI` and `APPROX_E`.\n",
    "\n",
    "### Output:\n",
    "When executed, the program will output:\n",
    "```\n",
    "pi is almost exactly 3.14159265358979, while e is approximately 3\n",
    "```\n",
    "\n",
    "### Key Concepts:\n",
    "- **`const` Keyword**: Used to define immutable variables.\n",
    "- **`auto` Keyword**: Automatically deduces the type of a variable.\n",
    "- **Formatted Output**: The `println` function simplifies printing formatted strings in C++23."
   ]
  },
  {
   "cell_type": "markdown",
   "id": "41a71bdf",
   "metadata": {},
   "source": [
    "## Compile and Run Code"
   ]
  },
  {
   "cell_type": "markdown",
   "id": "63b3e22c",
   "metadata": {},
   "source": [
    "### Use Python to Change to Working Directory"
   ]
  },
  {
   "cell_type": "code",
   "execution_count": 3,
   "id": "0953b4bb",
   "metadata": {},
   "outputs": [],
   "source": [
    "import os\n",
    "root_dir = os.getcwd()"
   ]
  },
  {
   "cell_type": "code",
   "execution_count": 4,
   "id": "29e530ce",
   "metadata": {},
   "outputs": [],
   "source": [
    "code_dir = root_dir + \"/\" + \"Cpp_Code/02_Variables_Scopes_and_Namespaces\""
   ]
  },
  {
   "cell_type": "code",
   "execution_count": 5,
   "id": "e8b71b20",
   "metadata": {},
   "outputs": [],
   "source": [
    "os.chdir(code_dir)"
   ]
  },
  {
   "cell_type": "markdown",
   "id": "ec11151d",
   "metadata": {},
   "source": [
    "### Use Docker to Compile the Code in a C++23 Environment"
   ]
  },
  {
   "cell_type": "code",
   "execution_count": 6,
   "id": "28fe2a4c",
   "metadata": {},
   "outputs": [],
   "source": [
    "!docker run --rm -v $(pwd):/app cpp23-clang18:latest clang++-18 -std=c++23 -stdlib=libc++ /app/02-constants.cpp -o /app/02-constants"
   ]
  },
  {
   "cell_type": "markdown",
   "id": "b259da21",
   "metadata": {},
   "source": [
    "### Use Docker to Run Executable in a C++23 Environment"
   ]
  },
  {
   "cell_type": "code",
   "execution_count": 7,
   "id": "7efe5733",
   "metadata": {},
   "outputs": [
    {
     "name": "stdout",
     "output_type": "stream",
     "text": [
      "pi is almost exactly 3.14159265358979, while e is approximately 3\n"
     ]
    }
   ],
   "source": [
    "!docker run --rm -v $(pwd):/app cpp23-clang18:latest ./02-constants"
   ]
  }
 ],
 "metadata": {
  "kernelspec": {
   "display_name": "Python 3.11",
   "language": "python",
   "name": "py311_env"
  },
  "language_info": {
   "codemirror_mode": {
    "name": "ipython",
    "version": 3
   },
   "file_extension": ".py",
   "mimetype": "text/x-python",
   "name": "python",
   "nbconvert_exporter": "python",
   "pygments_lexer": "ipython3",
   "version": "3.10.16"
  }
 },
 "nbformat": 4,
 "nbformat_minor": 5
}