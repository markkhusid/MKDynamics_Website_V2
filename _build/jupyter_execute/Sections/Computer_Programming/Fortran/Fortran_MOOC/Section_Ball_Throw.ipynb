{
 "cells": [
  {
   "cell_type": "raw",
   "id": "c40b648f-a44a-4480-bbee-93e7a780f45b",
   "metadata": {},
   "source": [
    "---\n",
    "jupytext:\n",
    "  formats: md:myst\n",
    "  text_representation:\n",
    "    extension: .md\n",
    "    format_name: myst\n",
    "kernelspec:\n",
    "  display_name: Python 3\n",
    "  language: python\n",
    "  name: python3\n",
    "---"
   ]
  },
  {
   "attachments": {},
   "cell_type": "markdown",
   "id": "fc63b62e-3ea6-4588-8b6e-f845bbc6d64c",
   "metadata": {
    "tags": []
   },
   "source": [
    "# Section: Ball Throw"
   ]
  },
  {
   "attachments": {},
   "cell_type": "markdown",
   "id": "edfc7d7e-9803-4b96-82f1-bc0d47385f43",
   "metadata": {},
   "source": [
    "Adapted from: [https://github.com/gjbex/Fortran-MOOC/tree/master/source_code/ball_throw](https://github.com/gjbex/Fortran-MOOC/tree/master/source_code/ball_throw)"
   ]
  },
  {
   "attachments": {},
   "cell_type": "markdown",
   "id": "59ec1bec-3fd7-4061-aa24-c7765d25786f",
   "metadata": {},
   "source": [
    "This program demonstrates using the Runge-Kutta method to solve a second order differential equation. The equations of motion for a ball are analyzed."
   ]
  },
  {
   "cell_type": "markdown",
   "id": "d571c16c",
   "metadata": {},
   "source": [
    "## Runge-Kutta Method Explanation by ChatGPT 4o"
   ]
  },
  {
   "cell_type": "markdown",
   "id": "6c4caa28",
   "metadata": {},
   "source": [
    "Let's break down the physical equations governing the motion of the ball, how they are discretized using the Runge-Kutta 4th order (RK4) method, and how the motion of the ball is simulated step-by-step in the code.\n",
    "\n",
    "### **1. Physical Model (Equations of Motion)**\n",
    "\n",
    "The ball is subject to gravity, and we are solving for its trajectory. This can be modeled by the following system of **ordinary differential equations (ODEs)**:\n",
    "\n",
    "#### State Variables:\n",
    "- **Position in x**: $ X(t) $\n",
    "- **Position in y**: $ Y(t) $\n",
    "- **Velocity in x**: $ V_X(t) $\n",
    "- **Velocity in y**: $ V_Y(t) $\n",
    "\n",
    "#### Equations of Motion:\n",
    "The motion of the ball is governed by Newton’s laws of motion. The system of equations is:\n",
    "\n",
    "1. **Velocity equations** (derivatives of position):\n",
    "   $$\n",
    "   \\frac{dX}{dt} = V_X(t)\n",
    "   $$\n",
    "   $$\n",
    "   \\frac{dY}{dt} = V_Y(t)\n",
    "   $$\n",
    "\n",
    "2. **Acceleration equations** (derivatives of velocity):\n",
    "   $$\n",
    "   \\frac{dV_X}{dt} = 0 \\quad (\\text{No horizontal acceleration due to air resistance})\n",
    "   $$\n",
    "   $$\n",
    "   \\frac{dV_Y}{dt} = -g = -9.81 \\, \\text{m/s}^2 \\quad (\\text{Acceleration due to gravity})\n",
    "   $$\n",
    "\n",
    "So the full system of ODEs can be written as:\n",
    "\n",
    "$$\n",
    "\\frac{d}{dt} \\begin{bmatrix} X \\\\ Y \\\\ V_X \\\\ V_Y \\end{bmatrix} = \\begin{bmatrix} V_X \\\\ V_Y \\\\ 0 \\\\ -g \\end{bmatrix}\n",
    "$$\n",
    "\n",
    "Where:\n",
    "- $ X(t) $ and $ Y(t) $ are the positions in the horizontal and vertical directions.\n",
    "- $ V_X(t) $ and $ V_Y(t) $ are the velocities in the horizontal and vertical directions.\n",
    "- $ g = 9.81 \\, \\text{m/s}^2 $ is the acceleration due to gravity.\n",
    "\n",
    "### **2. Discretization of the Equations Using the Runge-Kutta Method**\n",
    "\n",
    "The Runge-Kutta 4th order method (RK4) is a numerical method for solving ordinary differential equations. It approximates the solution by calculating intermediate values of the derivatives at multiple points within a time step and combining them to achieve a higher-order approximation.\n",
    "\n",
    "The system of ODEs can be written as:\n",
    "\n",
    "$$\n",
    "\\frac{d\\mathbf{u}}{dt} = \\mathbf{f}(t, \\mathbf{u})\n",
    "$$\n",
    "\n",
    "Where $ \\mathbf{u}(t) $ is the vector of state variables, $ \\mathbf{u}(t) = \\begin{bmatrix} X(t) \\\\ Y(t) \\\\ V_X(t) \\\\ V_Y(t) \\end{bmatrix} $, and $ \\mathbf{f}(t, \\mathbf{u}) $ is the f function, which is computed by the `f` subroutine.\n",
    "\n",
    "In your program, the equations of motion are:\n",
    "\n",
    "$$\n",
    "\\mathbf{f}(t, \\mathbf{u}) = \\begin{bmatrix} V_X \\\\ V_Y \\\\ 0 \\\\ -g \\end{bmatrix}\n",
    "$$\n",
    "\n",
    "#### Step 1: The Runge-Kutta Method\n",
    "\n",
    "The RK4 method computes the next state vector $ \\mathbf{u}(t + \\Delta t) $ by evaluating the derivatives at four points within the time step $ \\Delta t $ and then combining them. Here's the mathematical formulation:\n",
    "\n",
    "Let $ t_0 $ be the current time, and $ \\mathbf{u}_0 $ be the current state vector. The Runge-Kutta 4th order method computes the next state $ \\mathbf{u}_1 $ at $ t_0 + \\Delta t $ as:\n",
    "\n",
    "$$\n",
    "k_1 = \\Delta t \\, \\mathbf{f}(t_0, \\mathbf{u}_0)\n",
    "$$\n",
    "$$\n",
    "k_2 = \\Delta t \\, \\mathbf{f}\\left(t_0 + \\frac{\\Delta t}{2}, \\mathbf{u}_0 + \\frac{k_1}{2}\\right)\n",
    "$$\n",
    "$$\n",
    "k_3 = \\Delta t \\, \\mathbf{f}\\left(t_0 + \\frac{\\Delta t}{2}, \\mathbf{u}_0 + \\frac{k_2}{2}\\right)\n",
    "$$\n",
    "$$\n",
    "k_4 = \\Delta t \\, \\mathbf{f}(t_0 + \\Delta t, \\mathbf{u}_0 + k_3)\n",
    "$$\n",
    "\n",
    "The new state vector $ \\mathbf{u}_1 $ is given by a weighted sum of these intermediate values:\n",
    "\n",
    "$$\n",
    "\\mathbf{u}_1 = \\mathbf{u}_0 + \\frac{1}{6} \\left(k_1 + 2k_2 + 2k_3 + k_4\\right)\n",
    "$$\n",
    "\n",
    "This formula combines the values at four points: the beginning of the step, the midpoint (evaluated twice), and the end of the step.\n",
    "\n",
    "#### Step 2: Applying the RK4 Method to Your System\n",
    "\n",
    "Now, let's apply the RK4 method to your system of equations.\n",
    "\n",
    "The state vector is:\n",
    "$$\n",
    "\\mathbf{u} = \\begin{bmatrix} X \\\\ Y \\\\ V_X \\\\ V_Y \\end{bmatrix}\n",
    "$$\n",
    "\n",
    "The RHS function is:\n",
    "$$\n",
    "\\mathbf{f}(t, \\mathbf{u}) = \\begin{bmatrix} V_X \\\\ V_Y \\\\ 0 \\\\ -g \\end{bmatrix}\n",
    "$$\n",
    "\n",
    "We need to calculate the four approximations ( $ k_1 $, $ k_2 $, $ k_3 $, and $ k_4 $ ) for each of the state variables:\n",
    "\n",
    "1. **At the current state $ t_0 $, $ \\mathbf{u}_0 $**:\n",
    "   $$\n",
    "   k_1 = \\Delta t \\, \\begin{bmatrix} V_X \\\\ V_Y \\\\ 0 \\\\ -g \\end{bmatrix}\n",
    "   $$\n",
    "\n",
    "2. **At the midpoint $ t_0 + \\frac{\\Delta t}{2} $, using $ k_1 $ to update $ \\mathbf{u}_0 $**:\n",
    "   $$\n",
    "   k_2 = \\Delta t \\, \\begin{bmatrix} V_X + \\frac{k_1(3)}{2} \\\\ V_Y + \\frac{k_1(4)}{2} \\\\ 0 \\\\ -g \\end{bmatrix}\n",
    "   $$\n",
    "\n",
    "3. **At the midpoint again, $ t_0 + \\frac{\\Delta t}{2} $, using $ k_2 $ to update $ \\mathbf{u}_0 $**:\n",
    "   $$\n",
    "   k_3 = \\Delta t \\, \\begin{bmatrix} V_X + \\frac{k_2(3)}{2} \\\\ V_Y + \\frac{k_2(4)}{2} \\\\ 0 \\\\ -g \\end{bmatrix}\n",
    "   $$\n",
    "\n",
    "4. **At the end of the step $ t_0 + \\Delta t $, using $ k_3 $ to update $ \\mathbf{u}_0 $**:\n",
    "   $$\n",
    "   k_4 = \\Delta t \\, \\begin{bmatrix} V_X + k_3(3) \\\\ V_Y + k_3(4) \\\\ 0 \\\\ -g \\end{bmatrix}\n",
    "   $$\n",
    "\n",
    "#### Final Update:\n",
    "Finally, the updated state $ \\mathbf{u}_1 $ is calculated as:\n",
    "\n",
    "$$\n",
    "\\mathbf{u}_1 = \\mathbf{u}_0 + \\frac{1}{6} \\left(k_1 + 2k_2 + 2k_3 + k_4\\right)\n",
    "$$\n",
    "\n",
    "For each component (X, Y, $ V_X $, $ V_Y $), you apply this formula, updating the state vector by adding the weighted sum of the intermediate steps.\n",
    "\n",
    "---\n",
    "\n",
    "### **3. Discretization of the Motion**\n",
    "\n",
    "#### X and Y (Position):\n",
    "\n",
    "1. For position $ X $, the derivative is $ \\frac{dX}{dt} = V_X $.\n",
    "2. For position $ Y $, the derivative is $ \\frac{dY}{dt} = V_Y $.\n",
    "\n",
    "At each step, the velocities $ V_X $ and $ V_Y $ are updated, so the positions $ X $ and $ Y $ are updated based on the velocities.\n",
    "\n",
    "#### $ V_X $ (Velocity in x-direction):\n",
    "- The velocity in the x-direction $ V_X $ remains constant (no acceleration in the x-direction):\n",
    "  $$\n",
    "  \\frac{dV_X}{dt} = 0\n",
    "  $$\n",
    "  This means that $ V_X $ doesn't change during the simulation.\n",
    "\n",
    "#### $ V_Y $ (Velocity in y-direction):\n",
    "\n",
    "- The velocity in the y-direction is affected by gravity:\n",
    "  $$\n",
    "  \\frac{dV_Y}{dt} = -g\n",
    "  $$\n",
    "  The velocity $ V_Y $ decreases over time due to the downward acceleration caused by gravity.\n",
    "\n",
    "---\n",
    "\n",
    "### **Summary of the Process**\n",
    "\n",
    "1. **The ODE system** describes the motion of the ball in both the horizontal and vertical directions, with the velocities and positions evolving over time.\n",
    "2. **The RK4 method** discretizes these continuous equations into small steps of size $ \\Delta t $. For each step, the\n",
    "\n",
    " Runge-Kutta method computes intermediate derivatives and combines them to provide an accurate approximation of the solution at the next time step.\n",
    "3. **The results** provide the trajectory of the ball, showing how its position and velocity change over time, under the influence of gravity.\n",
    "\n",
    "This process gives a numerically computed trajectory of the ball thrown at an initial velocity, providing insight into its motion and behavior as time progresses."
   ]
  },
  {
   "cell_type": "markdown",
   "id": "da547571",
   "metadata": {
    "vscode": {
     "languageId": "raw"
    }
   },
   "source": [
    "## Code Analysis by ChatGPT 4o"
   ]
  },
  {
   "cell_type": "markdown",
   "id": "249ddd48-685c-4dc4-8fbe-8f3c61de2a41",
   "metadata": {},
   "source": [
    "Let's break down the Fortran code in great detail. The program simulates the motion of a ball under the influence of gravity using the fourth-order Runge-Kutta (RK4) method for solving ordinary differential equations (ODEs). Here's a detailed explanation of each module and subroutine:\n",
    "\n",
    "### 1. **Main Program: `ball_throw`**\n",
    "\n",
    "This is the top-level program that integrates the motion of a ball thrown with initial velocity using RK4.\n",
    "\n",
    "```fortran\n",
    "program ball_throw\n",
    "    use, intrinsic :: iso_fortran_env, only : DP => real64, int32\n",
    "    use :: f_mod, only : f\n",
    "    use :: rk4_mod, only  : rk4vec\n",
    "    use :: vector_indices_mod, only : X_IDX, Y_IDX, VX_IDX, VY_IDX\n",
    "    implicit none\n",
    "    integer, parameter :: NR_EQS = 4\n",
    "    integer, parameter :: MAX_STEPS = 10000\n",
    "    real(kind=DP), parameter :: DELTA_T = 0.01_DP\n",
    "    real(kind=DP) :: t\n",
    "    real(kind=DP), dimension(NR_EQS) :: u, u_new\n",
    "    integer :: step\n",
    "```\n",
    "\n",
    "- **Imports**: \n",
    "  - `iso_fortran_env` provides `real64` (double precision) and `int32` (32-bit integer) types to ensure consistency in floating-point and integer precision.\n",
    "  - `f_mod` imports the function `f`, which represents the differential equations governing the ball's motion.\n",
    "  - `rk4_mod` imports the subroutine `rk4vec`, which will perform the RK4 integration.\n",
    "  - `vector_indices_mod` provides the indices for the state vector components: `X_IDX`, `Y_IDX`, `VX_IDX`, and `VY_IDX`.\n",
    "\n",
    "- **Parameters**:\n",
    "  - `NR_EQS`: The number of equations (4, corresponding to position and velocity in both x and y directions).\n",
    "  - `MAX_STEPS`: The maximum number of integration steps.\n",
    "  - `DELTA_T`: The time step for the RK4 integration (0.01 seconds).\n",
    "  \n",
    "- **State Vector** (`u`):\n",
    "  - This vector holds the state variables: position in `x` and `y` (`X_IDX`, `Y_IDX`), and velocity in `x` and `y` (`VX_IDX`, `VY_IDX`).\n",
    "  \n",
    "- **Initial Setup**:\n",
    "  - `step` is the step counter.\n",
    "  - The initial conditions for the ball are set:\n",
    "    - `u(X_IDX) = 0.0_DP`: The initial `x` position is 0.\n",
    "    - `u(Y_IDX) = 0.0_DP`: The initial `y` position is 0.\n",
    "    - `u(VX_IDX) = 5.0_DP`: The initial velocity in the `x` direction is 5 m/s.\n",
    "    - `u(VY_IDX) = 5.0_DP`: The initial velocity in the `y` direction is 5 m/s.\n",
    "\n",
    "### 2. **Main Loop**:\n",
    "\n",
    "```fortran\n",
    "    step = 0\n",
    "    t = 0.0_DP\n",
    "    u(X_IDX) = 0.0_DP\n",
    "    u(Y_IDX) = 0.0_DP\n",
    "    u(VX_IDX) = 5.0_DP\n",
    "    u(VY_IDX) = 5.0_DP\n",
    "    print *, step, t, u(X_IDX), u(Y_IDX), u(VX_IDX), u(VY_IDX)\n",
    "\n",
    "    do step = 1, MAX_STEPS\n",
    "        call rk4vec(t, NR_EQS, u, DELTA_T, f, u_new)\n",
    "        t = t + DELTA_T\n",
    "        u = u_new\n",
    "        if (u(Y_IDX) < 0.0_DP) exit\n",
    "        print *, step, t, u(X_IDX), u(Y_IDX), u(VX_IDX), u(VY_IDX)\n",
    "    end do\n",
    "```\n",
    "\n",
    "- **Initial Print**: The initial values are printed out, showing the time `t`, the `step`, and the state vector components (`x`, `y`, `vx`, `vy`).\n",
    "  \n",
    "- **Integration Loop**:\n",
    "  - The loop runs from `step = 1` to `MAX_STEPS`, performing the RK4 integration for each time step.\n",
    "  - `rk4vec` is called to integrate the state vector `u` for one step, updating the values in `u_new`.\n",
    "  - The time `t` is incremented by the step size `DELTA_T`.\n",
    "  - The state vector `u` is updated with the new values from `u_new`.\n",
    "  - The loop exits if the ball's `y` position (`u(Y_IDX)`) becomes negative, indicating it has hit the ground.\n",
    "  - After each step, the current time and state vector are printed.\n",
    "\n",
    "### 3. **Module: `vector_indices_mod`**\n",
    "\n",
    "```fortran\n",
    "module vector_indices_mod\n",
    "    implicit none\n",
    "    private\n",
    "    public :: X_IDX, Y_IDX, VX_IDX, VY_IDX\n",
    "    integer, parameter :: X_IDX = 1\n",
    "    integer, parameter :: Y_IDX = 2\n",
    "    integer, parameter :: VX_IDX = 3\n",
    "    integer, parameter :: VY_IDX = 4\n",
    "end module vector_indices_mod\n",
    "```\n",
    "\n",
    "- This module defines constants representing the indices of the components of the state vector (`u`):\n",
    "  - `X_IDX = 1`: The index for the `x` position.\n",
    "  - `Y_IDX = 2`: The index for the `y` position.\n",
    "  - `VX_IDX = 3`: The index for the `x` velocity.\n",
    "  - `VY_IDX = 4`: The index for the `y` velocity.\n",
    "  \n",
    "### 4. **Module: `f_mod`**\n",
    "\n",
    "```fortran\n",
    "module f_mod\n",
    "    use, intrinsic :: iso_fortran_env, only : DP => real64, int32\n",
    "    use :: vector_indices_mod, only : X_IDX, Y_IDX, VX_IDX, VY_IDX\n",
    "    implicit none\n",
    "    private\n",
    "    public :: f\n",
    "\n",
    "contains\n",
    "\n",
    "    subroutine f(t, m, u, uprime)\n",
    "        implicit none\n",
    "        real(kind=DP), intent(in) :: t ! Time\n",
    "        integer(kind=int32), intent(in) :: m ! Number of equations\n",
    "        real(kind=DP), dimension(m), intent(in) :: u ! State vector\n",
    "        real(kind=DP), dimension(m), intent(out) :: uprime ! Derivative of the state vector\n",
    "\n",
    "        real(kind=DP) :: X, Y, VX, VY\n",
    "        X  = u(X_IDX)   ! Position in x\n",
    "        Y  = u(Y_IDX)   ! Position in y\n",
    "        VX = u(VX_IDX)  ! Velocity in x\n",
    "        VY = u(VY_IDX)  ! Velocity in y\n",
    "\n",
    "        uprime(X_IDX)  = VX        ! dx/dt = velocity in x\n",
    "        uprime(Y_IDX)  = VY        ! dy/dt = velocity in y\n",
    "        uprime(VX_IDX) = 0.0_DP    ! No acceleration in x (ignoring air resistance)\n",
    "        uprime(VY_IDX) = -9.81_DP  ! Acceleration in y due to gravity\n",
    "    end subroutine f\n",
    "end module f_mod\n",
    "```\n",
    "\n",
    "- **The subroutine `f`**:\n",
    "  - This computes the right-hand side of the differential equations, i.e., the derivatives of the state variables.\n",
    "  - It takes the current time `t`, the number of equations `m`, the current state vector `u`, and outputs the derivative of the state vector `uprime`.\n",
    "  - **State variables**: \n",
    "    - `X`, `Y`: Position in `x` and `y`.\n",
    "    - `VX`, `VY`: Velocity in `x` and `y`.\n",
    "  - **Derivatives**:\n",
    "    - `dX/dt = VX`: The change in `x` position is the `x` velocity.\n",
    "    - `dY/dt = VY`: The change in `y` position is the `y` velocity.\n",
    "    - `dVX/dt = 0`: There is no acceleration in `x` (no air resistance).\n",
    "    - `dVY/dt = -9.81`: The acceleration in `y` is due to gravity (constant value -9.81 m/s²).\n",
    "\n",
    "### 5. **Module: `rk4_mod`**\n",
    "\n",
    "This module implements the Runge-Kutta method to integrate the system of ODEs.\n",
    "\n",
    "```fortran\n",
    "subroutine rk4vec ( t0, m, u0, dt, f, u )\n",
    "    implicit none\n",
    "    real ( kind = DP ), intent(in) :: t0\n",
    "    integer ( kind = int32 ), intent(in) :: m\n",
    "    real ( kind = DP ), dimension(m), intent(in) :: u0\n",
    "    real ( kind = DP ), intent(in) :: dt\n",
    "    real ( kind = DP ), dimension(m), intent(out) :: u\n",
    "\n",
    "    real ( kind = DP ), dimension(m) :: f0, f1, f2, f3\n",
    "    real ( kind = DP ), dimension(m) :: u1, u2, u3\n",
    "    real ( kind = DP ) :: t1, t2, t3\n",
    "\n",
    "    ! Get derivative estimates\n",
    "    call f ( t0, m, u0, f0 )\n",
    "    t1 = t0 + dt / 2.0_DP\n",
    "    u1 = u0 + dt * f0 / 2.0_DP\n",
    "    call f ( t1, m, u1, f1 )\n",
    "    t2 = t0 + dt / 2.0_DP\n",
    "\n",
    "\n",
    "    u2 = u0 + dt * f1 / 2.0_DP\n",
    "    call f ( t2, m, u2, f2 )\n",
    "    t3 = t0 + dt\n",
    "    u3 = u0 + dt * f2\n",
    "    call f ( t3, m, u3, f3 )\n",
    "\n",
    "    ! Combine the estimates to compute the next state vector\n",
    "    u = u0 + ( dt / 6.0_DP ) * ( f0 + 2.0_DP * f1 + 2.0_DP * f2 + f3 )\n",
    "end subroutine rk4vec\n",
    "```\n",
    "\n",
    "- **RK4 Method**:\n",
    "  - The method computes the state vector at the next time step using a weighted average of four intermediate estimates (`f0`, `f1`, `f2`, `f3`), corresponding to evaluations of the differential equation at different time points.\n",
    "  - It allocates arrays for the intermediate state vectors (`u1`, `u2`, `u3`) and derivative estimates (`f0`, `f1`, `f2`, `f3`).\n",
    "  - After computing these estimates using the function `f`, the final state vector `u` is updated using the formula:\n",
    "    $$\n",
    "    u_{t+dt} = u_0 + \\frac{dt}{6} \\left( f_0 + 2f_1 + 2f_2 + f_3 \\right)\n",
    "    $$\n",
    "  \n",
    "### Conclusion:\n",
    "\n",
    "This program simulates the trajectory of a ball in 2D under gravity. The motion is modeled using 4 first-order ODEs (2 for position, 2 for velocity), which are numerically integrated using the 4th-order Runge-Kutta method. The state vector contains the ball's position and velocity, and the program outputs the position and velocity at each time step until the ball hits the ground (`u(Y_IDX) < 0`)."
   ]
  },
  {
   "cell_type": "markdown",
   "id": "4883d54d-377f-427c-b3c7-b3e4878aa8e4",
   "metadata": {},
   "source": [
    "## Program Code"
   ]
  },
  {
   "cell_type": "markdown",
   "id": "8481f18b",
   "metadata": {},
   "source": [
    "### section_ball_throw.f90"
   ]
  },
  {
   "attachments": {},
   "cell_type": "markdown",
   "id": "49f81255",
   "metadata": {},
   "source": [
    "```{literalinclude} Fortran_Code/Section_Ball_Throw/app/section_ball_throw.f90\n",
    "---\n",
    "language: fortran\n",
    "---\n",
    "```"
   ]
  },
  {
   "cell_type": "markdown",
   "id": "7a57014a",
   "metadata": {},
   "source": [
    "### f_mod.f90\n",
    "\n",
    "```{literalinclude} Fortran_Code/Section_Ball_Throw/src/f_mod.f90\n",
    "---\n",
    "language: fortran\n",
    "---\n",
    "```"
   ]
  },
  {
   "cell_type": "markdown",
   "id": "b42bbe90",
   "metadata": {},
   "source": [
    "### rk4.f90"
   ]
  },
  {
   "cell_type": "markdown",
   "id": "9460cf62",
   "metadata": {},
   "source": [
    "```{literalinclude} Fortran_Code/Section_Ball_Throw/src/rk4.f90\n",
    "---\n",
    "language: fortran\n",
    "---\n",
    "```"
   ]
  },
  {
   "cell_type": "markdown",
   "id": "842f1ab8",
   "metadata": {
    "vscode": {
     "languageId": "raw"
    }
   },
   "source": [
    "### vector_indices_mod.f90"
   ]
  },
  {
   "cell_type": "markdown",
   "id": "ac9c2a06",
   "metadata": {},
   "source": [
    "```{literalinclude} Fortran_Code/Section_Ball_Throw/src/vector_indices_mod.f90\n",
    "---\n",
    "language: fortran\n",
    "---\n",
    "```"
   ]
  },
  {
   "attachments": {},
   "cell_type": "markdown",
   "id": "4c6b9985-c0cb-4602-8309-4e3369dd3226",
   "metadata": {},
   "source": [
    "The above program is compiled and run using Fortran Package Manager (fpm).  The following FPM configuration file (fpm.toml) was used:"
   ]
  },
  {
   "cell_type": "markdown",
   "id": "eee45759",
   "metadata": {},
   "source": [
    "```{literalinclude} Fortran_Code/Section_Ball_Throw/fpm.toml\n",
    "---\n",
    "language: toml\n",
    "---\n",
    "```"
   ]
  },
  {
   "cell_type": "markdown",
   "id": "c6f9ed20",
   "metadata": {
    "tags": []
   },
   "source": [
    "## Build the Program using FPM (Fortran Package Manager)"
   ]
  },
  {
   "cell_type": "code",
   "execution_count": 1,
   "id": "f16472aa-c965-4bad-a218-fee33f7b456a",
   "metadata": {},
   "outputs": [],
   "source": [
    "import os\n",
    "root_dir = \"\"\n",
    "root_dir = os.getcwd()"
   ]
  },
  {
   "cell_type": "code",
   "execution_count": 2,
   "id": "f77f9126-86cc-4a1b-89b9-5ad5f61cf72c",
   "metadata": {
    "tags": []
   },
   "outputs": [],
   "source": [
    "code_dir = root_dir + \"/\" + \"Fortran_Code/Section_Ball_Throw\""
   ]
  },
  {
   "cell_type": "code",
   "execution_count": 3,
   "id": "c2eeda29-613f-48fd-904b-af9aef8813a2",
   "metadata": {},
   "outputs": [],
   "source": [
    "os.chdir(code_dir)"
   ]
  },
  {
   "cell_type": "code",
   "execution_count": 4,
   "id": "0fbd7621-e800-4235-ab30-80560cc3e1a8",
   "metadata": {},
   "outputs": [],
   "source": [
    "build_status = os.system(\"fpm build 2>/dev/null\")"
   ]
  },
  {
   "cell_type": "markdown",
   "id": "58b5102f",
   "metadata": {},
   "source": [
    "## Run the Program using FPM (Fortran Package Manager)"
   ]
  },
  {
   "cell_type": "markdown",
   "id": "6839c09a",
   "metadata": {},
   "source": [
    "The program is run and the output is saved into a file named 'data.dat"
   ]
  },
  {
   "cell_type": "code",
   "execution_count": 7,
   "id": "3176b27d-932e-47a1-8099-4fae064ec661",
   "metadata": {},
   "outputs": [],
   "source": [
    "exec_status = \\\n",
    "    os.system(\"fpm run > data.dat 2>/dev/null\")"
   ]
  },
  {
   "cell_type": "markdown",
   "id": "b0b92367",
   "metadata": {},
   "source": [
    "## Plot the Trajectory of the Ball"
   ]
  },
  {
   "cell_type": "code",
   "execution_count": 8,
   "id": "6b902eab",
   "metadata": {},
   "outputs": [],
   "source": [
    "%matplotlib inline\n",
    "import matplotlib.pyplot as plt\n",
    "import numpy as np"
   ]
  },
  {
   "cell_type": "code",
   "execution_count": 9,
   "id": "af26264b",
   "metadata": {},
   "outputs": [],
   "source": [
    "data = np.loadtxt(\"data.dat\")"
   ]
  },
  {
   "cell_type": "code",
   "execution_count": 15,
   "id": "a6179964",
   "metadata": {},
   "outputs": [],
   "source": [
    "time = [row[1] for row in data]\n",
    "y    = [row[3] for row in data]"
   ]
  },
  {
   "cell_type": "code",
   "execution_count": 17,
   "id": "04204a35",
   "metadata": {},
   "outputs": [
    {
     "data": {
      "image/png": "[encoded data removed]",
      "text/plain": [
       "<Figure size 1000x600 with 1 Axes>"
      ]
     },
     "metadata": {},
     "output_type": "display_data"
    }
   ],
   "source": [
    "fig, ax = plt.subplots(figsize=(10, 6))\n",
    "ax.plot(time, y, label='y(t)')\n",
    "ax.set_xlabel('Time (s)')\n",
    "ax.set_ylabel('Height (m)')\n",
    "ax.set_title('Ball Throw')\n",
    "ax.legend()\n",
    "plt.show()"
   ]
  }
 ],
 "metadata": {
  "kernelspec": {
   "display_name": "Python 3.11",
   "language": "python",
   "name": "py311_env"
  },
  "language_info": {
   "codemirror_mode": {
    "name": "ipython",
    "version": 3
   },
   "file_extension": ".py",
   "mimetype": "text/x-python",
   "name": "python",
   "nbconvert_exporter": "python",
   "pygments_lexer": "ipython3",
   "version": "3.10.16"
  },
  "vscode": {
   "interpreter": {
    "hash": "1c7edbfe09241e3ab70fdbaa9340a6c53382c0b8a91b6341e8f1e4440b6e3c70"
   }
  }
 },
 "nbformat": 4,
 "nbformat_minor": 5
}