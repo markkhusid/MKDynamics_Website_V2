{
 "cells": [
  {
   "cell_type": "raw",
   "id": "c40b648f-a44a-4480-bbee-93e7a780f45b",
   "metadata": {},
   "source": [
    "---\n",
    "jupytext:\n",
    "  formats: md:myst\n",
    "  text_representation:\n",
    "    extension: .md\n",
    "    format_name: myst\n",
    "kernelspec:\n",
    "  display_name: Python 3\n",
    "  language: python\n",
    "  name: python3\n",
    "---"
   ]
  },
  {
   "attachments": {},
   "cell_type": "markdown",
   "id": "fc63b62e-3ea6-4588-8b6e-f845bbc6d64c",
   "metadata": {
    "tags": []
   },
   "source": [
    "# Section: BLAS/LAPACK - Linear Equations\n"
   ]
  },
  {
   "attachments": {},
   "cell_type": "markdown",
   "id": "edfc7d7e-9803-4b96-82f1-bc0d47385f43",
   "metadata": {},
   "source": [
    "Adapted from: [https://github.com/gjbex/Fortran-MOOC/tree/master/source_code/blas_lapack/linear_equations](https://github.com/gjbex/Fortran-MOOC/tree/master/source_code/blas_lapack/linear_equations)"
   ]
  },
  {
   "attachments": {},
   "cell_type": "markdown",
   "id": "59ec1bec-3fd7-4061-aa24-c7765d25786f",
   "metadata": {},
   "source": [
    "## This program demonstrates solving linear algebra equations in Fortran."
   ]
  },
  {
   "attachments": {},
   "cell_type": "markdown",
   "id": "b010108c",
   "metadata": {},
   "source": [
    "### Linear Equation Problem"
   ]
  },
  {
   "attachments": {},
   "cell_type": "markdown",
   "id": "e4efe68f",
   "metadata": {},
   "source": [
    "In this notebook we will use Fortran to solve a system of linear equations of the form:"
   ]
  },
  {
   "attachments": {},
   "cell_type": "markdown",
   "id": "74662cc6",
   "metadata": {},
   "source": [
    "$$\n",
    "\\Large A \\mathbf{x} = \\mathbf{b}\n",
    "$$\n",
    "where: <br>\n"
   ]
  },
  {
   "attachments": {},
   "cell_type": "markdown",
   "id": "30939470",
   "metadata": {},
   "source": [
    "$$\n",
    "\\Large A =\n",
    "\\left[\n",
    "\\begin{array}{cccc}\n",
    "a_{11} & a_{12} & \\cdots & a_{1n} \\\\\n",
    "a_{21} & a_{22} & \\cdots & a_{2n} \\\\\n",
    "\\vdots & \\vdots & \\vdots & \\vdots \\\\\n",
    "a_{m1} & a_{m2} & \\cdots & a_{mn}\n",
    "\\end{array}\n",
    "\\right]\n",
    "$$"
   ]
  },
  {
   "attachments": {},
   "cell_type": "markdown",
   "id": "7c6c0958",
   "metadata": {},
   "source": [
    "$$\n",
    "\\Large \\mathbf{x} =\n",
    "\\left[\n",
    "\\begin{array}{c}\n",
    "x_{1}  \\\\\n",
    "x_{2}  \\\\\n",
    "\\vdots \\\\\n",
    "x_{n}\n",
    "\\end{array}\n",
    "\\right]\n",
    "$$"
   ]
  },
  {
   "attachments": {},
   "cell_type": "markdown",
   "id": "52bb7322",
   "metadata": {},
   "source": [
    "$$\n",
    "\\Large \\mathbf{b} = \n",
    "\\left[\n",
    "\\begin{array}{c}\n",
    "b_{1}  \\\\\n",
    "b_{2}  \\\\\n",
    "\\vdots \\\\\n",
    "b_{n}\n",
    "\\end{array}\n",
    "\\right]\n",
    "$$"
   ]
  },
  {
   "attachments": {},
   "cell_type": "markdown",
   "id": "31041f68",
   "metadata": {},
   "source": [
    "The approach will be to have a main program that reads in as parameters the number of equations, the matrix $\\mathbf{A}$ and the vector $\\mathbf{x}$ as text files.  The main program is called *solve_equations.f90*.  It makes use of the LAPACK linear equation solver routine called **DGESV**.  Information on this routine can be found at [LAPACK - DGESV](https://netlib.org/lapack/explore-html/d7/d3b/group__double_g_esolve_ga5ee879032a8365897c3ba91e3dc8d512.html#ga5ee879032a8365897c3ba91e3dc8d512).\n",
    "\n",
    "The main program makes use of a module called *linalg_mod.f90*, which contains subroutines to read and write matrices and arrays to and from text files.\n",
    "\n",
    "Finally, there is a helper program called *generate_array.f90* which has a subroutine that gets arguments from the command line and generates either of vector or matrix of specified size.  Every element in the array or matrix is a random number."
   ]
  },
  {
   "cell_type": "markdown",
   "id": "5ae3b601-1378-4266-a01e-749fe9297a60",
   "metadata": {},
   "source": [
    "## Explanation of the Programs"
   ]
  },
  {
   "cell_type": "markdown",
   "id": "064d162f-37f7-4283-b2a0-9a7b2756fe73",
   "metadata": {},
   "source": [
    "The following explanation is given by \"Code Copilot\" within ChatGPT 4."
   ]
  },
  {
   "cell_type": "markdown",
   "id": "92edb00a-ca54-4702-97de-355d1ee78dec",
   "metadata": {},
   "source": [
    "### Explaining `generate_array.f90`\n",
    "\n",
    "The Fortran program `generate_array.f90` serves to generate either a vector or a matrix with random elements, depending on the command line arguments provided. It uses routines from a module named `linalg_mod` to handle array creation and output. Below is an explanation of the program structure and its key components:\n",
    "\n",
    "#### Program Structure\n",
    "\n",
    "1. **Module Usage**\n",
    "   - `iso_fortran_env`: Utilized for standard environment variables and constants, specifically `error_unit` for error messages and `DP` alias for `REAL64`, indicating double precision.\n",
    "   - `linalg_mod`: Externally defined module used here for `write_array` and `generate_random_array`, which handle array operations.\n",
    "\n",
    "2. **Variable Declarations**\n",
    "   - `dimensions`: An allocatable integer array to store dimensions provided via command-line arguments.\n",
    "   - `vector`: An allocatable vector of type `real(kind=DP)`.\n",
    "   - `matrix`: An allocatable 2D array of type `real(kind=DP)`.\n",
    "\n",
    "3. **Main Execution Logic**\n",
    "   - It begins by fetching command-line arguments into `dimensions`.\n",
    "   - Based on the size of `dimensions`, it either generates a 1D vector or a 2D matrix:\n",
    "     - For a single dimension, a vector of random elements is created and written.\n",
    "     - For two dimensions, a matrix is created and written.\n",
    "   - If neither one nor two dimensions are provided, it outputs an error indicating that only rank 1 and 2 arrays are supported.\n",
    "\n",
    "4. **Error Handling**\n",
    "   - The program checks for proper memory allocation and command-line argument processing, with appropriate error messages and stops if any issues occur.\n",
    "\n",
    "#### Subroutine: `get_arguments`\n",
    "\n",
    "- **Purpose**: Fetches command-line arguments to determine the size of the array to be generated.\n",
    "- **Process**:\n",
    "  - Determines the number of arguments (`rank`).\n",
    "  - Allocates the `dimensions` array based on `rank`.\n",
    "  - Reads each command argument into `dimensions`, converting from string to integer.\n",
    "  - Handles errors in conversion and allocation, stopping the program if necessary.\n",
    "\n",
    "### Key Functionalities\n",
    "\n",
    "- **Array Generation**: Depending on the input dimensions, it generates either a vector or a matrix with random values.\n",
    "- **Modular Design**: Leverages external modules for specific functionalities, which simplifies the main program.\n",
    "- **Flexibility**: The ability to handle both vectors and matrices makes the program versatile for different kinds of numerical data generation tasks.\n",
    "\n",
    "### Usage\n",
    "\n",
    "- The program is executed with command-line arguments specifying the dimensions of the array to generate. For example:\n",
    "  - `./generate_array 10` would generate a vector of size 10.\n",
    "  - `./generate_array 3 4` would generate a 3x4 matrix.\n",
    "\n",
    "Now, let's move on to read and explain the `solve_equations.f90` file.\n",
    "\n",
    "### Explaining `solve_equations.f90`\n",
    "\n",
    "The Fortran program `solve_equations.f90` is designed to solve a system of linear equations using LAPACK's `dgesv` subroutine, which solves systems of linear equations \\( AX = B \\) by performing LU decomposition with partial pivoting. Here's a breakdown of its key components and functionalities:\n",
    "\n",
    "#### Program Structure\n",
    "\n",
    "1. **Module Usage**\n",
    "   - `iso_fortran_env`: Standard intrinsic module providing access to the `error_unit` and `DP` (double precision kind type alias).\n",
    "   - `linalg_mod`: Custom module providing `read_array` and `write_array` functions, used to handle input/output operations for matrices and vectors.\n",
    "\n",
    "2. **Variable Declarations**\n",
    "   - `nr_eqns`: Number of equations in the system, derived from command-line arguments.\n",
    "   - `status`, `info`: Variables for checking statuses of operations; `info` is used specifically with `dgesv`.\n",
    "   - `matrix_file_name`, `vector_file_name`: File names for storing matrix \\( A \\) and vector \\( B \\).\n",
    "   - `b`: Vector \\( B \\) in the equation \\( AX = B \\).\n",
    "   - `pivot`: Integer array for pivot indices from the LU decomposition.\n",
    "   - `A`: Matrix \\( A \\) of the system.\n",
    "\n",
    "3. **Explicit Interface for `dgesv`**\n",
    "   - The subroutine's interface is explicitly defined to ensure correct passing of arguments:\n",
    "     - `n`, `nrhs`, `a`, `lda`, `ipiv`, `b`, `ldb`, and `info` describe the system dimensions, matrix and vector storage details, and output for status information.\n",
    "\n",
    "4. **Main Execution Logic**\n",
    "   - **Argument Reading**: Fetches command-line arguments to determine the number of equations and file names for matrix \\( A \\) and vector \\( B \\).\n",
    "   - **Array Allocation**: Allocates memory for \\( A \\), \\( B \\), and pivot indices.\n",
    "   - **File Reading**: Reads matrix \\( A \\) and vector \\( B \\) from files specified by the user.\n",
    "   - **System Solving**: Calls `dgesv` to solve the linear system, where \\( A \\) is modified to store the factors from the LU decomposition, and \\( B \\) is overwritten with the solution \\( X \\).\n",
    "   - **Output**: Writes the solution vector \\( X \\) back to a file.\n",
    "\n",
    "5. **Error Handling**\n",
    "   - Checks for successful allocation and reading operations, with appropriate error messages and program termination on failures.\n",
    "\n",
    "#### Subroutine: `get_arguments`\n",
    "\n",
    "- **Purpose**: Fetches and validates command-line arguments to ensure correct program setup.\n",
    "- **Parameters**:\n",
    "  - `nr_eqns`: Number of equations/system size.\n",
    "  - `matrix_file_name`, `vector_file_name`: File paths for the matrix and vector data.\n",
    "\n",
    "### Key Functionalities\n",
    "\n",
    "- **Linear System Solver**: Uses `dgesv` for robust and efficient solving of linear systems, leveraging LAPACK's optimized routines.\n",
    "- **Modular File Handling**: Employs modular functions from `linalg_mod` for input/output operations, promoting code reuse and organization.\n",
    "- **Error Management**: Extensive error checking ensures the program gracefully handles common issues like invalid input or memory allocation failures.\n",
    "\n",
    "### Usage\n",
    "\n",
    "The program is intended to be executed with three command-line arguments specifying the number of equations, matrix file name, and vector file name. For example:\n",
    "```bash\n",
    "./solve_equations 3 matrix.dat vector.dat\n",
    "```\n",
    "\n",
    "This would solve a 3x3 system of equations using matrix and vector data from `matrix.dat` and `vector.dat`.\n",
    "\n",
    "Next, let's proceed to read and explain the `linalg_mod.f90` file.\n",
    "\n",
    "### Explaining `linalg_mod.f90`\n",
    "\n",
    "The Fortran module `linalg_mod.f90` provides utility functions for reading, writing, and generating arrays. This module likely supports the functionality required by the other programs you uploaded (`generate_array.f90` and `solve_equations.f90`). Here's a breakdown of its contents and functionalities:\n",
    "\n",
    "#### Module Structure and Functions\n",
    "\n",
    "1. **Module `linalg_mod`**\n",
    "   - Utilizes `iso_fortran_env` for standard environment definitions, such as `output_unit`, `error_unit`, and `DP` (double precision floating-point kind).\n",
    "\n",
    "2. **Functionality Exposed**\n",
    "   - `read_array`: Reads an array from a file whose dimensions and rank are defined by the inputs.\n",
    "   - `write_array`: Writes an array to a file or standard output, handling both vectors and matrices.\n",
    "   - `generate_random_array`: Fills an allocatable array with random numbers, based on the dimensions provided.\n",
    "\n",
    "3. **Detailed Function Descriptions**\n",
    "   - **`read_array`**:\n",
    "     - Takes a file name, an array (allocatable), and its expected dimensions.\n",
    "     - Checks if the rank of the array matches the number of dimensions provided.\n",
    "     - Depending on the rank, it calls `read_vector` or `read_matrix` to perform the read operation.\n",
    "     - Errors are managed by stopping the program if the ranks or dimensions do not match expectations.\n",
    "\n",
    "   - **`write_array`**:\n",
    "     - Accepts an array and an optional file name for output.\n",
    "     - Uses rank-specific procedures (`write_vector` or `write_matrix`) to handle the output based on the array's rank.\n",
    "     - If no file name is provided, the output is directed to the standard output (`output_unit`).\n",
    "\n",
    "   - **`generate_random_array`**:\n",
    "     - Designed to allocate and populate an array (either vector or matrix) with random numbers.\n",
    "     - Checks the allocation status and initializes the array with random numbers using the intrinsic `random_number` procedure.\n",
    "     - Manages errors related to mismatched ranks or failed allocations.\n",
    "\n",
    "#### Subroutines for Vector and Matrix Handling\n",
    "\n",
    "- **`read_vector` and `write_vector`**:\n",
    "  - Handle reading and writing operations for vectors, respectively.\n",
    "\n",
    "- **`read_matrix` and `write_matrix`**:\n",
    "  - Handle reading and writing operations for matrices, respectively.\n",
    "\n",
    "### Key Functionalities and Error Handling\n",
    "\n",
    "- The module is equipped to handle errors related to input/output operations and array manipulations, which is critical for robust numerical software.\n",
    "- Error messages are detailed, including specific issues like mismatched array ranks or failed memory allocations, which aids in debugging and user feedback.\n",
    "- Flexibility to output to either a file or standard output enhances the module's usability across different computational scenarios.\n",
    "\n",
    "### Usage\n",
    "\n",
    "This module is utilized by other programs for managing arrays, particularly in numerical computations involving linear algebra. It abstracts away the details of file I/O and array initialization, allowing other parts of the software to focus on core computational logic.\n",
    "\n",
    "Overall, `linalg_mod.f90` serves as a foundational component for array management in Fortran programs, providing essential services such as reading, writing, and generating arrays with a focus on error handling and user feedback."
   ]
  },
  {
   "cell_type": "markdown",
   "id": "7bd8b17a-62a7-4f45-aae3-eab802e356c3",
   "metadata": {},
   "source": [
    "## Program Code"
   ]
  },
  {
   "cell_type": "markdown",
   "id": "9b94f04f-d27a-4747-b999-055d489f9e6c",
   "metadata": {},
   "source": [
    "The individual program files are listed below:"
   ]
  },
  {
   "attachments": {},
   "cell_type": "markdown",
   "id": "ae43bd88",
   "metadata": {},
   "source": [
    "### In file linalg_mod.f90"
   ]
  },
  {
   "attachments": {},
   "cell_type": "markdown",
   "id": "49f81255",
   "metadata": {},
   "source": [
    "```{literalinclude} Fortran_Code/Section_BLAS_LAPACK_Linear_Equations/src/linalg_mod.f90\n",
    "---\n",
    "language: fortran\n",
    "---\n",
    "```"
   ]
  },
  {
   "attachments": {},
   "cell_type": "markdown",
   "id": "14ba03fa",
   "metadata": {},
   "source": [
    "### In file generate_array.f90"
   ]
  },
  {
   "attachments": {},
   "cell_type": "markdown",
   "id": "e4975f0c",
   "metadata": {},
   "source": [
    "```{literalinclude} Fortran_Code/Section_BLAS_LAPACK_Linear_Equations/app/generate_array.f90\n",
    "---\n",
    "language: fortran\n",
    "---\n",
    "```"
   ]
  },
  {
   "attachments": {},
   "cell_type": "markdown",
   "id": "924d2886",
   "metadata": {},
   "source": [
    "### In solve_equations.f90"
   ]
  },
  {
   "attachments": {},
   "cell_type": "markdown",
   "id": "a2705efc",
   "metadata": {},
   "source": [
    "```{literalinclude} Fortran_Code/Section_BLAS_LAPACK_Linear_Equations/app/solve_equations.f90\n",
    "---\n",
    "language: fortran\n",
    "---\n",
    "```"
   ]
  },
  {
   "attachments": {},
   "cell_type": "markdown",
   "id": "4c6b9985-c0cb-4602-8309-4e3369dd3226",
   "metadata": {},
   "source": [
    "The above programs are compiled and run using Fortran Package Manager (fpm):"
   ]
  },
  {
   "cell_type": "markdown",
   "id": "c6f9ed20",
   "metadata": {
    "tags": []
   },
   "source": [
    "## Build the Program using FPM (Fortran Package Manager)"
   ]
  },
  {
   "cell_type": "code",
   "execution_count": 1,
   "id": "f16472aa-c965-4bad-a218-fee33f7b456a",
   "metadata": {
    "execution": {
     "iopub.execute_input": "2024-05-05T04:19:52.669821Z",
     "iopub.status.busy": "2024-05-05T04:19:52.669274Z",
     "iopub.status.idle": "2024-05-05T04:19:52.676027Z",
     "shell.execute_reply": "2024-05-05T04:19:52.674933Z",
     "shell.execute_reply.started": "2024-05-05T04:19:52.669799Z"
    }
   },
   "outputs": [],
   "source": [
    "import os\n",
    "root_dir = \"\"\n",
    "root_dir = os.getcwd()"
   ]
  },
  {
   "attachments": {},
   "cell_type": "markdown",
   "id": "48d176ac",
   "metadata": {},
   "source": [
    "Since the code makes use of the LAPACK library, the following FPM configuration file (fpm.toml) was used:"
   ]
  },
  {
   "attachments": {},
   "cell_type": "markdown",
   "id": "48ce3430",
   "metadata": {},
   "source": [
    "```{literalinclude} Fortran_Code/Section_BLAS_LAPACK_Linear_Equations/fpm.toml\n",
    "---\n",
    "language: toml\n",
    "---\n",
    "```"
   ]
  },
  {
   "cell_type": "code",
   "execution_count": 2,
   "id": "f77f9126-86cc-4a1b-89b9-5ad5f61cf72c",
   "metadata": {
    "execution": {
     "iopub.execute_input": "2024-05-05T04:19:54.194828Z",
     "iopub.status.busy": "2024-05-05T04:19:54.194541Z",
     "iopub.status.idle": "2024-05-05T04:19:54.199912Z",
     "shell.execute_reply": "2024-05-05T04:19:54.198835Z",
     "shell.execute_reply.started": "2024-05-05T04:19:54.194807Z"
    },
    "tags": []
   },
   "outputs": [],
   "source": [
    "code_dir = root_dir + \"/\" + \"Fortran_Code/Section_BLAS_LAPACK_Linear_Equations\""
   ]
  },
  {
   "cell_type": "code",
   "execution_count": 3,
   "id": "c2eeda29-613f-48fd-904b-af9aef8813a2",
   "metadata": {
    "execution": {
     "iopub.execute_input": "2024-05-05T04:19:55.735289Z",
     "iopub.status.busy": "2024-05-05T04:19:55.734965Z",
     "iopub.status.idle": "2024-05-05T04:19:55.740517Z",
     "shell.execute_reply": "2024-05-05T04:19:55.739285Z",
     "shell.execute_reply.started": "2024-05-05T04:19:55.735266Z"
    }
   },
   "outputs": [],
   "source": [
    "os.chdir(code_dir)"
   ]
  },
  {
   "attachments": {},
   "cell_type": "markdown",
   "id": "2aac5422",
   "metadata": {},
   "source": [
    "The files *solve_equations.f90* and *generate_array.f90* were placed into the \"app\" folder, while the file *linalg_mod.f90* was placed into the \"src\" folder."
   ]
  },
  {
   "cell_type": "code",
   "execution_count": 4,
   "id": "0fbd7621-e800-4235-ab30-80560cc3e1a8",
   "metadata": {
    "execution": {
     "iopub.execute_input": "2024-05-05T04:19:57.845885Z",
     "iopub.status.busy": "2024-05-05T04:19:57.845447Z",
     "iopub.status.idle": "2024-05-05T04:19:57.892194Z",
     "shell.execute_reply": "2024-05-05T04:19:57.890874Z",
     "shell.execute_reply.started": "2024-05-05T04:19:57.845861Z"
    }
   },
   "outputs": [],
   "source": [
    "build_status = os.system(\"fpm build 2>/dev/null\")"
   ]
  },
  {
   "cell_type": "markdown",
   "id": "58b5102f",
   "metadata": {},
   "source": [
    "## Run the Program using FPM (Fortran Package Manager)"
   ]
  },
  {
   "attachments": {},
   "cell_type": "markdown",
   "id": "9d20b466",
   "metadata": {},
   "source": [
    "### Solve a Test Linear System of Two Equations"
   ]
  },
  {
   "attachments": {},
   "cell_type": "markdown",
   "id": "4caa25a1",
   "metadata": {},
   "source": [
    "As our first run, we wish to solve the following set of linear equations:"
   ]
  },
  {
   "attachments": {},
   "cell_type": "markdown",
   "id": "6d991660",
   "metadata": {},
   "source": [
    "$$\n",
    "\\begin{align*}\n",
    "2x+8y & = 20 \\\\\n",
    "x+2y  & = 4\n",
    "\\end{align*}\n",
    "$$"
   ]
  },
  {
   "attachments": {},
   "cell_type": "markdown",
   "id": "ea7ecd67",
   "metadata": {},
   "source": [
    "The variables in the equations are converted into components of the $\\mathbf{x}$ vector as shown below:"
   ]
  },
  {
   "attachments": {},
   "cell_type": "markdown",
   "id": "ae3c328f",
   "metadata": {},
   "source": [
    "$$\n",
    "\\begin{align*}\n",
    "2x_1+8x_2 & = 20 \\\\\n",
    "x_1+2x_2  & = 4\n",
    "\\end{align*}\n",
    "$$"
   ]
  },
  {
   "attachments": {},
   "cell_type": "markdown",
   "id": "f695caa4",
   "metadata": {},
   "source": [
    "These equations are converted into matrix form as shown below:"
   ]
  },
  {
   "attachments": {},
   "cell_type": "markdown",
   "id": "7853d826",
   "metadata": {},
   "source": [
    "$$\n",
    "\\begin{equation*}\n",
    "\\left[\n",
    "\\begin{array}{cc}\n",
    "2 & 8 \\\\\n",
    "1 & 2 \\\\\n",
    "\\end{array}\n",
    "\\right]\n",
    "\\left[\n",
    "\\begin{array}{c}\n",
    "x_1 \\\\\n",
    "x_2 \\\\\n",
    "\\end{array}\n",
    "\\right]\n",
    "=\n",
    "\\left[\n",
    "\\begin{array}{c}\n",
    "20 \\\\\n",
    "4 \\\\\n",
    "\\end{array}\n",
    "\\right]\n",
    "\\end{equation*}\n",
    "$$"
   ]
  },
  {
   "attachments": {},
   "cell_type": "markdown",
   "id": "196dd707",
   "metadata": {},
   "source": [
    "Therefore we have the following:"
   ]
  },
  {
   "attachments": {},
   "cell_type": "markdown",
   "id": "5d9ca029",
   "metadata": {},
   "source": [
    "$$\n",
    "\\mathbf{A} = \n",
    "\\left[\n",
    "\\begin{array}{cc}\n",
    "2 & 8 \\\\\n",
    "1 & 2 \n",
    "\\end{array}\n",
    "\\right]\n",
    "$$"
   ]
  },
  {
   "attachments": {},
   "cell_type": "markdown",
   "id": "3d169955",
   "metadata": {},
   "source": [
    "$$\n",
    "\\mathbf{x} = \n",
    "\\left[\n",
    "\\begin{array}{c}\n",
    "x_1 \\\\\n",
    "x_2  \n",
    "\\end{array}\n",
    "\\right]\n",
    "$$"
   ]
  },
  {
   "attachments": {},
   "cell_type": "markdown",
   "id": "066128e8",
   "metadata": {},
   "source": [
    "\n",
    "$$\n",
    "\\mathbf{b} = \n",
    "\\left[\n",
    "\\begin{array}{c}\n",
    "20 \\\\\n",
    "4  \n",
    "\\end{array}\n",
    "\\right]\n",
    "$$\n"
   ]
  },
  {
   "attachments": {},
   "cell_type": "markdown",
   "id": "5de8c65a",
   "metadata": {},
   "source": [
    "The matrix $\\mathbf{A}$ and the vector $\\mathbf{b}$ are written into text files as shown below:"
   ]
  },
  {
   "cell_type": "code",
   "execution_count": 5,
   "id": "1c01eb34",
   "metadata": {
    "execution": {
     "iopub.execute_input": "2024-05-05T04:20:07.136124Z",
     "iopub.status.busy": "2024-05-05T04:20:07.135790Z",
     "iopub.status.idle": "2024-05-05T04:20:07.143198Z",
     "shell.execute_reply": "2024-05-05T04:20:07.140928Z",
     "shell.execute_reply.started": "2024-05-05T04:20:07.136104Z"
    }
   },
   "outputs": [
    {
     "name": "stdout",
     "output_type": "stream",
     "text": [
      "Overwriting A_test1.txt\n"
     ]
    }
   ],
   "source": [
    "%%writefile A_test1.txt\n",
    "2 8\n",
    "1 2"
   ]
  },
  {
   "cell_type": "code",
   "execution_count": 6,
   "id": "249b8e0d",
   "metadata": {
    "execution": {
     "iopub.execute_input": "2024-05-05T04:20:08.086298Z",
     "iopub.status.busy": "2024-05-05T04:20:08.086028Z",
     "iopub.status.idle": "2024-05-05T04:20:08.115926Z",
     "shell.execute_reply": "2024-05-05T04:20:08.111169Z",
     "shell.execute_reply.started": "2024-05-05T04:20:08.086278Z"
    }
   },
   "outputs": [
    {
     "name": "stdout",
     "output_type": "stream",
     "text": [
      "Overwriting b_test1.txt\n"
     ]
    }
   ],
   "source": [
    "%%writefile b_test1.txt\n",
    "20\n",
    "4"
   ]
  },
  {
   "attachments": {},
   "cell_type": "markdown",
   "id": "638f5f18",
   "metadata": {},
   "source": [
    "The *solve_equations* program can now be run with the number of equations command line argument set to 2, and the files *A_test1.txt* and *b_test1.txt*"
   ]
  },
  {
   "cell_type": "code",
   "execution_count": 7,
   "id": "3176b27d-932e-47a1-8099-4fae064ec661",
   "metadata": {
    "execution": {
     "iopub.execute_input": "2024-05-05T04:20:12.697873Z",
     "iopub.status.busy": "2024-05-05T04:20:12.697542Z",
     "iopub.status.idle": "2024-05-05T04:20:12.798103Z",
     "shell.execute_reply": "2024-05-05T04:20:12.797223Z",
     "shell.execute_reply.started": "2024-05-05T04:20:12.697850Z"
    }
   },
   "outputs": [
    {
     "name": "stdout",
     "output_type": "stream",
     "text": [
      "         -2.000000000000000\n",
      "          3.000000000000000\n"
     ]
    }
   ],
   "source": [
    "exec_status = \\\n",
    "    os.system(\"fpm run solve_equations 2>/dev/null -- 2 A_test1.txt b_test1.txt\")"
   ]
  },
  {
   "attachments": {},
   "cell_type": "markdown",
   "id": "b307ea7e",
   "metadata": {},
   "source": [
    "The results are printed in scientfic notation and in the order of $x_1$, $x_2$."
   ]
  },
  {
   "attachments": {},
   "cell_type": "markdown",
   "id": "5cc87d92",
   "metadata": {},
   "source": [
    "We now wish to use Python's Numpy library to test these results:"
   ]
  },
  {
   "cell_type": "code",
   "execution_count": 8,
   "id": "3114a075",
   "metadata": {
    "execution": {
     "iopub.execute_input": "2024-05-05T04:20:16.439976Z",
     "iopub.status.busy": "2024-05-05T04:20:16.439669Z",
     "iopub.status.idle": "2024-05-05T04:20:16.449574Z",
     "shell.execute_reply": "2024-05-05T04:20:16.448315Z",
     "shell.execute_reply.started": "2024-05-05T04:20:16.439954Z"
    }
   },
   "outputs": [
    {
     "name": "stdout",
     "output_type": "stream",
     "text": [
      "x1 = -2.0\n",
      "x2 = 3.0\n"
     ]
    }
   ],
   "source": [
    "import numpy as np\n",
    "\n",
    "A = np.genfromtxt(\"A_test1.txt\")\n",
    "b = np.genfromtxt(\"b_test1.txt\")\n",
    "x = np.linalg.solve(A, b)\n",
    "print(\"x1 = {0:2.1f}\".format(x[0]))\n",
    "print(\"x2 = {0:2.1f}\".format(x[1]))"
   ]
  },
  {
   "attachments": {},
   "cell_type": "markdown",
   "id": "13e8131b",
   "metadata": {},
   "source": [
    "We can see that the Fortran code and Numpy produce the same results."
   ]
  },
  {
   "attachments": {},
   "cell_type": "markdown",
   "id": "3fb674dc",
   "metadata": {},
   "source": [
    "### Solve a Test Linear System of Equations of Arbitrary Size"
   ]
  },
  {
   "attachments": {},
   "cell_type": "markdown",
   "id": "d0419269",
   "metadata": {},
   "source": [
    "The Fortran code can be used to solve an arbitrarily large system of equations.  To test this functionality, we make use of the *generate_array.f90* program to generate arrays or matrices of arbitrary size filled with random numbers.\n",
    "\n",
    "As a start, we will use the *generate_array.f90* to generate a matrix file A_test2.txt that contains a 10x10 matrix."
   ]
  },
  {
   "cell_type": "code",
   "execution_count": 9,
   "id": "22de1ace",
   "metadata": {
    "execution": {
     "iopub.execute_input": "2024-05-05T04:20:19.650308Z",
     "iopub.status.busy": "2024-05-05T04:20:19.649857Z",
     "iopub.status.idle": "2024-05-05T04:20:19.691204Z",
     "shell.execute_reply": "2024-05-05T04:20:19.690285Z",
     "shell.execute_reply.started": "2024-05-05T04:20:19.650281Z"
    }
   },
   "outputs": [],
   "source": [
    "exec_status = os.system(\"fpm run generate_array 2>/dev/null -- 10 10 > A_test2.txt\") "
   ]
  },
  {
   "attachments": {},
   "cell_type": "markdown",
   "id": "ec2f4018",
   "metadata": {},
   "source": [
    "The $\\mathbf{A}$ matrix is shown below:"
   ]
  },
  {
   "cell_type": "code",
   "execution_count": 10,
   "id": "cd5fb348",
   "metadata": {
    "execution": {
     "iopub.execute_input": "2024-05-05T04:20:21.610247Z",
     "iopub.status.busy": "2024-05-05T04:20:21.609537Z",
     "iopub.status.idle": "2024-05-05T04:20:21.646148Z",
     "shell.execute_reply": "2024-05-05T04:20:21.641964Z",
     "shell.execute_reply.started": "2024-05-05T04:20:21.610223Z"
    }
   },
   "outputs": [
    {
     "data": {
      "text/html": [
       "<div>\n",
       "<style scoped>\n",
       "    .dataframe tbody tr th:only-of-type {\n",
       "        vertical-align: middle;\n",
       "    }\n",
       "\n",
       "    .dataframe tbody tr th {\n",
       "        vertical-align: top;\n",
       "    }\n",
       "\n",
       "    .dataframe thead th {\n",
       "        text-align: right;\n",
       "    }\n",
       "</style>\n",
       "<table border=\"1\" class=\"dataframe\">\n",
       "  <thead>\n",
       "    <tr style=\"text-align: right;\">\n",
       "      <th></th>\n",
       "      <th>0</th>\n",
       "      <th>1</th>\n",
       "      <th>2</th>\n",
       "      <th>3</th>\n",
       "      <th>4</th>\n",
       "      <th>5</th>\n",
       "      <th>6</th>\n",
       "      <th>7</th>\n",
       "      <th>8</th>\n",
       "      <th>9</th>\n",
       "    </tr>\n",
       "  </thead>\n",
       "  <tbody>\n",
       "    <tr>\n",
       "      <th>0</th>\n",
       "      <td>0.231881</td>\n",
       "      <td>0.224735</td>\n",
       "      <td>0.940890</td>\n",
       "      <td>0.839772</td>\n",
       "      <td>0.107850</td>\n",
       "      <td>0.253396</td>\n",
       "      <td>0.034549</td>\n",
       "      <td>0.090804</td>\n",
       "      <td>0.878374</td>\n",
       "      <td>0.063211</td>\n",
       "    </tr>\n",
       "    <tr>\n",
       "      <th>1</th>\n",
       "      <td>0.217384</td>\n",
       "      <td>0.580179</td>\n",
       "      <td>0.947205</td>\n",
       "      <td>0.753553</td>\n",
       "      <td>0.031057</td>\n",
       "      <td>0.752289</td>\n",
       "      <td>0.432489</td>\n",
       "      <td>0.350505</td>\n",
       "      <td>0.761701</td>\n",
       "      <td>0.679621</td>\n",
       "    </tr>\n",
       "    <tr>\n",
       "      <th>2</th>\n",
       "      <td>0.847354</td>\n",
       "      <td>0.704667</td>\n",
       "      <td>0.844039</td>\n",
       "      <td>0.799573</td>\n",
       "      <td>0.346590</td>\n",
       "      <td>0.526359</td>\n",
       "      <td>0.336583</td>\n",
       "      <td>0.691295</td>\n",
       "      <td>0.225961</td>\n",
       "      <td>0.534092</td>\n",
       "    </tr>\n",
       "    <tr>\n",
       "      <th>3</th>\n",
       "      <td>0.528730</td>\n",
       "      <td>0.084664</td>\n",
       "      <td>0.063896</td>\n",
       "      <td>0.516587</td>\n",
       "      <td>0.525722</td>\n",
       "      <td>0.782454</td>\n",
       "      <td>0.824814</td>\n",
       "      <td>0.697564</td>\n",
       "      <td>0.079712</td>\n",
       "      <td>0.086126</td>\n",
       "    </tr>\n",
       "    <tr>\n",
       "      <th>4</th>\n",
       "      <td>0.491231</td>\n",
       "      <td>0.900618</td>\n",
       "      <td>0.641910</td>\n",
       "      <td>0.851144</td>\n",
       "      <td>0.455506</td>\n",
       "      <td>0.625921</td>\n",
       "      <td>0.399938</td>\n",
       "      <td>0.658673</td>\n",
       "      <td>0.694518</td>\n",
       "      <td>0.003168</td>\n",
       "    </tr>\n",
       "    <tr>\n",
       "      <th>5</th>\n",
       "      <td>0.515378</td>\n",
       "      <td>0.552688</td>\n",
       "      <td>0.960681</td>\n",
       "      <td>0.932388</td>\n",
       "      <td>0.112611</td>\n",
       "      <td>0.036704</td>\n",
       "      <td>0.229438</td>\n",
       "      <td>0.408289</td>\n",
       "      <td>0.010820</td>\n",
       "      <td>0.197737</td>\n",
       "    </tr>\n",
       "    <tr>\n",
       "      <th>6</th>\n",
       "      <td>0.017810</td>\n",
       "      <td>0.072851</td>\n",
       "      <td>0.172264</td>\n",
       "      <td>0.627858</td>\n",
       "      <td>0.989993</td>\n",
       "      <td>0.859324</td>\n",
       "      <td>0.774557</td>\n",
       "      <td>0.607178</td>\n",
       "      <td>0.892918</td>\n",
       "      <td>0.862529</td>\n",
       "    </tr>\n",
       "    <tr>\n",
       "      <th>7</th>\n",
       "      <td>0.776959</td>\n",
       "      <td>0.097310</td>\n",
       "      <td>0.534678</td>\n",
       "      <td>0.857676</td>\n",
       "      <td>0.486515</td>\n",
       "      <td>0.439944</td>\n",
       "      <td>0.252270</td>\n",
       "      <td>0.564527</td>\n",
       "      <td>0.232126</td>\n",
       "      <td>0.608577</td>\n",
       "    </tr>\n",
       "    <tr>\n",
       "      <th>8</th>\n",
       "      <td>0.396415</td>\n",
       "      <td>0.941226</td>\n",
       "      <td>0.998837</td>\n",
       "      <td>0.276519</td>\n",
       "      <td>0.317670</td>\n",
       "      <td>0.087834</td>\n",
       "      <td>0.204389</td>\n",
       "      <td>0.400542</td>\n",
       "      <td>0.467099</td>\n",
       "      <td>0.711406</td>\n",
       "    </tr>\n",
       "    <tr>\n",
       "      <th>9</th>\n",
       "      <td>0.767424</td>\n",
       "      <td>0.847074</td>\n",
       "      <td>0.220408</td>\n",
       "      <td>0.546454</td>\n",
       "      <td>0.900786</td>\n",
       "      <td>0.642857</td>\n",
       "      <td>0.269771</td>\n",
       "      <td>0.818517</td>\n",
       "      <td>0.525927</td>\n",
       "      <td>0.995299</td>\n",
       "    </tr>\n",
       "  </tbody>\n",
       "</table>\n",
       "</div>"
      ],
      "text/plain": [
       "          0         1         2         3         4         5         6  \\\n",
       "0  0.231881  0.224735  0.940890  0.839772  0.107850  0.253396  0.034549   \n",
       "1  0.217384  0.580179  0.947205  0.753553  0.031057  0.752289  0.432489   \n",
       "2  0.847354  0.704667  0.844039  0.799573  0.346590  0.526359  0.336583   \n",
       "3  0.528730  0.084664  0.063896  0.516587  0.525722  0.782454  0.824814   \n",
       "4  0.491231  0.900618  0.641910  0.851144  0.455506  0.625921  0.399938   \n",
       "5  0.515378  0.552688  0.960681  0.932388  0.112611  0.036704  0.229438   \n",
       "6  0.017810  0.072851  0.172264  0.627858  0.989993  0.859324  0.774557   \n",
       "7  0.776959  0.097310  0.534678  0.857676  0.486515  0.439944  0.252270   \n",
       "8  0.396415  0.941226  0.998837  0.276519  0.317670  0.087834  0.204389   \n",
       "9  0.767424  0.847074  0.220408  0.546454  0.900786  0.642857  0.269771   \n",
       "\n",
       "          7         8         9  \n",
       "0  0.090804  0.878374  0.063211  \n",
       "1  0.350505  0.761701  0.679621  \n",
       "2  0.691295  0.225961  0.534092  \n",
       "3  0.697564  0.079712  0.086126  \n",
       "4  0.658673  0.694518  0.003168  \n",
       "5  0.408289  0.010820  0.197737  \n",
       "6  0.607178  0.892918  0.862529  \n",
       "7  0.564527  0.232126  0.608577  \n",
       "8  0.400542  0.467099  0.711406  \n",
       "9  0.818517  0.525927  0.995299  "
      ]
     },
     "execution_count": 10,
     "metadata": {},
     "output_type": "execute_result"
    }
   ],
   "source": [
    "import pandas as pd\n",
    "A = pd.read_table(\"A_test2.txt\", \n",
    "    header=None, \n",
    "    sep='\\s+')\n",
    "A"
   ]
  },
  {
   "attachments": {},
   "cell_type": "markdown",
   "id": "ce941462",
   "metadata": {},
   "source": [
    "And now we generate the $\\mathbf{b}$ vector:"
   ]
  },
  {
   "cell_type": "code",
   "execution_count": 11,
   "id": "38b6c712",
   "metadata": {
    "execution": {
     "iopub.execute_input": "2024-05-05T04:20:23.264901Z",
     "iopub.status.busy": "2024-05-05T04:20:23.264622Z",
     "iopub.status.idle": "2024-05-05T04:20:23.327229Z",
     "shell.execute_reply": "2024-05-05T04:20:23.326264Z",
     "shell.execute_reply.started": "2024-05-05T04:20:23.264881Z"
    }
   },
   "outputs": [],
   "source": [
    "exec_status = os.system(\"fpm run generate_array 2>/dev/null -- 10 > b_test2.txt\") "
   ]
  },
  {
   "attachments": {},
   "cell_type": "markdown",
   "id": "54dad84d",
   "metadata": {},
   "source": [
    "The $\\mathbf{b}$ vector is shown below:"
   ]
  },
  {
   "cell_type": "code",
   "execution_count": 12,
   "id": "fc631ba4",
   "metadata": {
    "execution": {
     "iopub.execute_input": "2024-05-05T04:20:25.426522Z",
     "iopub.status.busy": "2024-05-05T04:20:25.426174Z",
     "iopub.status.idle": "2024-05-05T04:20:25.436331Z",
     "shell.execute_reply": "2024-05-05T04:20:25.435560Z",
     "shell.execute_reply.started": "2024-05-05T04:20:25.426502Z"
    }
   },
   "outputs": [
    {
     "data": {
      "text/html": [
       "<div>\n",
       "<style scoped>\n",
       "    .dataframe tbody tr th:only-of-type {\n",
       "        vertical-align: middle;\n",
       "    }\n",
       "\n",
       "    .dataframe tbody tr th {\n",
       "        vertical-align: top;\n",
       "    }\n",
       "\n",
       "    .dataframe thead th {\n",
       "        text-align: right;\n",
       "    }\n",
       "</style>\n",
       "<table border=\"1\" class=\"dataframe\">\n",
       "  <thead>\n",
       "    <tr style=\"text-align: right;\">\n",
       "      <th></th>\n",
       "      <th>0</th>\n",
       "    </tr>\n",
       "  </thead>\n",
       "  <tbody>\n",
       "    <tr>\n",
       "      <th>0</th>\n",
       "      <td>0.547368</td>\n",
       "    </tr>\n",
       "    <tr>\n",
       "      <th>1</th>\n",
       "      <td>0.188753</td>\n",
       "    </tr>\n",
       "    <tr>\n",
       "      <th>2</th>\n",
       "      <td>0.360579</td>\n",
       "    </tr>\n",
       "    <tr>\n",
       "      <th>3</th>\n",
       "      <td>0.431927</td>\n",
       "    </tr>\n",
       "    <tr>\n",
       "      <th>4</th>\n",
       "      <td>0.673998</td>\n",
       "    </tr>\n",
       "    <tr>\n",
       "      <th>5</th>\n",
       "      <td>0.885278</td>\n",
       "    </tr>\n",
       "    <tr>\n",
       "      <th>6</th>\n",
       "      <td>0.578111</td>\n",
       "    </tr>\n",
       "    <tr>\n",
       "      <th>7</th>\n",
       "      <td>0.162533</td>\n",
       "    </tr>\n",
       "    <tr>\n",
       "      <th>8</th>\n",
       "      <td>0.512780</td>\n",
       "    </tr>\n",
       "    <tr>\n",
       "      <th>9</th>\n",
       "      <td>0.419971</td>\n",
       "    </tr>\n",
       "  </tbody>\n",
       "</table>\n",
       "</div>"
      ],
      "text/plain": [
       "          0\n",
       "0  0.547368\n",
       "1  0.188753\n",
       "2  0.360579\n",
       "3  0.431927\n",
       "4  0.673998\n",
       "5  0.885278\n",
       "6  0.578111\n",
       "7  0.162533\n",
       "8  0.512780\n",
       "9  0.419971"
      ]
     },
     "execution_count": 12,
     "metadata": {},
     "output_type": "execute_result"
    }
   ],
   "source": [
    "b = pd.read_table(\"b_test2.txt\", \n",
    "    header=None, \n",
    "    sep='\\s+')\n",
    "b"
   ]
  },
  {
   "attachments": {},
   "cell_type": "markdown",
   "id": "abcfe522",
   "metadata": {},
   "source": [
    "We now use the *solve_equation* Fortran code to solve this linear system of equations:"
   ]
  },
  {
   "cell_type": "code",
   "execution_count": 13,
   "id": "d22f4254",
   "metadata": {
    "execution": {
     "iopub.execute_input": "2024-05-05T04:20:27.546995Z",
     "iopub.status.busy": "2024-05-05T04:20:27.546600Z",
     "iopub.status.idle": "2024-05-05T04:20:27.602102Z",
     "shell.execute_reply": "2024-05-05T04:20:27.601297Z",
     "shell.execute_reply.started": "2024-05-05T04:20:27.546975Z"
    }
   },
   "outputs": [
    {
     "name": "stdout",
     "output_type": "stream",
     "text": [
      "          1.119032007319357\n",
      "          2.088738390676245\n",
      "          0.299891011039355\n",
      "          1.264642419542058\n",
      "          3.718772323115945\n",
      "          1.248192501462438\n",
      "          1.837647345886853\n",
      "         -7.556197620329637\n",
      "         -1.810347214503931\n",
      "         -0.478516612874785\n"
     ]
    }
   ],
   "source": [
    "exec_status = \\\n",
    "    os.system(\"fpm run solve_equations 2>/dev/null -- 10 A_test2.txt b_test2.txt\")"
   ]
  },
  {
   "attachments": {},
   "cell_type": "markdown",
   "id": "8e0b8fac",
   "metadata": {},
   "source": [
    "And the results are compared to the output of Numpy:"
   ]
  },
  {
   "cell_type": "code",
   "execution_count": 14,
   "id": "b5b50489",
   "metadata": {
    "execution": {
     "iopub.execute_input": "2024-05-05T04:20:29.578093Z",
     "iopub.status.busy": "2024-05-05T04:20:29.577819Z",
     "iopub.status.idle": "2024-05-05T04:20:29.586649Z",
     "shell.execute_reply": "2024-05-05T04:20:29.585329Z",
     "shell.execute_reply.started": "2024-05-05T04:20:29.578074Z"
    }
   },
   "outputs": [
    {
     "name": "stdout",
     "output_type": "stream",
     "text": [
      "x1 = 1.119032\n",
      "x2 = 2.088738\n",
      "x3 = 0.299891\n",
      "x4 = 1.264642\n",
      "x5 = 3.718772\n",
      "x6 = 1.248193\n",
      "x7 = 1.837647\n",
      "x8 = -7.556198\n",
      "x9 = -1.810347\n",
      "x10 = -0.478517\n"
     ]
    }
   ],
   "source": [
    "A = np.genfromtxt(\"A_test2.txt\")\n",
    "b = np.genfromtxt(\"b_test2.txt\")\n",
    "x = np.linalg.solve(A, b)\n",
    "\n",
    "for i in range(len(x)):\n",
    "    print (\"x{0:d} = {1:2.6f}\".format(i+1, x[i]))"
   ]
  },
  {
   "attachments": {},
   "cell_type": "markdown",
   "id": "c5eb8ac6",
   "metadata": {},
   "source": [
    "Again, we see that the results are the same."
   ]
  }
 ],
 "metadata": {
  "kernelspec": {
   "display_name": "Python 3 (ipykernel)",
   "language": "python",
   "name": "python3"
  },
  "language_info": {
   "codemirror_mode": {
    "name": "ipython",
    "version": 3
   },
   "file_extension": ".py",
   "mimetype": "text/x-python",
   "name": "python",
   "nbconvert_exporter": "python",
   "pygments_lexer": "ipython3",
   "version": "3.10.14"
  },
  "vscode": {
   "interpreter": {
    "hash": "1c7edbfe09241e3ab70fdbaa9340a6c53382c0b8a91b6341e8f1e4440b6e3c70"
   }
  }
 },
 "nbformat": 4,
 "nbformat_minor": 5
}