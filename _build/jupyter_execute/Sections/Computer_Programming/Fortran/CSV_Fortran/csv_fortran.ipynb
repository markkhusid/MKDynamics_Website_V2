{
 "cells": [
  {
   "cell_type": "markdown",
   "metadata": {},
   "source": [
    "# CSV Fortran Module"
   ]
  },
  {
   "cell_type": "markdown",
   "metadata": {},
   "source": [
    "The CSV Fortran module is a simple module that provides subroutines to read and write CSV files. The module is written in Fortran 2008 and is designed to be easy to use. The module is available on GitHub at [https://github.com/jacobwilliams/csv-fortran](https://github.com/jacobwilliams/csv-fortran)"
   ]
  },
  {
   "cell_type": "markdown",
   "metadata": {},
   "source": [
    "## Introduction\n",
    "In this tutorial, we will learn how to use the CSV Fortran module to read and write CSV files. We will start by downloading the module from GitHub and then we will write a simple Fortran program that uses the module to read and write a CSV file."
   ]
  },
  {
   "cell_type": "markdown",
   "metadata": {},
   "source": [
    "## Using the CSV Fortran Module\n",
    "According to the module's GitHub page, the Fortran Package Manager (FPM) can be used to build projects that use the CSV Fortran module. The mdoule can be used by adding the following line to the `fpm.toml` file:\n",
    "\n",
    "```toml\n",
    "[dependencies]\n",
    "csv-fortran = { git=\"https://github.com/jacobwilliams/csv-fortran.git\" }\n",
    "```\n",
    "\n",
    "We will first try to build the given example programs that come with the module. The example programs are showcased in the documentation for the CSV Fortran module, which is available at the following link: [CSV Fortran Module Documentation](https://jacobwilliams.github.io/csv-fortran/)"
   ]
  },
  {
   "cell_type": "markdown",
   "metadata": {},
   "source": []
  },
  {
   "cell_type": "markdown",
   "metadata": {},
   "source": [
    "## Example Programs"
   ]
  },
  {
   "cell_type": "markdown",
   "metadata": {},
   "source": [
    "### Writing a CSV File"
   ]
  },
  {
   "cell_type": "markdown",
   "metadata": {},
   "source": [
    "The following example program writes a CSV file named `test.csv`:"
   ]
  },
  {
   "cell_type": "markdown",
   "metadata": {},
   "source": [
    "```fortran\n",
    "program csv_write_test\n",
    "\n",
    "    use csv_module\n",
    "    use iso_fortran_env, only: wp => real64\n",
    "\n",
    "    implicit none\n",
    "\n",
    "    type(csv_file) :: f\n",
    "    logical :: status_ok\n",
    "\n",
    "    ! set optional inputs:\n",
    "    call f%initialize(verbose = .true.)\n",
    "\n",
    "    ! open the file\n",
    "    call f%open('test.csv',n_cols=4,status_ok=status_ok)\n",
    "\n",
    "    ! add header\n",
    "    call f%add(['x','y','z','t'])\n",
    "    call f%next_row()\n",
    "\n",
    "    ! add some data:\n",
    "    call f%add([1.0_wp,2.0_wp,3.0_wp],real_fmt='(F5.3)')\n",
    "    call f%add(.true.)\n",
    "    call f%next_row()\n",
    "    call f%add([4.0_wp,5.0_wp,6.0_wp],real_fmt='(F5.3)')\n",
    "    call f%add(.false.)\n",
    "    call f%next_row()\n",
    "\n",
    "    ! finished\n",
    "    call f%close(status_ok)\n",
    "\n",
    "end program csv_write_test\n",
    "```"
   ]
  },
  {
   "cell_type": "markdown",
   "metadata": {},
   "source": [
    "The program writes a CSV file named `test.csv` with the following contents:\n",
    "\n",
    "```bash\n",
    "x,y,z,t\n",
    "1.000,2.000,3.000,T\n",
    "4.000,5.000,6.000,F\n",
    "```"
   ]
  },
  {
   "cell_type": "markdown",
   "metadata": {},
   "source": []
  }
 ],
 "metadata": {
  "kernelspec": {
   "display_name": "Python 3.11",
   "language": "python",
   "name": "py311_env"
  },
  "language_info": {
   "codemirror_mode": {
    "name": "ipython",
    "version": 3
   },
   "file_extension": ".py",
   "mimetype": "text/x-python",
   "name": "python",
   "nbconvert_exporter": "python",
   "pygments_lexer": "ipython3",
   "version": "3.10.16"
  }
 },
 "nbformat": 4,
 "nbformat_minor": 2
}