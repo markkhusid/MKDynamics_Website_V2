{
 "cells": [
  {
   "cell_type": "raw",
   "metadata": {},
   "source": [
    "---\n",
    "jupytext:\n",
    "  formats: md:myst\n",
    "  text_representation:\n",
    "    extension: .md\n",
    "    format_name: myst\n",
    "kernelspec:\n",
    "  display_name: Python 3\n",
    "  language: python\n",
    "  name: python3\n",
    "---"
   ]
  },
  {
   "cell_type": "markdown",
   "metadata": {},
   "source": [
    "# Section: Read CSV Files"
   ]
  },
  {
   "cell_type": "markdown",
   "metadata": {},
   "source": [
    "In this section, we will read CSV files in Fortran using the CSV_Fortran Module.  The CSV_Fortran Module is a Fortran module that provides a simple interface for reading and writing CSV files.  The module is available at [https://github.com/jacobwilliams/csv-fortran](https://github.com/jacobwilliams/csv-fortran).  Documentation for the module is available at [https://jacobwilliams.github.io/csv-fortran/](https://jacobwilliams.github.io/csv-fortran/)."
   ]
  },
  {
   "cell_type": "markdown",
   "metadata": {},
   "source": [
    "## Example Programs"
   ]
  },
  {
   "cell_type": "markdown",
   "metadata": {},
   "source": [
    "In the documentation for the CSV_Fortran Module, there are several example programs that demonstrate how to read and write CSV files.  We will use the example programs to demonstrate how to read CSV files in Fortran."
   ]
  },
  {
   "cell_type": "markdown",
   "metadata": {},
   "source": [
    "### Reading a CSV File"
   ]
  },
  {
   "cell_type": "markdown",
   "metadata": {},
   "source": [
    "The following example program reads a CSV file named `test.csv`:"
   ]
  },
  {
   "cell_type": "markdown",
   "metadata": {},
   "source": [
    "```{literalinclude} Fortran_Code/Section_CSV_Fortran_Read_CSV/app/section_csv_fortran_read_csv.f90\n",
    "---\n",
    "language: fortran\n",
    "---\n",
    "```"
   ]
  },
  {
   "cell_type": "markdown",
   "metadata": {},
   "source": [
    "The program reads a CSV file named `test.csv` with the following contents:\n",
    "\n",
    "```bash\n",
    "x,y,z,t\n",
    "1.000,2.000,3.000,T\n",
    "4.000,5.000,6.000,F\n",
    "```"
   ]
  },
  {
   "cell_type": "markdown",
   "metadata": {},
   "source": [
    "## Building the Example Program using FPM (Fortran Package Manager)"
   ]
  },
  {
   "cell_type": "markdown",
   "metadata": {},
   "source": [
    "### TOML File"
   ]
  },
  {
   "cell_type": "markdown",
   "metadata": {},
   "source": [
    "The above program was compiled using the Fortran Package Manager (FPM).  The following is the `fpm.toml` file used to build the program:\n"
   ]
  },
  {
   "cell_type": "markdown",
   "metadata": {},
   "source": [
    "```{literalinclude} Fortran_Code/Section_CSV_Fortran_Read_CSV/fpm.toml\n",
    "---\n",
    "language: toml\n",
    "---\n",
    "```"
   ]
  },
  {
   "cell_type": "markdown",
   "metadata": {},
   "source": [
    "### Build the Program"
   ]
  },
  {
   "cell_type": "code",
   "execution_count": 1,
   "metadata": {},
   "outputs": [],
   "source": [
    "import os\n",
    "root_dir = \"\"\n",
    "root_dir = os.getcwd()"
   ]
  },
  {
   "cell_type": "code",
   "execution_count": 2,
   "metadata": {},
   "outputs": [],
   "source": [
    "code_dir = root_dir + \"/\" + \"Fortran_Code/Section_CSV_Fortran_Read_CSV\""
   ]
  },
  {
   "cell_type": "code",
   "execution_count": 3,
   "metadata": {},
   "outputs": [],
   "source": [
    "os.chdir(code_dir)"
   ]
  },
  {
   "cell_type": "code",
   "execution_count": 4,
   "metadata": {},
   "outputs": [],
   "source": [
    "build_status = os.system(\"fpm build 2>/dev/null\")"
   ]
  },
  {
   "cell_type": "markdown",
   "metadata": {},
   "source": [
    "### Display the CSV File"
   ]
  },
  {
   "cell_type": "code",
   "execution_count": 5,
   "metadata": {},
   "outputs": [
    {
     "name": "stdout",
     "output_type": "stream",
     "text": [
      "\"x\",\"y\",\"z\",\"t\"\n",
      "1.000,2.000,3.000,T\n",
      "4.000,5.000,6.000,F\n"
     ]
    }
   ],
   "source": [
    "!cat test.csv"
   ]
  },
  {
   "cell_type": "markdown",
   "metadata": {},
   "source": [
    "### Run the Program"
   ]
  },
  {
   "cell_type": "markdown",
   "metadata": {},
   "source": [
    "The program is then run:\n"
   ]
  },
  {
   "cell_type": "code",
   "execution_count": 6,
   "metadata": {},
   "outputs": [
    {
     "name": "stdout",
     "output_type": "stream",
     "text": [
      " Print out the size, shape and contents of the header\n",
      "size =   4\n",
      "shape =   4\n",
      " header = x    y    z    t    \n",
      "\n",
      " Print out the types\n",
      " types =            2           2           2           4\n",
      "\n",
      " Print out the data that was read one at a time\n",
      " x =    1.0000000000000000        4.0000000000000000     \n",
      " y =    2.0000000000000000        5.0000000000000000     \n",
      " z =    3.0000000000000000        6.0000000000000000     \n",
      " t =  T F\n",
      "\n",
      " Print out the size, dimensions and contents of the table data read all at once\n",
      "table size =   8\n",
      "# of rows =   2\n",
      "# of columns =   4\n",
      "\n",
      " Printing out the table data directly from the variable...\n",
      " table_data = 1.000                         4.000                         2.000                         5.000                         3.000                         6.000                         T                             F                             \n",
      " Using loop to print the table data...\n",
      " 1.000                         2.000                         3.000                         T                             \n",
      " 4.000                         5.000                         6.000                         F                             \n",
      "\n",
      " Converting the table data from strings to floats...\n",
      "\n",
      " Printing out the table data as floats using a loop\n",
      "   1.0000000000000000        2.0000000000000000        3.0000000000000000     \n",
      "   4.0000000000000000        5.0000000000000000        6.0000000000000000     \n"
     ]
    }
   ],
   "source": [
    "exec_status = \\\n",
    "    os.system(\"fpm run 2>/dev/null\")"
   ]
  }
 ],
 "metadata": {
  "kernelspec": {
   "display_name": "Python 3.11",
   "language": "python",
   "name": "py311_env"
  },
  "language_info": {
   "codemirror_mode": {
    "name": "ipython",
    "version": 3
   },
   "file_extension": ".py",
   "mimetype": "text/x-python",
   "name": "python",
   "nbconvert_exporter": "python",
   "pygments_lexer": "ipython3",
   "version": "3.10.16"
  }
 },
 "nbformat": 4,
 "nbformat_minor": 2
}