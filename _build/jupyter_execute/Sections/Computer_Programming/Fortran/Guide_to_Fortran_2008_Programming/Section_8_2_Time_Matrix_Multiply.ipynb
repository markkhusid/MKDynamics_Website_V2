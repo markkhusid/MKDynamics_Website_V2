{
 "cells": [
  {
   "cell_type": "raw",
   "id": "c40b648f-a44a-4480-bbee-93e7a780f45b",
   "metadata": {},
   "source": [
    "---\n",
    "jupytext:\n",
    "  formats: md:myst\n",
    "  text_representation:\n",
    "    extension: .md\n",
    "    format_name: myst\n",
    "kernelspec:\n",
    "  display_name: Python 3\n",
    "  language: python\n",
    "  name: python3\n",
    "---"
   ]
  },
  {
   "cell_type": "markdown",
   "id": "fc63b62e-3ea6-4588-8b6e-f845bbc6d64c",
   "metadata": {
    "tags": []
   },
   "source": [
    "# Section 8.2: Time Matrix Multiply"
   ]
  },
  {
   "cell_type": "markdown",
   "id": "edfc7d7e-9803-4b96-82f1-bc0d47385f43",
   "metadata": {},
   "source": [
    "Adapted from: \"Guide to Fortran 2008 Programming\" by Walter S. Brainerd (Springer 2015)"
   ]
  },
  {
   "cell_type": "markdown",
   "id": "59ec1bec-3fd7-4061-aa24-c7765d25786f",
   "metadata": {},
   "source": [
    "## Program to demonstrate the performance improvement of using matmul over do loops."
   ]
  },
  {
   "cell_type": "markdown",
   "id": "c36821c7-3b26-404c-8a7c-2f978dfb65d4",
   "metadata": {},
   "source": [
    "```fortran\n",
    "program time_matrix_multiply\n",
    "\n",
    "    ! Compare times of the matmul intrinsic cs DO loops\n",
    "\n",
    "    implicit none\n",
    "    integer, parameter :: n = 10\n",
    "    real, dimension (n, n) :: a, b, c1, c2\n",
    "    character(len=8) :: date\n",
    "    real :: start_time_1, stop_time_1, start_time_2, stop_time_2\n",
    "    real :: total_time_1, total_time_2\n",
    "    integer :: i, j, k\n",
    "    character(len=*), parameter :: form = \"(t2, a, f0.10, a)\"\n",
    "\n",
    "    ! Get date to print on report\n",
    "\n",
    "    call date_and_time(date = date)\n",
    "\n",
    "    print *, \"Timing report dated: \" // date(1:4) &\n",
    "        // \"-\" // date(5:6) // \"-\" // date(7:8)\n",
    "\n",
    "    call random_seed()\n",
    "    call random_number(a)\n",
    "    call random_number(b)\n",
    "    call cpu_time(start_time_1)\n",
    "   \n",
    "    ! Lines below added for effect\n",
    "    ! The matrices of random values will be printed to the screen\n",
    "    write (*, \"(a)\") \"Matrix A\"\n",
    "    write (*, \"(10f10.3)\") (a(i,:), i=1,n)\n",
    "\n",
    "    print *\n",
    "    write (*, \"(a)\") \"Matrix B\"\n",
    "    write (*, \"(10f10.3)\") (b(i,:), i=1,n)\n",
    "\n",
    "    c1 = 0\n",
    "\n",
    "    do k = 1, n\n",
    "        do j = 1, n\n",
    "            do i = 1, n\n",
    "                c1(i, j) = c1(i, j) + a(i, k) * b(k, j)\n",
    "            end do\n",
    "        end do\n",
    "    end do\n",
    "\n",
    "    call cpu_time(stop_time_1)\n",
    "\n",
    "    total_time_1 = stop_time_1 - start_time_1\n",
    "\n",
    "    print *\n",
    "\n",
    "    write (*, \"(a)\") \"Matrix C1 is AxB using loops.\"\n",
    "    write (*, \"(10f10.3)\") (c1(i,:), i=1,n)\n",
    "\n",
    "    call cpu_time(start_time_2)\n",
    "    c2 = matmul(a, b)\n",
    "    call cpu_time(stop_time_2)\n",
    "\n",
    "    total_time_2 = stop_time_2 - start_time_2\n",
    "\n",
    "    print *\n",
    "\n",
    "    write (*, \"(a)\") \"Matrix C2 is AxB using matmul.\"\n",
    "    write (*, \"(10f10.3)\") (c1(i,:), i=1,n)\n",
    "\n",
    "    print *\n",
    "\n",
    "    write (*, form) \"Time of Do loop version is: \", total_time_1, \" seconds.\"\n",
    "    write (*, form) \"Time of matmul version is: \", total_time_2, \" seconds.\"\n",
    "\n",
    "    print *\n",
    "\n",
    "    if (any(abs(c1-c2) > 1.0e-4)) then\n",
    "        write (*,  \"(a)\") \"There are significantly different values between the matrices.\"\n",
    "    else\n",
    "        write (*,  \"(a)\") \"The results are approximately the same.\"\n",
    "    end if\n",
    "\n",
    "    print *\n",
    "    write (*, \"(a, f10.3, a)\") \"The speedup ratio is: \", total_time_1/total_time_2, \"x\"\n",
    "\n",
    "end program time_matrix_multiply\n",
    "```"
   ]
  },
  {
   "cell_type": "markdown",
   "id": "4c6b9985-c0cb-4602-8309-4e3369dd3226",
   "metadata": {},
   "source": [
    "The above program is compiled and run using Fortran Package Manager (fpm):"
   ]
  },
  {
   "cell_type": "code",
   "execution_count": 1,
   "id": "e8ba1050-b7b1-4e9e-87bf-28791145e5e7",
   "metadata": {},
   "outputs": [],
   "source": [
    "import os\n",
    "root_dir = os.getcwd()"
   ]
  },
  {
   "cell_type": "code",
   "execution_count": 2,
   "id": "bdaf795d-554a-46e6-b4da-faeb331e1b13",
   "metadata": {},
   "outputs": [],
   "source": [
    "code_dir = root_dir + \"/\" + \"Fortran_Code/Section_8_2_Time_Matrix_Multiply\""
   ]
  },
  {
   "cell_type": "code",
   "execution_count": 3,
   "id": "a7d9f1b1-ba0d-4db1-84ef-7a358f0453a6",
   "metadata": {},
   "outputs": [],
   "source": [
    "os.chdir(code_dir)"
   ]
  },
  {
   "cell_type": "code",
   "execution_count": 4,
   "id": "0fbd7621-e800-4235-ab30-80560cc3e1a8",
   "metadata": {},
   "outputs": [],
   "source": [
    "build_status = os.system(\"fpm build 2>/dev/null\")"
   ]
  },
  {
   "cell_type": "code",
   "execution_count": 5,
   "id": "0483d40b-e849-4574-bcbe-003c81a96dd5",
   "metadata": {},
   "outputs": [
    {
     "name": "stdout",
     "output_type": "stream",
     "text": [
      " Timing report dated: 2024-06-01\n",
      "Matrix A\n",
      "     0.095     0.728     0.235     0.275     0.257     0.970     0.987     0.816     0.530     0.996\n",
      "     0.109     0.846     0.831     0.394     0.208     0.912     0.196     0.273     0.018     0.064\n",
      "     0.637     0.325     0.000     0.517     0.019     0.508     0.945     0.635     0.953     0.677\n",
      "     0.563     0.123     0.924     0.795     0.129     0.137     0.483     0.203     0.679     0.681\n",
      "     0.172     0.753     0.421     0.840     0.333     0.002     0.049     0.217     0.197     0.999\n",
      "     0.682     0.561     0.433     0.807     0.470     0.535     0.025     0.341     0.138     0.133\n",
      "     0.237     0.143     0.486     0.741     0.617     0.407     0.183     0.537     0.637     0.610\n",
      "     0.862     0.167     0.762     0.622     0.541     0.983     0.118     0.315     0.050     0.995\n",
      "     0.029     0.567     0.452     0.348     0.287     0.127     0.959     0.819     0.970     0.311\n",
      "     0.176     0.670     0.684     0.799     0.581     0.061     0.734     0.508     0.605     0.797\n",
      "\n",
      "Matrix B\n",
      "     0.275     0.799     0.126     0.478     0.252     0.759     0.478     0.384     0.888     0.208\n",
      "     0.888     0.860     0.385     0.336     0.537     0.266     0.439     0.694     0.996     0.797\n",
      "     0.195     0.743     0.463     0.998     0.747     0.457     0.877     0.544     0.667     0.376\n",
      "     0.759     0.839     0.567     0.562     0.352     0.538     0.660     0.496     0.161     0.905\n",
      "     0.539     0.824     0.970     0.614     0.326     0.170     0.891     0.906     0.374     0.000\n",
      "     0.604     0.750     0.883     0.834     0.421     0.890     0.370     0.984     0.434     0.972\n",
      "     0.900     0.022     0.860     0.366     0.890     0.485     0.118     0.131     0.665     0.205\n",
      "     0.693     0.458     0.721     0.625     0.425     0.367     0.599     0.684     0.117     0.862\n",
      "     0.477     0.998     0.916     0.534     0.851     0.422     0.618     0.266     0.193     0.832\n",
      "     0.418     0.284     0.659     0.484     0.052     0.137     0.309     0.029     0.986     0.111\n",
      "\n",
      "Matrix C1 is AxB using loops.\n",
      "     3.774     3.254     4.241     3.283     2.908     2.565     2.582     2.851     3.363     3.338\n",
      "     2.306     2.784     2.377     2.559     2.002     1.958     2.153     2.582     2.260     2.550\n",
      "     3.201     3.075     3.556     2.721     2.696     2.489     2.285     2.075     2.755     2.963\n",
      "     2.383     3.093     2.875     2.869     2.407     2.142     2.633     1.853     2.622     2.331\n",
      "     2.321     2.658     2.344     2.176     1.523     1.357     2.200     1.774     2.524     2.028\n",
      "     2.339     3.147     2.369     2.495     1.751     2.068     2.435     2.517     2.205     2.431\n",
      "     2.522     3.168     3.217     2.819     2.098     1.943     2.717     2.360     2.112     2.511\n",
      "     2.655     3.583     3.299     3.479     2.019     2.678     2.951     2.900     3.275     2.566\n",
      "     3.117     2.923     3.527     2.665     2.962     1.945     2.491     2.161     2.337     2.811\n",
      "     3.367     3.498     3.744     3.144     2.837     2.114     3.057     2.516     3.102     2.791\n",
      "\n",
      "Matrix C2 is AxB using matmul.\n",
      "     3.774     3.254     4.241     3.283     2.908     2.565     2.582     2.851     3.363     3.338\n",
      "     2.306     2.784     2.377     2.559     2.002     1.958     2.153     2.582     2.260     2.550\n",
      "     3.201     3.075     3.556     2.721     2.696     2.489     2.285     2.075     2.755     2.963\n",
      "     2.383     3.093     2.875     2.869     2.407     2.142     2.633     1.853     2.622     2.331\n",
      "     2.321     2.658     2.344     2.176     1.523     1.357     2.200     1.774     2.524     2.028\n",
      "     2.339     3.147     2.369     2.495     1.751     2.068     2.435     2.517     2.205     2.431\n",
      "     2.522     3.168     3.217     2.819     2.098     1.943     2.717     2.360     2.112     2.511\n",
      "     2.655     3.583     3.299     3.479     2.019     2.678     2.951     2.900     3.275     2.566\n",
      "     3.117     2.923     3.527     2.665     2.962     1.945     2.491     2.161     2.337     2.811\n",
      "     3.367     3.498     3.744     3.144     2.837     2.114     3.057     2.516     3.102     2.791\n",
      "\n",
      " Time of Do loop version is: .0002130000 seconds.\n",
      " Time of matmul version is: .0000280000 seconds.\n",
      "\n",
      "The results are approximately the same.\n",
      "\n",
      "The speedup ratio is:      7.607x\n"
     ]
    }
   ],
   "source": [
    "exec_status = os.system(\"fpm run 2>/dev/null\")"
   ]
  }
 ],
 "metadata": {
  "kernelspec": {
   "display_name": "Python 3.9.2 64-bit",
   "language": "python",
   "name": "python3"
  },
  "language_info": {
   "codemirror_mode": {
    "name": "ipython",
    "version": 3
   },
   "file_extension": ".py",
   "mimetype": "text/x-python",
   "name": "python",
   "nbconvert_exporter": "python",
   "pygments_lexer": "ipython3",
   "version": "3.10.14"
  },
  "vscode": {
   "interpreter": {
    "hash": "916dbcbb3f70747c44a77c7bcd40155683ae19c65e1c03b4aa3499c5328201f1"
   }
  }
 },
 "nbformat": 4,
 "nbformat_minor": 5
}