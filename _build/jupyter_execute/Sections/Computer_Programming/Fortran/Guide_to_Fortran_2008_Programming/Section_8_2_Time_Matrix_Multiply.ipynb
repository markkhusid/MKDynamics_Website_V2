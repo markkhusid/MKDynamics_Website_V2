{
 "cells": [
  {
   "cell_type": "raw",
   "id": "c40b648f-a44a-4480-bbee-93e7a780f45b",
   "metadata": {},
   "source": [
    "---\n",
    "jupytext:\n",
    "  formats: md:myst\n",
    "  text_representation:\n",
    "    extension: .md\n",
    "    format_name: myst\n",
    "kernelspec:\n",
    "  display_name: Python 3\n",
    "  language: python\n",
    "  name: python3\n",
    "---"
   ]
  },
  {
   "cell_type": "markdown",
   "id": "fc63b62e-3ea6-4588-8b6e-f845bbc6d64c",
   "metadata": {
    "tags": []
   },
   "source": [
    "# Section 8.2: Time Matrix Multiply"
   ]
  },
  {
   "cell_type": "markdown",
   "id": "edfc7d7e-9803-4b96-82f1-bc0d47385f43",
   "metadata": {},
   "source": [
    "Adapted from: \"Guide to Fortran 2008 Programming\" by Walter S. Brainerd (Springer 2015)"
   ]
  },
  {
   "cell_type": "markdown",
   "id": "59ec1bec-3fd7-4061-aa24-c7765d25786f",
   "metadata": {},
   "source": [
    "## Program to demonstrate the performance improvement of using matmul over do loops."
   ]
  },
  {
   "cell_type": "markdown",
   "id": "c36821c7-3b26-404c-8a7c-2f978dfb65d4",
   "metadata": {},
   "source": [
    "```fortran\n",
    "program time_matrix_multiply\n",
    "\n",
    "    ! Compare times of the matmul intrinsic cs DO loops\n",
    "\n",
    "    implicit none\n",
    "    integer, parameter :: n = 10\n",
    "    real, dimension (n, n) :: a, b, c1, c2\n",
    "    character(len=8) :: date\n",
    "    real :: start_time_1, stop_time_1, start_time_2, stop_time_2\n",
    "    real :: total_time_1, total_time_2\n",
    "    integer :: i, j, k\n",
    "    character(len=*), parameter :: form = \"(t2, a, f0.10, a)\"\n",
    "\n",
    "    ! Get date to print on report\n",
    "\n",
    "    call date_and_time(date = date)\n",
    "\n",
    "    print *, \"Timing report dated: \" // date(1:4) &\n",
    "        // \"-\" // date(5:6) // \"-\" // date(7:8)\n",
    "\n",
    "    call random_seed()\n",
    "    call random_number(a)\n",
    "    call random_number(b)\n",
    "    call cpu_time(start_time_1)\n",
    "   \n",
    "    ! Lines below added for effect\n",
    "    ! The matrices of random values will be printed to the screen\n",
    "    write (*, \"(a)\") \"Matrix A\"\n",
    "    write (*, \"(10f10.3)\") (a(i,:), i=1,n)\n",
    "\n",
    "    print *\n",
    "    write (*, \"(a)\") \"Matrix B\"\n",
    "    write (*, \"(10f10.3)\") (b(i,:), i=1,n)\n",
    "\n",
    "    c1 = 0\n",
    "\n",
    "    do k = 1, n\n",
    "        do j = 1, n\n",
    "            do i = 1, n\n",
    "                c1(i, j) = c1(i, j) + a(i, k) * b(k, j)\n",
    "            end do\n",
    "        end do\n",
    "    end do\n",
    "\n",
    "    call cpu_time(stop_time_1)\n",
    "\n",
    "    total_time_1 = stop_time_1 - start_time_1\n",
    "\n",
    "    print *\n",
    "\n",
    "    write (*, \"(a)\") \"Matrix C1 is AxB using loops.\"\n",
    "    write (*, \"(10f10.3)\") (c1(i,:), i=1,n)\n",
    "\n",
    "    call cpu_time(start_time_2)\n",
    "    c2 = matmul(a, b)\n",
    "    call cpu_time(stop_time_2)\n",
    "\n",
    "    total_time_2 = stop_time_2 - start_time_2\n",
    "\n",
    "    print *\n",
    "\n",
    "    write (*, \"(a)\") \"Matrix C2 is AxB using matmul.\"\n",
    "    write (*, \"(10f10.3)\") (c1(i,:), i=1,n)\n",
    "\n",
    "    print *\n",
    "\n",
    "    write (*, form) \"Time of Do loop version is: \", total_time_1, \" seconds.\"\n",
    "    write (*, form) \"Time of matmul version is: \", total_time_2, \" seconds.\"\n",
    "\n",
    "    print *\n",
    "\n",
    "    if (any(abs(c1-c2) > 1.0e-4)) then\n",
    "        write (*,  \"(a)\") \"There are significantly different values between the matrices.\"\n",
    "    else\n",
    "        write (*,  \"(a)\") \"The results are approximately the same.\"\n",
    "    end if\n",
    "\n",
    "    print *\n",
    "    write (*, \"(a, f10.3, a)\") \"The speedup ratio is: \", total_time_1/total_time_2, \"x\"\n",
    "\n",
    "end program time_matrix_multiply\n",
    "```"
   ]
  },
  {
   "cell_type": "markdown",
   "id": "4c6b9985-c0cb-4602-8309-4e3369dd3226",
   "metadata": {},
   "source": [
    "The above program is compiled and run using Fortran Package Manager (fpm):"
   ]
  },
  {
   "cell_type": "code",
   "execution_count": 1,
   "id": "e8ba1050-b7b1-4e9e-87bf-28791145e5e7",
   "metadata": {},
   "outputs": [],
   "source": [
    "import os\n",
    "root_dir = os.getcwd()"
   ]
  },
  {
   "cell_type": "code",
   "execution_count": 2,
   "id": "bdaf795d-554a-46e6-b4da-faeb331e1b13",
   "metadata": {},
   "outputs": [],
   "source": [
    "code_dir = root_dir + \"/\" + \"Fortran_Code/Section_8_2_Time_Matrix_Multiply\""
   ]
  },
  {
   "cell_type": "code",
   "execution_count": 3,
   "id": "a7d9f1b1-ba0d-4db1-84ef-7a358f0453a6",
   "metadata": {},
   "outputs": [],
   "source": [
    "os.chdir(code_dir)"
   ]
  },
  {
   "cell_type": "code",
   "execution_count": 4,
   "id": "0fbd7621-e800-4235-ab30-80560cc3e1a8",
   "metadata": {},
   "outputs": [],
   "source": [
    "build_status = os.system(\"fpm build 2>/dev/null\")"
   ]
  },
  {
   "cell_type": "code",
   "execution_count": 5,
   "id": "0483d40b-e849-4574-bcbe-003c81a96dd5",
   "metadata": {},
   "outputs": [
    {
     "name": "stdout",
     "output_type": "stream",
     "text": [
      " Timing report dated: 2024-05-20\n",
      "Matrix A\n",
      "     0.786     0.594     0.054     0.293     0.902     0.629     0.089     0.615     0.940     0.456\n",
      "     0.620     0.982     0.630     0.728     0.896     0.708     0.639     0.578     0.380     0.809\n",
      "     0.500     0.027     0.194     0.514     0.581     0.066     0.717     0.243     0.072     0.470\n",
      "     0.391     0.516     0.142     0.482     0.144     0.227     0.336     0.495     0.405     0.976\n",
      "     0.039     0.061     0.425     0.400     0.221     0.740     0.941     0.597     0.971     0.475\n",
      "     0.816     0.264     0.799     0.312     0.920     0.599     0.497     0.504     0.839     0.810\n",
      "     0.831     0.503     0.802     0.544     0.656     0.988     0.595     0.600     0.060     0.279\n",
      "     0.807     0.988     0.494     0.544     0.957     0.579     0.724     0.485     0.017     0.626\n",
      "     0.537     0.293     0.738     0.453     0.711     0.631     0.317     0.853     0.588     0.137\n",
      "     0.221     0.399     0.999     0.733     0.021     0.364     0.421     0.577     0.971     0.497\n",
      "\n",
      "Matrix B\n",
      "     0.060     0.194     0.944     0.546     0.556     0.466     0.620     0.145     0.309     0.235\n",
      "     0.961     0.889     0.986     0.648     0.560     0.670     0.166     0.285     0.678     0.951\n",
      "     0.424     0.333     0.307     0.130     0.644     0.332     0.681     0.615     0.547     0.004\n",
      "     0.007     0.722     0.029     0.089     0.498     0.742     0.614     0.898     0.200     0.330\n",
      "     0.090     0.081     0.454     0.568     0.910     0.169     0.629     0.377     0.428     0.279\n",
      "     0.372     0.183     0.683     0.803     0.596     0.639     0.736     0.325     0.363     0.686\n",
      "     0.006     0.466     0.929     0.728     0.979     0.392     0.222     0.467     0.072     0.406\n",
      "     0.276     0.156     0.074     0.595     0.991     0.560     0.588     0.630     0.221     0.006\n",
      "     0.318     0.610     0.419     0.677     0.845     0.479     0.397     0.367     0.005     0.323\n",
      "     0.471     0.686     0.638     0.386     0.561     0.890     0.024     0.280     0.300     0.848\n",
      "\n",
      "Matrix C1 is AxB using loops.\n",
      "     1.642     2.120     3.004     3.107     3.893     2.789     2.599     2.025     1.632     2.260\n",
      "     2.262     3.105     3.969     3.577     4.874     3.776     3.160     3.008     2.407     3.129\n",
      "     0.535     1.354     1.896     1.641     2.509     1.707     1.518     1.547     0.901     1.235\n",
      "     1.408     2.133     2.298     2.064     2.815     2.574     1.529     1.743     1.218     2.036\n",
      "     1.242     2.094     2.473     2.752     3.771     2.598     2.210     2.272     1.077     1.872\n",
      "     1.740     2.445     3.478     3.293     4.614     3.191     3.063     2.590     1.936     2.379\n",
      "     1.624     2.101     3.316     3.038     4.103     2.984     3.135     2.571     2.045     2.218\n",
      "     1.951     2.628     3.848     3.270     4.362     3.258     2.830     2.564     2.266     2.808\n",
      "     1.418     1.843     2.480     2.720     3.916     2.557     2.883     2.434     1.648     1.628\n",
      "     1.667     2.546     2.346     2.378     3.675     2.877     2.445     2.600     1.486     1.842\n",
      "\n",
      "Matrix C2 is AxB using matmul.\n",
      "     1.642     2.120     3.004     3.107     3.893     2.789     2.599     2.025     1.632     2.260\n",
      "     2.262     3.105     3.969     3.577     4.874     3.776     3.160     3.008     2.407     3.129\n",
      "     0.535     1.354     1.896     1.641     2.509     1.707     1.518     1.547     0.901     1.235\n",
      "     1.408     2.133     2.298     2.064     2.815     2.574     1.529     1.743     1.218     2.036\n",
      "     1.242     2.094     2.473     2.752     3.771     2.598     2.210     2.272     1.077     1.872\n",
      "     1.740     2.445     3.478     3.293     4.614     3.191     3.063     2.590     1.936     2.379\n",
      "     1.624     2.101     3.316     3.038     4.103     2.984     3.135     2.571     2.045     2.218\n",
      "     1.951     2.628     3.848     3.270     4.362     3.258     2.830     2.564     2.266     2.808\n",
      "     1.418     1.843     2.480     2.720     3.916     2.557     2.883     2.434     1.648     1.628\n",
      "     1.667     2.546     2.346     2.378     3.675     2.877     2.445     2.600     1.486     1.842\n",
      "\n",
      " Time of Do loop version is: .0000819999 seconds.\n",
      " Time of matmul version is: .0000080001 seconds.\n",
      "\n",
      "The results are approximately the same.\n",
      "\n",
      "The speedup ratio is:     10.250x\n"
     ]
    }
   ],
   "source": [
    "exec_status = os.system(\"fpm run 2>/dev/null\")"
   ]
  }
 ],
 "metadata": {
  "kernelspec": {
   "display_name": "Python 3.9.2 64-bit",
   "language": "python",
   "name": "python3"
  },
  "language_info": {
   "codemirror_mode": {
    "name": "ipython",
    "version": 3
   },
   "file_extension": ".py",
   "mimetype": "text/x-python",
   "name": "python",
   "nbconvert_exporter": "python",
   "pygments_lexer": "ipython3",
   "version": "3.10.14"
  },
  "vscode": {
   "interpreter": {
    "hash": "916dbcbb3f70747c44a77c7bcd40155683ae19c65e1c03b4aa3499c5328201f1"
   }
  }
 },
 "nbformat": 4,
 "nbformat_minor": 5
}