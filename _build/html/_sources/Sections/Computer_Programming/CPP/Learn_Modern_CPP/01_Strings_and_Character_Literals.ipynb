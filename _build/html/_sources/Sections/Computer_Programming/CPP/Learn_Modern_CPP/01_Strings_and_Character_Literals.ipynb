{
 "cells": [
  {
   "cell_type": "raw",
   "id": "0606896e",
   "metadata": {
    "vscode": {
     "languageId": "raw"
    }
   },
   "source": [
    "---\n",
    "jupytext:\n",
    "  formats: md:myst\n",
    "  text_representation:\n",
    "    extension: .md\n",
    "    format_name: myst\n",
    "kernelspec:\n",
    "  display_name: Python 3\n",
    "  language: python\n",
    "  name: python3\n",
    "---"
   ]
  },
  {
   "cell_type": "markdown",
   "id": "d73bcc9e",
   "metadata": {},
   "source": [
    "# Strings and Character Literals"
   ]
  },
  {
   "cell_type": "markdown",
   "id": "c0c28b10",
   "metadata": {},
   "source": [
    "Adapted from: \"Learn Modern C++\" by cpptutor: [Learn Modern C++: String and Character Literals](learnmoderncpp.com/string-and-character-literals/)"
   ]
  },
  {
   "cell_type": "markdown",
   "id": "44335137",
   "metadata": {},
   "source": [
    "## Program that demostrates printing a line of text to the console"
   ]
  },
  {
   "cell_type": "markdown",
   "id": "b1ca3905",
   "metadata": {},
   "source": [
    "```c++\n",
    "// 01-hellow.cpp : prints a line of text to the console\n",
    "\n",
    "#include <print>\n",
    "using namespace std;\n",
    "\n",
    "int main()\n",
    "{\n",
    "    println(\"Hello, World!\"); // prints \"Hello, World!\" to the console\n",
    "}\n",
    "```"
   ]
  },
  {
   "cell_type": "markdown",
   "id": "01509724",
   "metadata": {},
   "source": [
    "## Explanation of the Above Code"
   ]
  },
  {
   "cell_type": "markdown",
   "id": "a5bcf8fa",
   "metadata": {},
   "source": [
    "The above program is compiled and run using clang-18 in a Docker container.  This is done so that the installation of a C++23 compiler is not required.  The Docker container is based on the Ubuntu 22.04 image and includes clang-18, which supports C++23 features.<br><br>\n",
    "\n",
    "The program uses the `print` library, which is a C++ library that provides a simple way to print formatted output to the console.  The `println` function is used to print a line of text followed by a newline character.  The `using namespace std;` statement allows us to use the standard library functions without prefixing them with `std::`.<br><br>\n",
    "\n",
    "The `#include <print>` directive includes the `print` library, which is necessary for using the `println` function.  The `main` function is the entry point of the program, and it returns an integer value to indicate the success or failure of the program.  In this case, it returns 0 to indicate success.<br><br>\n",
    "\n",
    "The program is a simple example of how to print a line of text to the console in C++.  It demonstrates the basic syntax and structure of a C++ program, including the use of header files, namespaces, and functions.  The program can be compiled and run using clang to produce the desired output.<br><br>"
   ]
  },
  {
   "cell_type": "markdown",
   "id": "41a71bdf",
   "metadata": {},
   "source": [
    "## Compile and Run Code"
   ]
  },
  {
   "cell_type": "markdown",
   "id": "63b3e22c",
   "metadata": {},
   "source": [
    "### Use Python to Change to Working Directory"
   ]
  },
  {
   "cell_type": "code",
   "execution_count": 1,
   "id": "0953b4bb",
   "metadata": {},
   "outputs": [],
   "source": [
    "import os\n",
    "root_dir = os.getcwd()"
   ]
  },
  {
   "cell_type": "code",
   "execution_count": 2,
   "id": "29e530ce",
   "metadata": {},
   "outputs": [],
   "source": [
    "code_dir = root_dir + \"/\" + \"Cpp_Code/01_String_and_Character_Literals\""
   ]
  },
  {
   "cell_type": "code",
   "execution_count": 3,
   "id": "e8b71b20",
   "metadata": {},
   "outputs": [],
   "source": [
    "os.chdir(code_dir)"
   ]
  },
  {
   "cell_type": "code",
   "execution_count": 4,
   "id": "ce9012ec",
   "metadata": {},
   "outputs": [
    {
     "name": "stdout",
     "output_type": "stream",
     "text": [
      "01-hellow  01-hellow.cpp  test.cpp\n"
     ]
    }
   ],
   "source": [
    "!dir"
   ]
  },
  {
   "cell_type": "markdown",
   "id": "ec11151d",
   "metadata": {},
   "source": [
    "### Use Docker to Compile the Code in a C++23 Environment"
   ]
  },
  {
   "cell_type": "code",
   "execution_count": 5,
   "id": "28fe2a4c",
   "metadata": {},
   "outputs": [],
   "source": [
    "!docker run --rm -v $(pwd):/app cpp23-clang18:latest clang++-18 -std=c++23 -stdlib=libc++ /app/01-hellow.cpp -o /app/01-hellow"
   ]
  },
  {
   "cell_type": "markdown",
   "id": "b259da21",
   "metadata": {},
   "source": [
    "### Use Docker to Run Executable in a C++23 Environment"
   ]
  },
  {
   "cell_type": "code",
   "execution_count": 6,
   "id": "7efe5733",
   "metadata": {},
   "outputs": [
    {
     "name": "stdout",
     "output_type": "stream",
     "text": [
      "Hello, World!\n"
     ]
    }
   ],
   "source": [
    "!docker run --rm -v $(pwd):/app cpp23-clang18:latest ./01-hellow"
   ]
  }
 ],
 "metadata": {
  "kernelspec": {
   "display_name": "Python 3.11",
   "language": "python",
   "name": "py311_env"
  },
  "language_info": {
   "codemirror_mode": {
    "name": "ipython",
    "version": 3
   },
   "file_extension": ".py",
   "mimetype": "text/x-python",
   "name": "python",
   "nbconvert_exporter": "python",
   "pygments_lexer": "ipython3",
   "version": "3.10.16"
  }
 },
 "nbformat": 4,
 "nbformat_minor": 5
}
