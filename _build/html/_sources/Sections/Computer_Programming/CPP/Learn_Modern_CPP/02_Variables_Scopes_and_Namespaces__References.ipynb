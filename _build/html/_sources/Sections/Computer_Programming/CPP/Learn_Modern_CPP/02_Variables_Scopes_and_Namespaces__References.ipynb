{
 "cells": [
  {
   "cell_type": "raw",
   "id": "0606896e",
   "metadata": {
    "vscode": {
     "languageId": "raw"
    }
   },
   "source": [
    "---\n",
    "jupytext:\n",
    "  formats: md:myst\n",
    "  text_representation:\n",
    "    extension: .md\n",
    "    format_name: myst\n",
    "kernelspec:\n",
    "  display_name: Python 3\n",
    "  language: python\n",
    "  name: python3\n",
    "---"
   ]
  },
  {
   "cell_type": "markdown",
   "id": "d73bcc9e",
   "metadata": {},
   "source": [
    "# Variables, Scopes and Namespaces: References"
   ]
  },
  {
   "cell_type": "markdown",
   "id": "c0c28b10",
   "metadata": {},
   "source": [
    "Adapted from: \"Learn Modern C++\" by cpptutor: [Learn Modern C++: Variables, Scopes and Namespaces](https://learnmoderncpp.com/variables-scopes-and-namespaces/)"
   ]
  },
  {
   "cell_type": "markdown",
   "id": "44335137",
   "metadata": {},
   "source": [
    "## Program that Demonstrates References"
   ]
  },
  {
   "cell_type": "markdown",
   "id": "b1ca3905",
   "metadata": {},
   "source": [
    "```c++\n",
    "// 02-references.cpp : introducing l-value references\n",
    " \n",
    "#include <print>\n",
    "using namespace std;\n",
    " \n",
    "int alice_age{ 9 };\n",
    " \n",
    "int main() {\n",
    "    println(\"Alice\\'s age is {}\", alice_age);\n",
    "    int& alice_age_ref = alice_age;\n",
    "    alice_age_ref = 10;\n",
    "    println(\"Alice\\'s age is now {}\", alice_age);\n",
    "}\n",
    "```"
   ]
  },
  {
   "cell_type": "markdown",
   "id": "01509724",
   "metadata": {},
   "source": [
    "## Explanation of the Above Code"
   ]
  },
  {
   "cell_type": "markdown",
   "id": "a5bcf8fa",
   "metadata": {},
   "source": [
    "This C++ code demonstrates the concept of **l-value references** and how they can be used to modify variables indirectly.\n",
    "\n",
    "### Code Breakdown:\n",
    "\n",
    "1. **Header Inclusion**:\n",
    "   ```cpp\n",
    "   #include <print>\n",
    "   ```\n",
    "   - The `<print>` header is part of the **C++23 standard library**. It provides the `println` function, which allows formatted output similar to Python's `print` function.\n",
    "\n",
    "2. **Namespace**:\n",
    "   ```cpp\n",
    "   using namespace std;\n",
    "   ```\n",
    "   - This allows the program to use standard library features (like `println`) without needing to prefix them with `std::`.\n",
    "\n",
    "3. **Variable Declaration**:\n",
    "   ```cpp\n",
    "   int alice_age{ 9 };\n",
    "   ```\n",
    "   - A variable `alice_age` of type `int` is declared and initialized with the value `9`.\n",
    "\n",
    "4. **Main Function**:\n",
    "   ```cpp\n",
    "   int main() {\n",
    "       println(\"Alice's age is {}\", alice_age);\n",
    "       int& alice_age_ref = alice_age;\n",
    "       alice_age_ref = 10;\n",
    "       println(\"Alice's age is now {}\", alice_age);\n",
    "   }\n",
    "   ```\n",
    "   - **Formatted Output**:\n",
    "     - The first `println` statement outputs the initial value of `alice_age` (9).\n",
    "   - **Reference Declaration**:\n",
    "     ```cpp\n",
    "     int& alice_age_ref = alice_age;\n",
    "     ```\n",
    "     - `alice_age_ref` is declared as a reference to `alice_age`. This means `alice_age_ref` is an alias for `alice_age` and refers to the same memory location.\n",
    "   - **Modification via Reference**:\n",
    "     ```cpp\n",
    "     alice_age_ref = 10;\n",
    "     ```\n",
    "     - The value of `alice_age` is updated to `10` through the reference `alice_age_ref`.\n",
    "   - **Final Output**:\n",
    "     - The second `println` statement outputs the updated value of `alice_age` (10).\n",
    "\n",
    "### Key Concepts:\n",
    "- **L-value Reference**:\n",
    "  - An l-value reference (`int&`) allows you to create an alias for an existing variable. Any changes made to the reference directly affect the original variable.\n",
    "- **Formatted Output**:\n",
    "  - The `println` function uses `{}` as placeholders for variables, similar to Python's `f-strings`.\n",
    "\n",
    "### Output:\n",
    "When executed, the program will produce the following output:\n",
    "```\n",
    "Alice's age is 9\n",
    "Alice's age is now 10\n",
    "```"
   ]
  },
  {
   "cell_type": "markdown",
   "id": "41a71bdf",
   "metadata": {},
   "source": [
    "## Compile and Run Code"
   ]
  },
  {
   "cell_type": "markdown",
   "id": "63b3e22c",
   "metadata": {},
   "source": [
    "### Use Python to Change to Working Directory"
   ]
  },
  {
   "cell_type": "code",
   "execution_count": 1,
   "id": "0953b4bb",
   "metadata": {},
   "outputs": [],
   "source": [
    "import os\n",
    "root_dir = os.getcwd()"
   ]
  },
  {
   "cell_type": "code",
   "execution_count": 2,
   "id": "29e530ce",
   "metadata": {},
   "outputs": [],
   "source": [
    "code_dir = root_dir + \"/\" + \"Cpp_Code/02_Variables_Scopes_and_Namespaces\""
   ]
  },
  {
   "cell_type": "code",
   "execution_count": 3,
   "id": "e8b71b20",
   "metadata": {},
   "outputs": [],
   "source": [
    "os.chdir(code_dir)"
   ]
  },
  {
   "cell_type": "markdown",
   "id": "ec11151d",
   "metadata": {},
   "source": [
    "### Use Docker to Compile the Code in a C++23 Environment"
   ]
  },
  {
   "cell_type": "code",
   "execution_count": 4,
   "id": "28fe2a4c",
   "metadata": {},
   "outputs": [],
   "source": [
    "!docker run --rm -v $(pwd):/app cpp23-clang18:latest clang++-18 -std=c++23 -stdlib=libc++ /app/02-references.cpp -o /app/02-references"
   ]
  },
  {
   "cell_type": "markdown",
   "id": "b259da21",
   "metadata": {},
   "source": [
    "### Use Docker to Run Executable in a C++23 Environment"
   ]
  },
  {
   "cell_type": "code",
   "execution_count": 5,
   "id": "7efe5733",
   "metadata": {},
   "outputs": [
    {
     "name": "stdout",
     "output_type": "stream",
     "text": [
      "Alice's age is 9\n",
      "Alice's age is now 10\n"
     ]
    }
   ],
   "source": [
    "!docker run --rm -v $(pwd):/app cpp23-clang18:latest ./02-references"
   ]
  }
 ],
 "metadata": {
  "kernelspec": {
   "display_name": "Python 3.11",
   "language": "python",
   "name": "py311_env"
  },
  "language_info": {
   "codemirror_mode": {
    "name": "ipython",
    "version": 3
   },
   "file_extension": ".py",
   "mimetype": "text/x-python",
   "name": "python",
   "nbconvert_exporter": "python",
   "pygments_lexer": "ipython3",
   "version": "3.10.16"
  }
 },
 "nbformat": 4,
 "nbformat_minor": 5
}
