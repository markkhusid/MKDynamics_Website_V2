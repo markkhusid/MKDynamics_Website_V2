{
 "cells": [
  {
   "cell_type": "raw",
   "id": "0606896e",
   "metadata": {
    "vscode": {
     "languageId": "raw"
    }
   },
   "source": [
    "---\n",
    "jupytext:\n",
    "  formats: md:myst\n",
    "  text_representation:\n",
    "    extension: .md\n",
    "    format_name: myst\n",
    "kernelspec:\n",
    "  display_name: Python 3\n",
    "  language: python\n",
    "  name: python3\n",
    "---"
   ]
  },
  {
   "cell_type": "markdown",
   "id": "d73bcc9e",
   "metadata": {},
   "source": [
    "# Variables, Scopes and Namespaces: Scopes"
   ]
  },
  {
   "cell_type": "markdown",
   "id": "c0c28b10",
   "metadata": {},
   "source": [
    "Adapted from: \"Learn Modern C++\" by cpptutor: [Learn Modern C++: Variables, Scopes and Namespaces](https://learnmoderncpp.com/variables-scopes-and-namespaces/)"
   ]
  },
  {
   "cell_type": "markdown",
   "id": "44335137",
   "metadata": {},
   "source": [
    "## Program that Demonstrates Scopes"
   ]
  },
  {
   "cell_type": "markdown",
   "id": "b1ca3905",
   "metadata": {},
   "source": [
    "```c++\n",
    "// 02-scopes.cpp : define three variables with the same name in one program\n",
    " \n",
    "#include <print>\n",
    "using namespace std;\n",
    " \n",
    "auto a{ 1.5f };\n",
    " \n",
    "int main() {\n",
    "    println(\"(1) {}\", a);\n",
    "    auto a{ 2u };\n",
    "    println(\"(2) {}\", a);\n",
    "    {\n",
    "        auto a{ 2.5 };\n",
    "        println(\"(3) {}\", a);\n",
    "    }\n",
    "}\n",
    "```"
   ]
  },
  {
   "cell_type": "markdown",
   "id": "01509724",
   "metadata": {},
   "source": [
    "## Explanation of the Above Code"
   ]
  },
  {
   "cell_type": "markdown",
   "id": "a5bcf8fa",
   "metadata": {},
   "source": [
    "This C++ code demonstrates the concept of variable scopes by defining three variables with the same name (`a`) in different scopes. Here's an explanation:\n",
    "\n",
    "### Code Breakdown:\n",
    "\n",
    "```cpp\n",
    "#include <print>\n",
    "using namespace std;\n",
    "```\n",
    "- The `<print>` header is used for formatted output (similar to `std::format` in C++20). It allows the use of `println` for printing formatted strings.\n",
    "- `using namespace std;` allows direct access to standard library functions without prefixing them with `std::`.\n",
    "\n",
    "```cpp\n",
    "auto a{ 1.5f };\n",
    "```\n",
    "- A global variable `a` is defined with a value of `1.5f` (a floating-point literal). This variable is accessible throughout the program unless shadowed by a local variable.\n",
    "\n",
    "```cpp\n",
    "int main() {\n",
    "    println(\"(1) {}\", a);\n",
    "```\n",
    "- Inside the `main` function, the global variable `a` is accessed and printed. The output will be:\n",
    "  ```\n",
    "  (1) 1.5\n",
    "  ```\n",
    "\n",
    "```cpp\n",
    "    auto a{ 2u };\n",
    "    println(\"(2) {}\", a);\n",
    "```\n",
    "- A local variable `a` is defined within the `main` function, shadowing the global variable `a`. This local variable is an unsigned integer (`2u`).\n",
    "- The local `a` is printed, and the output will be:\n",
    "  ```\n",
    "  (2) 2\n",
    "  ```\n",
    "\n",
    "```cpp\n",
    "    {\n",
    "        auto a{ 2.5 };\n",
    "        println(\"(3) {}\", a);\n",
    "    }\n",
    "```\n",
    "- A new block scope is introduced with `{}`. Inside this block, another local variable `a` is defined, shadowing the `a` from the outer scope. This variable is a double (`2.5`).\n",
    "- The innermost `a` is printed, and the output will be:\n",
    "  ```\n",
    "  (3) 2.5\n",
    "  ```\n",
    "\n",
    "### Key Concepts:\n",
    "1. **Global Scope**: The first `a` is defined globally and is accessible unless shadowed by a local variable.\n",
    "2. **Local Scope**: The second `a` is defined within the `main` function, shadowing the global `a`.\n",
    "3. **Block Scope**: The third `a` is defined within a block inside `main`, shadowing the `a` from the `main` function.\n",
    "\n",
    "### Output:\n",
    "The program will produce the following output:\n",
    "```\n",
    "(1) 1.5\n",
    "(2) 2\n",
    "(3) 2.5\n",
    "```\n",
    "\n",
    "This demonstrates how variables with the same name can coexist in different scopes without conflict, as each scope has its own \"view\" of the variable.\n",
    "\n"
   ]
  },
  {
   "cell_type": "markdown",
   "id": "41a71bdf",
   "metadata": {},
   "source": [
    "## Compile and Run Code"
   ]
  },
  {
   "cell_type": "markdown",
   "id": "63b3e22c",
   "metadata": {},
   "source": [
    "### Use Python to Change to Working Directory"
   ]
  },
  {
   "cell_type": "code",
   "execution_count": 1,
   "id": "0953b4bb",
   "metadata": {},
   "outputs": [],
   "source": [
    "import os\n",
    "root_dir = os.getcwd()"
   ]
  },
  {
   "cell_type": "code",
   "execution_count": 2,
   "id": "29e530ce",
   "metadata": {},
   "outputs": [],
   "source": [
    "code_dir = root_dir + \"/\" + \"Cpp_Code/02_Variables_Scopes_and_Namespaces\""
   ]
  },
  {
   "cell_type": "code",
   "execution_count": 3,
   "id": "e8b71b20",
   "metadata": {},
   "outputs": [],
   "source": [
    "os.chdir(code_dir)"
   ]
  },
  {
   "cell_type": "markdown",
   "id": "ec11151d",
   "metadata": {},
   "source": [
    "### Use Docker to Compile the Code in a C++23 Environment"
   ]
  },
  {
   "cell_type": "code",
   "execution_count": 5,
   "id": "28fe2a4c",
   "metadata": {},
   "outputs": [],
   "source": [
    "!docker run --rm -v $(pwd):/app cpp23-clang18:latest clang++-18 -std=c++23 -stdlib=libc++ /app/02-scopes.cpp -o /app/02-scopes"
   ]
  },
  {
   "cell_type": "markdown",
   "id": "b259da21",
   "metadata": {},
   "source": [
    "### Use Docker to Run Executable in a C++23 Environment"
   ]
  },
  {
   "cell_type": "code",
   "execution_count": 6,
   "id": "7efe5733",
   "metadata": {},
   "outputs": [
    {
     "name": "stdout",
     "output_type": "stream",
     "text": [
      "(1) 1.5\n",
      "(2) 2\n",
      "(3) 2.5\n"
     ]
    }
   ],
   "source": [
    "!docker run --rm -v $(pwd):/app cpp23-clang18:latest ./02-scopes"
   ]
  }
 ],
 "metadata": {
  "kernelspec": {
   "display_name": "Python 3.11",
   "language": "python",
   "name": "py311_env"
  },
  "language_info": {
   "codemirror_mode": {
    "name": "ipython",
    "version": 3
   },
   "file_extension": ".py",
   "mimetype": "text/x-python",
   "name": "python",
   "nbconvert_exporter": "python",
   "pygments_lexer": "ipython3",
   "version": "3.10.16"
  }
 },
 "nbformat": 4,
 "nbformat_minor": 5
}
