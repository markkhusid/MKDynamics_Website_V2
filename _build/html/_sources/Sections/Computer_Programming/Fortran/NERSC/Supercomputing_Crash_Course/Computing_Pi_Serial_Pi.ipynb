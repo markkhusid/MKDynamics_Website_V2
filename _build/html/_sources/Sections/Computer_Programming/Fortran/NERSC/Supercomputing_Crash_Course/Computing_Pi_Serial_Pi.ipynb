{
 "cells": [
  {
   "cell_type": "raw",
   "id": "c40b648f-a44a-4480-bbee-93e7a780f45b",
   "metadata": {},
   "source": [
    "---\n",
    "jupytext:\n",
    "  formats: md:myst\n",
    "  text_representation:\n",
    "    extension: .md\n",
    "    format_name: myst\n",
    "kernelspec:\n",
    "  display_name: Python 3\n",
    "  language: python\n",
    "  name: python3\n",
    "---"
   ]
  },
  {
   "cell_type": "markdown",
   "id": "fc63b62e-3ea6-4588-8b6e-f845bbc6d64c",
   "metadata": {
    "tags": []
   },
   "source": [
    "# Crash Course in Supercomputing: Compute Pi in a Serial Fashion\n"
   ]
  },
  {
   "cell_type": "markdown",
   "id": "edfc7d7e-9803-4b96-82f1-bc0d47385f43",
   "metadata": {},
   "source": [
    "Adapted from: https://github.com/NERSC/crash-course-supercomputing/tree/main/darts-suite/fortran"
   ]
  },
  {
   "cell_type": "markdown",
   "id": "59ec1bec-3fd7-4061-aa24-c7765d25786f",
   "metadata": {},
   "source": [
    "## This program demonstrates computing $\\pi$ in Fortran using the Monte Carlo method in a Serial Fashion:"
   ]
  },
  {
   "attachments": {},
   "cell_type": "markdown",
   "id": "ae43bd88",
   "metadata": {},
   "source": [
    "### In file computing_pi_serial.f90"
   ]
  },
  {
   "attachments": {},
   "cell_type": "markdown",
   "id": "49f81255",
   "metadata": {},
   "source": [
    "```{literalinclude} code/app/compute_pi_serial.f90\n",
    "---\n",
    "language: fortran\n",
    "---\n",
    "```"
   ]
  },
  {
   "cell_type": "markdown",
   "id": "4c6b9985-c0cb-4602-8309-4e3369dd3226",
   "metadata": {},
   "source": [
    "The above program is compiled and run using Fortran Package Manager (fpm):"
   ]
  },
  {
   "cell_type": "markdown",
   "id": "c6f9ed20",
   "metadata": {
    "tags": []
   },
   "source": [
    "## Build the Program using FPM (Fortran Package Manager)"
   ]
  },
  {
   "cell_type": "code",
   "execution_count": 11,
   "id": "f16472aa-c965-4bad-a218-fee33f7b456a",
   "metadata": {},
   "outputs": [],
   "source": [
    "import os\n",
    "root_dir = \"\"\n",
    "root_dir = os.getcwd()"
   ]
  },
  {
   "attachments": {},
   "cell_type": "markdown",
   "id": "48d176ac",
   "metadata": {},
   "source": [
    "The following configuration file (fpm.toml) was used:"
   ]
  },
  {
   "attachments": {},
   "cell_type": "markdown",
   "id": "48ce3430",
   "metadata": {},
   "source": [
    "```{literalinclude} code/fpm.toml\n",
    "---\n",
    "language: toml\n",
    "---\n",
    "```"
   ]
  },
  {
   "cell_type": "code",
   "execution_count": 15,
   "id": "f77f9126-86cc-4a1b-89b9-5ad5f61cf72c",
   "metadata": {
    "tags": []
   },
   "outputs": [
    {
     "data": {
      "text/plain": [
       "'/home/haxor/Documents/Engineering/MKDynamics_website_V2/Sections/Computer_Programming/Fortran/NERSC/Supercomputing_Crash_Course/Computing_Pi_Serial/code'"
      ]
     },
     "execution_count": 15,
     "metadata": {},
     "output_type": "execute_result"
    }
   ],
   "source": [
    "code_dir = root_dir + \"/\" + \"Computing_Pi_Serial/code\"\n",
    "code_dir"
   ]
  },
  {
   "cell_type": "code",
   "execution_count": 16,
   "id": "5e9f92f9",
   "metadata": {},
   "outputs": [
    {
     "name": "stdout",
     "output_type": "stream",
     "text": [
      "Computing_Pi_Serial  Computing_Pi_Serial_Pi.ipynb  SCC__HEAD__.md  images\n"
     ]
    }
   ],
   "source": [
    "!dir"
   ]
  },
  {
   "cell_type": "code",
   "execution_count": 17,
   "id": "c2eeda29-613f-48fd-904b-af9aef8813a2",
   "metadata": {},
   "outputs": [],
   "source": [
    "os.chdir(code_dir)"
   ]
  },
  {
   "cell_type": "code",
   "execution_count": 18,
   "id": "0fbd7621-e800-4235-ab30-80560cc3e1a8",
   "metadata": {},
   "outputs": [],
   "source": [
    "build_status = os.system(\"fpm build 2>/dev/null\")"
   ]
  },
  {
   "cell_type": "markdown",
   "id": "58b5102f",
   "metadata": {},
   "source": [
    "## Run the Program using FPM (Fortran Package Manager)"
   ]
  },
  {
   "cell_type": "markdown",
   "id": "cb73b5fd-9594-4ab5-a801-457d6083d64f",
   "metadata": {},
   "source": [
    "### 10 Iterations"
   ]
  },
  {
   "cell_type": "code",
   "execution_count": 19,
   "id": "3176b27d-932e-47a1-8099-4fae064ec661",
   "metadata": {},
   "outputs": [
    {
     "name": "stdout",
     "output_type": "stream",
     "text": [
      "116 ms ± 39.5 ms per loop (mean ± std. dev. of 10 runs, 1 loop each)\n"
     ]
    }
   ],
   "source": [
    "%%timeit -r 10 -n 1\n",
    "exec_status = os.system(\"fpm run -- 10 2>/dev/null > output.txt\")"
   ]
  },
  {
   "cell_type": "code",
   "execution_count": 20,
   "id": "679b9cc1-d841-4f33-b497-e240c0e8cc75",
   "metadata": {},
   "outputs": [
    {
     "name": "stdout",
     "output_type": "stream",
     "text": [
      "After         10 loops, Pi =         3.200000047683716\n",
      "Actual value of Pi =         3.141592653589793\n",
      "Absolute difference =         0.058407394093923\n"
     ]
    }
   ],
   "source": [
    "%cat output.txt"
   ]
  },
  {
   "cell_type": "markdown",
   "id": "46ff98b0-1945-4b40-a5b8-86f15d5297d9",
   "metadata": {},
   "source": [
    "### 100 Iterations"
   ]
  },
  {
   "cell_type": "code",
   "execution_count": 21,
   "id": "67d698db",
   "metadata": {},
   "outputs": [
    {
     "name": "stdout",
     "output_type": "stream",
     "text": [
      "86.9 ms ± 27 ms per loop (mean ± std. dev. of 10 runs, 1 loop each)\n"
     ]
    }
   ],
   "source": [
    "%%timeit -r 10 -n 1\n",
    "exec_status = os.system(\"fpm run -- 100 2>/dev/null > output.txt\")"
   ]
  },
  {
   "cell_type": "code",
   "execution_count": 22,
   "id": "8e04dd66-6b5f-4e82-95b8-24fd654c3f2d",
   "metadata": {},
   "outputs": [
    {
     "name": "stdout",
     "output_type": "stream",
     "text": [
      "After        100 loops, Pi =         3.039999961853027\n",
      "Actual value of Pi =         3.141592653589793\n",
      "Absolute difference =         0.101592691736766\n"
     ]
    }
   ],
   "source": [
    "%cat output.txt"
   ]
  },
  {
   "cell_type": "markdown",
   "id": "1eed13c1-bb48-4e38-9d4f-bac942ab274e",
   "metadata": {},
   "source": [
    "### 1,000 Iterations"
   ]
  },
  {
   "cell_type": "code",
   "execution_count": 23,
   "id": "8beb605f",
   "metadata": {},
   "outputs": [
    {
     "name": "stdout",
     "output_type": "stream",
     "text": [
      "76.7 ms ± 27.1 ms per loop (mean ± std. dev. of 10 runs, 1 loop each)\n"
     ]
    }
   ],
   "source": [
    "%%timeit -r 10 -n 1\n",
    "exec_status = os.system(\"fpm run -- 1000 2>/dev/null > output.txt\")"
   ]
  },
  {
   "cell_type": "code",
   "execution_count": 24,
   "id": "65f80bc2-e4a1-4743-ba8f-015127d179e0",
   "metadata": {},
   "outputs": [
    {
     "name": "stdout",
     "output_type": "stream",
     "text": [
      "After       1000 loops, Pi =         3.059999942779541\n",
      "Actual value of Pi =         3.141592653589793\n",
      "Absolute difference =         0.081592710810252\n"
     ]
    }
   ],
   "source": [
    "%cat output.txt"
   ]
  },
  {
   "cell_type": "markdown",
   "id": "706cd3c9-9a8c-4977-b49c-3ebf9daa72d3",
   "metadata": {},
   "source": [
    "### 10,000 Iterations"
   ]
  },
  {
   "cell_type": "code",
   "execution_count": 25,
   "id": "2d1a2712",
   "metadata": {},
   "outputs": [
    {
     "name": "stdout",
     "output_type": "stream",
     "text": [
      "67.1 ms ± 15.9 ms per loop (mean ± std. dev. of 10 runs, 1 loop each)\n"
     ]
    }
   ],
   "source": [
    "%%timeit -r 10 -n 1\n",
    "exec_status = os.system(\"fpm run -- 10000 2>/dev/null > output.txt\")"
   ]
  },
  {
   "cell_type": "code",
   "execution_count": 26,
   "id": "b49b7014-bd95-4490-b6bd-8e47ccd7c128",
   "metadata": {},
   "outputs": [
    {
     "name": "stdout",
     "output_type": "stream",
     "text": [
      "After      10000 loops, Pi =         3.110800027847290\n",
      "Actual value of Pi =         3.141592653589793\n",
      "Absolute difference =         0.030792625742503\n"
     ]
    }
   ],
   "source": [
    "%cat output.txt"
   ]
  },
  {
   "cell_type": "markdown",
   "id": "e30c73bf-263d-409f-a89b-c9f822d890ab",
   "metadata": {},
   "source": [
    "### 100,000 Iterations"
   ]
  },
  {
   "cell_type": "code",
   "execution_count": 27,
   "id": "758e3cb0",
   "metadata": {},
   "outputs": [
    {
     "name": "stdout",
     "output_type": "stream",
     "text": [
      "77.1 ms ± 23.5 ms per loop (mean ± std. dev. of 10 runs, 1 loop each)\n"
     ]
    }
   ],
   "source": [
    "%%timeit -r 10 -n 1\n",
    "exec_status = os.system(\"fpm run -- 100000 2>/dev/null > output.txt\")"
   ]
  },
  {
   "cell_type": "code",
   "execution_count": 28,
   "id": "7f5f2558-bb61-4fcc-a857-abf1dea792e3",
   "metadata": {},
   "outputs": [
    {
     "name": "stdout",
     "output_type": "stream",
     "text": [
      "After     100000 loops, Pi =         3.143239974975586\n",
      "Actual value of Pi =         3.141592653589793\n",
      "Absolute difference =         0.001647321385793\n"
     ]
    }
   ],
   "source": [
    "%cat output.txt"
   ]
  },
  {
   "cell_type": "markdown",
   "id": "a52dd31c-fdbc-4a10-b80f-d9afc9dbf7fb",
   "metadata": {},
   "source": [
    "### 1,000,000 Iterations"
   ]
  },
  {
   "cell_type": "code",
   "execution_count": 29,
   "id": "01d5a006",
   "metadata": {},
   "outputs": [
    {
     "name": "stdout",
     "output_type": "stream",
     "text": [
      "92.4 ms ± 18.9 ms per loop (mean ± std. dev. of 10 runs, 1 loop each)\n"
     ]
    }
   ],
   "source": [
    "%%timeit -r 10 -n 1\n",
    "exec_status = os.system(\"fpm run -- 1000000 2>/dev/null > output.txt\")"
   ]
  },
  {
   "cell_type": "code",
   "execution_count": 30,
   "id": "c5b4e5e4-abf5-498e-937d-100a52f1faf5",
   "metadata": {},
   "outputs": [
    {
     "name": "stdout",
     "output_type": "stream",
     "text": [
      "After    1000000 loops, Pi =         3.141648054122925\n",
      "Actual value of Pi =         3.141592653589793\n",
      "Absolute difference =         0.000055400533132\n"
     ]
    }
   ],
   "source": [
    "%cat output.txt"
   ]
  },
  {
   "cell_type": "markdown",
   "id": "ce0d7c30-5b62-436a-94dd-602714be811f",
   "metadata": {},
   "source": [
    "### 10,000,000 Iterations"
   ]
  },
  {
   "cell_type": "code",
   "execution_count": 31,
   "id": "60f0e63e",
   "metadata": {},
   "outputs": [
    {
     "name": "stdout",
     "output_type": "stream",
     "text": [
      "306 ms ± 32.6 ms per loop (mean ± std. dev. of 10 runs, 1 loop each)\n"
     ]
    }
   ],
   "source": [
    "%%timeit -r 10 -n 1\n",
    "exec_status = os.system(\"fpm run -- 10000000 2>/dev/null > output.txt\")"
   ]
  },
  {
   "cell_type": "code",
   "execution_count": 32,
   "id": "19ebfb74-a694-4f73-9492-09385fb81184",
   "metadata": {},
   "outputs": [
    {
     "name": "stdout",
     "output_type": "stream",
     "text": [
      "After   10000000 loops, Pi =         3.141577959060669\n",
      "Actual value of Pi =         3.141592653589793\n",
      "Absolute difference =         0.000014694529124\n"
     ]
    }
   ],
   "source": [
    "%cat output.txt"
   ]
  },
  {
   "cell_type": "markdown",
   "id": "c935b5eb-3a74-44be-b1dc-4927ccf777ae",
   "metadata": {},
   "source": [
    "### 100,000,000 Iterations"
   ]
  },
  {
   "cell_type": "code",
   "execution_count": 33,
   "id": "9a056210",
   "metadata": {},
   "outputs": [
    {
     "name": "stdout",
     "output_type": "stream",
     "text": [
      "2.29 s ± 160 ms per loop (mean ± std. dev. of 10 runs, 1 loop each)\n"
     ]
    }
   ],
   "source": [
    "%%timeit -r 10 -n 1\n",
    "exec_status = os.system(\"fpm run -- 100000000 2>/dev/null > output.txt\")"
   ]
  },
  {
   "cell_type": "code",
   "execution_count": 34,
   "id": "1a06b118-5eae-4265-9855-9276cf1c9f8e",
   "metadata": {},
   "outputs": [
    {
     "name": "stdout",
     "output_type": "stream",
     "text": [
      "After  100000000 loops, Pi =         3.141593694686890\n",
      "Actual value of Pi =         3.141592653589793\n",
      "Absolute difference =         0.000001041097097\n"
     ]
    }
   ],
   "source": [
    "%cat output.txt"
   ]
  },
  {
   "cell_type": "markdown",
   "id": "f6ed1e6e-ce29-43d7-bb23-2a9914b3c15f",
   "metadata": {},
   "source": [
    "### 1,000,000,000 Iterations"
   ]
  },
  {
   "cell_type": "code",
   "execution_count": 35,
   "id": "7d31a72c-cd45-4e36-a776-7c9f66fd8616",
   "metadata": {},
   "outputs": [
    {
     "name": "stdout",
     "output_type": "stream",
     "text": [
      "23.8 s ± 1.21 s per loop (mean ± std. dev. of 10 runs, 1 loop each)\n"
     ]
    }
   ],
   "source": [
    "%%timeit -r 10 -n 1\n",
    "exec_status = os.system(\"fpm run -- 1000000000 2>/dev/null > output.txt\")"
   ]
  },
  {
   "cell_type": "code",
   "execution_count": 36,
   "id": "bbbe329f-fe25-41b7-a3ae-bf09e6135205",
   "metadata": {},
   "outputs": [
    {
     "name": "stdout",
     "output_type": "stream",
     "text": [
      "After 1000000000 loops, Pi =         3.141592979431152\n",
      "Actual value of Pi =         3.141592653589793\n",
      "Absolute difference =         0.000000325841359\n"
     ]
    }
   ],
   "source": [
    "%cat output.txt"
   ]
  }
 ],
 "metadata": {
  "kernelspec": {
   "display_name": "Python 3.11",
   "language": "python",
   "name": "py311_env"
  },
  "language_info": {
   "codemirror_mode": {
    "name": "ipython",
    "version": 3
   },
   "file_extension": ".py",
   "mimetype": "text/x-python",
   "name": "python",
   "nbconvert_exporter": "python",
   "pygments_lexer": "ipython3",
   "version": "3.10.18"
  },
  "vscode": {
   "interpreter": {
    "hash": "1c7edbfe09241e3ab70fdbaa9340a6c53382c0b8a91b6341e8f1e4440b6e3c70"
   }
  }
 },
 "nbformat": 4,
 "nbformat_minor": 5
}
