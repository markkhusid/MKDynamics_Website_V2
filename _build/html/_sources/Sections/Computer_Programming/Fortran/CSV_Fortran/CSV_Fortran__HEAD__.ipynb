{
 "cells": [
  {
   "cell_type": "raw",
   "metadata": {},
   "source": [
    "---\n",
    "jupytext:\n",
    "  formats: md:myst\n",
    "  text_representation:\n",
    "    extension: .md\n",
    "    format_name: myst\n",
    "kernelspec:\n",
    "  display_name: Python 3\n",
    "  language: python\n",
    "  name: python3\n",
    "---"
   ]
  },
  {
   "cell_type": "markdown",
   "metadata": {},
   "source": [
    "# CSV Fortran Module"
   ]
  },
  {
   "cell_type": "markdown",
   "metadata": {},
   "source": [
    "The CSV Fortran module is a simple module that provides subroutines to read and write CSV files. The module is written in Fortran 2008 and is designed to be easy to use. The module is available on GitHub at [https://github.com/jacobwilliams/csv-fortran](https://github.com/jacobwilliams/csv-fortran)"
   ]
  },
  {
   "cell_type": "markdown",
   "metadata": {},
   "source": [
    "## Introduction\n",
    "In this tutorial, we will learn how to use the CSV Fortran module to read and write CSV files. We will start by downloading the module from GitHub and then we will write a simple Fortran program that uses the module to read and write a CSV file."
   ]
  },
  {
   "cell_type": "markdown",
   "metadata": {},
   "source": [
    "## Table of Contents"
   ]
  },
  {
   "cell_type": "markdown",
   "metadata": {},
   "source": [
    "```{tableofcontents}\n",
    "```"
   ]
  },
  {
   "cell_type": "markdown",
   "metadata": {},
   "source": [
    "## Using the CSV Fortran Module\n",
    "According to the module's GitHub page, the Fortran Package Manager (FPM) can be used to build projects that use the CSV Fortran module. The mdoule can be used by adding the following line to the `fpm.toml` file:\n",
    "\n",
    "```toml\n",
    "[dependencies]\n",
    "csv-fortran = { git=\"https://github.com/jacobwilliams/csv-fortran.git\" }\n",
    "```\n",
    "\n",
    "We will first try to build the given example programs that come with the module. The example programs are showcased in the documentation for the CSV Fortran module, which is available at the following link: [CSV Fortran Module Documentation](https://jacobwilliams.github.io/csv-fortran/)"
   ]
  },
  {
   "cell_type": "raw",
   "metadata": {},
   "source": [
    "```{tableofcontents}\n",
    "```"
   ]
  },
  {
   "cell_type": "markdown",
   "metadata": {},
   "source": []
  }
 ],
 "metadata": {
  "language_info": {
   "name": "python"
  }
 },
 "nbformat": 4,
 "nbformat_minor": 2
}
