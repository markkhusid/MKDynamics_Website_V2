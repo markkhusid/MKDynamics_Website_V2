{
 "cells": [
  {
   "cell_type": "raw",
   "id": "fd795436",
   "metadata": {
    "vscode": {
     "languageId": "raw"
    }
   },
   "source": [
    "---\n",
    "jupytext:\n",
    "  formats: md:myst\n",
    "  text_representation:\n",
    "    extension: .md\n",
    "    format_name: myst\n",
    "kernelspec:\n",
    "  display_name: Python 3\n",
    "  language: python\n",
    "  name: python3\n",
    "---"
   ]
  },
  {
   "cell_type": "markdown",
   "id": "cd8f627e",
   "metadata": {},
   "source": [
    "# Section 6.1 Arrays: An Easy Example"
   ]
  },
  {
   "cell_type": "markdown",
   "id": "8d3843b4",
   "metadata": {},
   "source": [
    "Adapted from: \"Beej's Guide to C Programming\" by Brian (Beej Jorgensen) Hall: [Beej's Guide to C Programming: 6.1 An Easy Example](https://beej.us/guide/bgc/html/split/arrays.html#easy-example)\n",
    "\n",
    "[Brian (Beej Jorgensen) Hall Website](https://beej.us/)"
   ]
  },
  {
   "cell_type": "markdown",
   "id": "37310d91",
   "metadata": {},
   "source": [
    "## Program that Creating, Initializing, and Printing an Array"
   ]
  },
  {
   "cell_type": "markdown",
   "id": "fa4ae7ba",
   "metadata": {},
   "source": [
    "```c\n",
    "#include <stdio.h>\n",
    "\n",
    "int main(void)\n",
    "{\n",
    "    int i;\n",
    "    float f[4];  // Declare an array of 4 floats\n",
    "\n",
    "    f[0] = 3.14159;  // Indexing starts at 0, of course.\n",
    "    f[1] = 1.41421;\n",
    "    f[2] = 1.61803;\n",
    "    f[3] = 2.71828;\n",
    "\n",
    "    // Print them all out:\n",
    "\n",
    "    for (i = 0; i < 4; i++) {\n",
    "        printf(\"%f\\n\", f[i]);\n",
    "    }\n",
    "}\n",
    "```"
   ]
  },
  {
   "cell_type": "markdown",
   "id": "5eb20d77",
   "metadata": {},
   "source": [
    "## Explanation of the Above Code"
   ]
  },
  {
   "cell_type": "markdown",
   "id": "339cf14d",
   "metadata": {},
   "source": [
    "1. **Include the Standard I/O Library**: The program starts by including the standard input/output library with `#include <stdio.h>`, which allows us to use functions like `printf()`.\n",
    "2. **Main Function**: The `main()` function is the entry point of the program.\n",
    "3. **Variable Declaration**: Inside the `main()` function, we declare an integer variable `i` and a float array `f` with 4 elements.\n",
    "4. **Array Initialization**: We assign values to each element of the array `f` using indexing. The first element is `f[0]`, the second is `f[1]`, and so on.\n",
    "5. **Loop to Print Values**: We use a `for` loop to iterate through the array and print each value using `printf()`. The loop runs from `0` to `3`, which corresponds to the indices of the array.\n",
    "6. **Output**: The program prints the values of the array `f` to the console, each on a new line.\n",
    "\n",
    "### Output of the Program\n",
    "\n",
    "When you run the program, it will output the following values:\n",
    "\n",
    "```\n",
    "3.141590\n",
    "1.414210\n",
    "1.618030\n",
    "2.718280\n",
    "```\n",
    "### Summary\n",
    "This simple program demonstrates how to create, initialize, and print an array in C. It uses a `for` loop to iterate through the array and print each value, showcasing the basic syntax and functionality of arrays in C programming."
   ]
  },
  {
   "cell_type": "markdown",
   "id": "5b9f3d6e",
   "metadata": {},
   "source": [
    "## Compile and Run Code"
   ]
  },
  {
   "cell_type": "markdown",
   "id": "12565265",
   "metadata": {},
   "source": [
    "### Use Python to Change to Working Directory"
   ]
  },
  {
   "cell_type": "code",
   "execution_count": 1,
   "id": "e0336aaf",
   "metadata": {},
   "outputs": [],
   "source": [
    "import os\n",
    "root_dir = os.getcwd()"
   ]
  },
  {
   "cell_type": "code",
   "execution_count": 2,
   "id": "15fe5e5d",
   "metadata": {},
   "outputs": [],
   "source": [
    "code_dir = root_dir + \"/\" + \"C_Code\""
   ]
  },
  {
   "cell_type": "code",
   "execution_count": 3,
   "id": "93501b0d",
   "metadata": {},
   "outputs": [],
   "source": [
    "os.chdir(code_dir)"
   ]
  },
  {
   "cell_type": "code",
   "execution_count": 4,
   "id": "c8cb1d74",
   "metadata": {},
   "outputs": [],
   "source": [
    "build_command = os.system(\"gcc -o section_6_1_easy_example section_6_1_easy_example.c\")"
   ]
  },
  {
   "cell_type": "code",
   "execution_count": 5,
   "id": "263f1499",
   "metadata": {},
   "outputs": [
    {
     "name": "stdout",
     "output_type": "stream",
     "text": [
      "3.141590\n",
      "1.414210\n",
      "1.618030\n",
      "2.718280\n"
     ]
    }
   ],
   "source": [
    "exec_status = os.system(\"./section_6_1_easy_example\")"
   ]
  }
 ],
 "metadata": {
  "kernelspec": {
   "display_name": "Python 3.11",
   "language": "python",
   "name": "py311_env"
  },
  "language_info": {
   "codemirror_mode": {
    "name": "ipython",
    "version": 3
   },
   "file_extension": ".py",
   "mimetype": "text/x-python",
   "name": "python",
   "nbconvert_exporter": "python",
   "pygments_lexer": "ipython3",
   "version": "3.10.16"
  }
 },
 "nbformat": 4,
 "nbformat_minor": 5
}
