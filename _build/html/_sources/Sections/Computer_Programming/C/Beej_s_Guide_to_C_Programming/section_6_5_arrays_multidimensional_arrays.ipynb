{
 "cells": [
  {
   "cell_type": "raw",
   "id": "fd795436",
   "metadata": {
    "vscode": {
     "languageId": "raw"
    }
   },
   "source": [
    "---\n",
    "jupytext:\n",
    "  formats: md:myst\n",
    "  text_representation:\n",
    "    extension: .md\n",
    "    format_name: myst\n",
    "kernelspec:\n",
    "  display_name: Python 3\n",
    "  language: python\n",
    "  name: python3\n",
    "---"
   ]
  },
  {
   "cell_type": "markdown",
   "id": "cd8f627e",
   "metadata": {},
   "source": [
    "# Section 6.5 Arrays: Multidimensional Arrays"
   ]
  },
  {
   "cell_type": "markdown",
   "id": "8d3843b4",
   "metadata": {},
   "source": [
    "Adapted from: \"Beej's Guide to C Programming\" by Brian (Beej Jorgensen) Hall: [Beej's Guide to C Programming: 6.5 Multidimensional Arrays](https://beej.us/guide/bgc/html/split/arrays.html#multidimensional-arrays)\n",
    "\n",
    "[Brian (Beej Jorgensen) Hall Website](https://beej.us/)"
   ]
  },
  {
   "cell_type": "markdown",
   "id": "37310d91",
   "metadata": {},
   "source": [
    "## Program for Demonstrating Multidimensional Arrays"
   ]
  },
  {
   "cell_type": "markdown",
   "id": "fa4ae7ba",
   "metadata": {},
   "source": [
    "```c\n",
    "#include <stdio.h>\n",
    "\n",
    "int main(void)\n",
    "{\n",
    "    int row, col;\n",
    "\n",
    "    int a[2][5] = {      // Initialize a 2D array\n",
    "        {0, 1, 2, 3, 4},\n",
    "        {5, 6, 7, 8, 9}\n",
    "    };\n",
    "\n",
    "    for (row = 0; row < 2; row++) {\n",
    "        for (col = 0; col < 5; col++) {\n",
    "            printf(\"(%d,%d) = %d\\n\", row, col, a[row][col]);\n",
    "        }\n",
    "    }\n",
    "}\n",
    "```"
   ]
  },
  {
   "cell_type": "markdown",
   "id": "5eb20d77",
   "metadata": {},
   "source": [
    "## Explanation of the Above Code"
   ]
  },
  {
   "cell_type": "markdown",
   "id": "339cf14d",
   "metadata": {},
   "source": [
    "This C program demonstrates the use of a **multidimensional array** (a 2D array) and how to iterate over it to access and print its elements.\n",
    "\n",
    "### Code Breakdown:\n",
    "\n",
    "1. **Header File**:\n",
    "   ```c\n",
    "   #include <stdio.h>\n",
    "   ```\n",
    "   - Includes the standard input/output library to use functions like `printf`.\n",
    "\n",
    "2. **Main Function**:\n",
    "   ```c\n",
    "   int main(void)\n",
    "   ```\n",
    "   - The entry point of the program.\n",
    "\n",
    "3. **Variable Declaration**:\n",
    "   ```c\n",
    "   int row, col;\n",
    "   ```\n",
    "   - Declares two integer variables, `row` and `col`, which will be used as loop counters to iterate through the rows and columns of the array.\n",
    "\n",
    "4. **2D Array Initialization**:\n",
    "   ```c\n",
    "   int a[2][5] = {\n",
    "       {0, 1, 2, 3, 4},\n",
    "       {5, 6, 7, 8, 9}\n",
    "   };\n",
    "   ```\n",
    "   - Declares and initializes a 2D array `a` with 2 rows and 5 columns.\n",
    "   - The first row contains `{0, 1, 2, 3, 4}`.\n",
    "   - The second row contains `{5, 6, 7, 8, 9}`.\n",
    "\n",
    "5. **Nested Loops**:\n",
    "   ```c\n",
    "   for (row = 0; row < 2; row++) {\n",
    "       for (col = 0; col < 5; col++) {\n",
    "           printf(\"(%d,%d) = %d\\n\", row, col, a[row][col]);\n",
    "       }\n",
    "   }\n",
    "   ```\n",
    "   - **Outer Loop**: Iterates over the rows of the array (`row = 0` to `1`).\n",
    "   - **Inner Loop**: Iterates over the columns of the array (`col = 0` to `4`).\n",
    "   - **`printf` Statement**: Prints the row index, column index, and the value at that position in the array (`a[row][col]`).\n",
    "\n",
    "6. **Output**:\n",
    "   - The program prints each element of the 2D array along with its row and column indices in the format `(row, col) = value`.\n",
    "\n",
    "### Example Output:\n",
    "```\n",
    "(0,0) = 0\n",
    "(0,1) = 1\n",
    "(0,2) = 2\n",
    "(0,3) = 3\n",
    "(0,4) = 4\n",
    "(1,0) = 5\n",
    "(1,1) = 6\n",
    "(1,2) = 7\n",
    "(1,3) = 8\n",
    "(1,4) = 9\n",
    "```\n",
    "\n",
    "### Key Concepts:\n",
    "- **2D Arrays**: Represented as a grid of rows and columns.\n",
    "- **Nested Loops**: Used to traverse each element of the 2D array.\n",
    "- **`printf`**: Displays the indices and values of the array elements.\n",
    "\n",
    "Similar code found with 1 license type"
   ]
  },
  {
   "cell_type": "markdown",
   "id": "5b9f3d6e",
   "metadata": {},
   "source": [
    "## Compile and Run Code"
   ]
  },
  {
   "cell_type": "markdown",
   "id": "12565265",
   "metadata": {},
   "source": [
    "### Use Python to Change to Working Directory"
   ]
  },
  {
   "cell_type": "code",
   "execution_count": 3,
   "id": "e0336aaf",
   "metadata": {},
   "outputs": [],
   "source": [
    "import os\n",
    "root_dir = os.getcwd()"
   ]
  },
  {
   "cell_type": "code",
   "execution_count": 4,
   "id": "15fe5e5d",
   "metadata": {},
   "outputs": [],
   "source": [
    "code_dir = root_dir + \"/\" + \"C_Code\""
   ]
  },
  {
   "cell_type": "code",
   "execution_count": 5,
   "id": "93501b0d",
   "metadata": {},
   "outputs": [],
   "source": [
    "os.chdir(code_dir)"
   ]
  },
  {
   "cell_type": "code",
   "execution_count": 6,
   "id": "c8cb1d74",
   "metadata": {},
   "outputs": [],
   "source": [
    "build_command = os.system(\"gcc -o section_6_5_multidimensional_arrays section_6_5_multidimensional_arrays.c\")"
   ]
  },
  {
   "cell_type": "code",
   "execution_count": 7,
   "id": "263f1499",
   "metadata": {},
   "outputs": [
    {
     "name": "stdout",
     "output_type": "stream",
     "text": [
      "(0,0) = 0\n",
      "(0,1) = 1\n",
      "(0,2) = 2\n",
      "(0,3) = 3\n",
      "(0,4) = 4\n",
      "(1,0) = 5\n",
      "(1,1) = 6\n",
      "(1,2) = 7\n",
      "(1,3) = 8\n",
      "(1,4) = 9\n"
     ]
    }
   ],
   "source": [
    "exec_status = os.system(\"./section_6_5_multidimensional_arrays\")"
   ]
  }
 ],
 "metadata": {
  "kernelspec": {
   "display_name": "Python 3.11",
   "language": "python",
   "name": "py311_env"
  },
  "language_info": {
   "codemirror_mode": {
    "name": "ipython",
    "version": 3
   },
   "file_extension": ".py",
   "mimetype": "text/x-python",
   "name": "python",
   "nbconvert_exporter": "python",
   "pygments_lexer": "ipython3",
   "version": "3.10.16"
  }
 },
 "nbformat": 4,
 "nbformat_minor": 5
}
