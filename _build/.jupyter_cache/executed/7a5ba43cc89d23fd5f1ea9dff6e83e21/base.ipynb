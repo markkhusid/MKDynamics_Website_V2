{
 "cells": [
  {
   "cell_type": "code",
   "execution_count": 1,
   "id": "f16472aa-c965-4bad-a218-fee33f7b456a",
   "metadata": {},
   "outputs": [],
   "source": [
    "import os\n",
    "root_dir = os.getcwd()"
   ]
  },
  {
   "cell_type": "code",
   "execution_count": 2,
   "id": "f77f9126-86cc-4a1b-89b9-5ad5f61cf72c",
   "metadata": {
    "tags": []
   },
   "outputs": [],
   "source": [
    "code_dir = root_dir + \"/\" + \"Fortran_Code/Section_Arrays_Trace\""
   ]
  },
  {
   "cell_type": "code",
   "execution_count": 3,
   "id": "dda7a884",
   "metadata": {
    "tags": [
     "remove-cell"
    ]
   },
   "outputs": [],
   "source": [
    "code_app_dir = code_dir + \"/\" + \"app\""
   ]
  },
  {
   "cell_type": "code",
   "execution_count": 4,
   "id": "0c1bfdce-7589-4f56-be03-b2be392d952f",
   "metadata": {
    "tags": [
     "remove-cell"
    ]
   },
   "outputs": [],
   "source": [
    "os.chdir(code_app_dir)"
   ]
  },
  {
   "cell_type": "code",
   "execution_count": 5,
   "id": "acf272e3-a204-4981-9008-359bb189b9bb",
   "metadata": {
    "tags": [
     "remove-cell"
    ]
   },
   "outputs": [],
   "source": [
    "%%capture\n",
    "%%writefile section_arrays_trace.f90\n",
    "program compute_trace\n",
    "    implicit none\n",
    "    integer :: i\n",
    "    real, dimension(5, 5) :: A\n",
    "\n",
    "    call random_number(A)\n",
    "    do i = 1, size(A, 1)\n",
    "        print '(5F7.4)', A(i, :)\n",
    "    end do\n",
    "    print '(/, A, F7.4)', 'trace = ', trace(A)\n",
    "\n",
    "contains\n",
    "\n",
    "    real function trace(matrix)\n",
    "        use, intrinsic :: iso_fortran_env, only : error_unit\n",
    "        implicit none\n",
    "        real, dimension(:, :), intent(in) :: matrix\n",
    "        integer :: i\n",
    "\n",
    "        if (size(matrix, 1) /= size(matrix, 2)) then\n",
    "            write (unit=error_unit, fmt='(A)') &\n",
    "                'error: can not compute trace of a non-square matrix'\n",
    "            stop 1\n",
    "        end if\n",
    "        trace = 0.0\n",
    "        do i = 1, size(matrix, 1)\n",
    "            trace = trace + matrix(i, i)\n",
    "        end do\n",
    "    end function trace\n",
    "\n",
    "end program compute_trace"
   ]
  },
  {
   "cell_type": "code",
   "execution_count": 6,
   "id": "c2eeda29-613f-48fd-904b-af9aef8813a2",
   "metadata": {},
   "outputs": [],
   "source": [
    "os.chdir(code_dir)"
   ]
  },
  {
   "cell_type": "code",
   "execution_count": 7,
   "id": "0fbd7621-e800-4235-ab30-80560cc3e1a8",
   "metadata": {},
   "outputs": [],
   "source": [
    "build_status = os.system(\"fpm build 2>/dev/null\")"
   ]
  },
  {
   "cell_type": "code",
   "execution_count": 8,
   "id": "0483d40b-e849-4574-bcbe-003c81a96dd5",
   "metadata": {},
   "outputs": [
    {
     "name": "stdout",
     "output_type": "stream",
     "text": [
      " 0.9610 0.6726 0.4475 0.8218 0.3841\n",
      " 0.8341 0.0311 0.2360 0.1143 0.6879\n",
      " 0.0055 0.5002 0.5859 0.7982 0.3812\n",
      " 0.5301 0.1466 0.2009 0.7046 0.3459\n",
      " 0.0723 0.2089 0.8568 0.8248 0.5118\n",
      "\n",
      "trace =  2.7944\n"
     ]
    }
   ],
   "source": [
    "exec_status = os.system(\"fpm run 2>/dev/null\")"
   ]
  }
 ],
 "metadata": {
  "kernelspec": {
   "display_name": "Python 3 (ipykernel)",
   "language": "python",
   "name": "python3"
  },
  "language_info": {
   "codemirror_mode": {
    "name": "ipython",
    "version": 3
   },
   "file_extension": ".py",
   "mimetype": "text/x-python",
   "name": "python",
   "nbconvert_exporter": "python",
   "pygments_lexer": "ipython3",
   "version": "3.10.14"
  },
  "vscode": {
   "interpreter": {
    "hash": "1c7edbfe09241e3ab70fdbaa9340a6c53382c0b8a91b6341e8f1e4440b6e3c70"
   }
  }
 },
 "nbformat": 4,
 "nbformat_minor": 5
}