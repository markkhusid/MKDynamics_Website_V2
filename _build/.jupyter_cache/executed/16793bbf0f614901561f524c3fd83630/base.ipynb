{
 "cells": [
  {
   "cell_type": "code",
   "execution_count": 1,
   "id": "e8ba1050-b7b1-4e9e-87bf-28791145e5e7",
   "metadata": {
    "execution": {
     "iopub.execute_input": "2024-05-12T05:48:59.805539Z",
     "iopub.status.busy": "2024-05-12T05:48:59.804438Z",
     "iopub.status.idle": "2024-05-12T05:48:59.829827Z",
     "shell.execute_reply": "2024-05-12T05:48:59.808962Z",
     "shell.execute_reply.started": "2024-05-12T05:48:59.805515Z"
    }
   },
   "outputs": [],
   "source": [
    "import os\n",
    "root_dir = os.getcwd()"
   ]
  },
  {
   "cell_type": "code",
   "execution_count": 2,
   "id": "bdaf795d-554a-46e6-b4da-faeb331e1b13",
   "metadata": {
    "execution": {
     "iopub.execute_input": "2024-05-12T05:49:00.512354Z",
     "iopub.status.busy": "2024-05-12T05:49:00.511983Z",
     "iopub.status.idle": "2024-05-12T05:49:00.522234Z",
     "shell.execute_reply": "2024-05-12T05:49:00.521152Z",
     "shell.execute_reply.started": "2024-05-12T05:49:00.512325Z"
    }
   },
   "outputs": [],
   "source": [
    "code_dir = root_dir + \"/\" + \"Fortran_Code/Section_1_8_Ex_2_Quadratic_Formula\""
   ]
  },
  {
   "cell_type": "code",
   "execution_count": 3,
   "id": "a7d9f1b1-ba0d-4db1-84ef-7a358f0453a6",
   "metadata": {
    "execution": {
     "iopub.execute_input": "2024-05-12T05:49:01.402130Z",
     "iopub.status.busy": "2024-05-12T05:49:01.401626Z",
     "iopub.status.idle": "2024-05-12T05:49:01.407914Z",
     "shell.execute_reply": "2024-05-12T05:49:01.406118Z",
     "shell.execute_reply.started": "2024-05-12T05:49:01.402108Z"
    }
   },
   "outputs": [],
   "source": [
    "os.chdir(code_dir)"
   ]
  },
  {
   "cell_type": "code",
   "execution_count": 4,
   "id": "0fbd7621-e800-4235-ab30-80560cc3e1a8",
   "metadata": {
    "execution": {
     "iopub.execute_input": "2024-05-12T05:49:02.589083Z",
     "iopub.status.busy": "2024-05-12T05:49:02.588726Z",
     "iopub.status.idle": "2024-05-12T05:49:02.636524Z",
     "shell.execute_reply": "2024-05-12T05:49:02.635633Z",
     "shell.execute_reply.started": "2024-05-12T05:49:02.589057Z"
    }
   },
   "outputs": [],
   "source": [
    "build_status = os.system(\"fpm build 2>/dev/null\")"
   ]
  },
  {
   "cell_type": "code",
   "execution_count": 5,
   "id": "0483d40b-e849-4574-bcbe-003c81a96dd5",
   "metadata": {
    "execution": {
     "iopub.execute_input": "2024-05-12T05:49:05.754286Z",
     "iopub.status.busy": "2024-05-12T05:49:05.753998Z",
     "iopub.status.idle": "2024-05-12T05:49:05.807069Z",
     "shell.execute_reply": "2024-05-12T05:49:05.806043Z",
     "shell.execute_reply.started": "2024-05-12T05:49:05.754265Z"
    }
   },
   "outputs": [
    {
     "name": "stdout",
     "output_type": "stream",
     "text": [
      "\n",
      "***** Quadratic Equation Solver *****\n",
      "\n",
      "The read in coefficients are:\n",
      "a =    1.000   b =    3.000   c =    2.000\n",
      "\n",
      "This program will solve the quadratic equation x^2  3.000x + 2.000\n",
      "\n",
      "The discriminant =    1.000\n",
      "\n",
      "Roots are real and non-degenerate...\n",
      "\n",
      "The roots are (using just sqrt):\n",
      "x1 = -1.000\n",
      "x2 = -2.000\n",
      "\n",
      "The absolute value of the smaller root according to x2 = c/ax1 is:\n",
      "x1 = 1.000\n",
      "\n",
      "The difference is: 0.000\n",
      "The percentage difference is: 0.000%\n"
     ]
    }
   ],
   "source": [
    "exec_status = os.system(\"echo '1 3 2' | fpm run 2>/dev/null\")"
   ]
  },
  {
   "cell_type": "code",
   "execution_count": 6,
   "id": "a5f79f6e-b219-4953-b33c-13749a965527",
   "metadata": {
    "execution": {
     "iopub.execute_input": "2024-05-12T05:49:10.112370Z",
     "iopub.status.busy": "2024-05-12T05:49:10.112007Z",
     "iopub.status.idle": "2024-05-12T05:49:10.156404Z",
     "shell.execute_reply": "2024-05-12T05:49:10.153772Z",
     "shell.execute_reply.started": "2024-05-12T05:49:10.112351Z"
    }
   },
   "outputs": [
    {
     "name": "stdout",
     "output_type": "stream",
     "text": [
      "\n",
      "***** Quadratic Equation Solver *****\n",
      "\n",
      "The read in coefficients are:\n",
      "a =    1.000   b =    2.000   c =    1.000\n",
      "\n",
      "This program will solve the quadratic equation x^2  2.000x + 1.000\n",
      "\n",
      "The discriminant =    0.000\n",
      "\n",
      "Roots are real and degenerate...\n",
      "\n",
      "The roots are (using just sqrt):\n",
      "x1 = -1.000\n",
      "x2 = -1.000\n",
      "\n",
      "The absolute value of the smaller root according to x2 = c/ax1 is:\n",
      "x1 = 1.000\n",
      "\n",
      "The difference is: 0.000\n",
      "The percentage difference is: 0.000%\n"
     ]
    }
   ],
   "source": [
    "exec_status = os.system(\"echo '1 2 1' | fpm run 2>/dev/null\")"
   ]
  },
  {
   "cell_type": "code",
   "execution_count": 7,
   "id": "fcfb5bdb-bf72-46ca-afba-7b81c6bb5776",
   "metadata": {
    "execution": {
     "iopub.execute_input": "2024-05-12T05:49:13.395844Z",
     "iopub.status.busy": "2024-05-12T05:49:13.395624Z",
     "iopub.status.idle": "2024-05-12T05:49:13.452018Z",
     "shell.execute_reply": "2024-05-12T05:49:13.451156Z",
     "shell.execute_reply.started": "2024-05-12T05:49:13.395830Z"
    }
   },
   "outputs": [
    {
     "name": "stdout",
     "output_type": "stream",
     "text": [
      "\n",
      "***** Quadratic Equation Solver *****\n",
      "\n",
      "The read in coefficients are:\n",
      "a =    1.000   b =    5.000   c =    9.000\n",
      "\n",
      "This program will solve the quadratic equation x^2  5.000x + 9.000\n",
      "\n",
      "The discriminant =  -11.000\n",
      "\n",
      "Roots are complex\n",
      "\n",
      "The roots are (using sqrt and cmplx):\n",
      "z1 = -2.500 +1.658i\n",
      "z2 = -2.500 -1.658i\n"
     ]
    }
   ],
   "source": [
    "exec_status = os.system(\"echo '1 5 9' | fpm run 2>/dev/null\")"
   ]
  },
  {
   "cell_type": "code",
   "execution_count": 8,
   "id": "c18fcc49-84b9-463d-bc14-24be4d32d980",
   "metadata": {
    "execution": {
     "iopub.execute_input": "2024-05-12T05:49:18.828734Z",
     "iopub.status.busy": "2024-05-12T05:49:18.827840Z",
     "iopub.status.idle": "2024-05-12T05:49:18.911637Z",
     "shell.execute_reply": "2024-05-12T05:49:18.910472Z",
     "shell.execute_reply.started": "2024-05-12T05:49:18.828710Z"
    }
   },
   "outputs": [
    {
     "name": "stdout",
     "output_type": "stream",
     "text": [
      "\n",
      "***** Quadratic Equation Solver *****\n",
      "\n",
      "The read in coefficients are:\n",
      "a =    1.000   b =    6.000   c =    1.000\n",
      "\n",
      "This program will solve the quadratic equation x^2  6.000x + 1.000\n",
      "\n",
      "The discriminant =   32.000\n",
      "\n",
      "Roots are real and non-degenerate...\n",
      "\n",
      "The roots are (using just sqrt):\n",
      "x1 = -0.172\n",
      "x2 = -5.828\n",
      "\n",
      "The absolute value of the smaller root according to x2 = c/ax1 is:\n",
      "x1 = 0.172\n",
      "\n",
      "The difference is: 0.000\n",
      "The percentage difference is: 0.000%\n"
     ]
    }
   ],
   "source": [
    "exec_status = os.system(\"echo '1 6 1' | fpm run 2>/dev/null\")"
   ]
  }
 ],
 "metadata": {
  "kernelspec": {
   "display_name": "Python 3 (ipykernel)",
   "language": "python",
   "name": "python3"
  },
  "language_info": {
   "codemirror_mode": {
    "name": "ipython",
    "version": 3
   },
   "file_extension": ".py",
   "mimetype": "text/x-python",
   "name": "python",
   "nbconvert_exporter": "python",
   "pygments_lexer": "ipython3",
   "version": "3.10.14"
  },
  "vscode": {
   "interpreter": {
    "hash": "916dbcbb3f70747c44a77c7bcd40155683ae19c65e1c03b4aa3499c5328201f1"
   }
  }
 },
 "nbformat": 4,
 "nbformat_minor": 5
}