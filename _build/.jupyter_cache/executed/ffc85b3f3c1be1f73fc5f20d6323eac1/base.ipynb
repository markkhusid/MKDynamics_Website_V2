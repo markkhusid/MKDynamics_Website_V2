{
 "cells": [
  {
   "cell_type": "code",
   "execution_count": 1,
   "id": "f16472aa-c965-4bad-a218-fee33f7b456a",
   "metadata": {
    "execution": {
     "iopub.execute_input": "2024-05-05T02:30:33.749721Z",
     "iopub.status.busy": "2024-05-05T02:30:33.749208Z",
     "iopub.status.idle": "2024-05-05T02:30:33.754891Z",
     "shell.execute_reply": "2024-05-05T02:30:33.753763Z",
     "shell.execute_reply.started": "2024-05-05T02:30:33.749696Z"
    }
   },
   "outputs": [],
   "source": [
    "import os\n",
    "root_dir = \"\"\n",
    "root_dir = os.getcwd()"
   ]
  },
  {
   "cell_type": "code",
   "execution_count": 2,
   "id": "f77f9126-86cc-4a1b-89b9-5ad5f61cf72c",
   "metadata": {
    "execution": {
     "iopub.execute_input": "2024-05-05T02:31:04.161870Z",
     "iopub.status.busy": "2024-05-05T02:31:04.161344Z",
     "iopub.status.idle": "2024-05-05T02:31:04.168663Z",
     "shell.execute_reply": "2024-05-05T02:31:04.167817Z",
     "shell.execute_reply.started": "2024-05-05T02:31:04.161842Z"
    },
    "tags": []
   },
   "outputs": [],
   "source": [
    "code_dir = root_dir + \"/\" + \"Fortran_Code/Section_Block_Matrices/\""
   ]
  },
  {
   "cell_type": "code",
   "execution_count": 3,
   "id": "c2eeda29-613f-48fd-904b-af9aef8813a2",
   "metadata": {
    "execution": {
     "iopub.execute_input": "2024-05-05T02:31:08.595625Z",
     "iopub.status.busy": "2024-05-05T02:31:08.595288Z",
     "iopub.status.idle": "2024-05-05T02:31:08.600266Z",
     "shell.execute_reply": "2024-05-05T02:31:08.599232Z",
     "shell.execute_reply.started": "2024-05-05T02:31:08.595603Z"
    }
   },
   "outputs": [],
   "source": [
    "os.chdir(code_dir)"
   ]
  },
  {
   "cell_type": "code",
   "execution_count": 4,
   "id": "0fbd7621-e800-4235-ab30-80560cc3e1a8",
   "metadata": {
    "execution": {
     "iopub.execute_input": "2024-05-05T02:31:13.866051Z",
     "iopub.status.busy": "2024-05-05T02:31:13.865540Z",
     "iopub.status.idle": "2024-05-05T02:31:13.915330Z",
     "shell.execute_reply": "2024-05-05T02:31:13.914378Z",
     "shell.execute_reply.started": "2024-05-05T02:31:13.866027Z"
    }
   },
   "outputs": [],
   "source": [
    "build_status = os.system(\"fpm build 2>/dev/null\")"
   ]
  },
  {
   "cell_type": "code",
   "execution_count": 5,
   "id": "3176b27d-932e-47a1-8099-4fae064ec661",
   "metadata": {
    "execution": {
     "iopub.execute_input": "2024-05-05T02:33:18.688913Z",
     "iopub.status.busy": "2024-05-05T02:33:18.687810Z",
     "iopub.status.idle": "2024-05-05T02:33:18.740359Z",
     "shell.execute_reply": "2024-05-05T02:33:18.739747Z",
     "shell.execute_reply.started": "2024-05-05T02:33:18.688873Z"
    }
   },
   "outputs": [],
   "source": [
    "exec_status = \\\n",
    "    os.system(\"fpm run 2>/dev/null\")"
   ]
  }
 ],
 "metadata": {
  "kernelspec": {
   "display_name": "Python 3 (ipykernel)",
   "language": "python",
   "name": "python3"
  },
  "language_info": {
   "codemirror_mode": {
    "name": "ipython",
    "version": 3
   },
   "file_extension": ".py",
   "mimetype": "text/x-python",
   "name": "python",
   "nbconvert_exporter": "python",
   "pygments_lexer": "ipython3",
   "version": "3.10.14"
  }
 },
 "nbformat": 4,
 "nbformat_minor": 5
}