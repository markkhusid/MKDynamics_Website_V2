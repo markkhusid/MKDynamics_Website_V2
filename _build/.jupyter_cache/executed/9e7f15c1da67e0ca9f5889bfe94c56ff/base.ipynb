{
 "cells": [
  {
   "cell_type": "code",
   "execution_count": 1,
   "id": "e8ba1050-b7b1-4e9e-87bf-28791145e5e7",
   "metadata": {
    "execution": {
     "iopub.execute_input": "2024-05-12T02:15:59.988300Z",
     "iopub.status.busy": "2024-05-12T02:15:59.987954Z",
     "iopub.status.idle": "2024-05-12T02:15:59.992554Z",
     "shell.execute_reply": "2024-05-12T02:15:59.992205Z",
     "shell.execute_reply.started": "2024-05-12T02:15:59.988276Z"
    }
   },
   "outputs": [],
   "source": [
    "import os\n",
    "root_dir = os.getcwd()"
   ]
  },
  {
   "cell_type": "code",
   "execution_count": 2,
   "id": "bdaf795d-554a-46e6-b4da-faeb331e1b13",
   "metadata": {
    "execution": {
     "iopub.execute_input": "2024-05-12T02:16:00.512629Z",
     "iopub.status.busy": "2024-05-12T02:16:00.512273Z",
     "iopub.status.idle": "2024-05-12T02:16:00.530853Z",
     "shell.execute_reply": "2024-05-12T02:16:00.529929Z",
     "shell.execute_reply.started": "2024-05-12T02:16:00.512606Z"
    }
   },
   "outputs": [],
   "source": [
    "code_dir = root_dir + \"/\" + \"Fortran_Code/Section_14_Pi_Estimation\""
   ]
  },
  {
   "cell_type": "code",
   "execution_count": 3,
   "id": "a7d9f1b1-ba0d-4db1-84ef-7a358f0453a6",
   "metadata": {
    "execution": {
     "iopub.execute_input": "2024-05-12T02:16:01.071940Z",
     "iopub.status.busy": "2024-05-12T02:16:01.071520Z",
     "iopub.status.idle": "2024-05-12T02:16:01.082903Z",
     "shell.execute_reply": "2024-05-12T02:16:01.081318Z",
     "shell.execute_reply.started": "2024-05-12T02:16:01.071918Z"
    }
   },
   "outputs": [],
   "source": [
    "os.chdir(code_dir)"
   ]
  },
  {
   "cell_type": "code",
   "execution_count": 4,
   "id": "0fbd7621-e800-4235-ab30-80560cc3e1a8",
   "metadata": {
    "execution": {
     "iopub.execute_input": "2024-05-12T02:16:01.396081Z",
     "iopub.status.busy": "2024-05-12T02:16:01.393509Z",
     "iopub.status.idle": "2024-05-12T02:16:01.501413Z",
     "shell.execute_reply": "2024-05-12T02:16:01.500108Z",
     "shell.execute_reply.started": "2024-05-12T02:16:01.396051Z"
    }
   },
   "outputs": [],
   "source": [
    "build_status = os.system(\"fpm build 2>/dev/null\")"
   ]
  },
  {
   "cell_type": "code",
   "execution_count": 5,
   "id": "0483d40b-e849-4574-bcbe-003c81a96dd5",
   "metadata": {
    "execution": {
     "iopub.execute_input": "2024-05-12T02:16:01.835548Z",
     "iopub.status.busy": "2024-05-12T02:16:01.835231Z",
     "iopub.status.idle": "2024-05-12T02:16:01.918177Z",
     "shell.execute_reply": "2024-05-12T02:16:01.917023Z",
     "shell.execute_reply.started": "2024-05-12T02:16:01.835528Z"
    }
   },
   "outputs": [
    {
     "name": "stdout",
     "output_type": "stream",
     "text": [
      "\n",
      "Program Example - Pi estimation\n",
      "\n",
      "The number of points to process is ->    1000000\n",
      "\n",
      "The number of points inside the circle were ->     784823\n",
      "\n",
      "Estimated Pi Value:       3.13929200\n",
      "\n"
     ]
    }
   ],
   "source": [
    "exec_status = os.system(\"fpm run 2>/dev/null\")"
   ]
  }
 ],
 "metadata": {
  "kernelspec": {
   "display_name": "Python 3 (ipykernel)",
   "language": "python",
   "name": "python3"
  },
  "language_info": {
   "codemirror_mode": {
    "name": "ipython",
    "version": 3
   },
   "file_extension": ".py",
   "mimetype": "text/x-python",
   "name": "python",
   "nbconvert_exporter": "python",
   "pygments_lexer": "ipython3",
   "version": "3.10.14"
  }
 },
 "nbformat": 4,
 "nbformat_minor": 5
}