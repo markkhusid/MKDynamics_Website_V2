{
 "cells": [
  {
   "cell_type": "code",
   "execution_count": 1,
   "id": "e8ba1050-b7b1-4e9e-87bf-28791145e5e7",
   "metadata": {
    "execution": {
     "iopub.execute_input": "2024-05-12T00:43:00.894206Z",
     "iopub.status.busy": "2024-05-12T00:43:00.893203Z",
     "iopub.status.idle": "2024-05-12T00:43:00.898709Z",
     "shell.execute_reply": "2024-05-12T00:43:00.897722Z",
     "shell.execute_reply.started": "2024-05-12T00:43:00.894181Z"
    }
   },
   "outputs": [],
   "source": [
    "import os\n",
    "root_dir = os.getcwd()"
   ]
  },
  {
   "cell_type": "code",
   "execution_count": 2,
   "id": "bdaf795d-554a-46e6-b4da-faeb331e1b13",
   "metadata": {
    "execution": {
     "iopub.execute_input": "2024-05-12T00:43:02.072134Z",
     "iopub.status.busy": "2024-05-12T00:43:02.071851Z",
     "iopub.status.idle": "2024-05-12T00:43:02.079424Z",
     "shell.execute_reply": "2024-05-12T00:43:02.077949Z",
     "shell.execute_reply.started": "2024-05-12T00:43:02.072115Z"
    }
   },
   "outputs": [],
   "source": [
    "code_dir = root_dir + \"/\" + \"Fortran_Code/Section_9_3_SOS_Difference\""
   ]
  },
  {
   "cell_type": "code",
   "execution_count": 3,
   "id": "a7d9f1b1-ba0d-4db1-84ef-7a358f0453a6",
   "metadata": {
    "execution": {
     "iopub.execute_input": "2024-05-12T00:43:03.160729Z",
     "iopub.status.busy": "2024-05-12T00:43:03.160115Z",
     "iopub.status.idle": "2024-05-12T00:43:03.164723Z",
     "shell.execute_reply": "2024-05-12T00:43:03.164200Z",
     "shell.execute_reply.started": "2024-05-12T00:43:03.160709Z"
    }
   },
   "outputs": [],
   "source": [
    "os.chdir(code_dir)"
   ]
  },
  {
   "cell_type": "code",
   "execution_count": 4,
   "id": "0fbd7621-e800-4235-ab30-80560cc3e1a8",
   "metadata": {
    "execution": {
     "iopub.execute_input": "2024-05-12T00:43:04.163823Z",
     "iopub.status.busy": "2024-05-12T00:43:04.163518Z",
     "iopub.status.idle": "2024-05-12T00:43:04.247414Z",
     "shell.execute_reply": "2024-05-12T00:43:04.246342Z",
     "shell.execute_reply.started": "2024-05-12T00:43:04.163803Z"
    }
   },
   "outputs": [],
   "source": [
    "build_status = os.system(\"fpm build 2>/dev/null\")"
   ]
  },
  {
   "cell_type": "code",
   "execution_count": 5,
   "id": "0483d40b-e849-4574-bcbe-003c81a96dd5",
   "metadata": {
    "execution": {
     "iopub.execute_input": "2024-05-12T00:43:11.904994Z",
     "iopub.status.busy": "2024-05-12T00:43:11.904563Z",
     "iopub.status.idle": "2024-05-12T00:43:11.953158Z",
     "shell.execute_reply": "2024-05-12T00:43:11.951925Z",
     "shell.execute_reply.started": "2024-05-12T00:43:11.904964Z"
    }
   },
   "outputs": [
    {
     "name": "stdout",
     "output_type": "stream",
     "text": [
      "\n",
      "This program calculates the\n",
      "difference between sum of squares \n",
      "and square of sums\n",
      "\n",
      "Results...\n",
      "\n",
      "The square of the sums from 1 to   100 is ->   25502500\n",
      "\n",
      "The sum of the squares from 1 to   100 is ->     338350\n",
      "\n",
      "The difference between the square of the sums and sum of the squares is ->   25164150\n",
      "\n"
     ]
    }
   ],
   "source": [
    "exec_status = os.system(\"fpm run 2>/dev/null\")"
   ]
  }
 ],
 "metadata": {
  "kernelspec": {
   "display_name": "Python 3 (ipykernel)",
   "language": "python",
   "name": "python3"
  },
  "language_info": {
   "codemirror_mode": {
    "name": "ipython",
    "version": 3
   },
   "file_extension": ".py",
   "mimetype": "text/x-python",
   "name": "python",
   "nbconvert_exporter": "python",
   "pygments_lexer": "ipython3",
   "version": "3.10.14"
  }
 },
 "nbformat": 4,
 "nbformat_minor": 5
}