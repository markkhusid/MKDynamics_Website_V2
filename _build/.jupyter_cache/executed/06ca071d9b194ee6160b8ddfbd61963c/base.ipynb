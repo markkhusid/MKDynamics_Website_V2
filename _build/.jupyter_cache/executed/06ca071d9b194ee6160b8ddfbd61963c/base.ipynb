{
 "cells": [
  {
   "cell_type": "code",
   "execution_count": 1,
   "id": "5ebace28-6569-4f73-9a43-f53d4c64fc32",
   "metadata": {
    "execution": {
     "iopub.execute_input": "2024-05-05T03:16:46.988558Z",
     "iopub.status.busy": "2024-05-05T03:16:46.988234Z",
     "iopub.status.idle": "2024-05-05T03:16:46.992827Z",
     "shell.execute_reply": "2024-05-05T03:16:46.991964Z",
     "shell.execute_reply.started": "2024-05-05T03:16:46.988534Z"
    }
   },
   "outputs": [],
   "source": [
    "import os\n",
    "root_dir = os.getcwd()"
   ]
  },
  {
   "cell_type": "code",
   "execution_count": 2,
   "id": "ef493ade-dfdf-4ea2-89ab-98a61353948b",
   "metadata": {
    "execution": {
     "iopub.execute_input": "2024-05-05T03:16:47.328097Z",
     "iopub.status.busy": "2024-05-05T03:16:47.327728Z",
     "iopub.status.idle": "2024-05-05T03:16:47.337137Z",
     "shell.execute_reply": "2024-05-05T03:16:47.336687Z",
     "shell.execute_reply.started": "2024-05-05T03:16:47.328075Z"
    }
   },
   "outputs": [],
   "source": [
    "code_dir = root_dir + \"/\" + \"Fortran_Code/Print_Compiler_Version\""
   ]
  },
  {
   "cell_type": "code",
   "execution_count": 3,
   "id": "524753ac-5c2c-46fb-8841-f61ec40ae872",
   "metadata": {
    "execution": {
     "iopub.execute_input": "2024-05-05T03:16:47.713027Z",
     "iopub.status.busy": "2024-05-05T03:16:47.712630Z",
     "iopub.status.idle": "2024-05-05T03:16:47.737988Z",
     "shell.execute_reply": "2024-05-05T03:16:47.725080Z",
     "shell.execute_reply.started": "2024-05-05T03:16:47.713004Z"
    }
   },
   "outputs": [],
   "source": [
    "os.chdir(code_dir)"
   ]
  },
  {
   "cell_type": "code",
   "execution_count": 4,
   "id": "9a4ce293-09fc-4eec-b5d4-04bae94e5b25",
   "metadata": {
    "execution": {
     "iopub.execute_input": "2024-05-05T03:16:48.228761Z",
     "iopub.status.busy": "2024-05-05T03:16:48.228421Z",
     "iopub.status.idle": "2024-05-05T03:16:48.268416Z",
     "shell.execute_reply": "2024-05-05T03:16:48.267878Z",
     "shell.execute_reply.started": "2024-05-05T03:16:48.228738Z"
    }
   },
   "outputs": [],
   "source": [
    "build_status = os.system(\"fpm build 2>/dev/null\")"
   ]
  },
  {
   "cell_type": "code",
   "execution_count": 5,
   "id": "283ad703-2666-4e02-bb4e-359337d70bb5",
   "metadata": {
    "execution": {
     "iopub.execute_input": "2024-05-05T03:16:48.851929Z",
     "iopub.status.busy": "2024-05-05T03:16:48.851654Z",
     "iopub.status.idle": "2024-05-05T03:16:48.950384Z",
     "shell.execute_reply": "2024-05-05T03:16:48.920917Z",
     "shell.execute_reply.started": "2024-05-05T03:16:48.851908Z"
    }
   },
   "outputs": [
    {
     "name": "stdout",
     "output_type": "stream",
     "text": [
      " Compiler version: GCC version 12.2.0\n",
      " Compiler options: -I build/gfortran_87E2AE0597D39913 -mtune=generic -march=x86-64 -g -Wall -Wextra -Werror=implicit-interface -fPIC -fmax-errors=1 -fbounds-check -fcheck=array-temps -fbacktrace -fcoarray=single -fimplicit-none -ffree-form -J build/gfortran_87E2AE0597D39913 -fpre-include=/usr/include/finclude/x86_64-linux-gnu/math-vector-fortran.h\n"
     ]
    }
   ],
   "source": [
    "exec_status = os.system(\"fpm run 2>/dev/null\")"
   ]
  }
 ],
 "metadata": {
  "kernelspec": {
   "display_name": "Python 3 (ipykernel)",
   "language": "python",
   "name": "python3"
  },
  "language_info": {
   "codemirror_mode": {
    "name": "ipython",
    "version": 3
   },
   "file_extension": ".py",
   "mimetype": "text/x-python",
   "name": "python",
   "nbconvert_exporter": "python",
   "pygments_lexer": "ipython3",
   "version": "3.10.14"
  }
 },
 "nbformat": 4,
 "nbformat_minor": 5
}