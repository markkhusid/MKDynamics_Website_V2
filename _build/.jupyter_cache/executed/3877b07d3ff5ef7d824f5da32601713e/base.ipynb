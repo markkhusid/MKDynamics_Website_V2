{
 "cells": [
  {
   "cell_type": "code",
   "execution_count": 1,
   "id": "f16472aa-c965-4bad-a218-fee33f7b456a",
   "metadata": {},
   "outputs": [],
   "source": [
    "import os\n",
    "root_dir = \"\"\n",
    "root_dir = os.getcwd()"
   ]
  },
  {
   "cell_type": "code",
   "execution_count": 2,
   "id": "f77f9126-86cc-4a1b-89b9-5ad5f61cf72c",
   "metadata": {
    "tags": []
   },
   "outputs": [],
   "source": [
    "code_dir = root_dir + \"/\" + \"Fortran_Code/Section_BLAS_LAPACK_DDOT_Timing\""
   ]
  },
  {
   "cell_type": "code",
   "execution_count": 3,
   "id": "c2eeda29-613f-48fd-904b-af9aef8813a2",
   "metadata": {},
   "outputs": [],
   "source": [
    "os.chdir(code_dir)"
   ]
  },
  {
   "cell_type": "code",
   "execution_count": 4,
   "id": "0fbd7621-e800-4235-ab30-80560cc3e1a8",
   "metadata": {},
   "outputs": [],
   "source": [
    "build_status = os.system(\"fpm build 2>/dev/null\")"
   ]
  },
  {
   "cell_type": "code",
   "execution_count": 5,
   "id": "3176b27d-932e-47a1-8099-4fae064ec661",
   "metadata": {},
   "outputs": [
    {
     "name": "stdout",
     "output_type": "stream",
     "text": [
      " Received command line arguments...\n",
      "Runs:          1\n",
      "Array size:       1000\n",
      " Filling arrays u, v with data...\n",
      " Starting DDOT run...\n",
      " Starting Loop run...\n",
      "ddot time:   0.000030, loop time:   0.000006\n"
     ]
    }
   ],
   "source": [
    "exec_status = \\\n",
    "    os.system(\"fpm run 2>/dev/null -- 1 1000\")"
   ]
  },
  {
   "cell_type": "code",
   "execution_count": 6,
   "id": "d7ca3dd7",
   "metadata": {},
   "outputs": [
    {
     "name": "stdout",
     "output_type": "stream",
     "text": [
      " Received command line arguments...\n",
      "Runs:          1\n",
      "Array size:      10000\n",
      " Filling arrays u, v with data...\n",
      " Starting DDOT run...\n",
      " Starting Loop run...\n",
      "ddot time:   0.000033, loop time:   0.000022\n"
     ]
    }
   ],
   "source": [
    "exec_status = \\\n",
    "    os.system(\"fpm run 2>/dev/null -- 1 10000\")"
   ]
  },
  {
   "cell_type": "code",
   "execution_count": 7,
   "id": "5921dda1",
   "metadata": {},
   "outputs": [
    {
     "name": "stdout",
     "output_type": "stream",
     "text": [
      " Received command line arguments...\n",
      "Runs:          1\n",
      "Array size:     100000\n",
      " Filling arrays u, v with data...\n",
      " Starting DDOT run...\n",
      " Starting Loop run...\n",
      "ddot time:   0.000224, loop time:   0.000427\n"
     ]
    }
   ],
   "source": [
    "exec_status = \\\n",
    "    os.system(\"fpm run 2>/dev/null -- 1 100000\")"
   ]
  },
  {
   "cell_type": "code",
   "execution_count": 8,
   "id": "fade6214",
   "metadata": {},
   "outputs": [
    {
     "name": "stdout",
     "output_type": "stream",
     "text": [
      " Received command line arguments...\n",
      "Runs:          1\n",
      "Array size:    1000000\n",
      " Filling arrays u, v with data...\n",
      " Starting DDOT run...\n",
      " Starting Loop run...\n",
      "ddot time:   0.002128, loop time:   0.002818\n"
     ]
    }
   ],
   "source": [
    "exec_status = \\\n",
    "    os.system(\"fpm run 2>/dev/null -- 1 1000000\")"
   ]
  },
  {
   "cell_type": "code",
   "execution_count": 9,
   "id": "c14ed21f",
   "metadata": {},
   "outputs": [
    {
     "name": "stdout",
     "output_type": "stream",
     "text": [
      " Received command line arguments...\n",
      "Runs:          1\n",
      "Array size:   10000000\n",
      " Filling arrays u, v with data...\n"
     ]
    },
    {
     "name": "stdout",
     "output_type": "stream",
     "text": [
      " Starting DDOT run...\n",
      " Starting Loop run...\n"
     ]
    },
    {
     "name": "stdout",
     "output_type": "stream",
     "text": [
      "ddot time:   0.017535, loop time:   0.031079\n"
     ]
    }
   ],
   "source": [
    "exec_status = \\\n",
    "    os.system(\"fpm run 2>/dev/null -- 1 10000000\")"
   ]
  },
  {
   "cell_type": "code",
   "execution_count": 10,
   "id": "d4a1253b",
   "metadata": {},
   "outputs": [
    {
     "name": "stdout",
     "output_type": "stream",
     "text": [
      " Received command line arguments...\n",
      "Runs:          1\n",
      "Array size:  100000000\n",
      " Filling arrays u, v with data...\n"
     ]
    },
    {
     "name": "stdout",
     "output_type": "stream",
     "text": [
      " Starting DDOT run...\n"
     ]
    },
    {
     "name": "stdout",
     "output_type": "stream",
     "text": [
      " Starting Loop run...\n"
     ]
    },
    {
     "name": "stdout",
     "output_type": "stream",
     "text": [
      "ddot time:   0.244720, loop time:   0.387014\n"
     ]
    }
   ],
   "source": [
    "exec_status = \\\n",
    "    os.system(\"fpm run 2>/dev/null -- 1 100000000\")"
   ]
  },
  {
   "cell_type": "code",
   "execution_count": 11,
   "id": "fe8ee70f",
   "metadata": {},
   "outputs": [
    {
     "name": "stdout",
     "output_type": "stream",
     "text": [
      " Received command line arguments...\n",
      "Runs:          1\n",
      "Array size:   50000000\n",
      " Filling arrays u, v with data...\n"
     ]
    },
    {
     "name": "stdout",
     "output_type": "stream",
     "text": [
      " Starting DDOT run...\n",
      " Starting Loop run...\n"
     ]
    },
    {
     "name": "stdout",
     "output_type": "stream",
     "text": [
      "ddot time:   0.100836, loop time:   0.177330\n"
     ]
    }
   ],
   "source": [
    "exec_status = \\\n",
    "    os.system(\"fpm run 2>/dev/null\")"
   ]
  }
 ],
 "metadata": {
  "kernelspec": {
   "display_name": "base",
   "language": "python",
   "name": "python3"
  },
  "language_info": {
   "codemirror_mode": {
    "name": "ipython",
    "version": 3
   },
   "file_extension": ".py",
   "mimetype": "text/x-python",
   "name": "python",
   "nbconvert_exporter": "python",
   "pygments_lexer": "ipython3",
   "version": "3.10.14"
  },
  "vscode": {
   "interpreter": {
    "hash": "1c7edbfe09241e3ab70fdbaa9340a6c53382c0b8a91b6341e8f1e4440b6e3c70"
   }
  }
 },
 "nbformat": 4,
 "nbformat_minor": 5
}