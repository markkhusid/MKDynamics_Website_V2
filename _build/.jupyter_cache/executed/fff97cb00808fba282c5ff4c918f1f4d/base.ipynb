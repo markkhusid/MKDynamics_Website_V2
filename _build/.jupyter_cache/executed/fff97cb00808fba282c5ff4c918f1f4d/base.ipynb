{
 "cells": [
  {
   "cell_type": "code",
   "execution_count": 1,
   "id": "f091e74f-fca0-43fa-8114-1c526abb4f95",
   "metadata": {},
   "outputs": [],
   "source": [
    "import os\n",
    "root_dir = os.getcwd()"
   ]
  },
  {
   "cell_type": "code",
   "execution_count": 2,
   "id": "9836a2e4-d065-4ba0-928b-66a4e7cce418",
   "metadata": {},
   "outputs": [],
   "source": [
    "code_dir = root_dir + \"/\" + \\\n",
    "    \"Cpp_Code/Chapter_7_3_Friend_Functions\""
   ]
  },
  {
   "cell_type": "code",
   "execution_count": 3,
   "id": "af912e98-7de3-40d7-8825-217493f6a66b",
   "metadata": {},
   "outputs": [],
   "source": [
    "os.chdir(code_dir)"
   ]
  },
  {
   "cell_type": "code",
   "execution_count": 4,
   "id": "a734c6b9-cf2b-455b-a921-40f7efc58bd2",
   "metadata": {},
   "outputs": [],
   "source": [
    "build_command = os.system(\"g++ matrix2.cpp -w -o matrix2\")"
   ]
  },
  {
   "cell_type": "code",
   "execution_count": 5,
   "id": "e58df301-ac7c-4090-bc7f-87caea2890fa",
   "metadata": {},
   "outputs": [
    {
     "name": "stdout",
     "output_type": "stream",
     "text": [
      "vector a is\n",
      "3\t2\t1\t\n",
      "\n",
      "vector b is\n",
      "1\t2\t3\t\n",
      "\n",
      "vector c is\n",
      "10\t20\t30\t40\t50\t60\t\n",
      "\n",
      "vector d is\n",
      "100\t101\t102\t103\t104\t105\t\n",
      "\n",
      "matrix m is\n",
      "\n",
      "row  1\n",
      "0\t1\t2\t3\t4\t5\t\n",
      "row  2\n",
      "1\t2\t3\t4\t5\t6\t\n",
      "row  3\n",
      "2\t3\t4\t5\t6\t7\t\n",
      "\n",
      "vector c product is\n",
      "4\t10\t16\t22\t28\t34\t\n"
     ]
    }
   ],
   "source": [
    "exec_status = os.system(\"./matrix2\")"
   ]
  }
 ],
 "metadata": {
  "kernelspec": {
   "display_name": "Python 3 (ipykernel)",
   "language": "python",
   "name": "python3"
  },
  "language_info": {
   "codemirror_mode": {
    "name": "ipython",
    "version": 3
   },
   "file_extension": ".py",
   "mimetype": "text/x-python",
   "name": "python",
   "nbconvert_exporter": "python",
   "pygments_lexer": "ipython3",
   "version": "3.10.14"
  },
  "vscode": {
   "interpreter": {
    "hash": "916dbcbb3f70747c44a77c7bcd40155683ae19c65e1c03b4aa3499c5328201f1"
   }
  }
 },
 "nbformat": 4,
 "nbformat_minor": 5
}