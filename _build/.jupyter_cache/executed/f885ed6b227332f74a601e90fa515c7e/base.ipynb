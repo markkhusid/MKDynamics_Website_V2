{
 "cells": [
  {
   "cell_type": "code",
   "execution_count": 1,
   "id": "f16472aa-c965-4bad-a218-fee33f7b456a",
   "metadata": {
    "execution": {
     "iopub.execute_input": "2024-05-05T04:19:52.669821Z",
     "iopub.status.busy": "2024-05-05T04:19:52.669274Z",
     "iopub.status.idle": "2024-05-05T04:19:52.676027Z",
     "shell.execute_reply": "2024-05-05T04:19:52.674933Z",
     "shell.execute_reply.started": "2024-05-05T04:19:52.669799Z"
    }
   },
   "outputs": [],
   "source": [
    "import os\n",
    "root_dir = \"\"\n",
    "root_dir = os.getcwd()"
   ]
  },
  {
   "cell_type": "code",
   "execution_count": 2,
   "id": "f77f9126-86cc-4a1b-89b9-5ad5f61cf72c",
   "metadata": {
    "execution": {
     "iopub.execute_input": "2024-05-05T04:19:54.194828Z",
     "iopub.status.busy": "2024-05-05T04:19:54.194541Z",
     "iopub.status.idle": "2024-05-05T04:19:54.199912Z",
     "shell.execute_reply": "2024-05-05T04:19:54.198835Z",
     "shell.execute_reply.started": "2024-05-05T04:19:54.194807Z"
    },
    "tags": []
   },
   "outputs": [],
   "source": [
    "code_dir = root_dir + \"/\" + \"Fortran_Code/Section_BLAS_LAPACK_Linear_Equations\""
   ]
  },
  {
   "cell_type": "code",
   "execution_count": 3,
   "id": "c2eeda29-613f-48fd-904b-af9aef8813a2",
   "metadata": {
    "execution": {
     "iopub.execute_input": "2024-05-05T04:19:55.735289Z",
     "iopub.status.busy": "2024-05-05T04:19:55.734965Z",
     "iopub.status.idle": "2024-05-05T04:19:55.740517Z",
     "shell.execute_reply": "2024-05-05T04:19:55.739285Z",
     "shell.execute_reply.started": "2024-05-05T04:19:55.735266Z"
    }
   },
   "outputs": [],
   "source": [
    "os.chdir(code_dir)"
   ]
  },
  {
   "cell_type": "code",
   "execution_count": 4,
   "id": "0fbd7621-e800-4235-ab30-80560cc3e1a8",
   "metadata": {
    "execution": {
     "iopub.execute_input": "2024-05-05T04:19:57.845885Z",
     "iopub.status.busy": "2024-05-05T04:19:57.845447Z",
     "iopub.status.idle": "2024-05-05T04:19:57.892194Z",
     "shell.execute_reply": "2024-05-05T04:19:57.890874Z",
     "shell.execute_reply.started": "2024-05-05T04:19:57.845861Z"
    }
   },
   "outputs": [],
   "source": [
    "build_status = os.system(\"fpm build 2>/dev/null\")"
   ]
  },
  {
   "cell_type": "code",
   "execution_count": 5,
   "id": "1c01eb34",
   "metadata": {
    "execution": {
     "iopub.execute_input": "2024-05-05T04:20:07.136124Z",
     "iopub.status.busy": "2024-05-05T04:20:07.135790Z",
     "iopub.status.idle": "2024-05-05T04:20:07.143198Z",
     "shell.execute_reply": "2024-05-05T04:20:07.140928Z",
     "shell.execute_reply.started": "2024-05-05T04:20:07.136104Z"
    }
   },
   "outputs": [
    {
     "name": "stdout",
     "output_type": "stream",
     "text": [
      "Overwriting A_test1.txt\n"
     ]
    }
   ],
   "source": [
    "%%writefile A_test1.txt\n",
    "2 8\n",
    "1 2"
   ]
  },
  {
   "cell_type": "code",
   "execution_count": 6,
   "id": "249b8e0d",
   "metadata": {
    "execution": {
     "iopub.execute_input": "2024-05-05T04:20:08.086298Z",
     "iopub.status.busy": "2024-05-05T04:20:08.086028Z",
     "iopub.status.idle": "2024-05-05T04:20:08.115926Z",
     "shell.execute_reply": "2024-05-05T04:20:08.111169Z",
     "shell.execute_reply.started": "2024-05-05T04:20:08.086278Z"
    }
   },
   "outputs": [
    {
     "name": "stdout",
     "output_type": "stream",
     "text": [
      "Overwriting b_test1.txt\n"
     ]
    }
   ],
   "source": [
    "%%writefile b_test1.txt\n",
    "20\n",
    "4"
   ]
  },
  {
   "cell_type": "code",
   "execution_count": 7,
   "id": "3176b27d-932e-47a1-8099-4fae064ec661",
   "metadata": {
    "execution": {
     "iopub.execute_input": "2024-05-05T04:20:12.697873Z",
     "iopub.status.busy": "2024-05-05T04:20:12.697542Z",
     "iopub.status.idle": "2024-05-05T04:20:12.798103Z",
     "shell.execute_reply": "2024-05-05T04:20:12.797223Z",
     "shell.execute_reply.started": "2024-05-05T04:20:12.697850Z"
    }
   },
   "outputs": [
    {
     "name": "stdout",
     "output_type": "stream",
     "text": [
      "         -2.000000000000000\n",
      "          3.000000000000000\n"
     ]
    }
   ],
   "source": [
    "exec_status = \\\n",
    "    os.system(\"fpm run solve_equations 2>/dev/null -- 2 A_test1.txt b_test1.txt\")"
   ]
  },
  {
   "cell_type": "code",
   "execution_count": 8,
   "id": "3114a075",
   "metadata": {
    "execution": {
     "iopub.execute_input": "2024-05-05T04:20:16.439976Z",
     "iopub.status.busy": "2024-05-05T04:20:16.439669Z",
     "iopub.status.idle": "2024-05-05T04:20:16.449574Z",
     "shell.execute_reply": "2024-05-05T04:20:16.448315Z",
     "shell.execute_reply.started": "2024-05-05T04:20:16.439954Z"
    }
   },
   "outputs": [
    {
     "name": "stdout",
     "output_type": "stream",
     "text": [
      "x1 = -2.0\n",
      "x2 = 3.0\n"
     ]
    }
   ],
   "source": [
    "import numpy as np\n",
    "\n",
    "A = np.genfromtxt(\"A_test1.txt\")\n",
    "b = np.genfromtxt(\"b_test1.txt\")\n",
    "x = np.linalg.solve(A, b)\n",
    "print(\"x1 = {0:2.1f}\".format(x[0]))\n",
    "print(\"x2 = {0:2.1f}\".format(x[1]))"
   ]
  },
  {
   "cell_type": "code",
   "execution_count": 9,
   "id": "22de1ace",
   "metadata": {
    "execution": {
     "iopub.execute_input": "2024-05-05T04:20:19.650308Z",
     "iopub.status.busy": "2024-05-05T04:20:19.649857Z",
     "iopub.status.idle": "2024-05-05T04:20:19.691204Z",
     "shell.execute_reply": "2024-05-05T04:20:19.690285Z",
     "shell.execute_reply.started": "2024-05-05T04:20:19.650281Z"
    }
   },
   "outputs": [],
   "source": [
    "exec_status = os.system(\"fpm run generate_array 2>/dev/null -- 10 10 > A_test2.txt\") "
   ]
  },
  {
   "cell_type": "code",
   "execution_count": 10,
   "id": "cd5fb348",
   "metadata": {
    "execution": {
     "iopub.execute_input": "2024-05-05T04:20:21.610247Z",
     "iopub.status.busy": "2024-05-05T04:20:21.609537Z",
     "iopub.status.idle": "2024-05-05T04:20:21.646148Z",
     "shell.execute_reply": "2024-05-05T04:20:21.641964Z",
     "shell.execute_reply.started": "2024-05-05T04:20:21.610223Z"
    }
   },
   "outputs": [
    {
     "data": {
      "text/html": [
       "<div>\n",
       "<style scoped>\n",
       "    .dataframe tbody tr th:only-of-type {\n",
       "        vertical-align: middle;\n",
       "    }\n",
       "\n",
       "    .dataframe tbody tr th {\n",
       "        vertical-align: top;\n",
       "    }\n",
       "\n",
       "    .dataframe thead th {\n",
       "        text-align: right;\n",
       "    }\n",
       "</style>\n",
       "<table border=\"1\" class=\"dataframe\">\n",
       "  <thead>\n",
       "    <tr style=\"text-align: right;\">\n",
       "      <th></th>\n",
       "      <th>0</th>\n",
       "      <th>1</th>\n",
       "      <th>2</th>\n",
       "      <th>3</th>\n",
       "      <th>4</th>\n",
       "      <th>5</th>\n",
       "      <th>6</th>\n",
       "      <th>7</th>\n",
       "      <th>8</th>\n",
       "      <th>9</th>\n",
       "    </tr>\n",
       "  </thead>\n",
       "  <tbody>\n",
       "    <tr>\n",
       "      <th>0</th>\n",
       "      <td>0.529713</td>\n",
       "      <td>0.722936</td>\n",
       "      <td>0.231301</td>\n",
       "      <td>0.533395</td>\n",
       "      <td>0.891596</td>\n",
       "      <td>0.231641</td>\n",
       "      <td>0.382307</td>\n",
       "      <td>0.784340</td>\n",
       "      <td>0.777888</td>\n",
       "      <td>0.606638</td>\n",
       "    </tr>\n",
       "    <tr>\n",
       "      <th>1</th>\n",
       "      <td>0.132722</td>\n",
       "      <td>0.416119</td>\n",
       "      <td>0.974570</td>\n",
       "      <td>0.749411</td>\n",
       "      <td>0.815394</td>\n",
       "      <td>0.745239</td>\n",
       "      <td>0.121193</td>\n",
       "      <td>0.507933</td>\n",
       "      <td>0.318646</td>\n",
       "      <td>0.249498</td>\n",
       "    </tr>\n",
       "    <tr>\n",
       "      <th>2</th>\n",
       "      <td>0.641127</td>\n",
       "      <td>0.984348</td>\n",
       "      <td>0.603688</td>\n",
       "      <td>0.903587</td>\n",
       "      <td>0.614877</td>\n",
       "      <td>0.949881</td>\n",
       "      <td>0.278559</td>\n",
       "      <td>0.883549</td>\n",
       "      <td>0.399152</td>\n",
       "      <td>0.321099</td>\n",
       "    </tr>\n",
       "    <tr>\n",
       "      <th>3</th>\n",
       "      <td>0.725387</td>\n",
       "      <td>0.188166</td>\n",
       "      <td>0.631688</td>\n",
       "      <td>0.896246</td>\n",
       "      <td>0.653417</td>\n",
       "      <td>0.409462</td>\n",
       "      <td>0.237410</td>\n",
       "      <td>0.426012</td>\n",
       "      <td>0.291939</td>\n",
       "      <td>0.767255</td>\n",
       "    </tr>\n",
       "    <tr>\n",
       "      <th>4</th>\n",
       "      <td>0.793730</td>\n",
       "      <td>0.888977</td>\n",
       "      <td>0.230383</td>\n",
       "      <td>0.101780</td>\n",
       "      <td>0.502465</td>\n",
       "      <td>0.534204</td>\n",
       "      <td>0.285539</td>\n",
       "      <td>0.014302</td>\n",
       "      <td>0.790809</td>\n",
       "      <td>0.646838</td>\n",
       "    </tr>\n",
       "    <tr>\n",
       "      <th>5</th>\n",
       "      <td>0.955425</td>\n",
       "      <td>0.259485</td>\n",
       "      <td>0.717656</td>\n",
       "      <td>0.798483</td>\n",
       "      <td>0.273497</td>\n",
       "      <td>0.402048</td>\n",
       "      <td>0.477898</td>\n",
       "      <td>0.208237</td>\n",
       "      <td>0.666987</td>\n",
       "      <td>0.543680</td>\n",
       "    </tr>\n",
       "    <tr>\n",
       "      <th>6</th>\n",
       "      <td>0.297030</td>\n",
       "      <td>0.223514</td>\n",
       "      <td>0.749741</td>\n",
       "      <td>0.507576</td>\n",
       "      <td>0.703502</td>\n",
       "      <td>0.503245</td>\n",
       "      <td>0.469250</td>\n",
       "      <td>0.482831</td>\n",
       "      <td>0.400218</td>\n",
       "      <td>0.174519</td>\n",
       "    </tr>\n",
       "    <tr>\n",
       "      <th>7</th>\n",
       "      <td>0.404592</td>\n",
       "      <td>0.620247</td>\n",
       "      <td>0.817913</td>\n",
       "      <td>0.786653</td>\n",
       "      <td>0.971986</td>\n",
       "      <td>0.508362</td>\n",
       "      <td>0.439124</td>\n",
       "      <td>0.751862</td>\n",
       "      <td>0.552740</td>\n",
       "      <td>0.859885</td>\n",
       "    </tr>\n",
       "    <tr>\n",
       "      <th>8</th>\n",
       "      <td>0.293671</td>\n",
       "      <td>0.249501</td>\n",
       "      <td>0.550982</td>\n",
       "      <td>0.743546</td>\n",
       "      <td>0.541855</td>\n",
       "      <td>0.994462</td>\n",
       "      <td>0.607571</td>\n",
       "      <td>0.356741</td>\n",
       "      <td>0.564942</td>\n",
       "      <td>0.236013</td>\n",
       "    </tr>\n",
       "    <tr>\n",
       "      <th>9</th>\n",
       "      <td>0.263760</td>\n",
       "      <td>0.263627</td>\n",
       "      <td>0.294597</td>\n",
       "      <td>0.858652</td>\n",
       "      <td>0.028307</td>\n",
       "      <td>0.666393</td>\n",
       "      <td>0.871802</td>\n",
       "      <td>0.514591</td>\n",
       "      <td>0.288463</td>\n",
       "      <td>0.667020</td>\n",
       "    </tr>\n",
       "  </tbody>\n",
       "</table>\n",
       "</div>"
      ],
      "text/plain": [
       "          0         1         2         3         4         5         6  \\\n",
       "0  0.529713  0.722936  0.231301  0.533395  0.891596  0.231641  0.382307   \n",
       "1  0.132722  0.416119  0.974570  0.749411  0.815394  0.745239  0.121193   \n",
       "2  0.641127  0.984348  0.603688  0.903587  0.614877  0.949881  0.278559   \n",
       "3  0.725387  0.188166  0.631688  0.896246  0.653417  0.409462  0.237410   \n",
       "4  0.793730  0.888977  0.230383  0.101780  0.502465  0.534204  0.285539   \n",
       "5  0.955425  0.259485  0.717656  0.798483  0.273497  0.402048  0.477898   \n",
       "6  0.297030  0.223514  0.749741  0.507576  0.703502  0.503245  0.469250   \n",
       "7  0.404592  0.620247  0.817913  0.786653  0.971986  0.508362  0.439124   \n",
       "8  0.293671  0.249501  0.550982  0.743546  0.541855  0.994462  0.607571   \n",
       "9  0.263760  0.263627  0.294597  0.858652  0.028307  0.666393  0.871802   \n",
       "\n",
       "          7         8         9  \n",
       "0  0.784340  0.777888  0.606638  \n",
       "1  0.507933  0.318646  0.249498  \n",
       "2  0.883549  0.399152  0.321099  \n",
       "3  0.426012  0.291939  0.767255  \n",
       "4  0.014302  0.790809  0.646838  \n",
       "5  0.208237  0.666987  0.543680  \n",
       "6  0.482831  0.400218  0.174519  \n",
       "7  0.751862  0.552740  0.859885  \n",
       "8  0.356741  0.564942  0.236013  \n",
       "9  0.514591  0.288463  0.667020  "
      ]
     },
     "execution_count": 10,
     "metadata": {},
     "output_type": "execute_result"
    }
   ],
   "source": [
    "import pandas as pd\n",
    "A = pd.read_table(\"A_test2.txt\", \n",
    "    header=None, \n",
    "    sep='\\s+')\n",
    "A"
   ]
  },
  {
   "cell_type": "code",
   "execution_count": 11,
   "id": "38b6c712",
   "metadata": {
    "execution": {
     "iopub.execute_input": "2024-05-05T04:20:23.264901Z",
     "iopub.status.busy": "2024-05-05T04:20:23.264622Z",
     "iopub.status.idle": "2024-05-05T04:20:23.327229Z",
     "shell.execute_reply": "2024-05-05T04:20:23.326264Z",
     "shell.execute_reply.started": "2024-05-05T04:20:23.264881Z"
    }
   },
   "outputs": [],
   "source": [
    "exec_status = os.system(\"fpm run generate_array 2>/dev/null -- 10 > b_test2.txt\") "
   ]
  },
  {
   "cell_type": "code",
   "execution_count": 12,
   "id": "fc631ba4",
   "metadata": {
    "execution": {
     "iopub.execute_input": "2024-05-05T04:20:25.426522Z",
     "iopub.status.busy": "2024-05-05T04:20:25.426174Z",
     "iopub.status.idle": "2024-05-05T04:20:25.436331Z",
     "shell.execute_reply": "2024-05-05T04:20:25.435560Z",
     "shell.execute_reply.started": "2024-05-05T04:20:25.426502Z"
    }
   },
   "outputs": [
    {
     "data": {
      "text/html": [
       "<div>\n",
       "<style scoped>\n",
       "    .dataframe tbody tr th:only-of-type {\n",
       "        vertical-align: middle;\n",
       "    }\n",
       "\n",
       "    .dataframe tbody tr th {\n",
       "        vertical-align: top;\n",
       "    }\n",
       "\n",
       "    .dataframe thead th {\n",
       "        text-align: right;\n",
       "    }\n",
       "</style>\n",
       "<table border=\"1\" class=\"dataframe\">\n",
       "  <thead>\n",
       "    <tr style=\"text-align: right;\">\n",
       "      <th></th>\n",
       "      <th>0</th>\n",
       "    </tr>\n",
       "  </thead>\n",
       "  <tbody>\n",
       "    <tr>\n",
       "      <th>0</th>\n",
       "      <td>0.388090</td>\n",
       "    </tr>\n",
       "    <tr>\n",
       "      <th>1</th>\n",
       "      <td>0.715672</td>\n",
       "    </tr>\n",
       "    <tr>\n",
       "      <th>2</th>\n",
       "      <td>0.681702</td>\n",
       "    </tr>\n",
       "    <tr>\n",
       "      <th>3</th>\n",
       "      <td>0.699964</td>\n",
       "    </tr>\n",
       "    <tr>\n",
       "      <th>4</th>\n",
       "      <td>0.878440</td>\n",
       "    </tr>\n",
       "    <tr>\n",
       "      <th>5</th>\n",
       "      <td>0.511733</td>\n",
       "    </tr>\n",
       "    <tr>\n",
       "      <th>6</th>\n",
       "      <td>0.316539</td>\n",
       "    </tr>\n",
       "    <tr>\n",
       "      <th>7</th>\n",
       "      <td>0.166531</td>\n",
       "    </tr>\n",
       "    <tr>\n",
       "      <th>8</th>\n",
       "      <td>0.834975</td>\n",
       "    </tr>\n",
       "    <tr>\n",
       "      <th>9</th>\n",
       "      <td>0.932608</td>\n",
       "    </tr>\n",
       "  </tbody>\n",
       "</table>\n",
       "</div>"
      ],
      "text/plain": [
       "          0\n",
       "0  0.388090\n",
       "1  0.715672\n",
       "2  0.681702\n",
       "3  0.699964\n",
       "4  0.878440\n",
       "5  0.511733\n",
       "6  0.316539\n",
       "7  0.166531\n",
       "8  0.834975\n",
       "9  0.932608"
      ]
     },
     "execution_count": 12,
     "metadata": {},
     "output_type": "execute_result"
    }
   ],
   "source": [
    "b = pd.read_table(\"b_test2.txt\", \n",
    "    header=None, \n",
    "    sep='\\s+')\n",
    "b"
   ]
  },
  {
   "cell_type": "code",
   "execution_count": 13,
   "id": "d22f4254",
   "metadata": {
    "execution": {
     "iopub.execute_input": "2024-05-05T04:20:27.546995Z",
     "iopub.status.busy": "2024-05-05T04:20:27.546600Z",
     "iopub.status.idle": "2024-05-05T04:20:27.602102Z",
     "shell.execute_reply": "2024-05-05T04:20:27.601297Z",
     "shell.execute_reply.started": "2024-05-05T04:20:27.546975Z"
    }
   },
   "outputs": [
    {
     "name": "stdout",
     "output_type": "stream",
     "text": [
      "         -1.734067700216211\n",
      "          9.343018075590516\n",
      "         -3.314280772160507\n",
      "         11.380226062050223\n",
      "          7.162188262361305\n",
      "         -6.654541818653176\n",
      "          7.590035710990191\n",
      "        -13.172082562646260\n",
      "         -6.180500314008898\n",
      "         -5.535794957580744\n"
     ]
    }
   ],
   "source": [
    "exec_status = \\\n",
    "    os.system(\"fpm run solve_equations 2>/dev/null -- 10 A_test2.txt b_test2.txt\")"
   ]
  },
  {
   "cell_type": "code",
   "execution_count": 14,
   "id": "b5b50489",
   "metadata": {
    "execution": {
     "iopub.execute_input": "2024-05-05T04:20:29.578093Z",
     "iopub.status.busy": "2024-05-05T04:20:29.577819Z",
     "iopub.status.idle": "2024-05-05T04:20:29.586649Z",
     "shell.execute_reply": "2024-05-05T04:20:29.585329Z",
     "shell.execute_reply.started": "2024-05-05T04:20:29.578074Z"
    }
   },
   "outputs": [
    {
     "name": "stdout",
     "output_type": "stream",
     "text": [
      "x1 = -1.734068\n",
      "x2 = 9.343018\n",
      "x3 = -3.314281\n",
      "x4 = 11.380226\n",
      "x5 = 7.162188\n",
      "x6 = -6.654542\n",
      "x7 = 7.590036\n",
      "x8 = -13.172083\n",
      "x9 = -6.180500\n",
      "x10 = -5.535795\n"
     ]
    }
   ],
   "source": [
    "A = np.genfromtxt(\"A_test2.txt\")\n",
    "b = np.genfromtxt(\"b_test2.txt\")\n",
    "x = np.linalg.solve(A, b)\n",
    "\n",
    "for i in range(len(x)):\n",
    "    print (\"x{0:d} = {1:2.6f}\".format(i+1, x[i]))"
   ]
  }
 ],
 "metadata": {
  "kernelspec": {
   "display_name": "Python 3 (ipykernel)",
   "language": "python",
   "name": "python3"
  },
  "language_info": {
   "codemirror_mode": {
    "name": "ipython",
    "version": 3
   },
   "file_extension": ".py",
   "mimetype": "text/x-python",
   "name": "python",
   "nbconvert_exporter": "python",
   "pygments_lexer": "ipython3",
   "version": "3.10.14"
  },
  "vscode": {
   "interpreter": {
    "hash": "1c7edbfe09241e3ab70fdbaa9340a6c53382c0b8a91b6341e8f1e4440b6e3c70"
   }
  }
 },
 "nbformat": 4,
 "nbformat_minor": 5
}