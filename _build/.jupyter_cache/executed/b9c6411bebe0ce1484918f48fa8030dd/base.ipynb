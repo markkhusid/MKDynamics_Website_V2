{
 "cells": [
  {
   "cell_type": "code",
   "execution_count": 1,
   "id": "e0336aaf",
   "metadata": {},
   "outputs": [],
   "source": [
    "import os\n",
    "root_dir = os.getcwd()"
   ]
  },
  {
   "cell_type": "code",
   "execution_count": 2,
   "id": "15fe5e5d",
   "metadata": {},
   "outputs": [],
   "source": [
    "code_dir = root_dir + \"/\" + \"C_Code\""
   ]
  },
  {
   "cell_type": "code",
   "execution_count": 3,
   "id": "93501b0d",
   "metadata": {},
   "outputs": [],
   "source": [
    "os.chdir(code_dir)"
   ]
  },
  {
   "cell_type": "code",
   "execution_count": 4,
   "id": "c8cb1d74",
   "metadata": {},
   "outputs": [],
   "source": [
    "build_command = os.system(\"gcc -o section_6_6_3_changing_arrays_in_functions section_6_6_3_changing_arrays_in_functions.c\")"
   ]
  },
  {
   "cell_type": "code",
   "execution_count": 5,
   "id": "263f1499",
   "metadata": {},
   "outputs": [
    {
     "name": "stdout",
     "output_type": "stream",
     "text": [
      "2\n",
      "4\n",
      "6\n",
      "8\n",
      "10\n"
     ]
    }
   ],
   "source": [
    "exec_status = os.system(\"./section_6_6_3_changing_arrays_in_functions\")"
   ]
  }
 ],
 "metadata": {
  "kernelspec": {
   "display_name": "Python 3.11",
   "language": "python",
   "name": "py311_env"
  },
  "language_info": {
   "codemirror_mode": {
    "name": "ipython",
    "version": 3
   },
   "file_extension": ".py",
   "mimetype": "text/x-python",
   "name": "python",
   "nbconvert_exporter": "python",
   "pygments_lexer": "ipython3",
   "version": "3.10.17"
  }
 },
 "nbformat": 4,
 "nbformat_minor": 5
}