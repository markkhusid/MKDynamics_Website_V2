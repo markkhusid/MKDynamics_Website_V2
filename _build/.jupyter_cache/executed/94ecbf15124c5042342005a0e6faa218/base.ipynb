{
 "cells": [
  {
   "cell_type": "code",
   "execution_count": 1,
   "id": "e8ba1050-b7b1-4e9e-87bf-28791145e5e7",
   "metadata": {},
   "outputs": [],
   "source": [
    "import os\n",
    "root_dir = os.getcwd()"
   ]
  },
  {
   "cell_type": "code",
   "execution_count": 2,
   "id": "bdaf795d-554a-46e6-b4da-faeb331e1b13",
   "metadata": {},
   "outputs": [],
   "source": [
    "code_dir = root_dir + \"/\" + \"Fortran_Code/Section_2_1_Associate_Construct\""
   ]
  },
  {
   "cell_type": "code",
   "execution_count": 3,
   "id": "a7d9f1b1-ba0d-4db1-84ef-7a358f0453a6",
   "metadata": {},
   "outputs": [],
   "source": [
    "os.chdir(code_dir)"
   ]
  },
  {
   "cell_type": "code",
   "execution_count": 4,
   "id": "0fbd7621-e800-4235-ab30-80560cc3e1a8",
   "metadata": {},
   "outputs": [],
   "source": [
    "build_status = os.system(\"fpm build 2>/dev/null\")"
   ]
  },
  {
   "cell_type": "code",
   "execution_count": 5,
   "id": "0483d40b-e849-4574-bcbe-003c81a96dd5",
   "metadata": {},
   "outputs": [
    {
     "name": "stdout",
     "output_type": "stream",
     "text": [
      "This program demonstrates the use of the Fortran associate construct\n",
      "\n",
      "s is defined as s => sqrt (x**2 + y**2)\n",
      "x is now ->   3.0\n",
      "y is now ->   4.0\n",
      "s is equal to ->   5.0\n",
      "\n",
      "Changing the value of x and y in the accociate block....\n",
      "x is now ->   5.0 y is now ->  12.0\n",
      "s is equal to ->   5.0\n",
      "\n",
      "Since x and y where changed in the associate block, s did not change\n",
      "x still is ->   5.0 y still is ->  12.0\n",
      "s remains ->   5.0\n",
      "\n",
      "Now in a new associate block...\n",
      "s is still defined as s => sqrt (x**2 + y**2)\n",
      "x is now ->   5.0\n",
      "y is now ->  12.0\n",
      "s is equal to ->  13.0\n",
      "\n",
      "s is now defined as s => x\n",
      "x is now ->   9.0\n",
      "s is equal to ->   9.0\n"
     ]
    }
   ],
   "source": [
    "exec_status = os.system(\"fpm run 2>/dev/null\")"
   ]
  },
  {
   "cell_type": "code",
   "execution_count": null,
   "id": "fba82ba7",
   "metadata": {},
   "outputs": [],
   "source": []
  }
 ],
 "metadata": {
  "kernelspec": {
   "display_name": "Python 3.9.2 64-bit",
   "language": "python",
   "name": "python3"
  },
  "language_info": {
   "codemirror_mode": {
    "name": "ipython",
    "version": 3
   },
   "file_extension": ".py",
   "mimetype": "text/x-python",
   "name": "python",
   "nbconvert_exporter": "python",
   "pygments_lexer": "ipython3",
   "version": "3.10.14"
  },
  "vscode": {
   "interpreter": {
    "hash": "916dbcbb3f70747c44a77c7bcd40155683ae19c65e1c03b4aa3499c5328201f1"
   }
  }
 },
 "nbformat": 4,
 "nbformat_minor": 5
}