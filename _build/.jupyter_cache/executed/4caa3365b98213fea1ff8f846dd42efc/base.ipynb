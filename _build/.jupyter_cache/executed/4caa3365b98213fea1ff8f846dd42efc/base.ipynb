{
 "cells": [
  {
   "cell_type": "code",
   "execution_count": 1,
   "id": "317af80e-8a16-47f6-8b5b-aaff80e2a8b7",
   "metadata": {
    "execution": {
     "iopub.execute_input": "2024-05-05T03:14:16.093475Z",
     "iopub.status.busy": "2024-05-05T03:14:16.093160Z",
     "iopub.status.idle": "2024-05-05T03:14:16.177015Z",
     "shell.execute_reply": "2024-05-05T03:14:16.118559Z",
     "shell.execute_reply.started": "2024-05-05T03:14:16.093456Z"
    }
   },
   "outputs": [],
   "source": [
    "import os\n",
    "root_dir = os.getcwd()"
   ]
  },
  {
   "cell_type": "code",
   "execution_count": 2,
   "id": "daef8d7e-5a9f-4bc8-a658-da5390432b44",
   "metadata": {
    "execution": {
     "iopub.execute_input": "2024-05-05T03:14:16.475880Z",
     "iopub.status.busy": "2024-05-05T03:14:16.475458Z",
     "iopub.status.idle": "2024-05-05T03:14:16.483382Z",
     "shell.execute_reply": "2024-05-05T03:14:16.481911Z",
     "shell.execute_reply.started": "2024-05-05T03:14:16.475857Z"
    }
   },
   "outputs": [],
   "source": [
    "code_dir = root_dir + \"/\" + \"Fortran_Code/Cold_Front_Calculator_with_Loop\""
   ]
  },
  {
   "cell_type": "code",
   "execution_count": 3,
   "id": "e069f5b4-a0b2-4b6f-befc-7e1f8e638abe",
   "metadata": {
    "execution": {
     "iopub.execute_input": "2024-05-05T03:14:16.805055Z",
     "iopub.status.busy": "2024-05-05T03:14:16.804691Z",
     "iopub.status.idle": "2024-05-05T03:14:16.829904Z",
     "shell.execute_reply": "2024-05-05T03:14:16.828507Z",
     "shell.execute_reply.started": "2024-05-05T03:14:16.805031Z"
    }
   },
   "outputs": [],
   "source": [
    "os.chdir(code_dir)"
   ]
  },
  {
   "cell_type": "code",
   "execution_count": 4,
   "id": "257328b8-7c26-42f6-ab9f-e4d00d7161ef",
   "metadata": {
    "execution": {
     "iopub.execute_input": "2024-05-05T03:14:17.480673Z",
     "iopub.status.busy": "2024-05-05T03:14:17.480120Z",
     "iopub.status.idle": "2024-05-05T03:14:17.670911Z",
     "shell.execute_reply": "2024-05-05T03:14:17.668900Z",
     "shell.execute_reply.started": "2024-05-05T03:14:17.480649Z"
    }
   },
   "outputs": [],
   "source": [
    "build_status = os.system(\"fpm build 2>/dev/null\")"
   ]
  },
  {
   "cell_type": "code",
   "execution_count": 5,
   "id": "172d2e1b-1b4e-4811-8551-56baaff1ea0a",
   "metadata": {
    "execution": {
     "iopub.execute_input": "2024-05-05T03:14:18.847404Z",
     "iopub.status.busy": "2024-05-05T03:14:18.847196Z",
     "iopub.status.idle": "2024-05-05T03:14:18.892373Z",
     "shell.execute_reply": "2024-05-05T03:14:18.891383Z",
     "shell.execute_reply.started": "2024-05-05T03:14:18.847389Z"
    }
   },
   "outputs": [
    {
     "name": "stdout",
     "output_type": "stream",
     "text": [
      " Temperature after    6.00000000      hours is    22.5000000      degrees.\n",
      " Temperature after    12.0000000      hours is    21.0000000      degrees.\n",
      " Temperature after    18.0000000      hours is    19.5000000      degrees.\n",
      " Temperature after    24.0000000      hours is    18.0000000      degrees.\n",
      " Temperature after    30.0000000      hours is    16.5000000      degrees.\n",
      " Temperature after    36.0000000      hours is    15.0000000      degrees.\n",
      " Temperature after    42.0000000      hours is    13.5000000      degrees.\n",
      " Temperature after    48.0000000      hours is    12.0000000      degrees.\n"
     ]
    }
   ],
   "source": [
    "exec_status = os.system(\"fpm run 2>/dev/null\")"
   ]
  }
 ],
 "metadata": {
  "kernelspec": {
   "display_name": "Python 3 (ipykernel)",
   "language": "python",
   "name": "python3"
  },
  "language_info": {
   "codemirror_mode": {
    "name": "ipython",
    "version": 3
   },
   "file_extension": ".py",
   "mimetype": "text/x-python",
   "name": "python",
   "nbconvert_exporter": "python",
   "pygments_lexer": "ipython3",
   "version": "3.10.14"
  }
 },
 "nbformat": 4,
 "nbformat_minor": 5
}