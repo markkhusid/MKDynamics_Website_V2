{
 "cells": [
  {
   "cell_type": "code",
   "execution_count": 1,
   "id": "b174fec9",
   "metadata": {},
   "outputs": [],
   "source": [
    "import os\n",
    "root_dir = os.getcwd()"
   ]
  },
  {
   "cell_type": "code",
   "execution_count": 2,
   "id": "dea8ff6b",
   "metadata": {},
   "outputs": [],
   "source": [
    "code_dir = root_dir + \"/\" + \"Cpp_Code/03_Conditions_and_Operators\""
   ]
  },
  {
   "cell_type": "code",
   "execution_count": 3,
   "id": "72abc3cb",
   "metadata": {},
   "outputs": [],
   "source": [
    "os.chdir(code_dir)"
   ]
  },
  {
   "cell_type": "code",
   "execution_count": 4,
   "id": "87590cc2",
   "metadata": {},
   "outputs": [],
   "source": [
    "!docker run --rm -v $(pwd):/app cpp23-clang18:latest clang++-18 -std=c++23 -stdlib=libc++ /app/03-fallthrough.cpp -o /app/03-fallthrough"
   ]
  },
  {
   "cell_type": "code",
   "execution_count": 5,
   "id": "3d711399",
   "metadata": {},
   "outputs": [
    {
     "name": "stdout",
     "output_type": "stream",
     "text": [
      "Please enter an integer between zero and three:\r\n",
      "Number is less than 1\r\n",
      "Number is less than 2\r\n",
      "Number is less than 3\r\n"
     ]
    }
   ],
   "source": [
    "!echo \"0\" | docker run -i --rm -v $(pwd):/app cpp23-clang18:latest ./03-fallthrough"
   ]
  },
  {
   "cell_type": "code",
   "execution_count": 6,
   "id": "eb367f77",
   "metadata": {},
   "outputs": [
    {
     "name": "stdout",
     "output_type": "stream",
     "text": [
      "Please enter an integer between zero and three:\r\n",
      "Number is less than 2\r\n",
      "Number is less than 3\r\n"
     ]
    }
   ],
   "source": [
    "!echo \"1\" | docker run -i --rm -v $(pwd):/app cpp23-clang18:latest ./03-fallthrough"
   ]
  },
  {
   "cell_type": "code",
   "execution_count": 7,
   "id": "31089abf",
   "metadata": {},
   "outputs": [
    {
     "name": "stdout",
     "output_type": "stream",
     "text": [
      "Please enter an integer between zero and three:\r\n",
      "Number is less than 3\r\n"
     ]
    }
   ],
   "source": [
    "!echo \"2\" | docker run -i --rm -v $(pwd):/app cpp23-clang18:latest ./03-fallthrough"
   ]
  },
  {
   "cell_type": "code",
   "execution_count": 8,
   "id": "8ec1907a",
   "metadata": {},
   "outputs": [
    {
     "name": "stdout",
     "output_type": "stream",
     "text": [
      "Please enter an integer between zero and three:\r\n",
      "Number is exactly 3\r\n"
     ]
    }
   ],
   "source": [
    "!echo \"3\" | docker run -i --rm -v $(pwd):/app cpp23-clang18:latest ./03-fallthrough"
   ]
  },
  {
   "cell_type": "code",
   "execution_count": 9,
   "id": "6df67c95",
   "metadata": {},
   "outputs": [
    {
     "name": "stdout",
     "output_type": "stream",
     "text": [
      "Please enter an integer between zero and three:\r\n",
      "Number out of range!\r\n"
     ]
    }
   ],
   "source": [
    "!echo \"4\" | docker run -i --rm -v $(pwd):/app cpp23-clang18:latest ./03-fallthrough"
   ]
  }
 ],
 "metadata": {
  "kernelspec": {
   "display_name": "Python 3.11",
   "language": "python",
   "name": "py311_env"
  },
  "language_info": {
   "codemirror_mode": {
    "name": "ipython",
    "version": 3
   },
   "file_extension": ".py",
   "mimetype": "text/x-python",
   "name": "python",
   "nbconvert_exporter": "python",
   "pygments_lexer": "ipython3",
   "version": "3.10.17"
  }
 },
 "nbformat": 4,
 "nbformat_minor": 5
}