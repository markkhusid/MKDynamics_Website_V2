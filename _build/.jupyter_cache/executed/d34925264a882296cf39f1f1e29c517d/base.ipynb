{
 "cells": [
  {
   "cell_type": "code",
   "execution_count": 1,
   "id": "f16472aa-c965-4bad-a218-fee33f7b456a",
   "metadata": {
    "execution": {
     "iopub.execute_input": "2024-05-05T02:26:53.049275Z",
     "iopub.status.busy": "2024-05-05T02:26:53.049088Z",
     "iopub.status.idle": "2024-05-05T02:26:53.054778Z",
     "shell.execute_reply": "2024-05-05T02:26:53.053424Z",
     "shell.execute_reply.started": "2024-05-05T02:26:53.049259Z"
    }
   },
   "outputs": [],
   "source": [
    "import os\n",
    "root_dir = os.getcwd()"
   ]
  },
  {
   "cell_type": "code",
   "execution_count": 2,
   "id": "f77f9126-86cc-4a1b-89b9-5ad5f61cf72c",
   "metadata": {
    "execution": {
     "iopub.execute_input": "2024-05-05T02:26:53.057343Z",
     "iopub.status.busy": "2024-05-05T02:26:53.055983Z",
     "iopub.status.idle": "2024-05-05T02:26:53.070800Z",
     "shell.execute_reply": "2024-05-05T02:26:53.069618Z",
     "shell.execute_reply.started": "2024-05-05T02:26:53.057322Z"
    },
    "tags": []
   },
   "outputs": [],
   "source": [
    "code_dir = root_dir + \"/\" + \"Fortran_Code/Section_Call_By_Semantics_Call_By_In_Reference\""
   ]
  },
  {
   "cell_type": "code",
   "execution_count": 3,
   "id": "dda7a884",
   "metadata": {
    "execution": {
     "iopub.execute_input": "2024-05-05T02:26:53.071592Z",
     "iopub.status.busy": "2024-05-05T02:26:53.071410Z",
     "iopub.status.idle": "2024-05-05T02:26:53.092771Z",
     "shell.execute_reply": "2024-05-05T02:26:53.090388Z",
     "shell.execute_reply.started": "2024-05-05T02:26:53.071577Z"
    },
    "tags": [
     "remove-cell"
    ]
   },
   "outputs": [],
   "source": [
    "code_app_dir = code_dir + \"/\" + \"app\""
   ]
  },
  {
   "cell_type": "code",
   "execution_count": 4,
   "id": "0c1bfdce-7589-4f56-be03-b2be392d952f",
   "metadata": {
    "execution": {
     "iopub.execute_input": "2024-05-05T02:26:53.094859Z",
     "iopub.status.busy": "2024-05-05T02:26:53.094641Z",
     "iopub.status.idle": "2024-05-05T02:26:53.106093Z",
     "shell.execute_reply": "2024-05-05T02:26:53.105079Z",
     "shell.execute_reply.started": "2024-05-05T02:26:53.094841Z"
    },
    "tags": [
     "remove-cell"
    ]
   },
   "outputs": [],
   "source": [
    "os.chdir(code_app_dir)"
   ]
  },
  {
   "cell_type": "code",
   "execution_count": 5,
   "id": "acf272e3-a204-4981-9008-359bb189b9bb",
   "metadata": {
    "execution": {
     "iopub.execute_input": "2024-05-05T02:26:53.107155Z",
     "iopub.status.busy": "2024-05-05T02:26:53.106903Z",
     "iopub.status.idle": "2024-05-05T02:26:53.131301Z",
     "shell.execute_reply": "2024-05-05T02:26:53.128323Z",
     "shell.execute_reply.started": "2024-05-05T02:26:53.107135Z"
    },
    "tags": [
     "remove-cell"
    ]
   },
   "outputs": [],
   "source": [
    "%%capture\n",
    "%%writefile section_call_by_semantics_call_by_in_reference.f90\n",
    "program call_by_in_reference\n",
    "    implicit none\n",
    "\n",
    "    print *, \"5! = \", factorial(5)\n",
    "    print *, \"10! = \", factorial(10)\n",
    "    print *, \"12! = \", factorial(12)\n",
    "\n",
    "contains\n",
    "\n",
    "    function factorial(arg) result(fac)\n",
    "        implicit none\n",
    "        integer, intent(in) :: arg\n",
    "        integer :: fac, n\n",
    "\n",
    "        n = arg\n",
    "        fac = 1\n",
    "        do while (n > 1)\n",
    "            fac = fac*n\n",
    "            n = n - 1\n",
    "        end do\n",
    "    end function factorial\n",
    "\n",
    "end program call_by_in_reference"
   ]
  },
  {
   "cell_type": "code",
   "execution_count": 6,
   "id": "c2eeda29-613f-48fd-904b-af9aef8813a2",
   "metadata": {
    "execution": {
     "iopub.execute_input": "2024-05-05T02:26:53.134617Z",
     "iopub.status.busy": "2024-05-05T02:26:53.134383Z",
     "iopub.status.idle": "2024-05-05T02:26:53.150932Z",
     "shell.execute_reply": "2024-05-05T02:26:53.149702Z",
     "shell.execute_reply.started": "2024-05-05T02:26:53.134600Z"
    }
   },
   "outputs": [],
   "source": [
    "os.chdir(code_dir)"
   ]
  },
  {
   "cell_type": "code",
   "execution_count": 7,
   "id": "0fbd7621-e800-4235-ab30-80560cc3e1a8",
   "metadata": {
    "execution": {
     "iopub.execute_input": "2024-05-05T02:26:53.152008Z",
     "iopub.status.busy": "2024-05-05T02:26:53.151795Z",
     "iopub.status.idle": "2024-05-05T02:26:53.255927Z",
     "shell.execute_reply": "2024-05-05T02:26:53.255147Z",
     "shell.execute_reply.started": "2024-05-05T02:26:53.151990Z"
    }
   },
   "outputs": [],
   "source": [
    "build_status = os.system(\"fpm build 2>/dev/null\")"
   ]
  },
  {
   "cell_type": "code",
   "execution_count": 8,
   "id": "0483d40b-e849-4574-bcbe-003c81a96dd5",
   "metadata": {
    "execution": {
     "iopub.execute_input": "2024-05-05T02:26:53.257473Z",
     "iopub.status.busy": "2024-05-05T02:26:53.256756Z",
     "iopub.status.idle": "2024-05-05T02:26:53.325911Z",
     "shell.execute_reply": "2024-05-05T02:26:53.324862Z",
     "shell.execute_reply.started": "2024-05-05T02:26:53.257452Z"
    }
   },
   "outputs": [
    {
     "name": "stdout",
     "output_type": "stream",
     "text": [
      " 5! =          120\n",
      " 10! =      3628800\n",
      " 12! =    479001600\n"
     ]
    }
   ],
   "source": [
    "exec_status = os.system(\"fpm run 2>/dev/null\")"
   ]
  }
 ],
 "metadata": {
  "kernelspec": {
   "display_name": "Python 3 (ipykernel)",
   "language": "python",
   "name": "python3"
  },
  "language_info": {
   "codemirror_mode": {
    "name": "ipython",
    "version": 3
   },
   "file_extension": ".py",
   "mimetype": "text/x-python",
   "name": "python",
   "nbconvert_exporter": "python",
   "pygments_lexer": "ipython3",
   "version": "3.10.14"
  },
  "vscode": {
   "interpreter": {
    "hash": "1c7edbfe09241e3ab70fdbaa9340a6c53382c0b8a91b6341e8f1e4440b6e3c70"
   }
  }
 },
 "nbformat": 4,
 "nbformat_minor": 5
}