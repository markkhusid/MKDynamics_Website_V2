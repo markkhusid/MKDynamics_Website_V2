{
 "cells": [
  {
   "cell_type": "code",
   "execution_count": 1,
   "id": "e8ba1050-b7b1-4e9e-87bf-28791145e5e7",
   "metadata": {
    "execution": {
     "iopub.execute_input": "2024-05-05T21:29:12.455871Z",
     "iopub.status.busy": "2024-05-05T21:29:12.454837Z",
     "iopub.status.idle": "2024-05-05T21:29:12.459044Z",
     "shell.execute_reply": "2024-05-05T21:29:12.458707Z",
     "shell.execute_reply.started": "2024-05-05T21:29:12.455854Z"
    }
   },
   "outputs": [],
   "source": [
    "import os\n",
    "root_dir = \"\"\n",
    "root_dir = os.getcwd()"
   ]
  },
  {
   "cell_type": "code",
   "execution_count": 2,
   "id": "bdaf795d-554a-46e6-b4da-faeb331e1b13",
   "metadata": {
    "execution": {
     "iopub.execute_input": "2024-05-05T21:29:12.459966Z",
     "iopub.status.busy": "2024-05-05T21:29:12.459601Z",
     "iopub.status.idle": "2024-05-05T21:29:12.520087Z",
     "shell.execute_reply": "2024-05-05T21:29:12.514469Z",
     "shell.execute_reply.started": "2024-05-05T21:29:12.459951Z"
    }
   },
   "outputs": [],
   "source": [
    "code_dir = root_dir + \"/\" + \"Fortran_Code/Cold_Front_Calculator\""
   ]
  },
  {
   "cell_type": "code",
   "execution_count": 3,
   "id": "a7d9f1b1-ba0d-4db1-84ef-7a358f0453a6",
   "metadata": {
    "execution": {
     "iopub.execute_input": "2024-05-05T21:29:12.523550Z",
     "iopub.status.busy": "2024-05-05T21:29:12.521379Z",
     "iopub.status.idle": "2024-05-05T21:29:12.546539Z",
     "shell.execute_reply": "2024-05-05T21:29:12.545051Z",
     "shell.execute_reply.started": "2024-05-05T21:29:12.523527Z"
    }
   },
   "outputs": [],
   "source": [
    "os.chdir(code_dir)"
   ]
  },
  {
   "cell_type": "code",
   "execution_count": 4,
   "id": "0fbd7621-e800-4235-ab30-80560cc3e1a8",
   "metadata": {
    "execution": {
     "iopub.execute_input": "2024-05-05T21:29:12.556131Z",
     "iopub.status.busy": "2024-05-05T21:29:12.555797Z",
     "iopub.status.idle": "2024-05-05T21:29:12.762675Z",
     "shell.execute_reply": "2024-05-05T21:29:12.742821Z",
     "shell.execute_reply.started": "2024-05-05T21:29:12.556109Z"
    }
   },
   "outputs": [],
   "source": [
    "build_status = os.system(\"fpm build 2>/dev/null\")"
   ]
  },
  {
   "cell_type": "code",
   "execution_count": 5,
   "id": "0483d40b-e849-4574-bcbe-003c81a96dd5",
   "metadata": {
    "execution": {
     "iopub.execute_input": "2024-05-05T21:29:12.777339Z",
     "iopub.status.busy": "2024-05-05T21:29:12.777112Z",
     "iopub.status.idle": "2024-05-05T21:29:12.978495Z",
     "shell.execute_reply": "2024-05-05T21:29:12.977220Z",
     "shell.execute_reply.started": "2024-05-05T21:29:12.777322Z"
    }
   },
   "outputs": [
    {
     "name": "stdout",
     "output_type": "stream",
     "text": [
      " Temperature after    24.0000000     hours is    18.0000000     degrees\n"
     ]
    }
   ],
   "source": [
    "exec_status = os.system(\"fpm run 2>/dev/null\")"
   ]
  }
 ],
 "metadata": {
  "kernelspec": {
   "display_name": "Python 3 (ipykernel)",
   "language": "python",
   "name": "python3"
  },
  "language_info": {
   "codemirror_mode": {
    "name": "ipython",
    "version": 3
   },
   "file_extension": ".py",
   "mimetype": "text/x-python",
   "name": "python",
   "nbconvert_exporter": "python",
   "pygments_lexer": "ipython3",
   "version": "3.10.14"
  }
 },
 "nbformat": 4,
 "nbformat_minor": 5
}