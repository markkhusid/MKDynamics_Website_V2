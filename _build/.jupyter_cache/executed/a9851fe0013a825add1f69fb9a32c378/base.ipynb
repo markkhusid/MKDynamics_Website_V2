{
 "cells": [
  {
   "cell_type": "code",
   "execution_count": 1,
   "id": "e8ba1050-b7b1-4e9e-87bf-28791145e5e7",
   "metadata": {
    "execution": {
     "iopub.execute_input": "2024-05-12T06:06:14.701374Z",
     "iopub.status.busy": "2024-05-12T06:06:14.701255Z",
     "iopub.status.idle": "2024-05-12T06:06:14.708149Z",
     "shell.execute_reply": "2024-05-12T06:06:14.706147Z",
     "shell.execute_reply.started": "2024-05-12T06:06:14.701361Z"
    }
   },
   "outputs": [],
   "source": [
    "import os\n",
    "root_dir = os.getcwd()"
   ]
  },
  {
   "cell_type": "code",
   "execution_count": 2,
   "id": "bdaf795d-554a-46e6-b4da-faeb331e1b13",
   "metadata": {
    "execution": {
     "iopub.execute_input": "2024-05-12T06:06:14.710148Z",
     "iopub.status.busy": "2024-05-12T06:06:14.709270Z",
     "iopub.status.idle": "2024-05-12T06:06:14.735996Z",
     "shell.execute_reply": "2024-05-12T06:06:14.734143Z",
     "shell.execute_reply.started": "2024-05-12T06:06:14.710129Z"
    }
   },
   "outputs": [],
   "source": [
    "code_dir = root_dir + \"/\" + \"Fortran_Code/Section_1_16_Factorial_Recursion\""
   ]
  },
  {
   "cell_type": "code",
   "execution_count": 3,
   "id": "a7d9f1b1-ba0d-4db1-84ef-7a358f0453a6",
   "metadata": {
    "execution": {
     "iopub.execute_input": "2024-05-12T06:06:14.739591Z",
     "iopub.status.busy": "2024-05-12T06:06:14.737192Z",
     "iopub.status.idle": "2024-05-12T06:06:14.802691Z",
     "shell.execute_reply": "2024-05-12T06:06:14.801176Z",
     "shell.execute_reply.started": "2024-05-12T06:06:14.739572Z"
    }
   },
   "outputs": [],
   "source": [
    "os.chdir(code_dir)"
   ]
  },
  {
   "cell_type": "code",
   "execution_count": 4,
   "id": "0fbd7621-e800-4235-ab30-80560cc3e1a8",
   "metadata": {
    "execution": {
     "iopub.execute_input": "2024-05-12T06:06:14.803771Z",
     "iopub.status.busy": "2024-05-12T06:06:14.803360Z",
     "iopub.status.idle": "2024-05-12T06:06:14.915405Z",
     "shell.execute_reply": "2024-05-12T06:06:14.914441Z",
     "shell.execute_reply.started": "2024-05-12T06:06:14.803752Z"
    }
   },
   "outputs": [],
   "source": [
    "build_status = os.system(\"fpm build 2>/dev/null\")"
   ]
  },
  {
   "cell_type": "code",
   "execution_count": 5,
   "id": "0483d40b-e849-4574-bcbe-003c81a96dd5",
   "metadata": {
    "execution": {
     "iopub.execute_input": "2024-05-12T06:06:14.916499Z",
     "iopub.status.busy": "2024-05-12T06:06:14.916289Z",
     "iopub.status.idle": "2024-05-12T06:06:14.992629Z",
     "shell.execute_reply": "2024-05-12T06:06:14.991213Z",
     "shell.execute_reply.started": "2024-05-12T06:06:14.916482Z"
    }
   },
   "outputs": [
    {
     "name": "stdout",
     "output_type": "stream",
     "text": [
      "\n",
      "         3! =          6\n"
     ]
    }
   ],
   "source": [
    "exec_status = os.system(\"echo 3 | fpm run 2>/dev/null\")"
   ]
  },
  {
   "cell_type": "code",
   "execution_count": 6,
   "id": "b2d3acd7-b65b-4afc-b47f-67b22cbcad95",
   "metadata": {
    "execution": {
     "iopub.execute_input": "2024-05-12T06:06:14.996690Z",
     "iopub.status.busy": "2024-05-12T06:06:14.996415Z",
     "iopub.status.idle": "2024-05-12T06:06:15.098339Z",
     "shell.execute_reply": "2024-05-12T06:06:15.097284Z",
     "shell.execute_reply.started": "2024-05-12T06:06:14.996670Z"
    }
   },
   "outputs": [
    {
     "name": "stdout",
     "output_type": "stream",
     "text": [
      "\n",
      "         6! =        720\n"
     ]
    }
   ],
   "source": [
    "exec_status = os.system(\"echo 6 | fpm run 2>/dev/null\")"
   ]
  },
  {
   "cell_type": "code",
   "execution_count": 7,
   "id": "63f20f0b-7763-444b-94ad-e2c4c1566d78",
   "metadata": {
    "execution": {
     "iopub.execute_input": "2024-05-12T06:06:15.099191Z",
     "iopub.status.busy": "2024-05-12T06:06:15.098983Z",
     "iopub.status.idle": "2024-05-12T06:06:15.188483Z",
     "shell.execute_reply": "2024-05-12T06:06:15.185526Z",
     "shell.execute_reply.started": "2024-05-12T06:06:15.099174Z"
    }
   },
   "outputs": [
    {
     "name": "stdout",
     "output_type": "stream",
     "text": [
      "\n",
      "        15! = 2004310016\n"
     ]
    }
   ],
   "source": [
    "exec_status = os.system(\"echo 15 | fpm run 2>/dev/null\")"
   ]
  }
 ],
 "metadata": {
  "kernelspec": {
   "display_name": "Python 3 (ipykernel)",
   "language": "python",
   "name": "python3"
  },
  "language_info": {
   "codemirror_mode": {
    "name": "ipython",
    "version": 3
   },
   "file_extension": ".py",
   "mimetype": "text/x-python",
   "name": "python",
   "nbconvert_exporter": "python",
   "pygments_lexer": "ipython3",
   "version": "3.10.14"
  },
  "vscode": {
   "interpreter": {
    "hash": "916dbcbb3f70747c44a77c7bcd40155683ae19c65e1c03b4aa3499c5328201f1"
   }
  }
 },
 "nbformat": 4,
 "nbformat_minor": 5
}