{
 "cells": [
  {
   "cell_type": "code",
   "execution_count": 1,
   "id": "f091e74f-fca0-43fa-8114-1c526abb4f95",
   "metadata": {},
   "outputs": [],
   "source": [
    "import os\n",
    "root_dir = os.getcwd()"
   ]
  },
  {
   "cell_type": "code",
   "execution_count": 2,
   "id": "9836a2e4-d065-4ba0-928b-66a4e7cce418",
   "metadata": {},
   "outputs": [],
   "source": [
    "code_dir = root_dir + \"/\" + \\\n",
    "    \"Cpp_Code/Chapter_7_7_Overloading_Assignment_and_Subscripting_Operators\""
   ]
  },
  {
   "cell_type": "code",
   "execution_count": 3,
   "id": "af912e98-7de3-40d7-8825-217493f6a66b",
   "metadata": {},
   "outputs": [],
   "source": [
    "os.chdir(code_dir)"
   ]
  },
  {
   "cell_type": "code",
   "execution_count": 4,
   "id": "a734c6b9-cf2b-455b-a921-40f7efc58bd2",
   "metadata": {},
   "outputs": [],
   "source": [
    "build_command = os.system(\"g++ vect2.cpp -w -o vect2\")"
   ]
  },
  {
   "cell_type": "code",
   "execution_count": 5,
   "id": "e58df301-ac7c-4090-bc7f-87caea2890fa",
   "metadata": {},
   "outputs": [
    {
     "name": "stdout",
     "output_type": "stream",
     "text": [
      "The upper bound of vector a is : 9\n",
      "The upper bound of vector b is : 4\n",
      "\n",
      "Initialize vect a....\n",
      "The vector a contains : 0 1 2 3 4 5 6 7 8 9 \n",
      "The vector b contains : 0 0 0 0 0 \n",
      "\n",
      "Perform b = a (vect to vect assignment)...\n"
     ]
    },
    {
     "name": "stderr",
     "output_type": "stream",
     "text": [
      "[*] copying different size arrays 5 and 10\n",
      "[*] copying different size arrays 10 and 5\n",
      "[*] copying different size arrays 20 and 10\n"
     ]
    },
    {
     "name": "stdout",
     "output_type": "stream",
     "text": [
      "The vector b contains : 0 1 2 3 4 \n",
      "\n",
      "The vector c contains : 0 0 0 0 0 0 0 0 0 0 \n",
      "Perform c = b (vect to vect assignment)...\n",
      "\n",
      "The vector d contains : 0 0 0 0 0 0 0 0 0 0 0 0 0 0 0 0 0 0 0 0 \n",
      "Perform d = a + c (vect to vect addition)...\n",
      "The vector a contains : 0 1 2 3 4 5 6 7 8 9 \n",
      "The vector c contains : 0 1 2 3 4 0 0 0 0 0 \n",
      "The vector d contains : 0 2 4 6 8 5 6 7 8 9 0 0 0 0 0 0 0 0 0 0 \n",
      "\n",
      "The vector e_from_arr contains : 0 0 0 0 0 0 0 0 0 0 0 0 0 0 0 0 0 0 0 0 \n",
      "Initialize array arr...\n",
      "Array arr contains : \n",
      "10 11 12 13 14 15 16 17 18 19 20 21 22 23 24 25 26 27 28 29 \n",
      "Convert array arr into vect e_from_arr...\n",
      "The vector e_from_arr contains : 10 11 12 13 14 15 16 17 18 19 20 21 22 23 24 25 26 27 28 29 \n"
     ]
    }
   ],
   "source": [
    "exec_status = os.system(\"./vect2\")"
   ]
  },
  {
   "cell_type": "code",
   "execution_count": null,
   "id": "388df846",
   "metadata": {},
   "outputs": [],
   "source": []
  }
 ],
 "metadata": {
  "kernelspec": {
   "display_name": "Python 3 (ipykernel)",
   "language": "python",
   "name": "python3"
  },
  "language_info": {
   "codemirror_mode": {
    "name": "ipython",
    "version": 3
   },
   "file_extension": ".py",
   "mimetype": "text/x-python",
   "name": "python",
   "nbconvert_exporter": "python",
   "pygments_lexer": "ipython3",
   "version": "3.10.14"
  },
  "vscode": {
   "interpreter": {
    "hash": "916dbcbb3f70747c44a77c7bcd40155683ae19c65e1c03b4aa3499c5328201f1"
   }
  }
 },
 "nbformat": 4,
 "nbformat_minor": 5
}