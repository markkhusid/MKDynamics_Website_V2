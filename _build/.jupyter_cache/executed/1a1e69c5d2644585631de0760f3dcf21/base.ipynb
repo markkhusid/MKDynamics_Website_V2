{
 "cells": [
  {
   "cell_type": "code",
   "execution_count": 1,
   "id": "e8ba1050-b7b1-4e9e-87bf-28791145e5e7",
   "metadata": {},
   "outputs": [],
   "source": [
    "import os\n",
    "root_dir = os.getcwd()"
   ]
  },
  {
   "cell_type": "code",
   "execution_count": 2,
   "id": "bdaf795d-554a-46e6-b4da-faeb331e1b13",
   "metadata": {},
   "outputs": [],
   "source": [
    "code_dir = root_dir + \"/\" + \"Fortran_Code/Section_Arrays_Normalize\""
   ]
  },
  {
   "cell_type": "code",
   "execution_count": 3,
   "id": "a7d9f1b1-ba0d-4db1-84ef-7a358f0453a6",
   "metadata": {},
   "outputs": [],
   "source": [
    "os.chdir(code_dir)"
   ]
  },
  {
   "cell_type": "code",
   "execution_count": 4,
   "id": "0fbd7621-e800-4235-ab30-80560cc3e1a8",
   "metadata": {},
   "outputs": [],
   "source": [
    "build_status = os.system(\"fpm build 2>/dev/null\")"
   ]
  },
  {
   "cell_type": "code",
   "execution_count": 5,
   "id": "0483d40b-e849-4574-bcbe-003c81a96dd5",
   "metadata": {},
   "outputs": [
    {
     "name": "stdout",
     "output_type": "stream",
     "text": [
      "original:\n",
      "   0.7536383   0.2732597   0.3627242   0.7129912\n",
      "   0.7138595   0.2689572   0.9106335   0.1092950\n",
      "   0.2025349   0.6838653   0.6392817   0.7773715\n",
      "norm:   2.1026134   2.0027453   2.3030533\n",
      "   2.1026134   2.1026134   2.1026134   2.1026134\n",
      "   2.0027453   2.0027453   2.0027453   2.0027453\n",
      "   2.3030533   2.3030533   2.3030533   2.3030533\n",
      "row-normalized::\n",
      "   0.3584293   0.1299619   0.1725111   0.3390976\n",
      "   0.3564405   0.1342943   0.4546926   0.0545726\n",
      "   0.0879419   0.2969385   0.2775801   0.3375395\n",
      "norm:   1.0000000   1.0000000   1.0000000\n"
     ]
    }
   ],
   "source": [
    "exec_status = os.system(\"fpm run 2>/dev/null\")"
   ]
  },
  {
   "cell_type": "code",
   "execution_count": 6,
   "id": "6fd88fa7",
   "metadata": {},
   "outputs": [
    {
     "name": "stdout",
     "output_type": "stream",
     "text": [
      "original:\n",
      "   0.7696286   0.9930188   0.3282832   0.9808132\n",
      "   0.9729438   0.8957851   0.1640371   0.4562588\n",
      "   0.2086180   0.0232612   0.1982778   0.3526204\n",
      "norm:   3.0717438   2.4890248   0.7827774\n",
      "   3.0717438   3.0717438   3.0717438   3.0717438\n",
      "   2.4890248   2.4890248   2.4890248   2.4890248\n",
      "   0.7827774   0.7827774   0.7827774   0.7827774\n",
      "row-normalized::\n",
      "   0.2505510   0.3232753   0.1068719   0.3193018\n",
      "   0.3908936   0.3598940   0.0659042   0.1833083\n",
      "   0.2665101   0.0297162   0.2533004   0.4504734\n",
      "norm:   1.0000000   1.0000000   1.0000000\n"
     ]
    }
   ],
   "source": [
    "exec_status = os.system(\"fpm run 2>/dev/null\")"
   ]
  },
  {
   "cell_type": "code",
   "execution_count": 7,
   "id": "dbb1bec0",
   "metadata": {},
   "outputs": [
    {
     "name": "stdout",
     "output_type": "stream",
     "text": [
      "original:\n",
      "   0.5949331   0.9534930   0.7966856   0.2406519\n",
      "   0.8167731   0.5869952   0.4933111   0.5366718\n",
      "   0.2677453   0.4013981   0.7208525   0.9709283\n",
      "norm:   2.5857636   2.4337513   2.3609242\n",
      "   2.5857636   2.5857636   2.5857636   2.5857636\n",
      "   2.4337513   2.4337513   2.4337513   2.4337513\n",
      "   2.3609242   2.3609242   2.3609242   2.3609242\n",
      "row-normalized::\n",
      "   0.2300802   0.3687472   0.3081046   0.0930680\n",
      "   0.3356025   0.2411895   0.2026958   0.2205122\n",
      "   0.1134070   0.1700174   0.3053264   0.4112492\n",
      "norm:   1.0000000   1.0000000   1.0000000\n"
     ]
    }
   ],
   "source": [
    "exec_status = os.system(\"fpm run 2>/dev/null\")"
   ]
  }
 ],
 "metadata": {
  "kernelspec": {
   "display_name": "Python 3 (ipykernel)",
   "language": "python",
   "name": "python3"
  },
  "language_info": {
   "codemirror_mode": {
    "name": "ipython",
    "version": 3
   },
   "file_extension": ".py",
   "mimetype": "text/x-python",
   "name": "python",
   "nbconvert_exporter": "python",
   "pygments_lexer": "ipython3",
   "version": "3.10.14"
  },
  "vscode": {
   "interpreter": {
    "hash": "1c7edbfe09241e3ab70fdbaa9340a6c53382c0b8a91b6341e8f1e4440b6e3c70"
   }
  }
 },
 "nbformat": 4,
 "nbformat_minor": 5
}