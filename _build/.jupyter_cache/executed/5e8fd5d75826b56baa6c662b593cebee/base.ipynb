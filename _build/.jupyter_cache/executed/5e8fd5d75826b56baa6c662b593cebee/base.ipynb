{
 "cells": [
  {
   "cell_type": "code",
   "execution_count": 1,
   "id": "ca10be4d-5119-4d18-8b9a-a21ff292a2c8",
   "metadata": {
    "execution": {
     "iopub.execute_input": "2024-05-09T03:43:46.224297Z",
     "iopub.status.busy": "2024-05-09T03:43:46.223957Z",
     "iopub.status.idle": "2024-05-09T03:43:46.273050Z",
     "shell.execute_reply": "2024-05-09T03:43:46.261330Z",
     "shell.execute_reply.started": "2024-05-09T03:43:46.224272Z"
    }
   },
   "outputs": [],
   "source": [
    "import os\n",
    "root_dir = \"\"\n",
    "root_dir = os.getcwd()"
   ]
  },
  {
   "cell_type": "code",
   "execution_count": 2,
   "id": "a828ec8c-6aca-41c1-ad8a-aafc1600eb73",
   "metadata": {
    "execution": {
     "iopub.execute_input": "2024-05-09T03:43:51.274054Z",
     "iopub.status.busy": "2024-05-09T03:43:51.273573Z",
     "iopub.status.idle": "2024-05-09T03:43:51.280111Z",
     "shell.execute_reply": "2024-05-09T03:43:51.278679Z",
     "shell.execute_reply.started": "2024-05-09T03:43:51.274033Z"
    }
   },
   "outputs": [],
   "source": [
    "code_dir = root_dir + \"/\" + \"Fortran_Code/Analyzing_Time_Series_Data_with_Arrays\""
   ]
  },
  {
   "cell_type": "code",
   "execution_count": 3,
   "id": "85c72ed0-fe45-4527-8886-309a050416d4",
   "metadata": {
    "execution": {
     "iopub.execute_input": "2024-05-09T03:43:51.795899Z",
     "iopub.status.busy": "2024-05-09T03:43:51.795223Z",
     "iopub.status.idle": "2024-05-09T03:43:51.801730Z",
     "shell.execute_reply": "2024-05-09T03:43:51.800843Z",
     "shell.execute_reply.started": "2024-05-09T03:43:51.795862Z"
    }
   },
   "outputs": [],
   "source": [
    "os.chdir(code_dir)"
   ]
  },
  {
   "cell_type": "code",
   "execution_count": 4,
   "id": "e77d753e-d8de-4190-a18e-b91dffc25ece",
   "metadata": {
    "execution": {
     "iopub.execute_input": "2024-05-09T03:43:53.339511Z",
     "iopub.status.busy": "2024-05-09T03:43:53.339229Z",
     "iopub.status.idle": "2024-05-09T03:43:53.507088Z",
     "shell.execute_reply": "2024-05-09T03:43:53.506125Z",
     "shell.execute_reply.started": "2024-05-09T03:43:53.339492Z"
    }
   },
   "outputs": [],
   "source": [
    "build_status = os.system(\"fpm build 2>/dev/null\")"
   ]
  },
  {
   "cell_type": "code",
   "execution_count": 5,
   "id": "3176b27d-932e-47a1-8099-4fae064ec661",
   "metadata": {
    "execution": {
     "iopub.execute_input": "2024-05-09T03:43:55.627472Z",
     "iopub.status.busy": "2024-05-09T03:43:55.627194Z",
     "iopub.status.idle": "2024-05-09T03:43:55.778608Z",
     "shell.execute_reply": "2024-05-09T03:43:55.777517Z",
     "shell.execute_reply.started": "2024-05-09T03:43:55.627452Z"
    }
   },
   "outputs": [
    {
     "name": "stdout",
     "output_type": "stream",
     "text": [
      " 2000-01-03 through 2018-05-14\n",
      " Symbol, Gain (USD), Relative Gain (%)\n",
      " -------------------------------------\n",
      " AAPL   184.594589            5192\n",
      " AMZN   1512.16003            1692\n",
      " CRAY   9.60000038              56\n",
      " CSCO   1.71649933               4\n",
      " HPQ    1.55270004               7\n",
      " IBM    60.9193039              73\n",
      " INTC   25.8368015              89\n",
      " MSFT   59.4120979             154\n",
      " NVDA   251.745300            6964\n",
      " ORCL   20.3501987              77\n"
     ]
    }
   ],
   "source": [
    "exec_status = \\\n",
    "    os.system(\"fpm run 2>/dev/null\")"
   ]
  }
 ],
 "metadata": {
  "kernelspec": {
   "display_name": "Python 3 (ipykernel)",
   "language": "python",
   "name": "python3"
  },
  "language_info": {
   "codemirror_mode": {
    "name": "ipython",
    "version": 3
   },
   "file_extension": ".py",
   "mimetype": "text/x-python",
   "name": "python",
   "nbconvert_exporter": "python",
   "pygments_lexer": "ipython3",
   "version": "3.10.14"
  }
 },
 "nbformat": 4,
 "nbformat_minor": 5
}