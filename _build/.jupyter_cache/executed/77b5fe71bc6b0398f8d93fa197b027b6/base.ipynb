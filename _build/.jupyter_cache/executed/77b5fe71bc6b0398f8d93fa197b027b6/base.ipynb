{
 "cells": [
  {
   "cell_type": "code",
   "execution_count": 1,
   "id": "f16472aa-c965-4bad-a218-fee33f7b456a",
   "metadata": {},
   "outputs": [],
   "source": [
    "import os\n",
    "root_dir = \"\"\n",
    "root_dir = os.getcwd()"
   ]
  },
  {
   "cell_type": "code",
   "execution_count": 2,
   "id": "f77f9126-86cc-4a1b-89b9-5ad5f61cf72c",
   "metadata": {
    "tags": []
   },
   "outputs": [],
   "source": [
    "code_dir = root_dir + \"/\" + \"Fortran_Code/Section_Bit_Manipulations_Bit_Count\""
   ]
  },
  {
   "cell_type": "code",
   "execution_count": 3,
   "id": "c2eeda29-613f-48fd-904b-af9aef8813a2",
   "metadata": {},
   "outputs": [],
   "source": [
    "os.chdir(code_dir)"
   ]
  },
  {
   "cell_type": "code",
   "execution_count": 4,
   "id": "0fbd7621-e800-4235-ab30-80560cc3e1a8",
   "metadata": {},
   "outputs": [],
   "source": [
    "build_status = os.system(\"fpm build 2>/dev/null\")"
   ]
  },
  {
   "cell_type": "code",
   "execution_count": 5,
   "id": "3176b27d-932e-47a1-8099-4fae064ec661",
   "metadata": {},
   "outputs": [
    {
     "name": "stdout",
     "output_type": "stream",
     "text": [
      "sanity check: naive, early stopping, lookup table Kernighan\n",
      "           -16: 11111111111111111111111111110000:  28 28 28 28\n",
      "           -15: 11111111111111111111111111110001:  29 29 29 29\n",
      "           -14: 11111111111111111111111111110010:  29 29 29 29\n",
      "           -13: 11111111111111111111111111110011:  30 30 30 30\n",
      "           -12: 11111111111111111111111111110100:  29 29 29 29\n",
      "           -11: 11111111111111111111111111110101:  30 30 30 30\n",
      "           -10: 11111111111111111111111111110110:  30 30 30 30\n",
      "            -9: 11111111111111111111111111110111:  31 31 31 31\n",
      "            -8: 11111111111111111111111111111000:  29 29 29 29\n",
      "            -7: 11111111111111111111111111111001:  30 30 30 30\n",
      "            -6: 11111111111111111111111111111010:  30 30 30 30\n",
      "            -5: 11111111111111111111111111111011:  31 31 31 31\n",
      "            -4: 11111111111111111111111111111100:  30 30 30 30\n",
      "            -3: 11111111111111111111111111111101:  31 31 31 31\n",
      "            -2: 11111111111111111111111111111110:  31 31 31 31\n",
      "            -1: 11111111111111111111111111111111:  32 32 32 32\n",
      "             0: 00000000000000000000000000000000:   0  0  0  0\n",
      "             1: 00000000000000000000000000000001:   1  1  1  1\n",
      "             2: 00000000000000000000000000000010:   1  1  1  1\n",
      "             3: 00000000000000000000000000000011:   2  2  2  2\n",
      "             4: 00000000000000000000000000000100:   1  1  1  1\n",
      "             5: 00000000000000000000000000000101:   2  2  2  2\n",
      "             6: 00000000000000000000000000000110:   2  2  2  2\n",
      "             7: 00000000000000000000000000000111:   3  3  3  3\n",
      "             8: 00000000000000000000000000001000:   1  1  1  1\n",
      "             9: 00000000000000000000000000001001:   2  2  2  2\n",
      "            10: 00000000000000000000000000001010:   2  2  2  2\n",
      "            11: 00000000000000000000000000001011:   3  3  3  3\n",
      "            12: 00000000000000000000000000001100:   2  2  2  2\n",
      "            13: 00000000000000000000000000001101:   3  3  3  3\n",
      "            14: 00000000000000000000000000001110:   3  3  3  3\n",
      "            15: 00000000000000000000000000001111:   4  4  4  4\n",
      "            16: 00000000000000000000000000010000:   1  1  1  1\n",
      "naive implementation 1024 iterations:                   0.000078999903053\n",
      "early stopping implementation 1024 iterations:                   0.000065000029281\n",
      "lookup table implementation 1024 iterations:                   0.000004000030458\n",
      "Kernighan implementation 1024 iterations:                   0.000035000033677\n"
     ]
    }
   ],
   "source": [
    "exec_status = \\\n",
    "    os.system(\"fpm run -- 1024 2>/dev/null\")"
   ]
  }
 ],
 "metadata": {
  "kernelspec": {
   "display_name": "Python 3.11",
   "language": "python",
   "name": "py311_env"
  },
  "language_info": {
   "codemirror_mode": {
    "name": "ipython",
    "version": 3
   },
   "file_extension": ".py",
   "mimetype": "text/x-python",
   "name": "python",
   "nbconvert_exporter": "python",
   "pygments_lexer": "ipython3",
   "version": "3.10.16"
  },
  "vscode": {
   "interpreter": {
    "hash": "1c7edbfe09241e3ab70fdbaa9340a6c53382c0b8a91b6341e8f1e4440b6e3c70"
   }
  }
 },
 "nbformat": 4,
 "nbformat_minor": 5
}