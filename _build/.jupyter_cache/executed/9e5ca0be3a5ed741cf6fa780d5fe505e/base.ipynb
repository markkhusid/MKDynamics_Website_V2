{
 "cells": [
  {
   "cell_type": "code",
   "execution_count": 1,
   "id": "f16472aa-c965-4bad-a218-fee33f7b456a",
   "metadata": {},
   "outputs": [],
   "source": [
    "import os\n",
    "root_dir = \"\"\n",
    "root_dir = os.getcwd()"
   ]
  },
  {
   "cell_type": "code",
   "execution_count": 2,
   "id": "f77f9126-86cc-4a1b-89b9-5ad5f61cf72c",
   "metadata": {
    "tags": []
   },
   "outputs": [],
   "source": [
    "code_dir = root_dir + \"/\" + \"Fortran_Code/Section_BLAS_LAPACK_Scal\""
   ]
  },
  {
   "cell_type": "code",
   "execution_count": 3,
   "id": "c2eeda29-613f-48fd-904b-af9aef8813a2",
   "metadata": {},
   "outputs": [],
   "source": [
    "os.chdir(code_dir)"
   ]
  },
  {
   "cell_type": "code",
   "execution_count": 4,
   "id": "0fbd7621-e800-4235-ab30-80560cc3e1a8",
   "metadata": {},
   "outputs": [],
   "source": [
    "build_status = os.system(\"fpm build 2>/dev/null\")"
   ]
  },
  {
   "cell_type": "code",
   "execution_count": 5,
   "id": "3176b27d-932e-47a1-8099-4fae064ec661",
   "metadata": {},
   "outputs": [
    {
     "name": "stdout",
     "output_type": "stream",
     "text": [
      "original:\n",
      "   0.6484231   0.7699479   0.0408001   0.9845512\n",
      "   0.8282905   0.2951749   0.0316558   0.7883060\n",
      "   0.0588210   0.1357320   0.8372485   0.4022821\n",
      "norm:   2.4437222   1.9434273   1.4340835\n",
      "row: 1\n",
      "1/norm(row):    0.4092118\n",
      "   0.2653424   0.3150718   0.0166959   0.4028900\n",
      "   0.8282905   0.2951749   0.0316558   0.7883060\n",
      "   0.0588210   0.1357320   0.8372485   0.4022821\n",
      "row: 2\n",
      "1/norm(row):    0.5145549\n",
      "   0.2653424   0.3150718   0.0166959   0.4028900\n",
      "   0.4262009   0.1518837   0.0162886   0.4056267\n",
      "   0.0588210   0.1357320   0.8372485   0.4022821\n",
      "row: 3\n",
      "1/norm(row):    0.6973095\n",
      "   0.2653424   0.3150718   0.0166959   0.4028900\n",
      "   0.4262009   0.1518837   0.0162886   0.4056267\n",
      "   0.0410164   0.0946472   0.5838213   0.2805151\n",
      "row-normalized::\n",
      "   0.2653424   0.3150718   0.0166959   0.4028900\n",
      "   0.4262009   0.1518837   0.0162886   0.4056267\n",
      "   0.0410164   0.0946472   0.5838213   0.2805151\n",
      "norm:   1.0000000   1.0000000   1.0000000\n"
     ]
    }
   ],
   "source": [
    "exec_status = \\\n",
    "    os.system(\"fpm run 2>/dev/null\")"
   ]
  }
 ],
 "metadata": {
  "kernelspec": {
   "display_name": "Python 3 (ipykernel)",
   "language": "python",
   "name": "python3"
  },
  "language_info": {
   "codemirror_mode": {
    "name": "ipython",
    "version": 3
   },
   "file_extension": ".py",
   "mimetype": "text/x-python",
   "name": "python",
   "nbconvert_exporter": "python",
   "pygments_lexer": "ipython3",
   "version": "3.10.14"
  }
 },
 "nbformat": 4,
 "nbformat_minor": 5
}