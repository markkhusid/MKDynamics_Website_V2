{
 "cells": [
  {
   "cell_type": "code",
   "execution_count": 1,
   "metadata": {},
   "outputs": [],
   "source": [
    "import os\n",
    "root_dir = \"\"\n",
    "root_dir = os.getcwd()"
   ]
  },
  {
   "cell_type": "code",
   "execution_count": 2,
   "metadata": {},
   "outputs": [],
   "source": [
    "code_dir = root_dir + \"/\" + \"Fortran_Code/Section_CSV_Fortran_Write_CSV\""
   ]
  },
  {
   "cell_type": "code",
   "execution_count": 3,
   "metadata": {},
   "outputs": [],
   "source": [
    "os.chdir(code_dir)"
   ]
  },
  {
   "cell_type": "code",
   "execution_count": 4,
   "metadata": {},
   "outputs": [],
   "source": [
    "build_status = os.system(\"fpm build 2>/dev/null\")"
   ]
  },
  {
   "cell_type": "code",
   "execution_count": 5,
   "metadata": {},
   "outputs": [],
   "source": [
    "exec_status = \\\n",
    "    os.system(\"fpm run 2>/dev/null\")"
   ]
  },
  {
   "cell_type": "code",
   "execution_count": 6,
   "metadata": {},
   "outputs": [
    {
     "name": "stdout",
     "output_type": "stream",
     "text": [
      "\u001b[38;5;238m───────┬────────────────────────────────────────────────────────────────────────\u001b[0m\r\n",
      "       \u001b[38;5;238m│ \u001b[0mFile: \u001b[1mtest.csv\u001b[0m\r\n",
      "\u001b[38;5;238m───────┼────────────────────────────────────────────────────────────────────────\u001b[0m\r\n",
      "\u001b[38;5;238m   1\u001b[0m   \u001b[38;5;238m│\u001b[0m \u001b[38;2;230;219;116m\"\u001b[0m\u001b[38;2;230;219;116mx\u001b[0m\u001b[38;2;230;219;116m\"\u001b[0m\u001b[38;2;253;151;31m,\u001b[0m\u001b[38;2;230;219;116m\"\u001b[0m\u001b[38;2;230;219;116my\u001b[0m\u001b[38;2;230;219;116m\"\u001b[0m\u001b[38;2;253;151;31m,\u001b[0m\u001b[38;2;230;219;116m\"\u001b[0m\u001b[38;2;230;219;116mz\u001b[0m\u001b[38;2;230;219;116m\"\u001b[0m\u001b[38;2;253;151;31m,\u001b[0m\u001b[38;2;230;219;116m\"\u001b[0m\u001b[38;2;230;219;116mt\u001b[0m\u001b[38;2;230;219;116m\"\u001b[0m\r\n",
      "\u001b[38;5;238m   2\u001b[0m   \u001b[38;5;238m│\u001b[0m \u001b[38;2;166;226;46m1.000\u001b[0m\u001b[38;2;253;151;31m,\u001b[0m\u001b[38;2;102;217;239m2.000\u001b[0m\u001b[38;2;253;151;31m,\u001b[0m\u001b[38;2;190;132;255m3.000\u001b[0m\u001b[38;2;253;151;31m,\u001b[0m\u001b[38;2;249;38;114mT\u001b[0m\r\n",
      "\u001b[38;5;238m   3\u001b[0m   \u001b[38;5;238m│\u001b[0m \u001b[38;2;166;226;46m4.000\u001b[0m\u001b[38;2;253;151;31m,\u001b[0m\u001b[38;2;102;217;239m5.000\u001b[0m\u001b[38;2;253;151;31m,\u001b[0m\u001b[38;2;190;132;255m6.000\u001b[0m\u001b[38;2;253;151;31m,\u001b[0m\u001b[38;2;249;38;114mF\u001b[0m\r\n",
      "\u001b[38;5;238m───────┴────────────────────────────────────────────────────────────────────────\u001b[0m\r\n"
     ]
    }
   ],
   "source": [
    "!bat test.csv"
   ]
  }
 ],
 "metadata": {
  "kernelspec": {
   "display_name": "Python 3.11",
   "language": "python",
   "name": "py311_env"
  },
  "language_info": {
   "codemirror_mode": {
    "name": "ipython",
    "version": 3
   },
   "file_extension": ".py",
   "mimetype": "text/x-python",
   "name": "python",
   "nbconvert_exporter": "python",
   "pygments_lexer": "ipython3",
   "version": "3.10.16"
  }
 },
 "nbformat": 4,
 "nbformat_minor": 2
}