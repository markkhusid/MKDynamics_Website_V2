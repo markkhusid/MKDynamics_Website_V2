{
 "cells": [
  {
   "cell_type": "code",
   "execution_count": 1,
   "id": "e8ba1050-b7b1-4e9e-87bf-28791145e5e7",
   "metadata": {
    "execution": {
     "iopub.execute_input": "2024-05-12T00:49:47.210766Z",
     "iopub.status.busy": "2024-05-12T00:49:47.210475Z",
     "iopub.status.idle": "2024-05-12T00:49:47.276889Z",
     "shell.execute_reply": "2024-05-12T00:49:47.259265Z",
     "shell.execute_reply.started": "2024-05-12T00:49:47.210745Z"
    }
   },
   "outputs": [],
   "source": [
    "import os\n",
    "root_dir = os.getcwd()"
   ]
  },
  {
   "cell_type": "code",
   "execution_count": 2,
   "id": "bdaf795d-554a-46e6-b4da-faeb331e1b13",
   "metadata": {
    "execution": {
     "iopub.execute_input": "2024-05-12T00:49:48.002722Z",
     "iopub.status.busy": "2024-05-12T00:49:48.002348Z",
     "iopub.status.idle": "2024-05-12T00:49:48.007607Z",
     "shell.execute_reply": "2024-05-12T00:49:48.007231Z",
     "shell.execute_reply.started": "2024-05-12T00:49:48.002701Z"
    }
   },
   "outputs": [],
   "source": [
    "code_dir = root_dir + \"/\" + \"Fortran_Code/Section_12_8_Line_Numbers\""
   ]
  },
  {
   "cell_type": "code",
   "execution_count": 3,
   "id": "a7d9f1b1-ba0d-4db1-84ef-7a358f0453a6",
   "metadata": {
    "execution": {
     "iopub.execute_input": "2024-05-12T00:49:48.475038Z",
     "iopub.status.busy": "2024-05-12T00:49:48.474735Z",
     "iopub.status.idle": "2024-05-12T00:49:48.480921Z",
     "shell.execute_reply": "2024-05-12T00:49:48.480340Z",
     "shell.execute_reply.started": "2024-05-12T00:49:48.475016Z"
    }
   },
   "outputs": [],
   "source": [
    "os.chdir(code_dir)"
   ]
  },
  {
   "cell_type": "code",
   "execution_count": 4,
   "id": "0fbd7621-e800-4235-ab30-80560cc3e1a8",
   "metadata": {
    "execution": {
     "iopub.execute_input": "2024-05-12T00:49:48.949506Z",
     "iopub.status.busy": "2024-05-12T00:49:48.949176Z",
     "iopub.status.idle": "2024-05-12T00:49:48.996304Z",
     "shell.execute_reply": "2024-05-12T00:49:48.995841Z",
     "shell.execute_reply.started": "2024-05-12T00:49:48.949483Z"
    }
   },
   "outputs": [],
   "source": [
    "build_status = os.system(\"fpm build 2>/dev/null\")"
   ]
  },
  {
   "cell_type": "code",
   "execution_count": 5,
   "id": "0483d40b-e849-4574-bcbe-003c81a96dd5",
   "metadata": {
    "execution": {
     "iopub.execute_input": "2024-05-12T00:49:50.137015Z",
     "iopub.status.busy": "2024-05-12T00:49:50.136027Z",
     "iopub.status.idle": "2024-05-12T00:49:50.227281Z",
     "shell.execute_reply": "2024-05-12T00:49:50.226390Z",
     "shell.execute_reply.started": "2024-05-12T00:49:50.136346Z"
    }
   },
   "outputs": [
    {
     "name": "stdout",
     "output_type": "stream",
     "text": [
      "\n",
      "Line Number Example Program\n",
      "\n",
      "Opened input file for reading -> input_test_file.txt           \n",
      "\n",
      "Opened output file for writing -> output_test_file.txt          \n",
      "\n",
      "Processing input file and writing output file....\n",
      "\n",
      "Read line from input file -> this is a test 1                                                                                                                    \n",
      "Wrote line to output file ->          1  this is a test 1                                                                                                                    \n",
      "Read line from input file -> this is another test line 345                                                                                                       \n",
      "Wrote line to output file ->          2  this is another test line 345                                                                                                       \n",
      "Read line from input file -> one more line if you please                                                                                                         \n",
      "Wrote line to output file ->          3  one more line if you please                                                                                                         \n",
      "\n"
     ]
    }
   ],
   "source": [
    "exec_status = os.system(\"fpm run 2>/dev/null\")"
   ]
  }
 ],
 "metadata": {
  "kernelspec": {
   "display_name": "Python 3 (ipykernel)",
   "language": "python",
   "name": "python3"
  },
  "language_info": {
   "codemirror_mode": {
    "name": "ipython",
    "version": 3
   },
   "file_extension": ".py",
   "mimetype": "text/x-python",
   "name": "python",
   "nbconvert_exporter": "python",
   "pygments_lexer": "ipython3",
   "version": "3.10.14"
  }
 },
 "nbformat": 4,
 "nbformat_minor": 5
}