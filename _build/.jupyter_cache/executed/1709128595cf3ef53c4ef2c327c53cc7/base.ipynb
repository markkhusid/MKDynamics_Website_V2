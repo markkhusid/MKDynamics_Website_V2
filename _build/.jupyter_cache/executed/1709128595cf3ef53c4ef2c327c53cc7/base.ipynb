{
 "cells": [
  {
   "cell_type": "code",
   "execution_count": 1,
   "id": "e8ba1050-b7b1-4e9e-87bf-28791145e5e7",
   "metadata": {
    "execution": {
     "iopub.execute_input": "2024-05-09T04:21:54.839313Z",
     "iopub.status.busy": "2024-05-09T04:21:54.838105Z",
     "iopub.status.idle": "2024-05-09T04:21:54.851383Z",
     "shell.execute_reply": "2024-05-09T04:21:54.844249Z",
     "shell.execute_reply.started": "2024-05-09T04:21:54.839286Z"
    }
   },
   "outputs": [],
   "source": [
    "import os\n",
    "root_dir = os.getcwd()"
   ]
  },
  {
   "cell_type": "code",
   "execution_count": 2,
   "id": "bdaf795d-554a-46e6-b4da-faeb331e1b13",
   "metadata": {
    "execution": {
     "iopub.execute_input": "2024-05-09T04:21:55.304720Z",
     "iopub.status.busy": "2024-05-09T04:21:55.304368Z",
     "iopub.status.idle": "2024-05-09T04:21:55.317080Z",
     "shell.execute_reply": "2024-05-09T04:21:55.315302Z",
     "shell.execute_reply.started": "2024-05-09T04:21:55.304697Z"
    }
   },
   "outputs": [],
   "source": [
    "code_dir = root_dir + \"/\" + \"Fortran_Code/Section_7_Period_Calculator\""
   ]
  },
  {
   "cell_type": "code",
   "execution_count": 3,
   "id": "a7d9f1b1-ba0d-4db1-84ef-7a358f0453a6",
   "metadata": {
    "execution": {
     "iopub.execute_input": "2024-05-09T04:21:55.803810Z",
     "iopub.status.busy": "2024-05-09T04:21:55.802607Z",
     "iopub.status.idle": "2024-05-09T04:21:55.810892Z",
     "shell.execute_reply": "2024-05-09T04:21:55.810029Z",
     "shell.execute_reply.started": "2024-05-09T04:21:55.803779Z"
    }
   },
   "outputs": [],
   "source": [
    "os.chdir(code_dir)"
   ]
  },
  {
   "cell_type": "code",
   "execution_count": 4,
   "id": "0fbd7621-e800-4235-ab30-80560cc3e1a8",
   "metadata": {
    "execution": {
     "iopub.execute_input": "2024-05-09T04:22:27.236295Z",
     "iopub.status.busy": "2024-05-09T04:22:27.235848Z",
     "iopub.status.idle": "2024-05-09T04:22:27.312043Z",
     "shell.execute_reply": "2024-05-09T04:22:27.311120Z",
     "shell.execute_reply.started": "2024-05-09T04:22:27.236261Z"
    }
   },
   "outputs": [],
   "source": [
    "build_status = os.system(\"fpm build 2>/dev/null\")"
   ]
  },
  {
   "cell_type": "code",
   "execution_count": 5,
   "id": "0483d40b-e849-4574-bcbe-003c81a96dd5",
   "metadata": {
    "execution": {
     "iopub.execute_input": "2024-05-09T04:22:27.868691Z",
     "iopub.status.busy": "2024-05-09T04:22:27.867495Z",
     "iopub.status.idle": "2024-05-09T04:22:28.060325Z",
     "shell.execute_reply": "2024-05-09T04:22:28.059378Z",
     "shell.execute_reply.started": "2024-05-09T04:22:27.868665Z"
    }
   },
   "outputs": [
    {
     "name": "stdout",
     "output_type": "stream",
     "text": [
      "Pendulum Period Calculation Program\n",
      "\n",
      "The Length is:     1.00 meters\n",
      "The Angle  is:    10.00 degrees\n",
      "\n",
      "Calculating Results......\n",
      "The period is:     0.20 seconds.\n",
      "\n"
     ]
    }
   ],
   "source": [
    "exec_status = os.system(\"fpm run 2>/dev/null\")"
   ]
  }
 ],
 "metadata": {
  "kernelspec": {
   "display_name": "Python 3 (ipykernel)",
   "language": "python",
   "name": "python3"
  },
  "language_info": {
   "codemirror_mode": {
    "name": "ipython",
    "version": 3
   },
   "file_extension": ".py",
   "mimetype": "text/x-python",
   "name": "python",
   "nbconvert_exporter": "python",
   "pygments_lexer": "ipython3",
   "version": "3.10.14"
  }
 },
 "nbformat": 4,
 "nbformat_minor": 5
}