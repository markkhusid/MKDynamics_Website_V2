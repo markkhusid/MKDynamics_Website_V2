{
 "cells": [
  {
   "cell_type": "code",
   "execution_count": 1,
   "id": "e0336aaf",
   "metadata": {},
   "outputs": [],
   "source": [
    "import os\n",
    "root_dir = os.getcwd()"
   ]
  },
  {
   "cell_type": "code",
   "execution_count": 2,
   "id": "15fe5e5d",
   "metadata": {},
   "outputs": [],
   "source": [
    "code_dir = root_dir + \"/\" + \"C_Code\""
   ]
  },
  {
   "cell_type": "code",
   "execution_count": 3,
   "id": "93501b0d",
   "metadata": {},
   "outputs": [],
   "source": [
    "os.chdir(code_dir)"
   ]
  },
  {
   "cell_type": "code",
   "execution_count": 4,
   "id": "c8cb1d74",
   "metadata": {},
   "outputs": [],
   "source": [
    "build_command = os.system(\"gcc -o section_6_5_multidimensional_arrays section_6_5_multidimensional_arrays.c\")"
   ]
  },
  {
   "cell_type": "code",
   "execution_count": 5,
   "id": "263f1499",
   "metadata": {},
   "outputs": [
    {
     "name": "stdout",
     "output_type": "stream",
     "text": [
      "(0,0) = 0\n",
      "(0,1) = 1\n",
      "(0,2) = 2\n",
      "(0,3) = 3\n",
      "(0,4) = 4\n",
      "(1,0) = 5\n",
      "(1,1) = 6\n",
      "(1,2) = 7\n",
      "(1,3) = 8\n",
      "(1,4) = 9\n"
     ]
    }
   ],
   "source": [
    "exec_status = os.system(\"./section_6_5_multidimensional_arrays\")"
   ]
  }
 ],
 "metadata": {
  "kernelspec": {
   "display_name": "Python 3.11",
   "language": "python",
   "name": "py311_env"
  },
  "language_info": {
   "codemirror_mode": {
    "name": "ipython",
    "version": 3
   },
   "file_extension": ".py",
   "mimetype": "text/x-python",
   "name": "python",
   "nbconvert_exporter": "python",
   "pygments_lexer": "ipython3",
   "version": "3.10.17"
  }
 },
 "nbformat": 4,
 "nbformat_minor": 5
}