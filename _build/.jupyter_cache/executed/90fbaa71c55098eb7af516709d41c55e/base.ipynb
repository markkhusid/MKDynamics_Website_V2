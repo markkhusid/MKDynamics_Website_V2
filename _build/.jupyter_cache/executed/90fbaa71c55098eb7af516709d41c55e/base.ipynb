{
 "cells": [
  {
   "cell_type": "code",
   "execution_count": 1,
   "id": "f16472aa-c965-4bad-a218-fee33f7b456a",
   "metadata": {},
   "outputs": [],
   "source": [
    "import os\n",
    "root_dir = \"\"\n",
    "root_dir = os.getcwd()"
   ]
  },
  {
   "cell_type": "code",
   "execution_count": 2,
   "id": "f77f9126-86cc-4a1b-89b9-5ad5f61cf72c",
   "metadata": {
    "tags": []
   },
   "outputs": [],
   "source": [
    "code_dir = root_dir + \"/\" + \"Fortran_Code/Section_BLAS_LAPACK_SV\""
   ]
  },
  {
   "cell_type": "code",
   "execution_count": 3,
   "id": "c2eeda29-613f-48fd-904b-af9aef8813a2",
   "metadata": {},
   "outputs": [],
   "source": [
    "os.chdir(code_dir)"
   ]
  },
  {
   "cell_type": "code",
   "execution_count": 4,
   "id": "0fbd7621-e800-4235-ab30-80560cc3e1a8",
   "metadata": {},
   "outputs": [],
   "source": [
    "build_status = os.system(\"fpm build 2>/dev/null\")"
   ]
  },
  {
   "cell_type": "code",
   "execution_count": 5,
   "id": "3176b27d-932e-47a1-8099-4fae064ec661",
   "metadata": {},
   "outputs": [
    {
     "name": "stdout",
     "output_type": "stream",
     "text": [
      "orig. A\n",
      "    3.000   11.000   19.000\n",
      "    5.000   13.000   23.000\n",
      "    7.000   17.000   29.000\n",
      "X\n",
      "    2.399998\n",
      "  -20.600016\n",
      "   11.600009\n",
      "B\n",
      "    1.000000\n",
      "   10.999985\n",
      "    3.000000\n",
      "orig. B\n",
      "    1.000\n",
      "   11.000\n",
      "    3.000\n",
      "relative error =  0.462E-06\n"
     ]
    }
   ],
   "source": [
    "exec_status = \\\n",
    "    os.system(\"fpm run 2>/dev/null\")"
   ]
  }
 ],
 "metadata": {
  "kernelspec": {
   "display_name": "base",
   "language": "python",
   "name": "python3"
  },
  "language_info": {
   "codemirror_mode": {
    "name": "ipython",
    "version": 3
   },
   "file_extension": ".py",
   "mimetype": "text/x-python",
   "name": "python",
   "nbconvert_exporter": "python",
   "pygments_lexer": "ipython3",
   "version": "3.10.14"
  }
 },
 "nbformat": 4,
 "nbformat_minor": 5
}