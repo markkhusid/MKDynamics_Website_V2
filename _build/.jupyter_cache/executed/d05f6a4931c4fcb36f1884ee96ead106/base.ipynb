{
 "cells": [
  {
   "cell_type": "code",
   "execution_count": 1,
   "id": "f091e74f-fca0-43fa-8114-1c526abb4f95",
   "metadata": {},
   "outputs": [],
   "source": [
    "import os\n",
    "root_dir = os.getcwd()"
   ]
  },
  {
   "cell_type": "code",
   "execution_count": 2,
   "id": "9836a2e4-d065-4ba0-928b-66a4e7cce418",
   "metadata": {},
   "outputs": [],
   "source": [
    "code_dir = root_dir + \"/\" + \\\n",
    "    \"Cpp_Code/Chapter_7_10_Overloading_Operator_Parenthesis_for_Indexing\""
   ]
  },
  {
   "cell_type": "code",
   "execution_count": 3,
   "id": "af912e98-7de3-40d7-8825-217493f6a66b",
   "metadata": {},
   "outputs": [],
   "source": [
    "os.chdir(code_dir)"
   ]
  },
  {
   "cell_type": "code",
   "execution_count": 4,
   "id": "a734c6b9-cf2b-455b-a921-40f7efc58bd2",
   "metadata": {},
   "outputs": [],
   "source": [
    "build_command = os.system(\"g++ matrix3.cpp -w -o matrix3\")"
   ]
  },
  {
   "cell_type": "code",
   "execution_count": 5,
   "id": "e58df301-ac7c-4090-bc7f-87caea2890fa",
   "metadata": {},
   "outputs": [
    {
     "name": "stdout",
     "output_type": "stream",
     "text": [
      "The matrix m contains ...\n",
      "\n",
      "row  1\n",
      "1\t2\t3\t4\t5\t6\t\n",
      "row  2\n",
      "7\t8\t9\t10\t11\t12\t\n",
      "row  3\n",
      "13\t14\t15\t16\t17\t18\t\n",
      "\n",
      "The matrix n contains ...\n",
      "\n",
      "row  1\n",
      "100\t101\t102\t103\t104\t105\t\n",
      "row  2\n",
      "106\t107\t108\t109\t110\t111\t\n",
      "row  3\n",
      "112\t113\t114\t115\t116\t117\t\n",
      "\n",
      "Performing n = n + m....\n",
      "\n",
      "The matrix n contains ...\n",
      "\n",
      "row  1\n",
      "101\t103\t105\t107\t109\t111\t\n",
      "row  2\n",
      "113\t115\t117\t119\t121\t123\t\n",
      "row  3\n",
      "125\t127\t129\t131\t133\t135\t\n"
     ]
    }
   ],
   "source": [
    "exec_status = os.system(\"./matrix3\")"
   ]
  }
 ],
 "metadata": {
  "kernelspec": {
   "display_name": "Python 3 (ipykernel)",
   "language": "python",
   "name": "python3"
  },
  "language_info": {
   "codemirror_mode": {
    "name": "ipython",
    "version": 3
   },
   "file_extension": ".py",
   "mimetype": "text/x-python",
   "name": "python",
   "nbconvert_exporter": "python",
   "pygments_lexer": "ipython3",
   "version": "3.10.14"
  },
  "vscode": {
   "interpreter": {
    "hash": "916dbcbb3f70747c44a77c7bcd40155683ae19c65e1c03b4aa3499c5328201f1"
   }
  }
 },
 "nbformat": 4,
 "nbformat_minor": 5
}