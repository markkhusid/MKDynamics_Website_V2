{
 "cells": [
  {
   "cell_type": "raw",
   "id": "62ac37db",
   "metadata": {},
   "source": [
    "---\n",
    "jupytext:\n",
    "  formats: md:myst\n",
    "  text_representation:\n",
    "    extension: .md\n",
    "    format_name: myst\n",
    "kernelspec:\n",
    "  display_name: Python 3\n",
    "  language: python\n",
    "  name: python3\n",
    "---"
   ]
  },
  {
   "cell_type": "markdown",
   "id": "88c59b98",
   "metadata": {},
   "source": [
    "# Conditions and Operators: Conditions and Switch - Case"
   ]
  },
  {
   "cell_type": "markdown",
   "id": "f608de53",
   "metadata": {},
   "source": [
    "Adapted from: \"Learn Modern C++\" by cpptutor: [Learn Modern C++: Conditions and Operators](https://learnmoderncpp.com/conditions-and-operators/)"
   ]
  },
  {
   "cell_type": "markdown",
   "id": "53c1dbd5",
   "metadata": {},
   "source": [
    "## Program that Demonstrates Conditions and Switch Case"
   ]
  },
  {
   "cell_type": "markdown",
   "id": "0bcc0975",
   "metadata": {},
   "source": [
    "```c++\n",
    "// 03-calc.cpp : simple calculator with four functions\n",
    " \n",
    "#include <iostream>\n",
    "using namespace std;\n",
    " \n",
    "int main() {\n",
    "    int r{}, x{}, y{};\n",
    "    char op{};\n",
    "    cout << \"Please enter a calculation (number op number, op is one of +-*/):\\n\";\n",
    "    cin >> x >> op >> y;\n",
    "    switch (op) {\n",
    "    case '+':\n",
    "        r = x + y;\n",
    "        break;\n",
    "    case '-':\n",
    "        r = x - y;\n",
    "        break;\n",
    "    case '*':\n",
    "        r = x * y;\n",
    "        break;\n",
    "    case '/':\n",
    "        if (y) {\n",
    "            r = x / y;\n",
    "        }\n",
    "        else {\n",
    "            cerr << \"Error: divide by zero.\\n\";\n",
    "        }\n",
    "        break;\n",
    "    default:\n",
    "        cerr << \"Error: invalid op.\\n\";\n",
    "        break;\n",
    "    }\n",
    "    cout << \"Result: \" << r << '\\n';\n",
    "}\n",
    "```"
   ]
  },
  {
   "cell_type": "markdown",
   "id": "b20c8d34",
   "metadata": {},
   "source": [
    "## Explanation of the Above Code"
   ]
  },
  {
   "cell_type": "markdown",
   "id": "55576bd8",
   "metadata": {},
   "source": [
    "This C++ program implements a simple calculator that performs basic arithmetic operations (+, -, *, /) based on user input. Here's a breakdown of the code:\n",
    "\n",
    "### Code Explanation:\n",
    "\n",
    "1. **Header Inclusion**:\n",
    "   ```c++\n",
    "   #include <iostream>\n",
    "   ```\n",
    "   - The `<iostream>` header is included to enable input (`cin`) and output (`cout` and `cerr`) operations.\n",
    "\n",
    "2. **Namespace**:\n",
    "   ```c++\n",
    "   using namespace std;\n",
    "   ```\n",
    "   - This allows the program to use standard library features (like `cin`, `cout`, and `cerr`) without prefixing them with `std::`.\n",
    "\n",
    "3. **Main Function**:\n",
    "   ```c++\n",
    "   int main() {\n",
    "   ```\n",
    "   - The `main` function is the entry point of the program.\n",
    "\n",
    "4. **Variable Declarations**:\n",
    "   ```c++\n",
    "   int r{}, x{}, y{};\n",
    "   char op{};\n",
    "   ```\n",
    "   - `r`: Stores the result of the calculation.\n",
    "   - `x` and `y`: Store the two numbers entered by the user.\n",
    "   - `op`: Stores the operator entered by the user.\n",
    "\n",
    "5. **User Input**:\n",
    "   ```c++\n",
    "   cout << \"Please enter a calculation (number op number, op is one of +-*/):\\n\";\n",
    "   cin >> x >> op >> y;\n",
    "   ```\n",
    "   - Prompts the user to enter a calculation in the format `number operator number` (e.g., `5 + 3`).\n",
    "   - Reads the input values into `x`, `op`, and `y`.\n",
    "\n",
    "6. **Switch Statement**:\n",
    "   ```c++\n",
    "   switch (op) {\n",
    "   ```\n",
    "   - Evaluates the operator (`op`) and performs the corresponding arithmetic operation.\n",
    "\n",
    "   - **Case '+'**:\n",
    "     ```c++\n",
    "     case '+':\n",
    "         r = x + y;\n",
    "         break;\n",
    "     ```\n",
    "     - Adds `x` and `y` and stores the result in `r`.\n",
    "\n",
    "   - **Case '-'**:\n",
    "     ```c++\n",
    "     case '-':\n",
    "         r = x - y;\n",
    "         break;\n",
    "     ```\n",
    "     - Subtracts `y` from `x` and stores the result in `r`.\n",
    "\n",
    "   - **Case '*'**:\n",
    "     ```c++\n",
    "     case '*':\n",
    "         r = x * y;\n",
    "         break;\n",
    "     ```\n",
    "     - Multiplies `x` and `y` and stores the result in `r`.\n",
    "\n",
    "   - **Case '/'**:\n",
    "     ```c++\n",
    "     case '/':\n",
    "         if (y) {\n",
    "             r = x / y;\n",
    "         }\n",
    "         else {\n",
    "             cerr << \"Error: divide by zero.\\n\";\n",
    "         }\n",
    "         break;\n",
    "     ```\n",
    "     - Divides `x` by `y` and stores the result in `r`.\n",
    "     - Checks if `y` is zero to avoid division by zero. If `y` is zero, an error message is printed to `cerr`.\n",
    "\n",
    "   - **Default Case**:\n",
    "     ```c++\n",
    "     default:\n",
    "         cerr << \"Error: invalid op.\\n\";\n",
    "         break;\n",
    "     ```\n",
    "     - Handles invalid operators by printing an error message to `cerr`.\n",
    "\n",
    "7. **Output the Result**:\n",
    "   ```c++\n",
    "   cout << \"Result: \" << r << '\\n';\n",
    "   ```\n",
    "   - Prints the result of the calculation to the console.\n",
    "\n",
    "### Key Features:\n",
    "- **Error Handling**:\n",
    "  - Division by zero is explicitly checked, and an error message is displayed if it occurs.\n",
    "  - Invalid operators are handled with a default case in the `switch` statement.\n",
    "\n",
    "- **User Interaction**:\n",
    "  - The program is interactive, prompting the user for input and displaying the result.\n",
    "\n",
    "### Example Input/Output:\n",
    "1. **Valid Input**:\n",
    "   ```\n",
    "   Input: 5 + 3\n",
    "   Output: Result: 8\n",
    "   ```\n",
    "\n",
    "2. **Division by Zero**:\n",
    "   ```\n",
    "   Input: 5 / 0\n",
    "   Output: Error: divide by zero.\n",
    "   ```\n",
    "\n",
    "3. **Invalid Operator**:\n",
    "   ```\n",
    "   Input: 5 % 3\n",
    "   Output: Error: invalid op.\n",
    "   ```"
   ]
  },
  {
   "cell_type": "markdown",
   "id": "8ed0f9ab",
   "metadata": {},
   "source": [
    "## Compile and Run Code"
   ]
  },
  {
   "cell_type": "markdown",
   "id": "61bf7edf",
   "metadata": {},
   "source": [
    "### Use Python to Change to Working Directory"
   ]
  },
  {
   "cell_type": "code",
   "execution_count": 1,
   "id": "b174fec9",
   "metadata": {},
   "outputs": [],
   "source": [
    "import os\n",
    "root_dir = os.getcwd()"
   ]
  },
  {
   "cell_type": "code",
   "execution_count": 2,
   "id": "dea8ff6b",
   "metadata": {},
   "outputs": [],
   "source": [
    "code_dir = root_dir + \"/\" + \"Cpp_Code/03_Conditions_and_Operators\""
   ]
  },
  {
   "cell_type": "code",
   "execution_count": 3,
   "id": "72abc3cb",
   "metadata": {},
   "outputs": [],
   "source": [
    "os.chdir(code_dir)"
   ]
  },
  {
   "cell_type": "markdown",
   "id": "38616a5c",
   "metadata": {},
   "source": [
    "### Use Docker to Compile the Code in a C++23 Environment"
   ]
  },
  {
   "cell_type": "code",
   "execution_count": 4,
   "id": "87590cc2",
   "metadata": {},
   "outputs": [],
   "source": [
    "!docker run --rm -v $(pwd):/app cpp23-clang18:latest clang++-18 -std=c++23 -stdlib=libc++ /app/03-calc.cpp -o /app/03-calc"
   ]
  },
  {
   "cell_type": "markdown",
   "id": "63264451",
   "metadata": {},
   "source": [
    "### Use Docker to Run Executable in a C++23 Environment"
   ]
  },
  {
   "cell_type": "code",
   "execution_count": 13,
   "id": "3d711399",
   "metadata": {},
   "outputs": [
    {
     "name": "stdout",
     "output_type": "stream",
     "text": [
      "Please enter a calculation (number op number, op is one of +-*/):\n",
      "Result: 10\n"
     ]
    }
   ],
   "source": [
    "!echo \"5 + 5\" | docker run -i --rm -v $(pwd):/app cpp23-clang18:latest ./03-calc"
   ]
  },
  {
   "cell_type": "code",
   "execution_count": 14,
   "id": "eb367f77",
   "metadata": {},
   "outputs": [
    {
     "name": "stdout",
     "output_type": "stream",
     "text": [
      "Please enter a calculation (number op number, op is one of +-*/):\n",
      "Result: 25\n"
     ]
    }
   ],
   "source": [
    "!echo \"5 * 5\" | docker run -i --rm -v $(pwd):/app cpp23-clang18:latest ./03-calc"
   ]
  },
  {
   "cell_type": "code",
   "execution_count": 15,
   "id": "31089abf",
   "metadata": {},
   "outputs": [
    {
     "name": "stdout",
     "output_type": "stream",
     "text": [
      "Please enter a calculation (number op number, op is one of +-*/):\n",
      "Result: 5\n"
     ]
    }
   ],
   "source": [
    "!echo \"25 / 5\" | docker run -i --rm -v $(pwd):/app cpp23-clang18:latest ./03-calc"
   ]
  },
  {
   "cell_type": "code",
   "execution_count": 16,
   "id": "8ec1907a",
   "metadata": {},
   "outputs": [
    {
     "name": "stdout",
     "output_type": "stream",
     "text": [
      "Please enter a calculation (number op number, op is one of +-*/):\n",
      "Result: 10\n"
     ]
    }
   ],
   "source": [
    "!echo \"15 - 5\" | docker run -i --rm -v $(pwd):/app cpp23-clang18:latest ./03-calc"
   ]
  },
  {
   "cell_type": "code",
   "execution_count": 18,
   "id": "6df67c95",
   "metadata": {},
   "outputs": [
    {
     "name": "stdout",
     "output_type": "stream",
     "text": [
      "Please enter a calculation (number op number, op is one of +-*/):\n",
      "Result: 0\n",
      "Error: divide by zero.\n"
     ]
    }
   ],
   "source": [
    "!echo \"15 / 0\" | docker run -i --rm -v $(pwd):/app cpp23-clang18:latest ./03-calc"
   ]
  },
  {
   "cell_type": "code",
   "execution_count": 17,
   "id": "3c4ba486",
   "metadata": {},
   "outputs": [
    {
     "name": "stdout",
     "output_type": "stream",
     "text": [
      "Please enter a calculation (number op number, op is one of +-*/):\n",
      "Result: 0\n",
      "Error: invalid op.\n"
     ]
    }
   ],
   "source": [
    "!echo \"15 V 5\" | docker run -i --rm -v $(pwd):/app cpp23-clang18:latest ./03-calc"
   ]
  }
 ],
 "metadata": {
  "kernelspec": {
   "display_name": "Python 3.11",
   "language": "python",
   "name": "py311_env"
  },
  "language_info": {
   "codemirror_mode": {
    "name": "ipython",
    "version": 3
   },
   "file_extension": ".py",
   "mimetype": "text/x-python",
   "name": "python",
   "nbconvert_exporter": "python",
   "pygments_lexer": "ipython3",
   "version": "3.10.17"
  }
 },
 "nbformat": 4,
 "nbformat_minor": 5
}
