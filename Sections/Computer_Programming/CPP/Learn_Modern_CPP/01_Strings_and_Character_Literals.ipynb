{
 "cells": [
  {
   "cell_type": "raw",
   "id": "0606896e",
   "metadata": {
    "vscode": {
     "languageId": "raw"
    }
   },
   "source": [
    "---\n",
    "jupytext:\n",
    "  formats: md:myst\n",
    "  text_representation:\n",
    "    extension: .md\n",
    "    format_name: myst\n",
    "kernelspec:\n",
    "  display_name: Python 3\n",
    "  language: python\n",
    "  name: python3\n",
    "---"
   ]
  },
  {
   "cell_type": "markdown",
   "id": "d73bcc9e",
   "metadata": {},
   "source": [
    "# Strings and Character Literals"
   ]
  },
  {
   "cell_type": "markdown",
   "id": "c0c28b10",
   "metadata": {},
   "source": [
    "Adapted from: \"Learn Modern C++\" by cpptutor: [Learn Modern C++: String and Character Literals](learnmoderncpp.com/string-and-character-literals/)"
   ]
  },
  {
   "cell_type": "markdown",
   "id": "44335137",
   "metadata": {},
   "source": [
    "## Program that demostrates printing a line of text to the console"
   ]
  },
  {
   "cell_type": "markdown",
   "id": "b1ca3905",
   "metadata": {},
   "source": [
    "```c++\n",
    "// 01-hellow.cpp : prints a line of text to the console\n",
    "\n",
    "#include <print>\n",
    "using namespace std;\n",
    "\n",
    "int main()\n",
    "{\n",
    "    println(\"Hello, World!\"); // prints \"Hello, World!\" to the console\n",
    "}\n",
    "```"
   ]
  },
  {
   "cell_type": "markdown",
   "id": "a5bcf8fa",
   "metadata": {},
   "source": [
    "The above program is compiled and run using Gnu Compiler Collection (g++):"
   ]
  },
  {
   "cell_type": "code",
   "execution_count": 1,
   "id": "0953b4bb",
   "metadata": {},
   "outputs": [],
   "source": [
    "import os\n",
    "root_dir = os.getcwd()"
   ]
  },
  {
   "cell_type": "code",
   "execution_count": 2,
   "id": "29e530ce",
   "metadata": {},
   "outputs": [],
   "source": [
    "code_dir = root_dir + \"/\" + \"Cpp_Code/01_String_and_Character_Literals\""
   ]
  },
  {
   "cell_type": "code",
   "execution_count": 3,
   "id": "e8b71b20",
   "metadata": {},
   "outputs": [],
   "source": [
    "os.chdir(code_dir)"
   ]
  },
  {
   "cell_type": "code",
   "execution_count": 4,
   "id": "f463672a",
   "metadata": {},
   "outputs": [
    {
     "name": "stderr",
     "output_type": "stream",
     "text": [
      "01-hellow.cpp:3:10: fatal error: print: No such file or directory\n",
      "    3 | #include <print>\n",
      "      |          ^~~~~~~\n",
      "compilation terminated.\n"
     ]
    }
   ],
   "source": [
    "build_command = os.system(\"g++ 01-hellow.cpp -w -o hellow\")"
   ]
  },
  {
   "cell_type": "code",
   "execution_count": null,
   "id": "6894eb2a",
   "metadata": {},
   "outputs": [
    {
     "name": "stdout",
     "output_type": "stream",
     "text": [
      "My name is Charles Babbage.\n",
      "Length: 27\n",
      "My name is Alan Turing.\n",
      "Length: 23\n",
      "My name is Alan Turing.My name is Charles Babbage.\n",
      "Length: 50\n"
     ]
    }
   ],
   "source": [
    "exec_status = os.system(\"./string4\")"
   ]
  },
  {
   "cell_type": "markdown",
   "id": "aced959b",
   "metadata": {},
   "source": []
  }
 ],
 "metadata": {
  "kernelspec": {
   "display_name": "Python 3.11",
   "language": "python",
   "name": "py311_env"
  },
  "language_info": {
   "codemirror_mode": {
    "name": "ipython",
    "version": 3
   },
   "file_extension": ".py",
   "mimetype": "text/x-python",
   "name": "python",
   "nbconvert_exporter": "python",
   "pygments_lexer": "ipython3",
   "version": "3.10.16"
  }
 },
 "nbformat": 4,
 "nbformat_minor": 5
}
