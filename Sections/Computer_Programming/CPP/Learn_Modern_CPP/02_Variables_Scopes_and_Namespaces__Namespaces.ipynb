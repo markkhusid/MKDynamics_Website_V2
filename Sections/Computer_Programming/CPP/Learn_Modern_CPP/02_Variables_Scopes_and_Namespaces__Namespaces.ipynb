{
 "cells": [
  {
   "cell_type": "raw",
   "id": "0606896e",
   "metadata": {
    "vscode": {
     "languageId": "raw"
    }
   },
   "source": [
    "---\n",
    "jupytext:\n",
    "  formats: md:myst\n",
    "  text_representation:\n",
    "    extension: .md\n",
    "    format_name: myst\n",
    "kernelspec:\n",
    "  display_name: Python 3\n",
    "  language: python\n",
    "  name: python3\n",
    "---"
   ]
  },
  {
   "cell_type": "markdown",
   "id": "d73bcc9e",
   "metadata": {},
   "source": [
    "# Variables, Scopes and Namespaces: Namespaces"
   ]
  },
  {
   "cell_type": "markdown",
   "id": "c0c28b10",
   "metadata": {},
   "source": [
    "Adapted from: \"Learn Modern C++\" by cpptutor: [Learn Modern C++: Variables, Scopes and Namespaces](https://learnmoderncpp.com/variables-scopes-and-namespaces/)"
   ]
  },
  {
   "cell_type": "markdown",
   "id": "44335137",
   "metadata": {},
   "source": [
    "## Program that Demonstrates using Namespaces"
   ]
  },
  {
   "cell_type": "markdown",
   "id": "b1ca3905",
   "metadata": {},
   "source": [
    "```c++\n",
    "// 02-height.cpp : define the same variable name in two different namespaces\n",
    " \n",
    "#include <print>\n",
    "using namespace std;\n",
    " \n",
    "namespace Wonderland {\n",
    "    auto alice_height_m{ 0.15 };\n",
    "}\n",
    " \n",
    "namespace VictorianEngland {\n",
    "    auto alice_height_m{ 0.9 };\n",
    "}\n",
    " \n",
    "int main() {\n",
    "    println(\"Alice\\'s height varies between {}m and {}m\",\n",
    "        Wonderland::alice_height_m,\n",
    "        VictorianEngland::alice_height_m);\n",
    "}\n",
    "```"
   ]
  },
  {
   "cell_type": "markdown",
   "id": "01509724",
   "metadata": {},
   "source": [
    "## Explanation of the Above Code"
   ]
  },
  {
   "cell_type": "markdown",
   "id": "a5bcf8fa",
   "metadata": {},
   "source": [
    "This C++ code demonstrates the use of **namespaces** to define variables with the same name in different contexts, avoiding naming conflicts.\n",
    "\n",
    "### Code Breakdown:\n",
    "\n",
    "```cpp\n",
    "#include <print>\n",
    "using namespace std;\n",
    "```\n",
    "- The `<print>` header is used for formatted output (similar to `std::format` in C++20). It allows the use of `println` for printing formatted strings.\n",
    "- `using namespace std;` allows direct access to standard library functions without prefixing them with `std::`.\n",
    "\n",
    "```cpp\n",
    "namespace Wonderland {\n",
    "    auto alice_height_m{ 0.15 };\n",
    "}\n",
    "```\n",
    "- A namespace `Wonderland` is defined.\n",
    "- Inside this namespace, a variable `alice_height_m` is declared and initialized with the value `0.15` (meters).\n",
    "\n",
    "```cpp\n",
    "namespace VictorianEngland {\n",
    "    auto alice_height_m{ 0.9 };\n",
    "}\n",
    "```\n",
    "- Another namespace `VictorianEngland` is defined.\n",
    "- Inside this namespace, a variable `alice_height_m` is declared and initialized with the value `0.9` (meters).\n",
    "\n",
    "### Purpose of Namespaces:\n",
    "- Namespaces allow variables with the same name (`alice_height_m`) to coexist without conflict because they are scoped to their respective namespaces (`Wonderland` and `VictorianEngland`).\n",
    "\n",
    "```cpp\n",
    "int main() {\n",
    "    println(\"Alice's height varies between {}m and {}m\",\n",
    "        Wonderland::alice_height_m,\n",
    "        VictorianEngland::alice_height_m);\n",
    "}\n",
    "```\n",
    "- The `main` function prints a formatted string using the `println` function.\n",
    "- The variables `Wonderland::alice_height_m` and `VictorianEngland::alice_height_m` are accessed using the **namespace resolution operator** (`::`).\n",
    "- The output will display the values of `alice_height_m` from both namespaces.\n",
    "\n",
    "### Output:\n",
    "The program will produce the following output:\n",
    "```\n",
    "Alice's height varies between 0.15m and 0.9m\n",
    "```\n",
    "\n",
    "### Key Concepts:\n",
    "1. **Namespaces**: Namespaces are used to organize code and prevent naming conflicts by grouping related variables, functions, or classes.\n",
    "2. **Namespace Resolution Operator (`::`)**: This operator is used to access members of a specific namespace.\n",
    "3. **Variable Scoping**: The same variable name can exist in different namespaces without conflict.\n",
    "\n",
    "This program demonstrates how namespaces can be used to manage naming conflicts in C++ effectively.\n",
    "\n"
   ]
  },
  {
   "cell_type": "markdown",
   "id": "41a71bdf",
   "metadata": {},
   "source": [
    "## Compile and Run Code"
   ]
  },
  {
   "cell_type": "markdown",
   "id": "63b3e22c",
   "metadata": {},
   "source": [
    "### Use Python to Change to Working Directory"
   ]
  },
  {
   "cell_type": "code",
   "execution_count": 1,
   "id": "0953b4bb",
   "metadata": {},
   "outputs": [],
   "source": [
    "import os\n",
    "root_dir = os.getcwd()"
   ]
  },
  {
   "cell_type": "code",
   "execution_count": 2,
   "id": "29e530ce",
   "metadata": {},
   "outputs": [],
   "source": [
    "code_dir = root_dir + \"/\" + \"Cpp_Code/02_Variables_Scopes_and_Namespaces\""
   ]
  },
  {
   "cell_type": "code",
   "execution_count": 3,
   "id": "e8b71b20",
   "metadata": {},
   "outputs": [],
   "source": [
    "os.chdir(code_dir)"
   ]
  },
  {
   "cell_type": "markdown",
   "id": "ec11151d",
   "metadata": {},
   "source": [
    "### Use Docker to Compile the Code in a C++23 Environment"
   ]
  },
  {
   "cell_type": "code",
   "execution_count": 4,
   "id": "28fe2a4c",
   "metadata": {},
   "outputs": [],
   "source": [
    "!docker run --rm -v $(pwd):/app cpp23-clang18:latest clang++-18 -std=c++23 -stdlib=libc++ /app/02-height.cpp -o /app/02-height"
   ]
  },
  {
   "cell_type": "markdown",
   "id": "b259da21",
   "metadata": {},
   "source": [
    "### Use Docker to Run Executable in a C++23 Environment"
   ]
  },
  {
   "cell_type": "code",
   "execution_count": 5,
   "id": "7efe5733",
   "metadata": {},
   "outputs": [
    {
     "name": "stdout",
     "output_type": "stream",
     "text": [
      "Alice's height varies between 0.15m and 0.9m\n"
     ]
    }
   ],
   "source": [
    "!docker run --rm -v $(pwd):/app cpp23-clang18:latest ./02-height"
   ]
  }
 ],
 "metadata": {
  "kernelspec": {
   "display_name": "Python 3.11",
   "language": "python",
   "name": "py311_env"
  },
  "language_info": {
   "codemirror_mode": {
    "name": "ipython",
    "version": 3
   },
   "file_extension": ".py",
   "mimetype": "text/x-python",
   "name": "python",
   "nbconvert_exporter": "python",
   "pygments_lexer": "ipython3",
   "version": "3.10.17"
  }
 },
 "nbformat": 4,
 "nbformat_minor": 5
}
