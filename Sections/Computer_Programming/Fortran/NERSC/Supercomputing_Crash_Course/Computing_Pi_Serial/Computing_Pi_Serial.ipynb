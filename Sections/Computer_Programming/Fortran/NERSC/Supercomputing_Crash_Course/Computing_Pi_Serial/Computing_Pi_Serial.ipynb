{
 "cells": [
  {
   "cell_type": "raw",
   "id": "c40b648f-a44a-4480-bbee-93e7a780f45b",
   "metadata": {},
   "source": [
    "---\n",
    "jupytext:\n",
    "  formats: md:myst\n",
    "  text_representation:\n",
    "    extension: .md\n",
    "    format_name: myst\n",
    "kernelspec:\n",
    "  display_name: Python 3\n",
    "  language: python\n",
    "  name: python3\n",
    "---"
   ]
  },
  {
   "cell_type": "markdown",
   "id": "fc63b62e-3ea6-4588-8b6e-f845bbc6d64c",
   "metadata": {
    "tags": []
   },
   "source": [
    "# Crash Course in Supercomputing: Compute Pi in a Serial Fashion\n"
   ]
  },
  {
   "cell_type": "markdown",
   "id": "edfc7d7e-9803-4b96-82f1-bc0d47385f43",
   "metadata": {},
   "source": [
    "Adapted from: https://github.com/NERSC/crash-course-supercomputing/tree/main/darts-suite/fortran"
   ]
  },
  {
   "cell_type": "markdown",
   "id": "59ec1bec-3fd7-4061-aa24-c7765d25786f",
   "metadata": {},
   "source": [
    "## This program demonstrates computing $\\pi$ in Fortran using the Monte Carlo method in a Serial Fashion:"
   ]
  },
  {
   "attachments": {},
   "cell_type": "markdown",
   "id": "ae43bd88",
   "metadata": {},
   "source": [
    "### In file computing_pi_serial.f90"
   ]
  },
  {
   "attachments": {},
   "cell_type": "markdown",
   "id": "49f81255",
   "metadata": {},
   "source": [
    "```{literalinclude} code/app/compute_pi_serial.f90\n",
    "---\n",
    "language: fortran\n",
    "---\n",
    "```"
   ]
  },
  {
   "cell_type": "markdown",
   "id": "1cef79cf",
   "metadata": {},
   "source": [
    "### In the file lcgenerator_mod.f90"
   ]
  },
  {
   "cell_type": "markdown",
   "id": "c1243f59",
   "metadata": {},
   "source": [
    "```{literalinclude} code/src/lcgenerator_mod.f90\n",
    "---\n",
    "language: fortran\n",
    "---\n",
    "```"
   ]
  },
  {
   "cell_type": "markdown",
   "id": "d33e21c6",
   "metadata": {},
   "source": [
    "### In the file get_nr_iters_mod.f90"
   ]
  },
  {
   "cell_type": "markdown",
   "id": "038042d7",
   "metadata": {},
   "source": [
    "```{literalinclude} code/src/get_nr_iters_mod.f90\n",
    "---\n",
    "language: fortran\n",
    "---\n",
    "```"
   ]
  },
  {
   "cell_type": "markdown",
   "id": "90e14694",
   "metadata": {},
   "source": [
    "## Code Analysis by Grok 4"
   ]
  },
  {
   "cell_type": "markdown",
   "id": "3f3fd391",
   "metadata": {},
   "source": [
    "### Overview of the Code\n",
    "\n",
    "This Fortran code is a complete, self-contained program designed to approximate the value of π (pi) using the Monte Carlo simulation method. The approach is serial (non-parallel), meaning it runs sequentially on a single processor without any concurrency. The program generates pseudo-random points within a unit square and counts how many fall inside a quarter-circle inscribed in that square. The ratio of points inside the circle to the total points, multiplied by 4, provides an estimate of π.\n",
    "\n",
    "The code is structured as a main program (`compute_pi_serial`) and two supporting modules:\n",
    "- `get_nr_iters_mod`: Handles reading the number of iterations (trials) from command-line arguments or uses a default value.\n",
    "- `lcgenerator_mod`: Provides a simple linear congruential generator (LCG) for pseudo-random number generation.\n",
    "\n",
    "The code uses modern Fortran features (e.g., from Fortran 2008/2018 standards), including intrinsic modules like `iso_fortran_env` for portable data types (e.g., 64-bit reals and integers). It employs double-precision arithmetic for accuracy and includes error handling for input.\n",
    "\n",
    "I'll explain the code in detail, breaking it down by section: first the main program, then each module. I'll cover the purpose, syntax, variables, logic, and any key Fortran concepts.\n",
    "\n",
    "### Main Program: `compute_pi_serial`\n",
    "\n",
    "This is the entry point of the executable. It sets up the simulation, runs the Monte Carlo loop, computes the approximation, and prints results.\n",
    "\n",
    "```fortran\n",
    "program compute_pi_serial\n",
    "  use, intrinsic :: iso_fortran_env, only : DP => REAL64, I8 => INT64\n",
    "  use lcgenerator_mod,  only : lcgrandom\n",
    "  use get_nr_iters_mod, only : get_nr_iters\n",
    "  \n",
    "  implicit none\n",
    "\n",
    "  integer(kind=I8) :: num_trials, i = 0, Ncirc = 0\n",
    "  real(kind=DP) :: pi_computed = 0.0, pi_actual\n",
    "  real(kind=DP) :: x = 0.0, y = 0.0, r = 1.0\n",
    "  real(kind=DP) :: r_squared = 0.0\n",
    "\n",
    "  pi_actual = 2.0_DP * acos(0.0_DP)\n",
    "  \n",
    "  r_squared = r*r\n",
    "\n",
    "  num_trials = get_nr_iters()\n",
    "\n",
    "  do i = 1, num_trials\n",
    "    x = lcgrandom()\n",
    "    y = lcgrandom()\n",
    "    if ((x*x + y*y) <= r_squared) then\n",
    "        Ncirc = Ncirc + 1\n",
    "    end if\n",
    "  end do\n",
    "\n",
    "  pi_computed = 4.0*((1.0*Ncirc)/(1.0*num_trials))\n",
    "\n",
    "  print '(A, I10, A, F25.15)', \"After \", num_trials, \" loops, Pi = \", pi_computed\n",
    "  print '(A, F25.15)', \"Actual value of Pi = \", pi_actual\n",
    "  print '(A, F25.15)', \"Absolute difference = \", abs(pi_computed - pi_actual)\n",
    "\n",
    "end program compute_pi_serial\n",
    "```\n",
    "\n",
    "#### Breakdown:\n",
    "\n",
    "1. **Module Imports and Aliases**:\n",
    "   - `use, intrinsic :: iso_fortran_env, only : DP => REAL64, I8 => INT64`: This imports the intrinsic module `iso_fortran_env`, which provides portable kind parameters for data types. `DP` is aliased to `REAL64` (64-bit double-precision real), and `I8` to `INT64` (64-bit integer). This ensures cross-platform consistency for high-precision calculations.\n",
    "   - `use lcgenerator_mod, only : lcgrandom`: Imports the `lcgrandom` function from the `lcgenerator_mod` module for generating pseudo-random numbers.\n",
    "   - `use get_nr_iters_mod, only : get_nr_iters`: Imports the `get_nr_iters` function from the `get_nr_iters_mod` module to determine the number of trials.\n",
    "   - `implicit none`: A good practice in Fortran to prevent undeclared variables; all variables must be explicitly declared.\n",
    "\n",
    "2. **Variable Declarations**:\n",
    "   - `integer(kind=I8) :: num_trials, i = 0, Ncirc = 0`: Declares 64-bit integers:\n",
    "     - `num_trials`: Total number of Monte Carlo trials (points to generate).\n",
    "     - `i`: Loop counter, initialized to 0.\n",
    "     - `Ncirc`: Counter for points inside the quarter-circle, initialized to 0.\n",
    "   - `real(kind=DP) :: pi_computed = 0.0, pi_actual`: Double-precision reals:\n",
    "     - `pi_computed`: The approximated value of π.\n",
    "     - `pi_actual`: The \"true\" value of π (computed using `acos`).\n",
    "   - `real(kind=DP) :: x = 0.0, y = 0.0, r = 1.0`: Coordinates and radius:\n",
    "     - `x`, `y`: Pseudo-random coordinates in [0,1).\n",
    "     - `r`: Radius of the circle (fixed at 1.0 for a unit circle).\n",
    "   - `real(kind=DP) :: r_squared = 0.0`: Precomputed `r*r` (1.0) to avoid repeated multiplication in the loop for minor efficiency.\n",
    "\n",
    "3. **Computing the Actual π**:\n",
    "   - `pi_actual = 2.0_DP * acos(0.0_DP)`: Uses the intrinsic `acos` function (arc cosine) to compute π. `acos(0.0)` returns π/2, so multiplying by 2 gives π. The `_DP` suffix ensures double-precision literals.\n",
    "\n",
    "4. **Precomputing r_squared**:\n",
    "   - `r_squared = r*r`: Stores 1.0 for use in the distance check inside the loop.\n",
    "\n",
    "5. **Getting Number of Trials**:\n",
    "   - `num_trials = get_nr_iters()`: Calls the function from `get_nr_iters_mod` to read the number of iterations. If no command-line argument is provided, it defaults to 1000.\n",
    "\n",
    "6. **Monte Carlo Loop**:\n",
    "   - `do i = 1, num_trials`: A simple do-loop that runs `num_trials` times.\n",
    "     - `x = lcgrandom()`: Generates a pseudo-random number in [0,1) for the x-coordinate.\n",
    "     - `y = lcgrandom()`: Same for y-coordinate.\n",
    "     - `if ((x*x + y*y) <= r_squared) then`: Checks if the point (x,y) is inside the quarter-circle by testing if the squared distance from origin (x² + y²) ≤ 1.0.\n",
    "       - If true, `Ncirc = Ncirc + 1`: Increments the counter.\n",
    "   - This implements the core Monte Carlo method: the probability a random point in the unit square falls inside the quarter-circle is π/4, so π ≈ 4 * (Ncirc / num_trials).\n",
    "\n",
    "7. **Computing the Approximation**:\n",
    "   - `pi_computed = 4.0*((1.0*Ncirc)/(1.0*num_trials))`: Calculates the estimate. The `1.0*` ensures real division (avoiding integer truncation). Note: In modern Fortran, this could be simplified to `4.0 * real(Ncirc, DP) / real(num_trials, DP)`, but the code uses explicit promotion.\n",
    "\n",
    "8. **Output**:\n",
    "   - `print '(A, I10, A, F25.15)', \"After \", num_trials, \" loops, Pi = \", pi_computed`: Prints the result with 10 digits for the integer and 15 decimal places for the float.\n",
    "   - Similar prints for the actual π and absolute difference (`abs(pi_computed - pi_actual)`).\n",
    "   - Format specifiers: `A` for strings, `I10` for integers (width 10), `F25.15` for floats (width 25, 15 decimals).\n",
    "\n",
    "This main program is straightforward and efficient for small `num_trials`, but for large values (e.g., millions), the approximation improves, though runtime increases linearly.\n",
    "\n",
    "### Module: `get_nr_iters_mod`\n",
    "\n",
    "This module provides a function to parse the number of iterations from command-line arguments, with error handling and a default value.\n",
    "\n",
    "```fortran\n",
    "module get_nr_iters_mod\n",
    "    implicit none\n",
    "    private\n",
    "    public :: get_nr_iters\n",
    "\n",
    "contains\n",
    "\n",
    "    function get_nr_iters() result(nr_iters)\n",
    "        use, intrinsic :: iso_fortran_env, only : error_unit\n",
    "        use, intrinsic :: iso_fortran_env, only : DP => REAL64, I8 => INT64\n",
    "        implicit none\n",
    "        integer(kind=I8) :: nr_iters\n",
    "        integer(kind=I8), parameter :: default_nr_iters = 1000_I8\n",
    "        character(len=1024) :: buffer, msg\n",
    "        integer :: istat\n",
    "\n",
    "        if (command_argument_count() >= 1) then\n",
    "            call get_command_argument(1, buffer)\n",
    "            read (buffer, fmt=*, iostat=istat, iomsg=msg) nr_iters\n",
    "            if (istat /= 0) then\n",
    "                write (unit=error_unit, fmt='(2A)') &\n",
    "                    'error: ', msg\n",
    "                stop 1\n",
    "            end if\n",
    "        else\n",
    "            nr_iters = default_nr_iters\n",
    "        end if\n",
    "    end function get_nr_iters\n",
    "\n",
    "end module get_nr_iters_mod\n",
    "```\n",
    "\n",
    "#### Breakdown:\n",
    "\n",
    "1. **Module Structure**:\n",
    "   - `implicit none`: No implicit typing.\n",
    "   - `private`: All entities are private by default.\n",
    "   - `public :: get_nr_iters`: Only the function is exposed.\n",
    "\n",
    "2. **Function `get_nr_iters`**:\n",
    "   - Returns an `integer(kind=I8)`: The number of iterations.\n",
    "   - Imports: Re-imports `iso_fortran_env` for `error_unit` (standard error stream) and types.\n",
    "   - `integer(kind=I8), parameter :: default_nr_iters = 1000_I8`: Constant default value with `_I8` kind suffix.\n",
    "   - Variables: `buffer` (string to hold argument), `msg` (error message), `istat` (I/O status).\n",
    "\n",
    "3. **Logic**:\n",
    "   - `if (command_argument_count() >= 1) then`: Checks if at least one command-line argument exists (using intrinsic `command_argument_count`).\n",
    "     - `call get_command_argument(1, buffer)`: Retrieves the first argument into `buffer`.\n",
    "     - `read (buffer, fmt=*, iostat=istat, iomsg=msg) nr_iters`: Parses the string as an integer (free-format `*`).\n",
    "       - If `istat /= 0` (error), prints to stderr and stops with exit code 1.\n",
    "   - Else: Uses default 1000.\n",
    "   \n",
    "This makes the program flexible: run as `./compute_pi_serial 1000000` for 1 million trials.\n",
    "\n",
    "### Module: `lcgenerator_mod`\n",
    "\n",
    "This module implements a basic linear congruential generator (LCG) for pseudo-random numbers in [0,1).\n",
    "\n",
    "```fortran\n",
    "module lcgenerator_mod\n",
    "  use, intrinsic :: iso_fortran_env, only : DP => REAL64, I8 => INT64\n",
    "  implicit none\n",
    "  private\n",
    "  public :: lcgrandom\n",
    "\n",
    "  contains\n",
    "    real function lcgrandom()\n",
    "      integer(kind=I8), parameter :: MULTIPLIER = 1366\n",
    "      integer(kind=I8), parameter :: ADDEND = 150889\n",
    "      integer(kind=I8), parameter :: PMOD = 714025\n",
    "      integer(kind=I8), save :: random_last = 0\n",
    "\n",
    "      integer(kind=I8) :: random_next = 0\n",
    "      random_next = mod((MULTIPLIER * random_last + ADDEND), PMOD)\n",
    "      random_last = random_next\n",
    "      lcgrandom = (1.0_DP * random_next) / PMOD\n",
    "      return\n",
    "    end function lcgrandom\n",
    "end module lcgenerator_mod\n",
    "```\n",
    "\n",
    "#### Breakdown:\n",
    "\n",
    "1. **Module Structure**:\n",
    "   - Imports types from `iso_fortran_env`.\n",
    "   - `implicit none`, `private`, `public :: lcgrandom`: Similar to the previous module.\n",
    "\n",
    "2. **Function `lcgrandom`**:\n",
    "   - Returns a `real` (implicitly double-precision via context).\n",
    "   - Parameters: LCG constants (multiplier a=1366, increment c=150889, modulus m=714025). These are from older literature (e.g., IBM RANDU-like, but custom).\n",
    "   - `integer(kind=I8), save :: random_last = 0`: Static variable (via `save`) to hold the previous state (seed). Initializes to 0 on first call.\n",
    "\n",
    "3. **Logic**:\n",
    "   - `random_next = mod((MULTIPLIER * random_last + ADDEND), PMOD)`: Core LCG formula: X_{n+1} = (a * X_n + c) mod m.\n",
    "     - Uses `mod` for modulo operation.\n",
    "   - `random_last = random_next`: Updates the state for the next call.\n",
    "   - `lcgrandom = (1.0_DP * random_next) / PMOD`: Normalizes to [0,1) by dividing by m (promoting to real).\n",
    "   - `return`: Explicit return (optional in Fortran).\n",
    "\n",
    "This LCG is simple and deterministic (same sequence every run due to fixed seed). It's not cryptographically secure or highly random but sufficient for this simulation. For better randomness, modern codes might use Fortran's `random_number` intrinsic, but this demonstrates a custom generator.\n",
    "\n",
    "### Key Concepts and Notes\n",
    "\n",
    "- **Monte Carlo Method**: Statistical sampling to approximate π. Accuracy improves with more trials (O(1/sqrt(N)) convergence), but it's probabilistic—results vary per run due to randomness.\n",
    "- **Fortran-Specifics**: \n",
    "  - Modules promote modularity and encapsulation.\n",
    "  - Kind parameters ensure portability.\n",
    "  - No explicit main; the `program` block is the executable.\n",
    "- **Compilation/Running**: Compile with `gfortran compute_pi_serial.f90` (assuming all in one file). Run with optional argument for trials.\n",
    "- **Limitations**: LCG period is at most m=714025, so for very large `num_trials`, it repeats. Not thread-safe (due to shared `save` variable).\n",
    "- **Extensions**: Could be parallelized with OpenMP for multi-core speedup.\n",
    "\n",
    "This code is educational, demonstrating numerical methods, I/O, and modular design in Fortran."
   ]
  },
  {
   "cell_type": "markdown",
   "id": "0e42bdb2",
   "metadata": {},
   "source": [
    "## Code Analysis by ChatGPT 5 Thinking"
   ]
  },
  {
   "cell_type": "markdown",
   "id": "082fd46c",
   "metadata": {},
   "source": [
    "### What the code does (high-level)\n",
    "\n",
    "This is a **serial Monte-Carlo estimator for $\\pi$**. It repeatedly draws uniform random points $(x,y)\\in[0,1)\\times[0,1)$ and counts how many fall inside the quarter of a unit circle, i.e., where $x^2+y^2\\le 1$. If $N$ points are drawn and $N_{\\text{circ}}$ are inside, the estimator is\n",
    "\n",
    "$$\n",
    "\\widehat{\\pi}=4\\,\\frac{N_{\\text{circ}}}{N}.\n",
    "$$\n",
    "\n",
    "Two small modules support the program:\n",
    "\n",
    "* `lcgenerator_mod.f90`: a tiny **linear congruential generator (LCG)** returning a uniform variate in $[0,1)$.\n",
    "* `get_nr_iters_mod.f90`: parses the **first command-line argument** as the number of trials (with a default if omitted).\n",
    "\n",
    "Below I walk through each file in detail, explain the Fortran choices (kinds, intrinsics, I/O), and then point out **two important correctness/quality issues** and offer drop-in fixes.\n",
    "\n",
    "---\n",
    "\n",
    "### File-by-file explanation\n",
    "\n",
    "#### 1) `compute_pi_serial.f90` — main program\n",
    "\n",
    "##### Modules and kinds\n",
    "\n",
    "```fortran\n",
    "program compute_pi_serial\n",
    "  use, intrinsic :: iso_fortran_env, only : DP => REAL64, I8 => INT64\n",
    "  use lcgenerator_mod,  only : lcgrandom\n",
    "  use get_nr_iters_mod, only : get_nr_iters\n",
    "```\n",
    "\n",
    "* `iso_fortran_env` provides **portably sized kinds**. Here:\n",
    "\n",
    "  * `DP` aliases `REAL64` (IEEE double precision),\n",
    "  * `I8` aliases `INT64` (signed 64-bit integer).\n",
    "* Importing just the names you use (`only：…`) keeps the namespace clean and the intent explicit.\n",
    "\n",
    "##### Declarations and initialization\n",
    "\n",
    "```fortran\n",
    "  integer(kind=I8) :: num_trials, i = 0, Ncirc = 0\n",
    "  real(kind=DP) :: pi_computed = 0.0, pi_actual\n",
    "  real(kind=DP) :: x = 0.0, y = 0.0, r = 1.0\n",
    "  real(kind=DP) :: r_squared = 0.0\n",
    "\n",
    "  pi_actual = 2.0_DP * acos(0.0_DP)\n",
    "  r_squared = r*r\n",
    "```\n",
    "\n",
    "* `num_trials` is the total number of Monte-Carlo samples (draws).\n",
    "* `Ncirc` counts hits inside the quarter circle.\n",
    "* `pi_actual` is computed as $2\\arccos(0)=\\pi$ in double precision; this avoids hard-coding a constant and is **portable** across compilers.\n",
    "* `r=1` and `r_squared=1` define the unit circle.\n",
    "\n",
    "> **Minor omission to fix:** the program should *set* `num_trials` by calling `get_nr_iters()` before the loop (see “Corrections & improvements”).\n",
    "\n",
    "##### Core Monte-Carlo loop\n",
    "\n",
    "```fortran\n",
    "  do i = 1, num_trials\n",
    "    x = lcgrandom()\n",
    "    y = lcgrandom()\n",
    "    if ((x*x + y*y) <= r_squared) then\n",
    "        Ncirc = Ncirc + 1\n",
    "    end if\n",
    "  end do\n",
    "```\n",
    "\n",
    "* Each iteration draws two independent uniform(0,1) variates.\n",
    "* The predicate `x*x + y*y <= 1.0` tests membership in the quarter circle.\n",
    "* Work and memory are **$O(N)$** and **$O(1)$** respectively.\n",
    "\n",
    "##### Estimator and output\n",
    "\n",
    "```fortran\n",
    "  pi_computed = 4.0*((1.0*Ncirc)/(1.0*num_trials))\n",
    "\n",
    "  print '(A, I10, A, F25.15)', \"After \", num_trials, \" loops, Pi = \", pi_computed\n",
    "  print '(A, F25.15)', \"Actual value of Pi = \", pi_actual\n",
    "  print '(A, F25.15)', \"Absolute difference = \", abs(pi_computed - pi_actual)\n",
    "```\n",
    "\n",
    "* The estimator is $4\\cdot N_{\\text{circ}}/N$.\n",
    "* Formatting:\n",
    "\n",
    "  * `'I10'` prints a right-justified integer (width 10).\n",
    "  * `'F25.15'` prints a real number with total width 25 and 15 digits after the decimal point.\n",
    "\n",
    "> **Type-precision note:** literals `4.0` and `1.0` are **default real** (usually 32-bit). The arithmetic will still be upcast when stored into a `REAL64` variable, but you lose precision in the intermediate steps. Prefer the `_DP` suffix and/or explicit `real(...,kind=DP)` casts (see fixes below).\n",
    "\n",
    "---\n",
    "\n",
    "#### 2) `lcgenerator_mod.f90` — Linear congruential generator\n",
    "\n",
    "```fortran\n",
    "module lcgenerator_mod\n",
    "  use, intrinsic :: iso_fortran_env, only : DP => REAL64, I8 => INT64\n",
    "  implicit none\n",
    "  private\n",
    "  public :: lcgrandom\n",
    "```\n",
    "\n",
    "* `private` by default shields internal names; only the function `lcgrandom` is exported.\n",
    "\n",
    "```fortran\n",
    "contains\n",
    "  real function lcgrandom()\n",
    "    integer(kind=I8), parameter :: MULTIPLIER = 1366\n",
    "    integer(kind=I8), parameter :: ADDEND = 150889\n",
    "    integer(kind=I8), parameter :: PMOD = 714025\n",
    "    integer(kind=I8), save :: random_last = 0\n",
    "```\n",
    "\n",
    "* This encodes the classic LCG recurrence\n",
    "\n",
    "  $$\n",
    "  X_{n+1} = (a X_n + c) \\bmod m\n",
    "  $$\n",
    "\n",
    "  with $a=1366$, $c=150{,}889$, $m=714{,}025$.\n",
    "* `save` makes `random_last` **static state** across calls.\n",
    "\n",
    "```fortran\n",
    "    integer(kind=I8) :: random_next = 0\n",
    "    random_next = mod((MULTIPLIER * random_last + ADDEND), PMOD)\n",
    "    random_last = random_next\n",
    "    lcgrandom = (1.0_DP * random_next) / PMOD\n",
    "    return\n",
    "  end function lcgrandom\n",
    "end module lcgenerator_mod\n",
    "```\n",
    "\n",
    "* The scaled output $\\in[0,1)$ is computed as `random_next / PMOD`.\n",
    "* Using `1.0_DP * random_next` forces the numerator to `REAL64`. However, **the function itself is declared as default `real`**, so the result is immediately **down-cast** to single precision upon return. See the fix below.\n",
    "\n",
    "**Quality and period.** With $m=714{,}025$ the **maximum period is $m$**; after \\~7×10^5 calls the sequence repeats. For large Monte-Carlo runs this is weak. Also, these parameters are not among the better-studied modern LCGs. This is fine pedagogically, but I would not use it for serious statistical work.\n",
    "\n",
    "**Reproducibility & seeding.** The generator **always starts at 0**, hence it is fully deterministic and reproducible across runs and compilers. You might want to add a seeding interface if you want variability.\n",
    "\n",
    "**Thread safety.** The `save`d global state means **not thread-safe**. It’s fine here (the program is serial).\n",
    "\n",
    "---\n",
    "\n",
    "#### 3) `get_nr_iters_mod.f90` — parse number of trials\n",
    "\n",
    "```fortran\n",
    "module get_nr_iters_mod\n",
    "  implicit none\n",
    "  private\n",
    "  public :: get_nr_iters\n",
    "contains\n",
    "\n",
    "  function get_nr_iters() result(nr_iters)\n",
    "    use, intrinsic :: iso_fortran_env, only : error_unit\n",
    "    use, intrinsic :: iso_fortran_env, only : DP => REAL64, I8 => INT64\n",
    "    implicit none\n",
    "    integer(kind=I8) :: nr_iters\n",
    "    integer(kind=I8), parameter :: default_nr_iters = 1000_I8\n",
    "    character(len=1024) :: buffer, msg\n",
    "    integer :: istat\n",
    "```\n",
    "\n",
    "* The interface is simple: **no arguments**; returns an `INT64` count.\n",
    "* A default of **1000** iterations is provided.\n",
    "\n",
    "```fortran\n",
    "    if (command_argument_count() >= 1) then\n",
    "        call get_command_argument(1, buffer)\n",
    "        read (buffer, fmt=*, iostat=istat, iomsg=msg) nr_iters\n",
    "        if (istat /= 0) then\n",
    "            write (unit=error_unit, fmt='(2A)') 'error: ', msg\n",
    "            stop 1\n",
    "        end if\n",
    "    else\n",
    "        nr_iters = default_nr_iters\n",
    "    end if\n",
    "  end function get_nr_iters\n",
    "end module get_nr_iters_mod\n",
    "```\n",
    "\n",
    "* Uses **deferred format read** (`fmt=*`) to parse the first argument into `nr_iters`.\n",
    "* On parse failure, it writes a helpful message to the **standard error unit** and exits with non-zero status (`stop 1`).\n",
    "\n",
    "---\n",
    "\n",
    "### Statistical properties of the estimator (why it works)\n",
    "\n",
    "Let $Z_i=\\mathbf{1}\\{X_i^2+Y_i^2\\le 1\\}$ be i.i.d. Bernoulli with $p=\\Pr(Z=1)=\\text{Area}( \\{x^2+y^2\\le 1\\}\\cap[0,1]^2)=\\pi/4$. Then\n",
    "\n",
    "$$\n",
    "\\widehat{\\pi}=4\\,\\bar Z,\\quad\n",
    "\\mathbb{E}[\\widehat{\\pi}]=\\pi,\\quad\n",
    "\\operatorname{Var}(\\widehat{\\pi})=\\frac{16}{N}p(1-p)\\approx\\frac{2.6968}{N}.\n",
    "$$\n",
    "\n",
    "So the **standard deviation** is $\\approx 1.642/\\sqrt{N}$. As rules of thumb:\n",
    "\n",
    "* $N=10^3$ ⇒ typical absolute error $\\sim 5.2\\times 10^{-2}$.\n",
    "* $N=10^6$ ⇒ $\\sim 1.6\\times 10^{-3}$.\n",
    "\n",
    "Monte-Carlo converges as $O(N^{-1/2})$; parallelizing increases $N$ faster, but you cannot beat this rate without variance-reduction tricks.\n",
    "\n",
    "---\n",
    "\n",
    "### Corrections & precision improvements (recommended)\n",
    "\n",
    "There are three easy fixes that make the program numerically cleaner and compile-ready.\n",
    "\n",
    "#### A) Set `num_trials` (and remove the stray `...` line)\n",
    "\n",
    "Your `compute_pi_serial.f90` contains a literal line with `...` between `r_squared = r*r` and the loop. That will not compile. Replace that region with a call to `get_nr_iters()`:\n",
    "\n",
    "```fortran\n",
    "  r_squared = r*r\n",
    "\n",
    "  ! Parse N from the command line (default 1000 if absent)\n",
    "  num_trials = get_nr_iters()\n",
    "```\n",
    "\n",
    "#### B) Keep all arithmetic in double precision\n",
    "\n",
    "* Make the RNG return `REAL64`.\n",
    "* Use double-precision literals and explicit casts in the estimator.\n",
    "\n",
    "**In `lcgenerator_mod.f90`:**\n",
    "\n",
    "```fortran\n",
    "  real(kind=DP) function lcgrandom()\n",
    "    ...\n",
    "    lcgrandom = real(random_next, kind=DP) / real(PMOD, kind=DP)\n",
    "```\n",
    "\n",
    "**In `compute_pi_serial.f90`:**\n",
    "\n",
    "```fortran\n",
    "  pi_computed = 4.0_DP * real(Ncirc, kind=DP) / real(num_trials, kind=DP)\n",
    "```\n",
    "\n",
    "This avoids any intermediate rounding to single precision.\n",
    "\n",
    "#### C) Optional: guard against bad inputs\n",
    "\n",
    "You can reject non-positive `num_trials`:\n",
    "\n",
    "```fortran\n",
    "  if (num_trials <= 0_I8) then\n",
    "    write(*,*) \"num_trials must be positive\"\n",
    "    stop 1\n",
    "  end if\n",
    "```\n",
    "\n",
    "---\n",
    "\n",
    "### Suggested polished version of `compute_pi_serial.f90`\n",
    "\n",
    "```fortran\n",
    "program compute_pi_serial\n",
    "  use, intrinsic :: iso_fortran_env, only : DP => REAL64, I8 => INT64\n",
    "  use lcgenerator_mod,  only : lcgrandom\n",
    "  use get_nr_iters_mod, only : get_nr_iters\n",
    "  implicit none\n",
    "\n",
    "  integer(I8) :: num_trials, i, Ncirc\n",
    "  real(DP)    :: pi_computed, pi_actual\n",
    "  real(DP)    :: x, y, r, r_squared\n",
    "\n",
    "  ! Initialize\n",
    "  Ncirc      = 0_I8\n",
    "  pi_computed= 0.0_DP\n",
    "  pi_actual  = 2.0_DP * acos(0.0_DP)     ! = π\n",
    "  r          = 1.0_DP\n",
    "  r_squared  = r*r\n",
    "  num_trials = get_nr_iters()\n",
    "\n",
    "  if (num_trials <= 0_I8) stop \"num_trials must be positive\"\n",
    "\n",
    "  do i = 1_I8, num_trials\n",
    "    x = lcgrandom()\n",
    "    y = lcgrandom()\n",
    "    if (x*x + y*y <= r_squared) Ncirc = Ncirc + 1_I8\n",
    "  end do\n",
    "\n",
    "  pi_computed = 4.0_DP * real(Ncirc,kind=DP) / real(num_trials,kind=DP)\n",
    "\n",
    "  print '(A, I12, A, F25.15)', \"After \", num_trials, \" loops, Pi = \", pi_computed\n",
    "  print '(A, F25.15)',         \"Actual value of Pi = \", pi_actual\n",
    "  print '(A, F25.15)',         \"Absolute difference = \", abs(pi_computed - pi_actual)\n",
    "end program compute_pi_serial\n",
    "```\n",
    "\n",
    "And in `lcgenerator_mod.f90`, change the function line to:\n",
    "\n",
    "```fortran\n",
    "  real(kind=DP) function lcgrandom()\n",
    "```\n",
    "\n",
    "---\n",
    "\n",
    "### How to build and run\n",
    "\n",
    "```bash\n",
    "# Build (gfortran example)\n",
    "gfortran -std=f2008 -O3 lcgenerator_mod.f90 get_nr_iters_mod.f90 compute_pi_serial.f90 -o compute_pi_serial\n",
    "\n",
    "# Run with 1,000,000 samples\n",
    "./compute_pi_serial 1000000\n",
    "```\n",
    "\n",
    "You should see an estimate within \\~$1.6\\times 10^{-3}$ of $\\pi$ on a typical run (with this LCG it will be deterministic per the current code).\n",
    "\n",
    "---\n",
    "\n",
    "### Further remarks & optional enhancements\n",
    "\n",
    "* **RNG quality/period.** The modulus $m=714{,}025$ caps the period at $m$. If you run more draws than that, the sequence repeats. For higher-quality randomness, either use the Fortran intrinsic `random_number` (simple, portable) or a 48- or 64-bit LCG/PCG with well-vetted parameters.\n",
    "* **Seeding.** Add a `seed_lcg(seed)` routine that sets `random_last`, and accept a 2nd CLI argument to seed runs.\n",
    "* **Performance.** In tight loops, the `mod` on 64-bit integers is the main cost. For serious speed you might:\n",
    "\n",
    "  * keep `random_last` and constants in 64-bit and choose $m=2^{k}$ so modulo is a mask, or\n",
    "  * batch-generate variates and test multiple points per iteration (SIMD).\n",
    "* **Parallelization.** The serial algorithm is embarrassingly parallel. If you later add OpenMP/MPI, ensure each thread/process gets an **independent RNG stream** (e.g., leapfrogging or distinct seeds with skip-ahead).\n",
    "\n",
    "---\n",
    "\n",
    "If you’d like, I can produce a version that uses the standard `random_number` (for quality) and a command-line seed, plus a tiny unit test to verify the variance scaling."
   ]
  },
  {
   "cell_type": "markdown",
   "id": "4c6b9985-c0cb-4602-8309-4e3369dd3226",
   "metadata": {},
   "source": [
    "The above program and modules are compiled and run using Fortran Package Manager (fpm):"
   ]
  },
  {
   "cell_type": "markdown",
   "id": "c6f9ed20",
   "metadata": {
    "tags": []
   },
   "source": [
    "## Build the Program using FPM (Fortran Package Manager)"
   ]
  },
  {
   "cell_type": "code",
   "execution_count": 2,
   "id": "f16472aa-c965-4bad-a218-fee33f7b456a",
   "metadata": {},
   "outputs": [],
   "source": [
    "import os\n",
    "root_dir = \"\"\n",
    "root_dir = os.getcwd()"
   ]
  },
  {
   "attachments": {},
   "cell_type": "markdown",
   "id": "48d176ac",
   "metadata": {},
   "source": [
    "The following configuration file (fpm.toml) was used:"
   ]
  },
  {
   "attachments": {},
   "cell_type": "markdown",
   "id": "48ce3430",
   "metadata": {},
   "source": [
    "```{literalinclude} code/fpm.toml\n",
    "---\n",
    "language: toml\n",
    "---\n",
    "```"
   ]
  },
  {
   "cell_type": "code",
   "execution_count": 5,
   "id": "f77f9126-86cc-4a1b-89b9-5ad5f61cf72c",
   "metadata": {
    "tags": []
   },
   "outputs": [],
   "source": [
    "code_dir = root_dir + \"/\" + \"code\""
   ]
  },
  {
   "cell_type": "code",
   "execution_count": 6,
   "id": "c2eeda29-613f-48fd-904b-af9aef8813a2",
   "metadata": {},
   "outputs": [],
   "source": [
    "os.chdir(code_dir)"
   ]
  },
  {
   "cell_type": "code",
   "execution_count": 7,
   "id": "0fbd7621-e800-4235-ab30-80560cc3e1a8",
   "metadata": {},
   "outputs": [],
   "source": [
    "build_status = os.system(\"fpm build 2>/dev/null\")"
   ]
  },
  {
   "cell_type": "markdown",
   "id": "58b5102f",
   "metadata": {},
   "source": [
    "## Run the Program using FPM (Fortran Package Manager)"
   ]
  },
  {
   "cell_type": "markdown",
   "id": "cb73b5fd-9594-4ab5-a801-457d6083d64f",
   "metadata": {},
   "source": [
    "### 10 Iterations"
   ]
  },
  {
   "cell_type": "code",
   "execution_count": 8,
   "id": "3176b27d-932e-47a1-8099-4fae064ec661",
   "metadata": {},
   "outputs": [
    {
     "name": "stdout",
     "output_type": "stream",
     "text": [
      "80.3 ms ± 26.5 ms per loop (mean ± std. dev. of 10 runs, 1 loop each)\n"
     ]
    }
   ],
   "source": [
    "%%timeit -r 10 -n 1\n",
    "exec_status = os.system(\"fpm run -- 10 2>/dev/null > output.txt\")"
   ]
  },
  {
   "cell_type": "code",
   "execution_count": 9,
   "id": "679b9cc1-d841-4f33-b497-e240c0e8cc75",
   "metadata": {},
   "outputs": [
    {
     "name": "stdout",
     "output_type": "stream",
     "text": [
      "After         10 loops, Pi =         3.200000047683716\n",
      "Actual value of Pi =         3.141592653589793\n",
      "Absolute difference =         0.058407394093923\n"
     ]
    }
   ],
   "source": [
    "%cat output.txt"
   ]
  },
  {
   "cell_type": "markdown",
   "id": "46ff98b0-1945-4b40-a5b8-86f15d5297d9",
   "metadata": {},
   "source": [
    "### 100 Iterations"
   ]
  },
  {
   "cell_type": "code",
   "execution_count": 7,
   "id": "67d698db",
   "metadata": {},
   "outputs": [
    {
     "name": "stdout",
     "output_type": "stream",
     "text": [
      "33.5 ms ± 7.69 ms per loop (mean ± std. dev. of 10 runs, 1 loop each)\n"
     ]
    }
   ],
   "source": [
    "%%timeit -r 10 -n 1\n",
    "exec_status = os.system(\"fpm run -- 100 2>/dev/null > output.txt\")"
   ]
  },
  {
   "cell_type": "code",
   "execution_count": 8,
   "id": "8e04dd66-6b5f-4e82-95b8-24fd654c3f2d",
   "metadata": {},
   "outputs": [
    {
     "name": "stdout",
     "output_type": "stream",
     "text": [
      "After        100 loops, Pi =         3.160417031779042\n",
      "Actual value of Pi =         3.141592653589793\n",
      "Absolute difference =         0.018824378189249\n"
     ]
    }
   ],
   "source": [
    "%cat output.txt"
   ]
  },
  {
   "cell_type": "markdown",
   "id": "1eed13c1-bb48-4e38-9d4f-bac942ab274e",
   "metadata": {},
   "source": [
    "### 1,000 Iterations"
   ]
  },
  {
   "cell_type": "code",
   "execution_count": 9,
   "id": "8beb605f",
   "metadata": {},
   "outputs": [
    {
     "name": "stdout",
     "output_type": "stream",
     "text": [
      "32.9 ms ± 4.03 ms per loop (mean ± std. dev. of 10 runs, 1 loop each)\n"
     ]
    }
   ],
   "source": [
    "%%timeit -r 10 -n 1\n",
    "exec_status = os.system(\"fpm run -- 1000 2>/dev/null > output.txt\")"
   ]
  },
  {
   "cell_type": "code",
   "execution_count": 10,
   "id": "65f80bc2-e4a1-4743-ba8f-015127d179e0",
   "metadata": {},
   "outputs": [
    {
     "name": "stdout",
     "output_type": "stream",
     "text": [
      "After       1000 loops, Pi =         3.143555466911022\n",
      "Actual value of Pi =         3.141592653589793\n",
      "Absolute difference =         0.001962813321229\n"
     ]
    }
   ],
   "source": [
    "%cat output.txt"
   ]
  },
  {
   "cell_type": "markdown",
   "id": "706cd3c9-9a8c-4977-b49c-3ebf9daa72d3",
   "metadata": {},
   "source": [
    "### 10,000 Iterations"
   ]
  },
  {
   "cell_type": "code",
   "execution_count": 11,
   "id": "2d1a2712",
   "metadata": {},
   "outputs": [
    {
     "name": "stdout",
     "output_type": "stream",
     "text": [
      "31.8 ms ± 3 ms per loop (mean ± std. dev. of 10 runs, 1 loop each)\n"
     ]
    }
   ],
   "source": [
    "%%timeit -r 10 -n 1\n",
    "exec_status = os.system(\"fpm run -- 10000 2>/dev/null > output.txt\")"
   ]
  },
  {
   "cell_type": "code",
   "execution_count": 12,
   "id": "b49b7014-bd95-4490-b6bd-8e47ccd7c128",
   "metadata": {},
   "outputs": [
    {
     "name": "stdout",
     "output_type": "stream",
     "text": [
      "After      10000 loops, Pi =         3.141791477611602\n",
      "Actual value of Pi =         3.141592653589793\n",
      "Absolute difference =         0.000198824021809\n"
     ]
    }
   ],
   "source": [
    "%cat output.txt"
   ]
  },
  {
   "cell_type": "markdown",
   "id": "e30c73bf-263d-409f-a89b-c9f822d890ab",
   "metadata": {},
   "source": [
    "### 100,000 Iterations"
   ]
  },
  {
   "cell_type": "code",
   "execution_count": 13,
   "id": "758e3cb0",
   "metadata": {},
   "outputs": [
    {
     "name": "stdout",
     "output_type": "stream",
     "text": [
      "34.4 ms ± 4.95 ms per loop (mean ± std. dev. of 10 runs, 1 loop each)\n"
     ]
    }
   ],
   "source": [
    "%%timeit -r 10 -n 1\n",
    "exec_status = os.system(\"fpm run -- 100000 2>/dev/null > output.txt\")"
   ]
  },
  {
   "cell_type": "code",
   "execution_count": 14,
   "id": "7f5f2558-bb61-4fcc-a857-abf1dea792e3",
   "metadata": {},
   "outputs": [
    {
     "name": "stdout",
     "output_type": "stream",
     "text": [
      "After     100000 loops, Pi =         3.141612616406209\n",
      "Actual value of Pi =         3.141592653589793\n",
      "Absolute difference =         0.000019962816416\n"
     ]
    }
   ],
   "source": [
    "%cat output.txt"
   ]
  },
  {
   "cell_type": "markdown",
   "id": "a52dd31c-fdbc-4a10-b80f-d9afc9dbf7fb",
   "metadata": {},
   "source": [
    "### 1,000,000 Iterations"
   ]
  },
  {
   "cell_type": "code",
   "execution_count": 15,
   "id": "01d5a006",
   "metadata": {},
   "outputs": [
    {
     "name": "stdout",
     "output_type": "stream",
     "text": [
      "35.9 ms ± 5.26 ms per loop (mean ± std. dev. of 10 runs, 1 loop each)\n"
     ]
    }
   ],
   "source": [
    "%%timeit -r 10 -n 1\n",
    "exec_status = os.system(\"fpm run -- 1000000 2>/dev/null > output.txt\")"
   ]
  },
  {
   "cell_type": "code",
   "execution_count": 16,
   "id": "c5b4e5e4-abf5-498e-937d-100a52f1faf5",
   "metadata": {},
   "outputs": [
    {
     "name": "stdout",
     "output_type": "stream",
     "text": [
      "After    1000000 loops, Pi =         3.141594652402481\n",
      "Actual value of Pi =         3.141592653589793\n",
      "Absolute difference =         0.000001998812688\n"
     ]
    }
   ],
   "source": [
    "%cat output.txt"
   ]
  },
  {
   "cell_type": "markdown",
   "id": "ce0d7c30-5b62-436a-94dd-602714be811f",
   "metadata": {},
   "source": [
    "### 10,000,000 Iterations"
   ]
  },
  {
   "cell_type": "code",
   "execution_count": 17,
   "id": "60f0e63e",
   "metadata": {},
   "outputs": [
    {
     "name": "stdout",
     "output_type": "stream",
     "text": [
      "64.8 ms ± 7.7 ms per loop (mean ± std. dev. of 10 runs, 1 loop each)\n"
     ]
    }
   ],
   "source": [
    "%%timeit -r 10 -n 1\n",
    "exec_status = os.system(\"fpm run -- 10000000 2>/dev/null > output.txt\")"
   ]
  },
  {
   "cell_type": "code",
   "execution_count": 18,
   "id": "19ebfb74-a694-4f73-9492-09385fb81184",
   "metadata": {},
   "outputs": [
    {
     "name": "stdout",
     "output_type": "stream",
     "text": [
      "After   10000000 loops, Pi =         3.141592854147901\n",
      "Actual value of Pi =         3.141592653589793\n",
      "Absolute difference =         0.000000200558108\n"
     ]
    }
   ],
   "source": [
    "%cat output.txt"
   ]
  },
  {
   "cell_type": "markdown",
   "id": "c935b5eb-3a74-44be-b1dc-4927ccf777ae",
   "metadata": {},
   "source": [
    "### 100,000,000 Iterations"
   ]
  },
  {
   "cell_type": "code",
   "execution_count": 19,
   "id": "9a056210",
   "metadata": {},
   "outputs": [
    {
     "name": "stdout",
     "output_type": "stream",
     "text": [
      "274 ms ± 9.74 ms per loop (mean ± std. dev. of 10 runs, 1 loop each)\n"
     ]
    }
   ],
   "source": [
    "%%timeit -r 10 -n 1\n",
    "exec_status = os.system(\"fpm run -- 100000000 2>/dev/null > output.txt\")"
   ]
  },
  {
   "cell_type": "code",
   "execution_count": 20,
   "id": "1a06b118-5eae-4265-9855-9276cf1c9f8e",
   "metadata": {},
   "outputs": [
    {
     "name": "stdout",
     "output_type": "stream",
     "text": [
      "After  100000000 loops, Pi =         3.141592668260093\n",
      "Actual value of Pi =         3.141592653589793\n",
      "Absolute difference =         0.000000014670300\n"
     ]
    }
   ],
   "source": [
    "%cat output.txt"
   ]
  },
  {
   "cell_type": "markdown",
   "id": "f6ed1e6e-ce29-43d7-bb23-2a9914b3c15f",
   "metadata": {},
   "source": [
    "### 1,000,000,000 Iterations"
   ]
  },
  {
   "cell_type": "code",
   "execution_count": 21,
   "id": "7d31a72c-cd45-4e36-a776-7c9f66fd8616",
   "metadata": {},
   "outputs": [
    {
     "name": "stdout",
     "output_type": "stream",
     "text": [
      "2.34 s ± 46.8 ms per loop (mean ± std. dev. of 10 runs, 1 loop each)\n"
     ]
    }
   ],
   "source": [
    "%%timeit -r 10 -n 1\n",
    "exec_status = os.system(\"fpm run -- 1000000000 2>/dev/null > output.txt\")"
   ]
  },
  {
   "cell_type": "code",
   "execution_count": 22,
   "id": "bbbe329f-fe25-41b7-a3ae-bf09e6135205",
   "metadata": {},
   "outputs": [
    {
     "name": "stdout",
     "output_type": "stream",
     "text": [
      "After 1000000000 loops, Pi =         3.141592665675041\n",
      "Actual value of Pi =         3.141592653589793\n",
      "Absolute difference =         0.000000012085248\n"
     ]
    }
   ],
   "source": [
    "%cat output.txt"
   ]
  }
 ],
 "metadata": {
  "kernelspec": {
   "display_name": "Python 3.11",
   "language": "python",
   "name": "py311_env"
  },
  "language_info": {
   "codemirror_mode": {
    "name": "ipython",
    "version": 3
   },
   "file_extension": ".py",
   "mimetype": "text/x-python",
   "name": "python",
   "nbconvert_exporter": "python",
   "pygments_lexer": "ipython3",
   "version": "3.10.18"
  },
  "vscode": {
   "interpreter": {
    "hash": "1c7edbfe09241e3ab70fdbaa9340a6c53382c0b8a91b6341e8f1e4440b6e3c70"
   }
  }
 },
 "nbformat": 4,
 "nbformat_minor": 5
}
