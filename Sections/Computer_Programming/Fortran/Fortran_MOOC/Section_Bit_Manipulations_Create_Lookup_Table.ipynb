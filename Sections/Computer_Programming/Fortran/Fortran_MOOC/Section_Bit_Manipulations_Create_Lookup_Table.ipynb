{
 "cells": [
  {
   "cell_type": "raw",
   "id": "c40b648f-a44a-4480-bbee-93e7a780f45b",
   "metadata": {},
   "source": [
    "---\n",
    "jupytext:\n",
    "  formats: md:myst\n",
    "  text_representation:\n",
    "    extension: .md\n",
    "    format_name: myst\n",
    "kernelspec:\n",
    "  display_name: Python 3\n",
    "  language: python\n",
    "  name: python3\n",
    "---"
   ]
  },
  {
   "attachments": {},
   "cell_type": "markdown",
   "id": "fc63b62e-3ea6-4588-8b6e-f845bbc6d64c",
   "metadata": {
    "tags": []
   },
   "source": [
    "# Section: Bit Manipulations - Create Lookup Table"
   ]
  },
  {
   "attachments": {},
   "cell_type": "markdown",
   "id": "edfc7d7e-9803-4b96-82f1-bc0d47385f43",
   "metadata": {},
   "source": [
    "Adapted from: [https://github.com/gjbex/Fortran-MOOC/tree/master/source_code/bit_manipulations](https://github.com/gjbex/Fortran-MOOC/tree/master/source_code/bit_manipulations)"
   ]
  },
  {
   "attachments": {},
   "cell_type": "markdown",
   "id": "59ec1bec-3fd7-4061-aa24-c7765d25786f",
   "metadata": {},
   "source": [
    "This program demonstrates bit manipulations using Fortran."
   ]
  },
  {
   "cell_type": "markdown",
   "id": "da547571",
   "metadata": {
    "vscode": {
     "languageId": "raw"
    }
   },
   "source": [
    "## Code Analysis by ChatGPT 4o: create_lookup_table.f90"
   ]
  },
  {
   "cell_type": "markdown",
   "id": "249ddd48-685c-4dc4-8fbe-8f3c61de2a41",
   "metadata": {},
   "source": [
    "The provided Fortran program `create_lookup_table` performs the following tasks:\n",
    "\n",
    "### Overview\n",
    "This program creates a lookup table of integers (256 entries) and writes it to a file specified as a command-line argument. The table is constructed to store the number of `1`s in the binary representation of integers from `0` to `255`. The program outputs the data into a formatted text file in groups of 16 integers per line.\n",
    "\n",
    "---\n",
    "\n",
    "### Key Components\n",
    "\n",
    "#### **1. Program Initialization**\n",
    "- The `use, intrinsic :: iso_fortran_env` imports constants such as `error_unit`, which is used for error reporting.\n",
    "- `lookup_table` is an integer array of size 256 to hold the lookup table values.\n",
    "- `file_name` is a character string to store the file name provided by the user.\n",
    "- Various local variables (`unit_nr`, `istat`, `msg`, etc.) are used for file operations.\n",
    "\n",
    "#### **2. Command-Line Argument Handling**\n",
    "- The program expects one command-line argument: the output file name.\n",
    "- It checks if exactly one argument is provided using `command_argument_count()`.\n",
    "- If the argument count is incorrect, it writes an error message to the `error_unit` and stops execution.\n",
    "\n",
    "#### **3. Lookup Table Initialization**\n",
    "- A `contains` section defines the function `init_lookup_table`, which calculates the lookup table values.\n",
    "- Each entry in `lookup_table(i)` represents the count of `1`s in the binary representation of the integer `i`. \n",
    "  - This is computed using the formula:\n",
    "    $$\n",
    "    \\text{lookup\\_table}(i) = \\text{AND}(i, 1) + \\text{lookup\\_table}(i/2)\n",
    "    $$\n",
    "  - The formula exploits the fact that `i/2` shifts `i` one bit to the right, and `AND(i, 1)` extracts the least significant bit of `i`.\n",
    "\n",
    "#### **4. File Handling**\n",
    "- The file is opened using `open`, with the `newunit` option to get a unique file unit and `status='replace'` to overwrite the file if it exists.\n",
    "- If an error occurs during file opening, the program writes the error message stored in `iomsg` to the `error_unit`.\n",
    "\n",
    "#### **5. Writing the Lookup Table**\n",
    "- The program writes the lookup table to the file in a formatted manner:\n",
    "  - It outputs 16 numbers per line for the first 15 lines, each separated by commas.\n",
    "  - The 16th line writes the remaining 15 numbers (from index 240 to 255) and a final number (`lookup_table(256)`).\n",
    "- Each line is indented for readability, and Fortran's continuation character (`&`) is used for lines longer than the maximum line length.\n",
    "\n",
    "#### **6. Cleanup**\n",
    "- After writing the data, the file is closed.\n",
    "\n",
    "---\n",
    "\n",
    "### Detailed Explanation of Functions and Constructs\n",
    "\n",
    "#### `init_lookup_table`\n",
    "This function initializes the lookup table by calculating the number of `1`s in the binary representation of integers from `0` to `255`:\n",
    "1. `lookup_table(0) = 0`: The number `0` has no `1`s in its binary representation.\n",
    "2. For each `i` from `1` to `255`, the formula computes the count of `1`s as:\n",
    "   - `and(i, 1)`: Checks if the least significant bit of `i` is `1`.\n",
    "   - `lookup_table(i/2)`: Uses the precomputed value of `i/2` to avoid redundant calculations.\n",
    "\n",
    "#### Writing to File\n",
    "The formatted output is controlled by `write` statements:\n",
    "- The main loop iterates over groups of 16 integers and formats them as:\n",
    "  ```\n",
    "          0, 1, 1, 2, 1, 2, 2, 3, ...\n",
    "  ```\n",
    "- The last line is handled separately to avoid trailing commas.\n",
    "\n",
    "---\n",
    "\n",
    "### Sample Output\n",
    "Assume the lookup table for the first 16 integers is as follows:\n",
    "```text\n",
    "0, 1, 1, 2, 1, 2, 2, 3, 1, 2, 2, 3, 2, 3, 3, 4\n",
    "```\n",
    "The file might look like this:\n",
    "```text\n",
    "        0, 1, 1, 2, 1, 2, 2, 3, 1, 2, 2, 3, 2, 3, 3, 4, &\n",
    "        1, 2, 2, 3, 2, 3, 3, 4, 2, 3, 3, 4, 3, 4, 4, 5, &\n",
    "        ...\n",
    "```\n",
    "\n",
    "---\n",
    "\n",
    "### Error Handling\n",
    "- If no file name is provided, an error message is printed:\n",
    "  ```\n",
    "  error: expecting file name as argument\n",
    "  ```\n",
    "- If file operations fail, an error message is printed with details of the issue.\n",
    "\n",
    "---\n",
    "\n",
    "### Use Cases\n",
    "This program is useful for:\n",
    "1. Generating lookup tables for bit-counting applications.\n",
    "2. Demonstrating efficient table initialization using recursion.\n",
    "3. Creating formatted output for use in other programs or as human-readable data."
   ]
  },
  {
   "cell_type": "markdown",
   "id": "4883d54d-377f-427c-b3c7-b3e4878aa8e4",
   "metadata": {},
   "source": [
    "## Program Code"
   ]
  },
  {
   "attachments": {},
   "cell_type": "markdown",
   "id": "49f81255",
   "metadata": {},
   "source": [
    "```{literalinclude} Fortran_Code/Section_Bit_Manipulations_Create_Lookup_Table/app/section_bit_manipulations_create_lookup_table.f90\n",
    "---\n",
    "language: fortran\n",
    "---\n",
    "```"
   ]
  },
  {
   "attachments": {},
   "cell_type": "markdown",
   "id": "4c6b9985-c0cb-4602-8309-4e3369dd3226",
   "metadata": {},
   "source": [
    "The above program is compiled and run using Fortran Package Manager (fpm).  The following FPM configuration file (fpm.toml) was used:"
   ]
  },
  {
   "cell_type": "markdown",
   "id": "eee45759",
   "metadata": {},
   "source": [
    "```{literalinclude} Fortran_Code/Section_Bit_Manipulations_Create_Lookup_Table/fpm.toml\n",
    "---\n",
    "language: toml\n",
    "---\n",
    "```"
   ]
  },
  {
   "cell_type": "markdown",
   "id": "c6f9ed20",
   "metadata": {
    "tags": []
   },
   "source": [
    "## Build the Program using FPM (Fortran Package Manager)"
   ]
  },
  {
   "cell_type": "code",
   "execution_count": 1,
   "id": "f16472aa-c965-4bad-a218-fee33f7b456a",
   "metadata": {},
   "outputs": [],
   "source": [
    "import os\n",
    "root_dir = \"\"\n",
    "root_dir = os.getcwd()"
   ]
  },
  {
   "cell_type": "code",
   "execution_count": 2,
   "id": "f77f9126-86cc-4a1b-89b9-5ad5f61cf72c",
   "metadata": {
    "tags": []
   },
   "outputs": [],
   "source": [
    "code_dir = root_dir + \"/\" + \"Fortran_Code/Section_Bit_Manipulations_Create_Lookup_Table\""
   ]
  },
  {
   "cell_type": "code",
   "execution_count": 3,
   "id": "c2eeda29-613f-48fd-904b-af9aef8813a2",
   "metadata": {},
   "outputs": [],
   "source": [
    "os.chdir(code_dir)"
   ]
  },
  {
   "cell_type": "code",
   "execution_count": 5,
   "id": "0fbd7621-e800-4235-ab30-80560cc3e1a8",
   "metadata": {},
   "outputs": [],
   "source": [
    "build_status = os.system(\"fpm build 2>/dev/null\")"
   ]
  },
  {
   "cell_type": "markdown",
   "id": "58b5102f",
   "metadata": {},
   "source": [
    "## Run the Program using FPM (Fortran Package Manager)"
   ]
  },
  {
   "cell_type": "markdown",
   "id": "6839c09a",
   "metadata": {},
   "source": [
    "The program is run and the output is saved into a file named 'data.dat"
   ]
  },
  {
   "cell_type": "code",
   "execution_count": 6,
   "id": "3176b27d-932e-47a1-8099-4fae064ec661",
   "metadata": {},
   "outputs": [],
   "source": [
    "exec_status = \\\n",
    "    os.system(\"fpm run -- lookup_table.dat 2>/dev/null\")"
   ]
  },
  {
   "cell_type": "markdown",
   "id": "b0b92367",
   "metadata": {},
   "source": [
    "## Display the Output File"
   ]
  },
  {
   "cell_type": "code",
   "execution_count": 10,
   "id": "6aeae640",
   "metadata": {},
   "outputs": [
    {
     "name": "stdout",
     "output_type": "stream",
     "text": [
      "          0,  1,  1,  2,  1,  2,  2,  3,  1,  2,  2,  3,  2,  3,  3,  4, &\n",
      "          1,  2,  2,  3,  2,  3,  3,  4,  2,  3,  3,  4,  3,  4,  4,  5, &\n",
      "          1,  2,  2,  3,  2,  3,  3,  4,  2,  3,  3,  4,  3,  4,  4,  5, &\n",
      "          2,  3,  3,  4,  3,  4,  4,  5,  3,  4,  4,  5,  4,  5,  5,  6, &\n",
      "          1,  2,  2,  3,  2,  3,  3,  4,  2,  3,  3,  4,  3,  4,  4,  5, &\n",
      "          2,  3,  3,  4,  3,  4,  4,  5,  3,  4,  4,  5,  4,  5,  5,  6, &\n",
      "          2,  3,  3,  4,  3,  4,  4,  5,  3,  4,  4,  5,  4,  5,  5,  6, &\n",
      "          3,  4,  4,  5,  4,  5,  5,  6,  4,  5,  5,  6,  5,  6,  6,  7, &\n",
      "          1,  2,  2,  3,  2,  3,  3,  4,  2,  3,  3,  4,  3,  4,  4,  5, &\n",
      "          2,  3,  3,  4,  3,  4,  4,  5,  3,  4,  4,  5,  4,  5,  5,  6, &\n",
      "          2,  3,  3,  4,  3,  4,  4,  5,  3,  4,  4,  5,  4,  5,  5,  6, &\n",
      "          3,  4,  4,  5,  4,  5,  5,  6,  4,  5,  5,  6,  5,  6,  6,  7, &\n",
      "          2,  3,  3,  4,  3,  4,  4,  5,  3,  4,  4,  5,  4,  5,  5,  6, &\n",
      "          3,  4,  4,  5,  4,  5,  5,  6,  4,  5,  5,  6,  5,  6,  6,  7, &\n",
      "          3,  4,  4,  5,  4,  5,  5,  6,  4,  5,  5,  6,  5,  6,  6,  7, &\n",
      "          4,  5,  5,  6,  5,  6,  6,  7,  5,  6,  6,  7,  6,  7,  7,  8 &\n"
     ]
    }
   ],
   "source": [
    "exec_status = \\\n",
    "    os.system(\"cat lookup_table.dat\")"
   ]
  },
  {
   "cell_type": "code",
   "execution_count": null,
   "id": "66f25a87",
   "metadata": {},
   "outputs": [],
   "source": []
  }
 ],
 "metadata": {
  "kernelspec": {
   "display_name": "Python 3.11",
   "language": "python",
   "name": "py311_env"
  },
  "language_info": {
   "codemirror_mode": {
    "name": "ipython",
    "version": 3
   },
   "file_extension": ".py",
   "mimetype": "text/x-python",
   "name": "python",
   "nbconvert_exporter": "python",
   "pygments_lexer": "ipython3",
   "version": "3.10.16"
  },
  "vscode": {
   "interpreter": {
    "hash": "1c7edbfe09241e3ab70fdbaa9340a6c53382c0b8a91b6341e8f1e4440b6e3c70"
   }
  }
 },
 "nbformat": 4,
 "nbformat_minor": 5
}
