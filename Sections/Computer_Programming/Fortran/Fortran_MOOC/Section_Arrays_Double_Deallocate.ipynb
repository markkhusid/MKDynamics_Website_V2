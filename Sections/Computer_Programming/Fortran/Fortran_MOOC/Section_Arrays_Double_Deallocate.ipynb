{
 "cells": [
  {
   "cell_type": "raw",
   "id": "c40b648f-a44a-4480-bbee-93e7a780f45b",
   "metadata": {},
   "source": [
    "---\n",
    "jupytext:\n",
    "  formats: md:myst\n",
    "  text_representation:\n",
    "    extension: .md\n",
    "    format_name: myst\n",
    "kernelspec:\n",
    "  display_name: Python 3\n",
    "  language: python\n",
    "  name: python3\n",
    "---"
   ]
  },
  {
   "attachments": {},
   "cell_type": "markdown",
   "id": "fc63b62e-3ea6-4588-8b6e-f845bbc6d64c",
   "metadata": {
    "tags": []
   },
   "source": [
    "# Section Arrays: Double Deallocate"
   ]
  },
  {
   "attachments": {},
   "cell_type": "markdown",
   "id": "edfc7d7e-9803-4b96-82f1-bc0d47385f43",
   "metadata": {},
   "source": [
    "Adapted from: [https://github.com/gjbex/Fortran-MOOC/tree/master/source_code/arrays](https://github.com/gjbex/Fortran-MOOC/tree/master/source_code/arrays)"
   ]
  },
  {
   "attachments": {},
   "cell_type": "markdown",
   "id": "59ec1bec-3fd7-4061-aa24-c7765d25786f",
   "metadata": {},
   "source": [
    "## This program demonstrates double deallocation of an array."
   ]
  },
  {
   "cell_type": "markdown",
   "id": "d571c16c",
   "metadata": {},
   "source": [
    "From ChatGPT 4o:"
   ]
  },
  {
   "cell_type": "markdown",
   "id": "249ddd48-685c-4dc4-8fbe-8f3c61de2a41",
   "metadata": {},
   "source": [
    "The given Fortran program performs a series of operations to allocate, deallocate, and print an array. Let’s break it down step by step:\n",
    "\n",
    "### Code Analysis\n",
    "1. **Declarations and Parameters**:\n",
    "   - `nr_values = 5`: Defines the number of elements in the array.\n",
    "   - `values`: An allocatable integer array that will be dynamically allocated later.\n",
    "   - `i`: An integer loop variable.\n",
    "\n",
    "2. **Allocation**:\n",
    "   ```fortran\n",
    "   allocate(values(nr_values), source=[ (i, i=1, nr_values) ])\n",
    "   ```\n",
    "   - This line allocates an array `values` of size 5 and initializes its elements with a sequence of integers from 1 to 5 using the implied-do loop `(i, i=1, nr_values)`.\n",
    "\n",
    "3. **Printing the Array**:\n",
    "   ```fortran\n",
    "   print *, values\n",
    "   ```\n",
    "   - This prints the contents of the `values` array to the console. The expected output is:\n",
    "     ```\n",
    "     1 2 3 4 5\n",
    "     ```\n",
    "\n",
    "4. **Deallocate**:\n",
    "   ```fortran\n",
    "   deallocate (values)\n",
    "   ```\n",
    "   - This frees the memory allocated for the `values` array.\n",
    "\n",
    "5. **Double Deallocate**:\n",
    "   ```fortran\n",
    "   deallocate (values)\n",
    "   ```\n",
    "   - This attempts to deallocate the `values` array a second time, which is already deallocated.\n",
    "\n",
    "### Behavior of the Code\n",
    "- The first deallocation is valid and correctly releases the memory.\n",
    "- The second deallocation of the `values` array will likely lead to a **runtime error** because the array `values` is no longer allocated after the first `deallocate` statement. Accessing or deallocating an unallocated array is an invalid operation in Fortran.\n",
    "\n",
    "### Expected Outcome\n",
    "When you run this program:\n",
    "- The array will be printed correctly.\n",
    "- The first `deallocate` will work as expected.\n",
    "- The second `deallocate` will cause a **runtime error** such as:\n",
    "  ```\n",
    "  Attempting to DEALLOCATE an unallocated variable.\n",
    "  ```\n",
    "\n",
    "### Key Notes\n",
    "- Always check the allocation status of allocatable variables using the `allocated` intrinsic before deallocating:\n",
    "  ```fortran\n",
    "  if (allocated(values)) deallocate(values)\n",
    "  ```\n",
    "  This ensures that the program does not attempt to deallocate an unallocated variable, preventing runtime errors."
   ]
  },
  {
   "cell_type": "markdown",
   "id": "4883d54d-377f-427c-b3c7-b3e4878aa8e4",
   "metadata": {},
   "source": [
    "## Program Code"
   ]
  },
  {
   "attachments": {},
   "cell_type": "markdown",
   "id": "49f81255",
   "metadata": {},
   "source": [
    "```{literalinclude} Fortran_Code/Section_Arrays_Double_Deallocate/app/section_arrays_double_deallocate.f90\n",
    "---\n",
    "language: fortran\n",
    "---\n",
    "```"
   ]
  },
  {
   "attachments": {},
   "cell_type": "markdown",
   "id": "4c6b9985-c0cb-4602-8309-4e3369dd3226",
   "metadata": {},
   "source": [
    "The above program is compiled and run using Fortran Package Manager (fpm):"
   ]
  },
  {
   "cell_type": "markdown",
   "id": "c6f9ed20",
   "metadata": {
    "tags": []
   },
   "source": [
    "## Build the Program using FPM (Fortran Package Manager)"
   ]
  },
  {
   "cell_type": "code",
   "execution_count": 1,
   "id": "f16472aa-c965-4bad-a218-fee33f7b456a",
   "metadata": {},
   "outputs": [],
   "source": [
    "import os\n",
    "root_dir = \"\"\n",
    "root_dir = os.getcwd()"
   ]
  },
  {
   "attachments": {},
   "cell_type": "markdown",
   "id": "48d176ac",
   "metadata": {},
   "source": [
    "The following FPM configuration file (fpm.toml) was used:"
   ]
  },
  {
   "attachments": {},
   "cell_type": "markdown",
   "id": "48ce3430",
   "metadata": {},
   "source": [
    "```{literalinclude} Fortran_Code/Section_Arrays_Double_Deallocate/fpm.toml\n",
    "---\n",
    "language: toml\n",
    "---\n",
    "```"
   ]
  },
  {
   "cell_type": "code",
   "execution_count": 2,
   "id": "f77f9126-86cc-4a1b-89b9-5ad5f61cf72c",
   "metadata": {
    "tags": []
   },
   "outputs": [],
   "source": [
    "code_dir = root_dir + \"/\" + \"Fortran_Code/Section_Arrays_Double_Deallocate\""
   ]
  },
  {
   "cell_type": "code",
   "execution_count": 3,
   "id": "c2eeda29-613f-48fd-904b-af9aef8813a2",
   "metadata": {},
   "outputs": [],
   "source": [
    "os.chdir(code_dir)"
   ]
  },
  {
   "cell_type": "code",
   "execution_count": 4,
   "id": "0fbd7621-e800-4235-ab30-80560cc3e1a8",
   "metadata": {},
   "outputs": [],
   "source": [
    "build_status = os.system(\"fpm build 2>/dev/null\")"
   ]
  },
  {
   "cell_type": "markdown",
   "id": "58b5102f",
   "metadata": {},
   "source": [
    "## Run the Program using FPM (Fortran Package Manager)"
   ]
  },
  {
   "cell_type": "code",
   "execution_count": 7,
   "id": "3176b27d-932e-47a1-8099-4fae064ec661",
   "metadata": {},
   "outputs": [
    {
     "name": "stdout",
     "output_type": "stream",
     "text": [
      "           1           2           3           4           5\n"
     ]
    },
    {
     "name": "stderr",
     "output_type": "stream",
     "text": [
      "Project is up to date\n",
      "At line 11 of file app/section_arrays_double_deallocate.f90\n",
      "Fortran runtime error: Attempt to DEALLOCATE unallocated 'values'\n",
      "\n",
      "Error termination. Backtrace:\n",
      "#0  0x7f536dc218c2 in ???\n",
      "#1  0x7f536dc223b9 in ???\n",
      "#2  0x7f536dc22949 in ???\n",
      "#3  0x561b9535074a in double_deallocate\n",
      "\tat app/section_arrays_double_deallocate.f90:11\n",
      "#4  0x561b953507a4 in main\n",
      "\tat app/section_arrays_double_deallocate.f90:12\n",
      "<ERROR> Execution for object \" Section_Arrays_Double_Deallocate \" returned exit code  2\n",
      "<ERROR> *cmd_run*:stopping due to failed executions\n",
      "STOP 2\n"
     ]
    }
   ],
   "source": [
    "exec_status = \\\n",
    "    os.system(\"fpm run\")"
   ]
  }
 ],
 "metadata": {
  "kernelspec": {
   "display_name": "Python 3.11",
   "language": "python",
   "name": "py311_env"
  },
  "language_info": {
   "codemirror_mode": {
    "name": "ipython",
    "version": 3
   },
   "file_extension": ".py",
   "mimetype": "text/x-python",
   "name": "python",
   "nbconvert_exporter": "python",
   "pygments_lexer": "ipython3",
   "version": "3.10.16"
  },
  "vscode": {
   "interpreter": {
    "hash": "1c7edbfe09241e3ab70fdbaa9340a6c53382c0b8a91b6341e8f1e4440b6e3c70"
   }
  }
 },
 "nbformat": 4,
 "nbformat_minor": 5
}
