{
 "cells": [
  {
   "cell_type": "raw",
   "id": "fd795436",
   "metadata": {
    "vscode": {
     "languageId": "raw"
    }
   },
   "source": [
    "---\n",
    "jupytext:\n",
    "  formats: md:myst\n",
    "  text_representation:\n",
    "    extension: .md\n",
    "    format_name: myst\n",
    "kernelspec:\n",
    "  display_name: Python 3\n",
    "  language: python\n",
    "  name: python3\n",
    "---"
   ]
  },
  {
   "cell_type": "markdown",
   "id": "cd8f627e",
   "metadata": {},
   "source": [
    "# Section 6.4 Arrays: Out of Bounds"
   ]
  },
  {
   "cell_type": "markdown",
   "id": "8d3843b4",
   "metadata": {},
   "source": [
    "Adapted from: \"Beej's Guide to C Programming\" by Brian (Beej Jorgensen) Hall: [Beej's Guide to C Programming: 6.4 Out of Bounds](https://beej.us/guide/bgc/html/split/arrays.html#out-of-bounds)\n",
    "\n",
    "[Brian (Beej Jorgensen) Hall Website](https://beej.us/)"
   ]
  },
  {
   "cell_type": "markdown",
   "id": "37310d91",
   "metadata": {},
   "source": [
    "## Program for Demonstrating Out of Bounds Array Access"
   ]
  },
  {
   "cell_type": "markdown",
   "id": "fa4ae7ba",
   "metadata": {},
   "source": [
    "```c\n",
    "#include <stdio.h>\n",
    "\n",
    "int main(void)\n",
    "{\n",
    "    int i;\n",
    "    int a[5] = {22, 37, 3490, 18, 95};\n",
    "\n",
    "    for (i = 0; i < 10; i++) {  // BAD NEWS: printing too many elements!\n",
    "        printf(\"%d\\n\", a[i]);\n",
    "    }\n",
    "}\n",
    "```"
   ]
  },
  {
   "cell_type": "markdown",
   "id": "5eb20d77",
   "metadata": {},
   "source": [
    "## Explanation of the Above Code"
   ]
  },
  {
   "cell_type": "markdown",
   "id": "339cf14d",
   "metadata": {},
   "source": [
    "This C code demonstrates an example of accessing an array out of bounds, which is a common programming error. Here's a breakdown:\n",
    "\n",
    "### Code Explanation:\n",
    "\n",
    "```c\n",
    "#include <stdio.h>\n",
    "```\n",
    "- Includes the standard input/output library, which provides the `printf` function for printing to the console.\n",
    "\n",
    "```c\n",
    "int main(void)\n",
    "```\n",
    "- The `main` function is the entry point of the program.\n",
    "\n",
    "```c\n",
    "int i;\n",
    "int a[5] = {22, 37, 3490, 18, 95};\n",
    "```\n",
    "- `int i;`: Declares a variable `i` to be used as a loop counter.\n",
    "- `int a[5] = {22, 37, 3490, 18, 95};`: Declares an integer array `a` of size 5 and initializes it with the values `{22, 37, 3490, 18, 95}`.\n",
    "\n",
    "```c\n",
    "for (i = 0; i < 10; i++) {  // BAD NEWS: printing too many elements!\n",
    "    printf(\"%d\\n\", a[i]);\n",
    "}\n",
    "```\n",
    "- A `for` loop is used to iterate through the array `a`.\n",
    "  - `i = 0`: The loop starts with `i` set to 0.\n",
    "  - `i < 10`: The loop continues as long as `i` is less than 10.\n",
    "  - `i++`: Increments `i` by 1 after each iteration.\n",
    "- Inside the loop, `printf(\"%d\\n\", a[i]);` prints the value of the `i`-th element of the array `a` followed by a newline (`\\n`).\n",
    "\n",
    "### Key Issue:\n",
    "- The array `a` is declared with a size of 5, meaning it has valid indices from `0` to `4`.\n",
    "- The loop iterates from `0` to `9`, attempting to access elements beyond the bounds of the array (`a[5]` to `a[9]`).\n",
    "- Accessing out-of-bounds elements results in **undefined behavior** in C. This could lead to:\n",
    "  - Printing garbage values.\n",
    "  - Crashing the program.\n",
    "  - Overwriting memory, causing unpredictable behavior.\n",
    "\n",
    "### Output:\n",
    "- The first 5 iterations (`i = 0` to `4`) will print the initialized values of the array:\n",
    "  ```\n",
    "  22\n",
    "  37\n",
    "  3490\n",
    "  18\n",
    "  95\n",
    "  ```\n",
    "- The remaining iterations (`i = 5` to `9`) will likely print garbage values or cause a crash, depending on the memory layout.\n",
    "\n",
    "### Lesson:\n",
    "- Always ensure that array indices are within bounds to avoid undefined behavior."
   ]
  },
  {
   "cell_type": "markdown",
   "id": "5b9f3d6e",
   "metadata": {},
   "source": [
    "## Compile and Run Code"
   ]
  },
  {
   "cell_type": "markdown",
   "id": "12565265",
   "metadata": {},
   "source": [
    "### Use Python to Change to Working Directory"
   ]
  },
  {
   "cell_type": "code",
   "execution_count": 1,
   "id": "e0336aaf",
   "metadata": {},
   "outputs": [],
   "source": [
    "import os\n",
    "root_dir = os.getcwd()"
   ]
  },
  {
   "cell_type": "code",
   "execution_count": 2,
   "id": "15fe5e5d",
   "metadata": {},
   "outputs": [],
   "source": [
    "code_dir = root_dir + \"/\" + \"C_Code\""
   ]
  },
  {
   "cell_type": "code",
   "execution_count": 3,
   "id": "93501b0d",
   "metadata": {},
   "outputs": [],
   "source": [
    "os.chdir(code_dir)"
   ]
  },
  {
   "cell_type": "code",
   "execution_count": 4,
   "id": "c8cb1d74",
   "metadata": {},
   "outputs": [],
   "source": [
    "build_command = os.system(\"gcc -o section_6_4_out_of_bounds section_6_4_out_of_bounds.c\")"
   ]
  },
  {
   "cell_type": "code",
   "execution_count": 5,
   "id": "263f1499",
   "metadata": {},
   "outputs": [
    {
     "name": "stdout",
     "output_type": "stream",
     "text": [
      "22\n",
      "37\n",
      "3490\n",
      "18\n",
      "95\n",
      "0\n",
      "0\n",
      "7\n",
      "1\n",
      "0\n"
     ]
    }
   ],
   "source": [
    "exec_status = os.system(\"./section_6_4_out_of_bounds\")"
   ]
  }
 ],
 "metadata": {
  "kernelspec": {
   "display_name": "Python 3.11",
   "language": "python",
   "name": "py311_env"
  },
  "language_info": {
   "codemirror_mode": {
    "name": "ipython",
    "version": 3
   },
   "file_extension": ".py",
   "mimetype": "text/x-python",
   "name": "python",
   "nbconvert_exporter": "python",
   "pygments_lexer": "ipython3",
   "version": "3.10.17"
  }
 },
 "nbformat": 4,
 "nbformat_minor": 5
}
